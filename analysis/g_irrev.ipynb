{
 "cells": [
  {
   "cell_type": "markdown",
   "id": "found-congo",
   "metadata": {},
   "source": [
    "# Experiment with occupation-irrelevant gender classifiers"
   ]
  },
  {
   "cell_type": "code",
   "execution_count": 3,
   "id": "involved-amplifier",
   "metadata": {},
   "outputs": [
    {
     "name": "stdout",
     "output_type": "stream",
     "text": [
      "Data: 397907\n",
      "Loaded 1999995 words\n"
     ]
    },
    {
     "ename": "NameError",
     "evalue": "name 'np' is not defined",
     "output_type": "error",
     "traceback": [
      "\u001b[0;31m---------------------------------------------------------------------------\u001b[0m",
      "\u001b[0;31mNameError\u001b[0m                                 Traceback (most recent call last)",
      "\u001b[0;32m<ipython-input-3-adf7e10ab8dd>\u001b[0m in \u001b[0;36m<module>\u001b[0;34m\u001b[0m\n\u001b[1;32m     33\u001b[0m     \u001b[0;32mreturn\u001b[0m \u001b[0mE\u001b[0m\u001b[0;34m[\u001b[0m\u001b[0mw1\u001b[0m\u001b[0;34m]\u001b[0m\u001b[0;34m.\u001b[0m\u001b[0mdot\u001b[0m\u001b[0;34m(\u001b[0m\u001b[0mE\u001b[0m\u001b[0;34m[\u001b[0m\u001b[0mw2\u001b[0m\u001b[0;34m]\u001b[0m\u001b[0;34m)\u001b[0m\u001b[0;34m/\u001b[0m\u001b[0mnp\u001b[0m\u001b[0;34m.\u001b[0m\u001b[0mlinalg\u001b[0m\u001b[0;34m.\u001b[0m\u001b[0mnorm\u001b[0m\u001b[0;34m(\u001b[0m\u001b[0mE\u001b[0m\u001b[0;34m[\u001b[0m\u001b[0mw1\u001b[0m\u001b[0;34m]\u001b[0m\u001b[0;34m)\u001b[0m\u001b[0;34m/\u001b[0m\u001b[0mnp\u001b[0m\u001b[0;34m.\u001b[0m\u001b[0mlinalg\u001b[0m\u001b[0;34m.\u001b[0m\u001b[0mnorm\u001b[0m\u001b[0;34m(\u001b[0m\u001b[0mE\u001b[0m\u001b[0;34m[\u001b[0m\u001b[0mw2\u001b[0m\u001b[0;34m]\u001b[0m\u001b[0;34m)\u001b[0m\u001b[0;34m\u001b[0m\u001b[0;34m\u001b[0m\u001b[0m\n\u001b[1;32m     34\u001b[0m \u001b[0;34m\u001b[0m\u001b[0m\n\u001b[0;32m---> 35\u001b[0;31m \u001b[0msim\u001b[0m\u001b[0;34m(\u001b[0m\u001b[0;34m'he'\u001b[0m\u001b[0;34m,\u001b[0m \u001b[0;34m'she'\u001b[0m\u001b[0;34m)\u001b[0m\u001b[0;34m\u001b[0m\u001b[0;34m\u001b[0m\u001b[0m\n\u001b[0m\u001b[1;32m     36\u001b[0m \u001b[0;32mdef\u001b[0m \u001b[0mword_vector_featurize\u001b[0m\u001b[0;34m(\u001b[0m\u001b[0mtext\u001b[0m\u001b[0;34m,\u001b[0m \u001b[0mEmb\u001b[0m \u001b[0;34m=\u001b[0m \u001b[0mE\u001b[0m\u001b[0;34m)\u001b[0m\u001b[0;34m:\u001b[0m\u001b[0;34m\u001b[0m\u001b[0;34m\u001b[0m\u001b[0m\n\u001b[1;32m     37\u001b[0m     \u001b[0;32mreturn\u001b[0m \u001b[0mnp\u001b[0m\u001b[0;34m.\u001b[0m\u001b[0mmean\u001b[0m\u001b[0;34m(\u001b[0m\u001b[0;34m[\u001b[0m\u001b[0mEmb\u001b[0m\u001b[0;34m[\u001b[0m\u001b[0mw\u001b[0m\u001b[0;34m]\u001b[0m \u001b[0;32mfor\u001b[0m \u001b[0mw\u001b[0m \u001b[0;32min\u001b[0m \u001b[0mre\u001b[0m\u001b[0;34m.\u001b[0m\u001b[0msplit\u001b[0m\u001b[0;34m(\u001b[0m\u001b[0;34mr\"[\\s\\.\\!\\?\\:,\\\"“\\—\\-\\(\\)]+\"\u001b[0m\u001b[0;34m,\u001b[0m \u001b[0mtext\u001b[0m\u001b[0;34m)\u001b[0m \u001b[0;32mif\u001b[0m \u001b[0mlen\u001b[0m\u001b[0;34m(\u001b[0m\u001b[0mw\u001b[0m\u001b[0;34m)\u001b[0m\u001b[0;34m>\u001b[0m\u001b[0;36m1\u001b[0m \u001b[0;32mand\u001b[0m \u001b[0mw\u001b[0m \u001b[0;32min\u001b[0m \u001b[0mEmb\u001b[0m\u001b[0;34m]\u001b[0m\u001b[0;34m,\u001b[0m \u001b[0maxis\u001b[0m\u001b[0;34m=\u001b[0m\u001b[0;36m0\u001b[0m\u001b[0;34m)\u001b[0m\u001b[0;34m\u001b[0m\u001b[0;34m\u001b[0m\u001b[0m\n",
      "\u001b[0;32m<ipython-input-3-adf7e10ab8dd>\u001b[0m in \u001b[0;36msim\u001b[0;34m(w1, w2)\u001b[0m\n\u001b[1;32m     31\u001b[0m \u001b[0;34m\u001b[0m\u001b[0m\n\u001b[1;32m     32\u001b[0m \u001b[0;32mdef\u001b[0m \u001b[0msim\u001b[0m\u001b[0;34m(\u001b[0m\u001b[0mw1\u001b[0m\u001b[0;34m,\u001b[0m \u001b[0mw2\u001b[0m\u001b[0;34m)\u001b[0m\u001b[0;34m:\u001b[0m\u001b[0;34m\u001b[0m\u001b[0;34m\u001b[0m\u001b[0m\n\u001b[0;32m---> 33\u001b[0;31m     \u001b[0;32mreturn\u001b[0m \u001b[0mE\u001b[0m\u001b[0;34m[\u001b[0m\u001b[0mw1\u001b[0m\u001b[0;34m]\u001b[0m\u001b[0;34m.\u001b[0m\u001b[0mdot\u001b[0m\u001b[0;34m(\u001b[0m\u001b[0mE\u001b[0m\u001b[0;34m[\u001b[0m\u001b[0mw2\u001b[0m\u001b[0;34m]\u001b[0m\u001b[0;34m)\u001b[0m\u001b[0;34m/\u001b[0m\u001b[0mnp\u001b[0m\u001b[0;34m.\u001b[0m\u001b[0mlinalg\u001b[0m\u001b[0;34m.\u001b[0m\u001b[0mnorm\u001b[0m\u001b[0;34m(\u001b[0m\u001b[0mE\u001b[0m\u001b[0;34m[\u001b[0m\u001b[0mw1\u001b[0m\u001b[0;34m]\u001b[0m\u001b[0;34m)\u001b[0m\u001b[0;34m/\u001b[0m\u001b[0mnp\u001b[0m\u001b[0;34m.\u001b[0m\u001b[0mlinalg\u001b[0m\u001b[0;34m.\u001b[0m\u001b[0mnorm\u001b[0m\u001b[0;34m(\u001b[0m\u001b[0mE\u001b[0m\u001b[0;34m[\u001b[0m\u001b[0mw2\u001b[0m\u001b[0;34m]\u001b[0m\u001b[0;34m)\u001b[0m\u001b[0;34m\u001b[0m\u001b[0;34m\u001b[0m\u001b[0m\n\u001b[0m\u001b[1;32m     34\u001b[0m \u001b[0;34m\u001b[0m\u001b[0m\n\u001b[1;32m     35\u001b[0m \u001b[0msim\u001b[0m\u001b[0;34m(\u001b[0m\u001b[0;34m'he'\u001b[0m\u001b[0;34m,\u001b[0m \u001b[0;34m'she'\u001b[0m\u001b[0;34m)\u001b[0m\u001b[0;34m\u001b[0m\u001b[0;34m\u001b[0m\u001b[0m\n",
      "\u001b[0;31mNameError\u001b[0m: name 'np' is not defined"
     ]
    }
   ],
   "source": [
    "# imports\n",
    "import matplotlib.pyplot as plt\n",
    "import pickle as pkl\n",
    "from collections import Counter\n",
    "import sklearn\n",
    "from sklearn.feature_extraction.text import CountVectorizer\n",
    "from sklearn.model_selection import train_test_split\n",
    "from sklearn.preprocessing import LabelEncoder\n",
    "from sklearn.decomposition import PCA\n",
    "import matplotlib.pyplot as plt\n",
    "import pickle as pkl\n",
    "from collections import Counter\n",
    "\n",
    "from sklearn.feature_extraction.text import CountVectorizer\n",
    "from sklearn.model_selection import train_test_split\n",
    "from sklearn.preprocessing import LabelEncoder\n",
    "from sklearn.decomposition import PCA\n",
    "\n",
    "bios = pkl.load(open('biosbias/data/BIOS_inferred.pkl','rb'))\n",
    "data = bios\n",
    "print(f'Data: {len(data)}')\n",
    "# stratified split\n",
    "labels_all = [bio['title'] for bio in data]\n",
    "bios_data_train_val, bios_data_test = train_test_split(data, test_size=0.20, random_state=42, stratify=labels_all)\n",
    "\n",
    "labels_train_val = [bio['title'] for bio in bios_data_train_val]\n",
    "bios_data_train, bios_data_val = train_test_split(bios_data_train_val, test_size=0.25, random_state=42, stratify=labels_train_val)\n",
    "\n",
    "with open(\"../../words/embeddings/OtherFormats/crawl-300d-2M.pkl\", \"rb\") as f:\n",
    "    E = pkl.load(f)\n",
    "print(\"Loaded\", len(E), \"words\")"
   ]
  },
  {
   "cell_type": "code",
   "execution_count": 4,
   "id": "gross-pacific",
   "metadata": {},
   "outputs": [],
   "source": [
    "\n",
    "\n",
    "import numpy as np\n",
    "def sim(w1, w2):\n",
    "    return E[w1].dot(E[w2])/np.linalg.norm(E[w1])/np.linalg.norm(E[w2])\n",
    " \n",
    "sim('he', 'she')\n",
    "def word_vector_featurize(text, Emb = E):\n",
    "    return np.mean([Emb[w] for w in re.split(r\"[\\s\\.\\!\\?\\:,\\\"“\\—\\-\\(\\)]+\", text) if len(w)>1 and w in Emb], axis=0)\n",
    "\n"
   ]
  },
  {
   "cell_type": "code",
   "execution_count": 5,
   "id": "front-english",
   "metadata": {},
   "outputs": [],
   "source": [
    "# load chi scores\n",
    "f_chi = pkl.load(open('results/f_chi.pkl','rb'))\n",
    "m_chi = pkl.load(open('results/m_chi.pkl','rb'))\n",
    "\n",
    "# threshold for determining task relevance\n",
    "from scipy.stats import chi2\n",
    "prob = 0.99\n",
    "critical = chi2.ppf(prob, 1)\n",
    "thr = critical"
   ]
  },
  {
   "cell_type": "code",
   "execution_count": 9,
   "id": "perfect-resistance",
   "metadata": {},
   "outputs": [],
   "source": [
    "vectorizer = CountVectorizer(analyzer='word',min_df=0.001,binary=False)\n",
    "X_train = vectorizer.fit_transform([p[\"bio\"] for p in bios_data_train])\n",
    "words = np.array(vectorizer.get_feature_names())\n"
   ]
  },
  {
   "cell_type": "code",
   "execution_count": 19,
   "id": "cheap-simon",
   "metadata": {},
   "outputs": [],
   "source": [
    "sorted_occs = ['accountant', 'architect', 'attorney', 'chiropractor', 'comedian', 'composer',\n",
    " 'dentist', 'dietitian', 'dj', 'filmmaker', 'interior_designer', 'journalist',\n",
    " 'model', 'nurse', 'painter', 'paralegal', 'pastor', 'personal_trainer',\n",
    " 'photographer', 'physician', 'poet', 'professor', 'psychologist', 'rapper',\n",
    " 'software_engineer', 'surgeon', 'teacher', 'yoga_teacher']\n",
    "_f = Counter([p[\"title\"] for p in bios_data_train if p[\"gender\"]==\"F\"])\n",
    "_m = Counter([p[\"title\"] for p in bios_data_train if p[\"gender\"]==\"M\"])\n",
    "_t = Counter([p[\"title\"] for p in bios_data_train])\n",
    "fem = {t:_f[t]/float(_t[t]) for t in sorted_occs}\n",
    "\n",
    "titles = sorted_occs.copy()\n",
    "titles.sort(key=lambda t: fem[t])\n",
    "\n",
    "G_train = [p[\"gender\"] for p in bios_data_train]\n",
    "\n",
    "\n",
    "# balanced\n",
    "\n",
    "occs_full = np.unique([p['title'] for p in bios_data_train])\n",
    "#make sample weights\n",
    "sample_weights=[]\n",
    "valdict = {}\n",
    "for t in occs_full:\n",
    "        fval = _m[t] / max(_f[t],_m[t])\n",
    "        mval = _f[t] / max(_f[t],_m[t])\n",
    "        valdict[t] = {}\n",
    "        valdict[t]['F'] = fval\n",
    "        valdict[t]['M'] = mval\n",
    "    \n",
    "# for :\n",
    "sample_weights = [valdict[p['title']][p['gender']] for p in bios_data_train]"
   ]
  },
  {
   "cell_type": "code",
   "execution_count": 21,
   "id": "ready-giant",
   "metadata": {},
   "outputs": [
    {
     "name": "stdout",
     "output_type": "stream",
     "text": [
      "surgeon\n",
      "3297\n",
      "software_engineer\n",
      "3634\n",
      "composer\n",
      "3542\n",
      "pastor\n",
      "3835\n",
      "comedian\n",
      "3667\n",
      "architect\n",
      "3427\n",
      "chiropractor\n",
      "3779\n",
      "accountant\n",
      "3420\n",
      "attorney\n",
      "2198\n",
      "filmmaker\n",
      "3364\n",
      "physician\n",
      "1150\n",
      "dentist\n",
      "2236\n",
      "photographer\n",
      "2201\n",
      "professor\n",
      "1537\n",
      "painter\n",
      "2979\n",
      "journalist\n",
      "2619\n",
      "poet\n",
      "3166\n",
      "personal_trainer\n",
      "3818\n",
      "teacher\n",
      "2865\n",
      "psychologist\n",
      "2923\n",
      "model\n",
      "3555\n",
      "interior_designer\n",
      "3923\n",
      "yoga_teacher\n",
      "3915\n",
      "nurse\n",
      "3401\n",
      "dietitian\n",
      "4003\n"
     ]
    }
   ],
   "source": [
    "# train classifiers and save vocabularies\n",
    "thr = critical\n",
    "chi_gender_classers = {}\n",
    "chi_vectorizers = {}\n",
    "occs = [\"surgeon\", \"software_engineer\", \"composer\", \"pastor\", \"comedian\", \"architect\", \"chiropractor\", \"accountant\", \"attorney\", \"filmmaker\", \"physician\", \"dentist\", \"photographer\", \"professor\", \"painter\", \"journalist\", \"poet\", \"personal_trainer\", \"teacher\", \"psychologist\",  \"model\", \"interior_designer\", \"yoga_teacher\", \"nurse\", \"dietitian\"]\n",
    "\n",
    "for occ in occs:\n",
    "    print(occ)\n",
    "\n",
    "        \n",
    "    indset =[i for i,x in enumerate(f_chi[occ]) if x[0][0]<critical or m_chi[occ][i][0][0]<critical]\n",
    "\n",
    "    print(len(list(indset)))\n",
    "    irrev_chi_words = words[list(indset)]\n",
    "    \n",
    "    irrev_chi_vectorizer = CountVectorizer(analyzer='word',min_df=0.001,binary=False,vocabulary=irrev_chi_words)\n",
    "    irrev_chi_X_train = irrev_chi_vectorizer.fit_transform([p[\"bio\"] for p in bios_data_train])\n",
    "    irrev_chi_X_val = irrev_chi_vectorizer.transform([p[\"bio\"] for p in bios_data_val])\n",
    "    irrev_chi_X_test = irrev_chi_vectorizer.transform([p[\"bio\"] for p in bios_data_test])\n",
    "\n",
    "    balanced_gender_clf = sklearn.linear_model.SGDClassifier(loss='log')\n",
    "    balanced_gender_clf.fit(irrev_chi_X_train, G_train,sample_weight=sample_weights)\n",
    "    \n",
    "    chi_gender_classers[occ] = {}\n",
    "    chi_gender_classers[occ][thr] = balanced_gender_clf\n",
    "    chi_vectorizers[occ] = {}\n",
    "    chi_vectorizers[occ][thr] = irrev_chi_vectorizer"
   ]
  },
  {
   "cell_type": "code",
   "execution_count": 22,
   "id": "described-nicaragua",
   "metadata": {},
   "outputs": [],
   "source": [
    "# save the classifiers\n",
    "pkl.dump(chi_gender_classers,open('results/bow_chi_gender_classers_or.pkl','wb'))\n",
    "pkl.dump(chi_vectorizers,open('results/bow_chi_vectorizers_or.pkl','wb'))\n"
   ]
  },
  {
   "cell_type": "code",
   "execution_count": 28,
   "id": "varied-midnight",
   "metadata": {},
   "outputs": [],
   "source": [
    "# word embedding version\n",
    "import re\n",
    "occupation_embeddings = {}\n",
    "\n",
    "thr = critical\n",
    "for occ in occs:\n",
    "    all_words = list(chi_vectorizers[occ][thr].vocabulary_.keys())\n",
    "    new_dict = {}\n",
    "    for w in all_words:\n",
    "        if w in E:\n",
    "            new_dict[w] = E[w]\n",
    "    occupation_embeddings[occ+\"%.2f\"%thr] = new_dict\n",
    "\n",
    "\n",
    "def word_vector_featurize_occ(text, occupation, Emb = E):\n",
    "    return np.mean([occupation_embeddings[occupation + \"%.2f\"%critical][w] for w in re.split(r\"[\\s\\.\\!\\?\\:,\\\"“\\—\\-\\(\\)]+\", text) if len(w)>1 and w in occupation_embeddings[occupation+ \"%.2f\"%critical]], axis=0)"
   ]
  },
  {
   "cell_type": "code",
   "execution_count": 36,
   "id": "touched-grenada",
   "metadata": {},
   "outputs": [
    {
     "name": "stdout",
     "output_type": "stream",
     "text": [
      "surgeon\n"
     ]
    },
    {
     "name": "stderr",
     "output_type": "stream",
     "text": [
      "/home/adam/Dropbox/WorkProjects/venv_main/lib/python3.6/site-packages/numpy/core/fromnumeric.py:3373: RuntimeWarning: Mean of empty slice.\n",
      "  out=out, **kwargs)\n",
      "/home/adam/Dropbox/WorkProjects/venv_main/lib/python3.6/site-packages/numpy/core/_methods.py:170: RuntimeWarning: invalid value encountered in double_scalars\n",
      "  ret = ret.dtype.type(ret / rcount)\n"
     ]
    },
    {
     "name": "stdout",
     "output_type": "stream",
     "text": [
      "software_engineer\n",
      "composer\n",
      "pastor\n",
      "comedian\n"
     ]
    },
    {
     "name": "stderr",
     "output_type": "stream",
     "text": [
      "/home/adam/Dropbox/WorkProjects/venv_main/lib/python3.6/site-packages/numpy/core/fromnumeric.py:3373: RuntimeWarning: Mean of empty slice.\n",
      "  out=out, **kwargs)\n",
      "/home/adam/Dropbox/WorkProjects/venv_main/lib/python3.6/site-packages/numpy/core/_methods.py:170: RuntimeWarning: invalid value encountered in double_scalars\n",
      "  ret = ret.dtype.type(ret / rcount)\n"
     ]
    },
    {
     "name": "stdout",
     "output_type": "stream",
     "text": [
      "architect\n",
      "chiropractor\n",
      "accountant\n",
      "attorney\n"
     ]
    },
    {
     "name": "stderr",
     "output_type": "stream",
     "text": [
      "/home/adam/Dropbox/WorkProjects/venv_main/lib/python3.6/site-packages/numpy/core/fromnumeric.py:3373: RuntimeWarning: Mean of empty slice.\n",
      "  out=out, **kwargs)\n",
      "/home/adam/Dropbox/WorkProjects/venv_main/lib/python3.6/site-packages/numpy/core/_methods.py:170: RuntimeWarning: invalid value encountered in double_scalars\n",
      "  ret = ret.dtype.type(ret / rcount)\n"
     ]
    },
    {
     "name": "stdout",
     "output_type": "stream",
     "text": [
      "filmmaker\n"
     ]
    },
    {
     "name": "stderr",
     "output_type": "stream",
     "text": [
      "/home/adam/Dropbox/WorkProjects/venv_main/lib/python3.6/site-packages/numpy/core/fromnumeric.py:3373: RuntimeWarning: Mean of empty slice.\n",
      "  out=out, **kwargs)\n",
      "/home/adam/Dropbox/WorkProjects/venv_main/lib/python3.6/site-packages/numpy/core/_methods.py:170: RuntimeWarning: invalid value encountered in double_scalars\n",
      "  ret = ret.dtype.type(ret / rcount)\n"
     ]
    },
    {
     "name": "stdout",
     "output_type": "stream",
     "text": [
      "physician\n"
     ]
    },
    {
     "name": "stderr",
     "output_type": "stream",
     "text": [
      "/home/adam/Dropbox/WorkProjects/venv_main/lib/python3.6/site-packages/numpy/core/fromnumeric.py:3373: RuntimeWarning: Mean of empty slice.\n",
      "  out=out, **kwargs)\n",
      "/home/adam/Dropbox/WorkProjects/venv_main/lib/python3.6/site-packages/numpy/core/_methods.py:170: RuntimeWarning: invalid value encountered in double_scalars\n",
      "  ret = ret.dtype.type(ret / rcount)\n"
     ]
    },
    {
     "name": "stdout",
     "output_type": "stream",
     "text": [
      "dentist\n"
     ]
    },
    {
     "name": "stderr",
     "output_type": "stream",
     "text": [
      "/home/adam/Dropbox/WorkProjects/venv_main/lib/python3.6/site-packages/numpy/core/fromnumeric.py:3373: RuntimeWarning: Mean of empty slice.\n",
      "  out=out, **kwargs)\n",
      "/home/adam/Dropbox/WorkProjects/venv_main/lib/python3.6/site-packages/numpy/core/_methods.py:170: RuntimeWarning: invalid value encountered in double_scalars\n",
      "  ret = ret.dtype.type(ret / rcount)\n"
     ]
    },
    {
     "name": "stdout",
     "output_type": "stream",
     "text": [
      "photographer\n"
     ]
    },
    {
     "name": "stderr",
     "output_type": "stream",
     "text": [
      "/home/adam/Dropbox/WorkProjects/venv_main/lib/python3.6/site-packages/numpy/core/fromnumeric.py:3373: RuntimeWarning: Mean of empty slice.\n",
      "  out=out, **kwargs)\n",
      "/home/adam/Dropbox/WorkProjects/venv_main/lib/python3.6/site-packages/numpy/core/_methods.py:170: RuntimeWarning: invalid value encountered in double_scalars\n",
      "  ret = ret.dtype.type(ret / rcount)\n"
     ]
    },
    {
     "name": "stdout",
     "output_type": "stream",
     "text": [
      "professor\n"
     ]
    },
    {
     "name": "stderr",
     "output_type": "stream",
     "text": [
      "/home/adam/Dropbox/WorkProjects/venv_main/lib/python3.6/site-packages/numpy/core/fromnumeric.py:3373: RuntimeWarning: Mean of empty slice.\n",
      "  out=out, **kwargs)\n",
      "/home/adam/Dropbox/WorkProjects/venv_main/lib/python3.6/site-packages/numpy/core/_methods.py:170: RuntimeWarning: invalid value encountered in double_scalars\n",
      "  ret = ret.dtype.type(ret / rcount)\n"
     ]
    },
    {
     "name": "stdout",
     "output_type": "stream",
     "text": [
      "painter\n"
     ]
    },
    {
     "name": "stderr",
     "output_type": "stream",
     "text": [
      "/home/adam/Dropbox/WorkProjects/venv_main/lib/python3.6/site-packages/numpy/core/fromnumeric.py:3373: RuntimeWarning: Mean of empty slice.\n",
      "  out=out, **kwargs)\n",
      "/home/adam/Dropbox/WorkProjects/venv_main/lib/python3.6/site-packages/numpy/core/_methods.py:170: RuntimeWarning: invalid value encountered in double_scalars\n",
      "  ret = ret.dtype.type(ret / rcount)\n"
     ]
    },
    {
     "name": "stdout",
     "output_type": "stream",
     "text": [
      "journalist\n"
     ]
    },
    {
     "name": "stderr",
     "output_type": "stream",
     "text": [
      "/home/adam/Dropbox/WorkProjects/venv_main/lib/python3.6/site-packages/numpy/core/fromnumeric.py:3373: RuntimeWarning: Mean of empty slice.\n",
      "  out=out, **kwargs)\n",
      "/home/adam/Dropbox/WorkProjects/venv_main/lib/python3.6/site-packages/numpy/core/_methods.py:170: RuntimeWarning: invalid value encountered in double_scalars\n",
      "  ret = ret.dtype.type(ret / rcount)\n"
     ]
    },
    {
     "name": "stdout",
     "output_type": "stream",
     "text": [
      "poet\n"
     ]
    },
    {
     "name": "stderr",
     "output_type": "stream",
     "text": [
      "/home/adam/Dropbox/WorkProjects/venv_main/lib/python3.6/site-packages/numpy/core/fromnumeric.py:3373: RuntimeWarning: Mean of empty slice.\n",
      "  out=out, **kwargs)\n",
      "/home/adam/Dropbox/WorkProjects/venv_main/lib/python3.6/site-packages/numpy/core/_methods.py:170: RuntimeWarning: invalid value encountered in double_scalars\n",
      "  ret = ret.dtype.type(ret / rcount)\n"
     ]
    },
    {
     "name": "stdout",
     "output_type": "stream",
     "text": [
      "personal_trainer\n",
      "teacher\n"
     ]
    },
    {
     "name": "stderr",
     "output_type": "stream",
     "text": [
      "/home/adam/Dropbox/WorkProjects/venv_main/lib/python3.6/site-packages/numpy/core/fromnumeric.py:3373: RuntimeWarning: Mean of empty slice.\n",
      "  out=out, **kwargs)\n",
      "/home/adam/Dropbox/WorkProjects/venv_main/lib/python3.6/site-packages/numpy/core/_methods.py:170: RuntimeWarning: invalid value encountered in double_scalars\n",
      "  ret = ret.dtype.type(ret / rcount)\n"
     ]
    },
    {
     "name": "stdout",
     "output_type": "stream",
     "text": [
      "psychologist\n"
     ]
    },
    {
     "name": "stderr",
     "output_type": "stream",
     "text": [
      "/home/adam/Dropbox/WorkProjects/venv_main/lib/python3.6/site-packages/numpy/core/fromnumeric.py:3373: RuntimeWarning: Mean of empty slice.\n",
      "  out=out, **kwargs)\n",
      "/home/adam/Dropbox/WorkProjects/venv_main/lib/python3.6/site-packages/numpy/core/_methods.py:170: RuntimeWarning: invalid value encountered in double_scalars\n",
      "  ret = ret.dtype.type(ret / rcount)\n"
     ]
    },
    {
     "name": "stdout",
     "output_type": "stream",
     "text": [
      "model\n"
     ]
    },
    {
     "name": "stderr",
     "output_type": "stream",
     "text": [
      "/home/adam/Dropbox/WorkProjects/venv_main/lib/python3.6/site-packages/numpy/core/fromnumeric.py:3373: RuntimeWarning: Mean of empty slice.\n",
      "  out=out, **kwargs)\n",
      "/home/adam/Dropbox/WorkProjects/venv_main/lib/python3.6/site-packages/numpy/core/_methods.py:170: RuntimeWarning: invalid value encountered in double_scalars\n",
      "  ret = ret.dtype.type(ret / rcount)\n"
     ]
    },
    {
     "name": "stdout",
     "output_type": "stream",
     "text": [
      "interior_designer\n",
      "yoga_teacher\n",
      "nurse\n"
     ]
    },
    {
     "name": "stderr",
     "output_type": "stream",
     "text": [
      "/home/adam/Dropbox/WorkProjects/venv_main/lib/python3.6/site-packages/numpy/core/fromnumeric.py:3373: RuntimeWarning: Mean of empty slice.\n",
      "  out=out, **kwargs)\n",
      "/home/adam/Dropbox/WorkProjects/venv_main/lib/python3.6/site-packages/numpy/core/_methods.py:170: RuntimeWarning: invalid value encountered in double_scalars\n",
      "  ret = ret.dtype.type(ret / rcount)\n"
     ]
    },
    {
     "name": "stdout",
     "output_type": "stream",
     "text": [
      "dietitian\n"
     ]
    }
   ],
   "source": [
    "\n",
    "chi_we_gender_classers = {}\n",
    "for occ in occs:\n",
    "    print(occ)\n",
    "    irrev_chi_vectorizer = chi_vectorizers[occ][thr]\n",
    "    \n",
    "    \n",
    "    irrev_chi_X_train =  [word_vector_featurize_occ(p[\"bio\"].lower(), occ, E) for p in bios_data_train]\n",
    "    test_inds = []\n",
    "    for i,p in enumerate(irrev_chi_X_train):\n",
    "        if isinstance(p, np.ndarray):\n",
    "            test_inds.append(i)\n",
    "    irrev_chi_X_train_new = [irrev_chi_X_train[i] for i,p in enumerate(bios_data_train) if i in test_inds]\n",
    "    G_train_temp = G_train[test_inds]\n",
    "    balanced_gender_clf = sklearn.linear_model.SGDClassifier(loss='log')\n",
    "    balanced_gender_clf.fit(irrev_chi_X_train_new, G_train_temp,sample_weight=sample_weights[test_inds])\n",
    "    \n",
    "    chi_we_gender_classers[occ] = {}\n",
    "    chi_we_gender_classers[occ][thr] = balanced_gender_clf"
   ]
  },
  {
   "cell_type": "code",
   "execution_count": 37,
   "id": "headed-intention",
   "metadata": {},
   "outputs": [],
   "source": [
    "# save the classifiers\n",
    "pkl.dump(chi_we_gender_classers,open('results/we_chi_gender_classers_or.pkl','wb'))\n"
   ]
  },
  {
   "cell_type": "code",
   "execution_count": null,
   "id": "ceramic-restriction",
   "metadata": {},
   "outputs": [],
   "source": [
    "# validate classifiers against human scores"
   ]
  }
 ],
 "metadata": {
  "kernelspec": {
   "display_name": "Python 3",
   "language": "python",
   "name": "python3"
  },
  "language_info": {
   "codemirror_mode": {
    "name": "ipython",
    "version": 3
   },
   "file_extension": ".py",
   "mimetype": "text/x-python",
   "name": "python",
   "nbconvert_exporter": "python",
   "pygments_lexer": "ipython3",
   "version": "3.6.13"
  }
 },
 "nbformat": 4,
 "nbformat_minor": 5
}
