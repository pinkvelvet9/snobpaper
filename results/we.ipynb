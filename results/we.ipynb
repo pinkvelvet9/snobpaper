{
 "cells": [
  {
   "cell_type": "markdown",
   "id": "disturbed-editing",
   "metadata": {},
   "source": [
    "# Train occupation classifiers and gender classifier using word embeddings\n"
   ]
  },
  {
   "cell_type": "markdown",
   "id": "protective-behavior",
   "metadata": {},
   "source": [
    "## Load bios"
   ]
  },
  {
   "cell_type": "code",
   "execution_count": 3,
   "id": "crude-collapse",
   "metadata": {},
   "outputs": [
    {
     "name": "stdout",
     "output_type": "stream",
     "text": [
      "Populating the interactive namespace from numpy and matplotlib\n"
     ]
    }
   ],
   "source": [
    "%pylab inline\n",
    "from collections import Counter\n",
    "import http.client, urllib.parse, json, time, sys\n",
    "from glob import glob\n",
    "from bs4 import BeautifulSoup as Soup\n",
    "sys.path.append(\"../words\")\n",
    "import we\n",
    "from sklearn.svm import LinearSVC, SVC\n",
    "import numpy as np\n",
    "import re, sys\n",
    "import random\n",
    "import scipy\n",
    "from adjustText import adjust_text\n",
    "\n",
    "import statsmodels.stats.proportion\n",
    "from sklearn.tree import DecisionTreeClassifier\n",
    "from sklearn.cluster import KMeans\n",
    "from sklearn.linear_model import LinearRegression\n",
    "from sklearn.ensemble import AdaBoostClassifier, RandomForestClassifier\n",
    "import sklearn.feature_selection \n",
    "from nltk.stem.porter import *\n",
    "from sklearn.cluster import KMeans\n",
    "from sklearn import preprocessing\n",
    "from sklearn.model_selection import StratifiedShuffleSplit\n",
    "from sklearn.model_selection import GridSearchCV\n",
    "from sklearn.model_selection import StratifiedKFold\n",
    "import time\n",
    "import os, json\n",
    "import re\n",
    "import textblob\n",
    "import langdetect\n",
    "import pickle as pkl\n",
    "from sklearn.manifold import TSNE\n",
    "from sklearn.model_selection import StratifiedKFold\n",
    "from bs4 import BeautifulSoup\n",
    "from random import randint\n",
    "from sklearn.feature_extraction.text import CountVectorizer\n",
    "from sklearn.model_selection import train_test_split\n",
    "from sklearn import linear_model\n",
    "import matplotlib.pyplot as plt\n",
    "import we\n",
    "import os\n",
    "\n",
    "import numpy as np\n",
    "# from mag.experiment import Experiment\n",
    "from sklearn.feature_extraction.text import CountVectorizer\n",
    "from sklearn.model_selection import train_test_split\n",
    "from sklearn.preprocessing import LabelEncoder\n",
    "from sklearn.decomposition import PCA"
   ]
  },
  {
   "cell_type": "code",
   "execution_count": 4,
   "id": "adolescent-vulnerability",
   "metadata": {},
   "outputs": [
    {
     "name": "stdout",
     "output_type": "stream",
     "text": [
      "Data: 397907\n"
     ]
    }
   ],
   "source": [
    "bios = pkl.load(open('biosbias/data/BIOS_inferred.pkl','rb'))\n",
    "data = bios\n",
    "print(f'Data: {len(data)}')\n",
    "\n",
    "# stratified split\n",
    "labels_all = [bio['title'] for bio in data]\n",
    "bios_data_train_val, bios_data_test = train_test_split(data, test_size=0.20, random_state=42, stratify=labels_all)\n",
    "\n",
    "labels_train_val = [bio['title'] for bio in bios_data_train_val]\n",
    "bios_data_train, bios_data_val = train_test_split(bios_data_train_val, test_size=0.25, random_state=42, stratify=labels_train_val)\n",
    "\n",
    "# return bios_data_train, bios_data_val, bios_data_test\n"
   ]
  },
  {
   "cell_type": "code",
   "execution_count": 5,
   "id": "intelligent-animal",
   "metadata": {},
   "outputs": [],
   "source": [
    "sorted_occs = ['accountant', 'architect', 'attorney', 'chiropractor', 'comedian', 'composer',\n",
    " 'dentist', 'dietitian', 'dj', 'filmmaker', 'interior_designer', 'journalist',\n",
    " 'model', 'nurse', 'painter', 'paralegal', 'pastor', 'personal_trainer',\n",
    " 'photographer', 'physician', 'poet', 'professor', 'psychologist', 'rapper',\n",
    " 'software_engineer', 'surgeon', 'teacher', 'yoga_teacher']"
   ]
  },
  {
   "cell_type": "code",
   "execution_count": 6,
   "id": "pressed-filling",
   "metadata": {},
   "outputs": [],
   "source": [
    "_f = Counter([p[\"title\"] for p in bios_data_train if p[\"gender\"]==\"F\"])\n",
    "_m = Counter([p[\"title\"] for p in bios_data_train if p[\"gender\"]==\"M\"])\n",
    "_t = Counter([p[\"title\"] for p in bios_data_train])\n",
    "fem = {t:_f[t]/float(_t[t]) for t in sorted_occs}\n",
    "\n",
    "titles = sorted_occs.copy()\n",
    "titles.sort(key=lambda t: fem[t])"
   ]
  },
  {
   "cell_type": "code",
   "execution_count": 7,
   "id": "ruled-perth",
   "metadata": {},
   "outputs": [
    {
     "data": {
      "text/plain": [
       "[('professor', 71092),\n",
       " ('physician', 24661),\n",
       " ('attorney', 19627),\n",
       " ('photographer', 14629),\n",
       " ('journalist', 12004),\n",
       " ('nurse', 11401),\n",
       " ('psychologist', 11086),\n",
       " ('teacher', 9763),\n",
       " ('dentist', 8887),\n",
       " ('surgeon', 8196),\n",
       " ('architect', 6094),\n",
       " ('painter', 4656),\n",
       " ('model', 4523),\n",
       " ('poet', 4221),\n",
       " ('filmmaker', 4216),\n",
       " ('software_engineer', 4159),\n",
       " ('accountant', 3398),\n",
       " ('composer', 3373),\n",
       " ('dietitian', 2391),\n",
       " ('comedian', 1690),\n",
       " ('chiropractor', 1607),\n",
       " ('pastor', 1521),\n",
       " ('paralegal', 1063),\n",
       " ('yoga_teacher', 1001),\n",
       " ('dj', 894),\n",
       " ('interior_designer', 881),\n",
       " ('personal_trainer', 863),\n",
       " ('rapper', 846)]"
      ]
     },
     "execution_count": 7,
     "metadata": {},
     "output_type": "execute_result"
    }
   ],
   "source": [
    "\n",
    "#If we are using Common Crawl data, extract names\n",
    "Counter([p[\"title\"] for p in bios_data_train]).most_common()"
   ]
  },
  {
   "cell_type": "code",
   "execution_count": 8,
   "id": "annoying-cabin",
   "metadata": {},
   "outputs": [],
   "source": [
    "\n",
    "vectorizer = CountVectorizer(binary = True, decode_error = u'ignore')\n",
    "tokenizer = vectorizer.build_tokenizer()\n",
    "def anonymize(p, remove_names=True, remove_gender_markers=True, remove_title=True, replacement=\"_\"):\n",
    "    bio = p[\"bio\"]\n",
    "    names = None\n",
    "    if remove_title:\n",
    "        i = bio.lower().index(p[\"norm_title\"].lower())\n",
    "        bio = p[\"bio\"][:i] + replacement + p[\"bio\"][i+len(p[\"norm_title\"]):]\n",
    "\n",
    "    if remove_gender_markers:\n",
    "        bio = re.sub(r\"\\b(?:[Hh]e|[Ss]he|[Hh]er|[Hh]is|[Hh]im|[Hh]ers|[Hh]imself|[Hh]erself|[Mm][Rr]|[Mm][Rr][sS]|[Mm][Ss])\\b\", replacement, bio)\n",
    "        \n",
    "    if remove_names:\n",
    "        prefix = bio[:bio.index(\" is a\")]\n",
    "        names = {t for t in tokenizer(prefix) if t not in {'Dr', 'Mr', 'Ms', 'Mrs', 'Ph'}}\n",
    "    #     print(names)\n",
    "        if names:\n",
    "            bio = re.sub(r\"\\b(?:\" + \"|\".join([re.escape(n) for n in names]) + r\")\\b\", replacement, bio)\n",
    "    \n",
    "    \n",
    "    p[\"bio_\"]=bio\n",
    "    return names"
   ]
  },
  {
   "cell_type": "code",
   "execution_count": 10,
   "id": "checked-supplement",
   "metadata": {},
   "outputs": [
    {
     "name": "stdout",
     "output_type": "stream",
     "text": [
      "Loaded 1999995 words\n",
      "Done featurizing\n"
     ]
    }
   ],
   "source": [
    "with open(\"../../words/embeddings/OtherFormats/crawl-300d-2M.pkl\", \"rb\") as f:\n",
    "    E = pkl.load(f)\n",
    "print(\"Loaded\", len(E), \"words\")\n",
    " \n",
    "def sim(w1, w2):\n",
    "    return E[w1].dot(E[w2])/linalg.norm(E[w1])/linalg.norm(E[w2])\n",
    " \n",
    "sim('he', 'she')\n",
    "\n",
    "# token_counts = Counter([w for p in people for w in re.split(r\"[\\s\\.\\!\\?\\:,\\\"“\\—\\-\\(\\)]+\", p[\"bio\"]) if len(w)>1 and w in E.index])\n",
    "# print(token_counts.most_common(100))\n",
    "\n",
    "def word_vector_featurize(text, Emb = E):\n",
    "    return mean([Emb[w] for w in re.split(r\"[\\s\\.\\!\\?\\:,\\\"“\\—\\-\\(\\)]+\", text) if len(w)>1 and w in Emb], axis=0)\n",
    "\n",
    "X_train = [word_vector_featurize(p[\"bio\"], E) for p in bios_data_train]\n",
    "X_val = [word_vector_featurize(p[\"bio\"], E) for p in bios_data_val]\n",
    "X_test = [word_vector_featurize(p[\"bio\"], E) for p in bios_data_test]\n",
    "\n",
    "print(\"Done featurizing\")"
   ]
  },
  {
   "cell_type": "code",
   "execution_count": 123,
   "id": "orange-corruption",
   "metadata": {},
   "outputs": [],
   "source": [
    "def sim_emb(e1, e2):\n",
    "    return e1.dot(e2)/linalg.norm(e1)/linalg.norm(e2)\n",
    " "
   ]
  },
  {
   "cell_type": "code",
   "execution_count": 24,
   "id": "forced-short",
   "metadata": {},
   "outputs": [
    {
     "name": "stdout",
     "output_type": "stream",
     "text": [
      "Done featurizing\n"
     ]
    }
   ],
   "source": [
    "\n",
    "def word_vector_featurize(text, Emb = E):\n",
    "    return mean([Emb[w] for w in re.split(r\"[\\s\\.\\!\\?\\:,\\\"“\\—\\-\\(\\)]+\", text) if len(w)>1 and w in Emb], axis=0)\n",
    "\n",
    "X_train = [word_vector_featurize(p[\"bio\"], E) for p in bios_data_train]\n",
    "X_val = [word_vector_featurize(p[\"bio\"], E) for p in bios_data_val]\n",
    "X_test = [word_vector_featurize(p[\"bio\"], E) for p in bios_data_test]\n",
    "\n",
    "print(\"Done featurizing\")\n",
    "\n",
    "G_train = [p[\"gender\"] for p in bios_data_train]\n",
    "G_val = [p[\"gender\"] for p in bios_data_val]\n",
    "G_test = [p[\"gender\"] for p in bios_data_test]"
   ]
  },
  {
   "cell_type": "code",
   "execution_count": 11,
   "id": "responsible-fundamental",
   "metadata": {},
   "outputs": [],
   "source": [
    "# get data of female bios only (to train decoupled classifiers)\n",
    "f_bios_train = [p for p in bios_data_train if p['gender']=='F']\n",
    "f_bios_val = [p for p in bios_data_val if p['gender']=='F']\n",
    "f_bios_test = [p for p in bios_data_test if p['gender']=='F']\n",
    "\n",
    "\n",
    "f_X_train = [word_vector_featurize(p[\"bio\"], E) for p in bios_data_train if p['gender']=='F']\n",
    "f_X_val = [word_vector_featurize(p[\"bio\"], E) for p in bios_data_val if p['gender']=='F']\n",
    "f_X_test = [word_vector_featurize(p[\"bio\"], E) for p in bios_data_test if p['gender']=='F']\n",
    "\n",
    "\n",
    "f_G_train = [p[\"gender\"] for p in f_bios_train]\n",
    "f_G_val = [p[\"gender\"] for p in f_bios_val]\n",
    "f_G_test = [p[\"gender\"] for p in f_bios_test]"
   ]
  },
  {
   "cell_type": "code",
   "execution_count": 54,
   "id": "hungry-coalition",
   "metadata": {},
   "outputs": [],
   "source": [
    "#function to train classifier\n",
    "def pred_clf(X, Y, G, X_pred=None, X_pred2=None, data_augm = False, subsample = False, random_state=42,balanced=False,sweights=None):\n",
    "    if sweights is not None:\n",
    "        clf = sklearn.linear_model.SGDClassifier(loss='log')\n",
    "    \n",
    "    else:\n",
    "        if balanced:\n",
    "            clf = sklearn.linear_model.SGDClassifier(loss='log',class_weight='balanced', random_state=42)\n",
    "        else:\n",
    "            clf = linear_model.LogisticRegression(penalty = 'l2', random_state=42,) \n",
    "    np.random.seed(random_state)\n",
    "    random.seed(random_state)\n",
    "    \n",
    "    X_train, X_val, X_test = X\n",
    "    Y_train, Y_val, Y_test = Y\n",
    "    G_train, G_val, G_test = G\n",
    "    \n",
    "    Y, G = asarray(Y), asarray(G)\n",
    "    \n",
    "    if X_pred is None:\n",
    "        X_pred = X_test\n",
    "    \n",
    "    #cross validation partitions for training and testing\n",
    "    results = {'y_pred':[], 'y_pred_prob':[], 'y_pred_correct':[] , 'y_pred2':[], 'y_pred2_prob':[], 'y_pred2_correct':[],'y_pred_diff':[] }\n",
    "    \n",
    "    if data_augm:\n",
    "        X_train = hstack((X_train, invert_gender(X_train, vectorizer)))\n",
    "        Y_train = hstack((Y_train,Y_train))\n",
    "    print(\"clf fit\")\n",
    "    if sweights is not None:\n",
    "        clf.fit(X_train, Y_train, sample_weight=sweights)\n",
    "\n",
    "    else:\n",
    "        clf.fit(X_train, Y_train)\n",
    "   \n",
    "    y_pred = clf.predict(X_test)\n",
    "    y_pred_proba =clf.predict_proba(X_test)\n",
    "        \n",
    "    results['y_pred'] = y_pred\n",
    "    results['y_pred_prob'] = y_pred_proba\n",
    "    results['y_pred_correct'] = y_pred== array(Y_test)\n",
    "        \n",
    "    if X_pred2 is not None:\n",
    "        y_pred2 = clf.predict(X_pred2)\n",
    "        y_pred2_proba =clf.predict_proba(X_pred2)\n",
    "        results['y_pred2'] = y_pred2\n",
    "        results['y_pred2_prob'] = y_pred2_proba\n",
    "        results['y_pred2_correct'] = y_pred2== array(Y_test)\n",
    "        results['y_pred_diff'] = y_pred2_proba-y_pred_proba\n",
    "        \n",
    "    return results, clf"
   ]
  },
  {
   "cell_type": "markdown",
   "id": "compound-zambia",
   "metadata": {},
   "source": [
    "# Occupation classifiers (joint and decoupled)"
   ]
  },
  {
   "cell_type": "code",
   "execution_count": 30,
   "id": "cross-technical",
   "metadata": {
    "collapsed": true
   },
   "outputs": [
    {
     "name": "stderr",
     "output_type": "stream",
     "text": [
      "/home/adam/Dropbox/WorkProjects/venv_main/lib/python3.6/site-packages/numpy/core/_asarray.py:83: VisibleDeprecationWarning: Creating an ndarray from ragged nested sequences (which is a list-or-tuple of lists-or-tuples-or ndarrays with different lengths or shapes) is deprecated. If you meant to do this, you must specify 'dtype=object' when creating the ndarray\n",
      "  return array(a, dtype, copy=False, order=order)\n"
     ]
    },
    {
     "name": "stdout",
     "output_type": "stream",
     "text": [
      "clf fit\n"
     ]
    },
    {
     "name": "stderr",
     "output_type": "stream",
     "text": [
      "/home/adam/Dropbox/WorkProjects/venv_main/lib/python3.6/site-packages/numpy/core/_asarray.py:83: VisibleDeprecationWarning: Creating an ndarray from ragged nested sequences (which is a list-or-tuple of lists-or-tuples-or ndarrays with different lengths or shapes) is deprecated. If you meant to do this, you must specify 'dtype=object' when creating the ndarray\n",
      "  return array(a, dtype, copy=False, order=order)\n"
     ]
    },
    {
     "name": "stdout",
     "output_type": "stream",
     "text": [
      "clf fit\n"
     ]
    },
    {
     "name": "stderr",
     "output_type": "stream",
     "text": [
      "/home/adam/Dropbox/WorkProjects/venv_main/lib/python3.6/site-packages/numpy/core/_asarray.py:83: VisibleDeprecationWarning: Creating an ndarray from ragged nested sequences (which is a list-or-tuple of lists-or-tuples-or ndarrays with different lengths or shapes) is deprecated. If you meant to do this, you must specify 'dtype=object' when creating the ndarray\n",
      "  return array(a, dtype, copy=False, order=order)\n"
     ]
    },
    {
     "name": "stdout",
     "output_type": "stream",
     "text": [
      "clf fit\n"
     ]
    },
    {
     "name": "stderr",
     "output_type": "stream",
     "text": [
      "/home/adam/Dropbox/WorkProjects/venv_main/lib/python3.6/site-packages/numpy/core/_asarray.py:83: VisibleDeprecationWarning: Creating an ndarray from ragged nested sequences (which is a list-or-tuple of lists-or-tuples-or ndarrays with different lengths or shapes) is deprecated. If you meant to do this, you must specify 'dtype=object' when creating the ndarray\n",
      "  return array(a, dtype, copy=False, order=order)\n"
     ]
    },
    {
     "name": "stdout",
     "output_type": "stream",
     "text": [
      "clf fit\n"
     ]
    },
    {
     "name": "stderr",
     "output_type": "stream",
     "text": [
      "/home/adam/Dropbox/WorkProjects/venv_main/lib/python3.6/site-packages/numpy/core/_asarray.py:83: VisibleDeprecationWarning: Creating an ndarray from ragged nested sequences (which is a list-or-tuple of lists-or-tuples-or ndarrays with different lengths or shapes) is deprecated. If you meant to do this, you must specify 'dtype=object' when creating the ndarray\n",
      "  return array(a, dtype, copy=False, order=order)\n"
     ]
    },
    {
     "name": "stdout",
     "output_type": "stream",
     "text": [
      "clf fit\n"
     ]
    },
    {
     "name": "stderr",
     "output_type": "stream",
     "text": [
      "/home/adam/Dropbox/WorkProjects/venv_main/lib/python3.6/site-packages/numpy/core/_asarray.py:83: VisibleDeprecationWarning: Creating an ndarray from ragged nested sequences (which is a list-or-tuple of lists-or-tuples-or ndarrays with different lengths or shapes) is deprecated. If you meant to do this, you must specify 'dtype=object' when creating the ndarray\n",
      "  return array(a, dtype, copy=False, order=order)\n"
     ]
    },
    {
     "name": "stdout",
     "output_type": "stream",
     "text": [
      "clf fit\n"
     ]
    },
    {
     "name": "stderr",
     "output_type": "stream",
     "text": [
      "/home/adam/Dropbox/WorkProjects/venv_main/lib/python3.6/site-packages/numpy/core/_asarray.py:83: VisibleDeprecationWarning: Creating an ndarray from ragged nested sequences (which is a list-or-tuple of lists-or-tuples-or ndarrays with different lengths or shapes) is deprecated. If you meant to do this, you must specify 'dtype=object' when creating the ndarray\n",
      "  return array(a, dtype, copy=False, order=order)\n"
     ]
    },
    {
     "name": "stdout",
     "output_type": "stream",
     "text": [
      "clf fit\n"
     ]
    },
    {
     "name": "stderr",
     "output_type": "stream",
     "text": [
      "/home/adam/Dropbox/WorkProjects/venv_main/lib/python3.6/site-packages/numpy/core/_asarray.py:83: VisibleDeprecationWarning: Creating an ndarray from ragged nested sequences (which is a list-or-tuple of lists-or-tuples-or ndarrays with different lengths or shapes) is deprecated. If you meant to do this, you must specify 'dtype=object' when creating the ndarray\n",
      "  return array(a, dtype, copy=False, order=order)\n"
     ]
    },
    {
     "name": "stdout",
     "output_type": "stream",
     "text": [
      "clf fit\n"
     ]
    },
    {
     "name": "stderr",
     "output_type": "stream",
     "text": [
      "/home/adam/Dropbox/WorkProjects/venv_main/lib/python3.6/site-packages/numpy/core/_asarray.py:83: VisibleDeprecationWarning: Creating an ndarray from ragged nested sequences (which is a list-or-tuple of lists-or-tuples-or ndarrays with different lengths or shapes) is deprecated. If you meant to do this, you must specify 'dtype=object' when creating the ndarray\n",
      "  return array(a, dtype, copy=False, order=order)\n"
     ]
    },
    {
     "name": "stdout",
     "output_type": "stream",
     "text": [
      "clf fit\n"
     ]
    },
    {
     "name": "stderr",
     "output_type": "stream",
     "text": [
      "/home/adam/Dropbox/WorkProjects/venv_main/lib/python3.6/site-packages/numpy/core/_asarray.py:83: VisibleDeprecationWarning: Creating an ndarray from ragged nested sequences (which is a list-or-tuple of lists-or-tuples-or ndarrays with different lengths or shapes) is deprecated. If you meant to do this, you must specify 'dtype=object' when creating the ndarray\n",
      "  return array(a, dtype, copy=False, order=order)\n"
     ]
    },
    {
     "name": "stdout",
     "output_type": "stream",
     "text": [
      "clf fit\n"
     ]
    },
    {
     "name": "stderr",
     "output_type": "stream",
     "text": [
      "/home/adam/Dropbox/WorkProjects/venv_main/lib/python3.6/site-packages/numpy/core/_asarray.py:83: VisibleDeprecationWarning: Creating an ndarray from ragged nested sequences (which is a list-or-tuple of lists-or-tuples-or ndarrays with different lengths or shapes) is deprecated. If you meant to do this, you must specify 'dtype=object' when creating the ndarray\n",
      "  return array(a, dtype, copy=False, order=order)\n"
     ]
    },
    {
     "name": "stdout",
     "output_type": "stream",
     "text": [
      "clf fit\n"
     ]
    },
    {
     "name": "stderr",
     "output_type": "stream",
     "text": [
      "/home/adam/Dropbox/WorkProjects/venv_main/lib/python3.6/site-packages/numpy/core/_asarray.py:83: VisibleDeprecationWarning: Creating an ndarray from ragged nested sequences (which is a list-or-tuple of lists-or-tuples-or ndarrays with different lengths or shapes) is deprecated. If you meant to do this, you must specify 'dtype=object' when creating the ndarray\n",
      "  return array(a, dtype, copy=False, order=order)\n"
     ]
    },
    {
     "name": "stdout",
     "output_type": "stream",
     "text": [
      "clf fit\n"
     ]
    },
    {
     "name": "stderr",
     "output_type": "stream",
     "text": [
      "/home/adam/Dropbox/WorkProjects/venv_main/lib/python3.6/site-packages/numpy/core/_asarray.py:83: VisibleDeprecationWarning: Creating an ndarray from ragged nested sequences (which is a list-or-tuple of lists-or-tuples-or ndarrays with different lengths or shapes) is deprecated. If you meant to do this, you must specify 'dtype=object' when creating the ndarray\n",
      "  return array(a, dtype, copy=False, order=order)\n"
     ]
    },
    {
     "name": "stdout",
     "output_type": "stream",
     "text": [
      "clf fit\n"
     ]
    },
    {
     "name": "stderr",
     "output_type": "stream",
     "text": [
      "/home/adam/Dropbox/WorkProjects/venv_main/lib/python3.6/site-packages/numpy/core/_asarray.py:83: VisibleDeprecationWarning: Creating an ndarray from ragged nested sequences (which is a list-or-tuple of lists-or-tuples-or ndarrays with different lengths or shapes) is deprecated. If you meant to do this, you must specify 'dtype=object' when creating the ndarray\n",
      "  return array(a, dtype, copy=False, order=order)\n"
     ]
    },
    {
     "name": "stdout",
     "output_type": "stream",
     "text": [
      "clf fit\n"
     ]
    },
    {
     "name": "stderr",
     "output_type": "stream",
     "text": [
      "/home/adam/Dropbox/WorkProjects/venv_main/lib/python3.6/site-packages/numpy/core/_asarray.py:83: VisibleDeprecationWarning: Creating an ndarray from ragged nested sequences (which is a list-or-tuple of lists-or-tuples-or ndarrays with different lengths or shapes) is deprecated. If you meant to do this, you must specify 'dtype=object' when creating the ndarray\n",
      "  return array(a, dtype, copy=False, order=order)\n"
     ]
    },
    {
     "name": "stdout",
     "output_type": "stream",
     "text": [
      "clf fit\n"
     ]
    },
    {
     "name": "stderr",
     "output_type": "stream",
     "text": [
      "/home/adam/Dropbox/WorkProjects/venv_main/lib/python3.6/site-packages/numpy/core/_asarray.py:83: VisibleDeprecationWarning: Creating an ndarray from ragged nested sequences (which is a list-or-tuple of lists-or-tuples-or ndarrays with different lengths or shapes) is deprecated. If you meant to do this, you must specify 'dtype=object' when creating the ndarray\n",
      "  return array(a, dtype, copy=False, order=order)\n"
     ]
    },
    {
     "name": "stdout",
     "output_type": "stream",
     "text": [
      "clf fit\n"
     ]
    },
    {
     "name": "stderr",
     "output_type": "stream",
     "text": [
      "/home/adam/Dropbox/WorkProjects/venv_main/lib/python3.6/site-packages/numpy/core/_asarray.py:83: VisibleDeprecationWarning: Creating an ndarray from ragged nested sequences (which is a list-or-tuple of lists-or-tuples-or ndarrays with different lengths or shapes) is deprecated. If you meant to do this, you must specify 'dtype=object' when creating the ndarray\n",
      "  return array(a, dtype, copy=False, order=order)\n"
     ]
    },
    {
     "name": "stdout",
     "output_type": "stream",
     "text": [
      "clf fit\n"
     ]
    },
    {
     "name": "stderr",
     "output_type": "stream",
     "text": [
      "/home/adam/Dropbox/WorkProjects/venv_main/lib/python3.6/site-packages/numpy/core/_asarray.py:83: VisibleDeprecationWarning: Creating an ndarray from ragged nested sequences (which is a list-or-tuple of lists-or-tuples-or ndarrays with different lengths or shapes) is deprecated. If you meant to do this, you must specify 'dtype=object' when creating the ndarray\n",
      "  return array(a, dtype, copy=False, order=order)\n"
     ]
    },
    {
     "name": "stdout",
     "output_type": "stream",
     "text": [
      "clf fit\n"
     ]
    },
    {
     "name": "stderr",
     "output_type": "stream",
     "text": [
      "/home/adam/Dropbox/WorkProjects/venv_main/lib/python3.6/site-packages/numpy/core/_asarray.py:83: VisibleDeprecationWarning: Creating an ndarray from ragged nested sequences (which is a list-or-tuple of lists-or-tuples-or ndarrays with different lengths or shapes) is deprecated. If you meant to do this, you must specify 'dtype=object' when creating the ndarray\n",
      "  return array(a, dtype, copy=False, order=order)\n"
     ]
    },
    {
     "name": "stdout",
     "output_type": "stream",
     "text": [
      "clf fit\n"
     ]
    },
    {
     "name": "stderr",
     "output_type": "stream",
     "text": [
      "/home/adam/Dropbox/WorkProjects/venv_main/lib/python3.6/site-packages/numpy/core/_asarray.py:83: VisibleDeprecationWarning: Creating an ndarray from ragged nested sequences (which is a list-or-tuple of lists-or-tuples-or ndarrays with different lengths or shapes) is deprecated. If you meant to do this, you must specify 'dtype=object' when creating the ndarray\n",
      "  return array(a, dtype, copy=False, order=order)\n"
     ]
    },
    {
     "name": "stdout",
     "output_type": "stream",
     "text": [
      "clf fit\n"
     ]
    },
    {
     "name": "stderr",
     "output_type": "stream",
     "text": [
      "/home/adam/Dropbox/WorkProjects/venv_main/lib/python3.6/site-packages/numpy/core/_asarray.py:83: VisibleDeprecationWarning: Creating an ndarray from ragged nested sequences (which is a list-or-tuple of lists-or-tuples-or ndarrays with different lengths or shapes) is deprecated. If you meant to do this, you must specify 'dtype=object' when creating the ndarray\n",
      "  return array(a, dtype, copy=False, order=order)\n"
     ]
    },
    {
     "name": "stdout",
     "output_type": "stream",
     "text": [
      "clf fit\n"
     ]
    },
    {
     "name": "stderr",
     "output_type": "stream",
     "text": [
      "/home/adam/Dropbox/WorkProjects/venv_main/lib/python3.6/site-packages/numpy/core/_asarray.py:83: VisibleDeprecationWarning: Creating an ndarray from ragged nested sequences (which is a list-or-tuple of lists-or-tuples-or ndarrays with different lengths or shapes) is deprecated. If you meant to do this, you must specify 'dtype=object' when creating the ndarray\n",
      "  return array(a, dtype, copy=False, order=order)\n"
     ]
    },
    {
     "name": "stdout",
     "output_type": "stream",
     "text": [
      "clf fit\n"
     ]
    },
    {
     "name": "stderr",
     "output_type": "stream",
     "text": [
      "/home/adam/Dropbox/WorkProjects/venv_main/lib/python3.6/site-packages/numpy/core/_asarray.py:83: VisibleDeprecationWarning: Creating an ndarray from ragged nested sequences (which is a list-or-tuple of lists-or-tuples-or ndarrays with different lengths or shapes) is deprecated. If you meant to do this, you must specify 'dtype=object' when creating the ndarray\n",
      "  return array(a, dtype, copy=False, order=order)\n"
     ]
    },
    {
     "name": "stdout",
     "output_type": "stream",
     "text": [
      "clf fit\n"
     ]
    },
    {
     "name": "stderr",
     "output_type": "stream",
     "text": [
      "/home/adam/Dropbox/WorkProjects/venv_main/lib/python3.6/site-packages/numpy/core/_asarray.py:83: VisibleDeprecationWarning: Creating an ndarray from ragged nested sequences (which is a list-or-tuple of lists-or-tuples-or ndarrays with different lengths or shapes) is deprecated. If you meant to do this, you must specify 'dtype=object' when creating the ndarray\n",
      "  return array(a, dtype, copy=False, order=order)\n"
     ]
    },
    {
     "name": "stdout",
     "output_type": "stream",
     "text": [
      "clf fit\n"
     ]
    },
    {
     "name": "stderr",
     "output_type": "stream",
     "text": [
      "/home/adam/Dropbox/WorkProjects/venv_main/lib/python3.6/site-packages/numpy/core/_asarray.py:83: VisibleDeprecationWarning: Creating an ndarray from ragged nested sequences (which is a list-or-tuple of lists-or-tuples-or ndarrays with different lengths or shapes) is deprecated. If you meant to do this, you must specify 'dtype=object' when creating the ndarray\n",
      "  return array(a, dtype, copy=False, order=order)\n"
     ]
    },
    {
     "name": "stdout",
     "output_type": "stream",
     "text": [
      "clf fit\n"
     ]
    },
    {
     "name": "stderr",
     "output_type": "stream",
     "text": [
      "/home/adam/Dropbox/WorkProjects/venv_main/lib/python3.6/site-packages/numpy/core/_asarray.py:83: VisibleDeprecationWarning: Creating an ndarray from ragged nested sequences (which is a list-or-tuple of lists-or-tuples-or ndarrays with different lengths or shapes) is deprecated. If you meant to do this, you must specify 'dtype=object' when creating the ndarray\n",
      "  return array(a, dtype, copy=False, order=order)\n"
     ]
    },
    {
     "name": "stdout",
     "output_type": "stream",
     "text": [
      "clf fit\n"
     ]
    },
    {
     "name": "stderr",
     "output_type": "stream",
     "text": [
      "/home/adam/Dropbox/WorkProjects/venv_main/lib/python3.6/site-packages/numpy/core/_asarray.py:83: VisibleDeprecationWarning: Creating an ndarray from ragged nested sequences (which is a list-or-tuple of lists-or-tuples-or ndarrays with different lengths or shapes) is deprecated. If you meant to do this, you must specify 'dtype=object' when creating the ndarray\n",
      "  return array(a, dtype, copy=False, order=order)\n"
     ]
    },
    {
     "name": "stdout",
     "output_type": "stream",
     "text": [
      "clf fit\n"
     ]
    },
    {
     "name": "stderr",
     "output_type": "stream",
     "text": [
      "/home/adam/Dropbox/WorkProjects/venv_main/lib/python3.6/site-packages/numpy/core/_asarray.py:83: VisibleDeprecationWarning: Creating an ndarray from ragged nested sequences (which is a list-or-tuple of lists-or-tuples-or ndarrays with different lengths or shapes) is deprecated. If you meant to do this, you must specify 'dtype=object' when creating the ndarray\n",
      "  return array(a, dtype, copy=False, order=order)\n"
     ]
    },
    {
     "name": "stdout",
     "output_type": "stream",
     "text": [
      "clf fit\n"
     ]
    },
    {
     "name": "stderr",
     "output_type": "stream",
     "text": [
      "/home/adam/Dropbox/WorkProjects/venv_main/lib/python3.6/site-packages/numpy/core/_asarray.py:83: VisibleDeprecationWarning: Creating an ndarray from ragged nested sequences (which is a list-or-tuple of lists-or-tuples-or ndarrays with different lengths or shapes) is deprecated. If you meant to do this, you must specify 'dtype=object' when creating the ndarray\n",
      "  return array(a, dtype, copy=False, order=order)\n"
     ]
    },
    {
     "name": "stdout",
     "output_type": "stream",
     "text": [
      "clf fit\n"
     ]
    },
    {
     "name": "stderr",
     "output_type": "stream",
     "text": [
      "/home/adam/Dropbox/WorkProjects/venv_main/lib/python3.6/site-packages/numpy/core/_asarray.py:83: VisibleDeprecationWarning: Creating an ndarray from ragged nested sequences (which is a list-or-tuple of lists-or-tuples-or ndarrays with different lengths or shapes) is deprecated. If you meant to do this, you must specify 'dtype=object' when creating the ndarray\n",
      "  return array(a, dtype, copy=False, order=order)\n"
     ]
    },
    {
     "name": "stdout",
     "output_type": "stream",
     "text": [
      "clf fit\n"
     ]
    },
    {
     "name": "stderr",
     "output_type": "stream",
     "text": [
      "/home/adam/Dropbox/WorkProjects/venv_main/lib/python3.6/site-packages/numpy/core/_asarray.py:83: VisibleDeprecationWarning: Creating an ndarray from ragged nested sequences (which is a list-or-tuple of lists-or-tuples-or ndarrays with different lengths or shapes) is deprecated. If you meant to do this, you must specify 'dtype=object' when creating the ndarray\n",
      "  return array(a, dtype, copy=False, order=order)\n"
     ]
    },
    {
     "name": "stdout",
     "output_type": "stream",
     "text": [
      "clf fit\n"
     ]
    },
    {
     "name": "stderr",
     "output_type": "stream",
     "text": [
      "/home/adam/Dropbox/WorkProjects/venv_main/lib/python3.6/site-packages/numpy/core/_asarray.py:83: VisibleDeprecationWarning: Creating an ndarray from ragged nested sequences (which is a list-or-tuple of lists-or-tuples-or ndarrays with different lengths or shapes) is deprecated. If you meant to do this, you must specify 'dtype=object' when creating the ndarray\n",
      "  return array(a, dtype, copy=False, order=order)\n"
     ]
    },
    {
     "name": "stdout",
     "output_type": "stream",
     "text": [
      "clf fit\n"
     ]
    },
    {
     "name": "stderr",
     "output_type": "stream",
     "text": [
      "/home/adam/Dropbox/WorkProjects/venv_main/lib/python3.6/site-packages/numpy/core/_asarray.py:83: VisibleDeprecationWarning: Creating an ndarray from ragged nested sequences (which is a list-or-tuple of lists-or-tuples-or ndarrays with different lengths or shapes) is deprecated. If you meant to do this, you must specify 'dtype=object' when creating the ndarray\n",
      "  return array(a, dtype, copy=False, order=order)\n"
     ]
    },
    {
     "name": "stdout",
     "output_type": "stream",
     "text": [
      "clf fit\n"
     ]
    },
    {
     "name": "stderr",
     "output_type": "stream",
     "text": [
      "/home/adam/Dropbox/WorkProjects/venv_main/lib/python3.6/site-packages/numpy/core/_asarray.py:83: VisibleDeprecationWarning: Creating an ndarray from ragged nested sequences (which is a list-or-tuple of lists-or-tuples-or ndarrays with different lengths or shapes) is deprecated. If you meant to do this, you must specify 'dtype=object' when creating the ndarray\n",
      "  return array(a, dtype, copy=False, order=order)\n"
     ]
    },
    {
     "name": "stdout",
     "output_type": "stream",
     "text": [
      "clf fit\n"
     ]
    },
    {
     "name": "stderr",
     "output_type": "stream",
     "text": [
      "/home/adam/Dropbox/WorkProjects/venv_main/lib/python3.6/site-packages/numpy/core/_asarray.py:83: VisibleDeprecationWarning: Creating an ndarray from ragged nested sequences (which is a list-or-tuple of lists-or-tuples-or ndarrays with different lengths or shapes) is deprecated. If you meant to do this, you must specify 'dtype=object' when creating the ndarray\n",
      "  return array(a, dtype, copy=False, order=order)\n"
     ]
    },
    {
     "name": "stdout",
     "output_type": "stream",
     "text": [
      "clf fit\n"
     ]
    },
    {
     "name": "stderr",
     "output_type": "stream",
     "text": [
      "/home/adam/Dropbox/WorkProjects/venv_main/lib/python3.6/site-packages/numpy/core/_asarray.py:83: VisibleDeprecationWarning: Creating an ndarray from ragged nested sequences (which is a list-or-tuple of lists-or-tuples-or ndarrays with different lengths or shapes) is deprecated. If you meant to do this, you must specify 'dtype=object' when creating the ndarray\n",
      "  return array(a, dtype, copy=False, order=order)\n"
     ]
    },
    {
     "name": "stdout",
     "output_type": "stream",
     "text": [
      "clf fit\n"
     ]
    },
    {
     "name": "stderr",
     "output_type": "stream",
     "text": [
      "/home/adam/Dropbox/WorkProjects/venv_main/lib/python3.6/site-packages/numpy/core/_asarray.py:83: VisibleDeprecationWarning: Creating an ndarray from ragged nested sequences (which is a list-or-tuple of lists-or-tuples-or ndarrays with different lengths or shapes) is deprecated. If you meant to do this, you must specify 'dtype=object' when creating the ndarray\n",
      "  return array(a, dtype, copy=False, order=order)\n"
     ]
    },
    {
     "name": "stdout",
     "output_type": "stream",
     "text": [
      "clf fit\n"
     ]
    },
    {
     "name": "stderr",
     "output_type": "stream",
     "text": [
      "/home/adam/Dropbox/WorkProjects/venv_main/lib/python3.6/site-packages/numpy/core/_asarray.py:83: VisibleDeprecationWarning: Creating an ndarray from ragged nested sequences (which is a list-or-tuple of lists-or-tuples-or ndarrays with different lengths or shapes) is deprecated. If you meant to do this, you must specify 'dtype=object' when creating the ndarray\n",
      "  return array(a, dtype, copy=False, order=order)\n"
     ]
    },
    {
     "name": "stdout",
     "output_type": "stream",
     "text": [
      "clf fit\n"
     ]
    },
    {
     "name": "stderr",
     "output_type": "stream",
     "text": [
      "/home/adam/Dropbox/WorkProjects/venv_main/lib/python3.6/site-packages/numpy/core/_asarray.py:83: VisibleDeprecationWarning: Creating an ndarray from ragged nested sequences (which is a list-or-tuple of lists-or-tuples-or ndarrays with different lengths or shapes) is deprecated. If you meant to do this, you must specify 'dtype=object' when creating the ndarray\n",
      "  return array(a, dtype, copy=False, order=order)\n"
     ]
    },
    {
     "name": "stdout",
     "output_type": "stream",
     "text": [
      "clf fit\n"
     ]
    },
    {
     "name": "stderr",
     "output_type": "stream",
     "text": [
      "/home/adam/Dropbox/WorkProjects/venv_main/lib/python3.6/site-packages/numpy/core/_asarray.py:83: VisibleDeprecationWarning: Creating an ndarray from ragged nested sequences (which is a list-or-tuple of lists-or-tuples-or ndarrays with different lengths or shapes) is deprecated. If you meant to do this, you must specify 'dtype=object' when creating the ndarray\n",
      "  return array(a, dtype, copy=False, order=order)\n"
     ]
    },
    {
     "name": "stdout",
     "output_type": "stream",
     "text": [
      "clf fit\n"
     ]
    },
    {
     "name": "stderr",
     "output_type": "stream",
     "text": [
      "/home/adam/Dropbox/WorkProjects/venv_main/lib/python3.6/site-packages/numpy/core/_asarray.py:83: VisibleDeprecationWarning: Creating an ndarray from ragged nested sequences (which is a list-or-tuple of lists-or-tuples-or ndarrays with different lengths or shapes) is deprecated. If you meant to do this, you must specify 'dtype=object' when creating the ndarray\n",
      "  return array(a, dtype, copy=False, order=order)\n"
     ]
    },
    {
     "name": "stdout",
     "output_type": "stream",
     "text": [
      "clf fit\n"
     ]
    },
    {
     "name": "stderr",
     "output_type": "stream",
     "text": [
      "/home/adam/Dropbox/WorkProjects/venv_main/lib/python3.6/site-packages/numpy/core/_asarray.py:83: VisibleDeprecationWarning: Creating an ndarray from ragged nested sequences (which is a list-or-tuple of lists-or-tuples-or ndarrays with different lengths or shapes) is deprecated. If you meant to do this, you must specify 'dtype=object' when creating the ndarray\n",
      "  return array(a, dtype, copy=False, order=order)\n"
     ]
    },
    {
     "name": "stdout",
     "output_type": "stream",
     "text": [
      "clf fit\n"
     ]
    },
    {
     "name": "stderr",
     "output_type": "stream",
     "text": [
      "/home/adam/Dropbox/WorkProjects/venv_main/lib/python3.6/site-packages/numpy/core/_asarray.py:83: VisibleDeprecationWarning: Creating an ndarray from ragged nested sequences (which is a list-or-tuple of lists-or-tuples-or ndarrays with different lengths or shapes) is deprecated. If you meant to do this, you must specify 'dtype=object' when creating the ndarray\n",
      "  return array(a, dtype, copy=False, order=order)\n"
     ]
    },
    {
     "name": "stdout",
     "output_type": "stream",
     "text": [
      "clf fit\n"
     ]
    },
    {
     "name": "stderr",
     "output_type": "stream",
     "text": [
      "/home/adam/Dropbox/WorkProjects/venv_main/lib/python3.6/site-packages/numpy/core/_asarray.py:83: VisibleDeprecationWarning: Creating an ndarray from ragged nested sequences (which is a list-or-tuple of lists-or-tuples-or ndarrays with different lengths or shapes) is deprecated. If you meant to do this, you must specify 'dtype=object' when creating the ndarray\n",
      "  return array(a, dtype, copy=False, order=order)\n"
     ]
    },
    {
     "name": "stdout",
     "output_type": "stream",
     "text": [
      "clf fit\n"
     ]
    },
    {
     "name": "stderr",
     "output_type": "stream",
     "text": [
      "/home/adam/Dropbox/WorkProjects/venv_main/lib/python3.6/site-packages/numpy/core/_asarray.py:83: VisibleDeprecationWarning: Creating an ndarray from ragged nested sequences (which is a list-or-tuple of lists-or-tuples-or ndarrays with different lengths or shapes) is deprecated. If you meant to do this, you must specify 'dtype=object' when creating the ndarray\n",
      "  return array(a, dtype, copy=False, order=order)\n"
     ]
    },
    {
     "name": "stdout",
     "output_type": "stream",
     "text": [
      "clf fit\n"
     ]
    },
    {
     "name": "stderr",
     "output_type": "stream",
     "text": [
      "/home/adam/Dropbox/WorkProjects/venv_main/lib/python3.6/site-packages/numpy/core/_asarray.py:83: VisibleDeprecationWarning: Creating an ndarray from ragged nested sequences (which is a list-or-tuple of lists-or-tuples-or ndarrays with different lengths or shapes) is deprecated. If you meant to do this, you must specify 'dtype=object' when creating the ndarray\n",
      "  return array(a, dtype, copy=False, order=order)\n"
     ]
    },
    {
     "name": "stdout",
     "output_type": "stream",
     "text": [
      "clf fit\n"
     ]
    },
    {
     "name": "stderr",
     "output_type": "stream",
     "text": [
      "/home/adam/Dropbox/WorkProjects/venv_main/lib/python3.6/site-packages/numpy/core/_asarray.py:83: VisibleDeprecationWarning: Creating an ndarray from ragged nested sequences (which is a list-or-tuple of lists-or-tuples-or ndarrays with different lengths or shapes) is deprecated. If you meant to do this, you must specify 'dtype=object' when creating the ndarray\n",
      "  return array(a, dtype, copy=False, order=order)\n"
     ]
    },
    {
     "name": "stdout",
     "output_type": "stream",
     "text": [
      "clf fit\n"
     ]
    },
    {
     "name": "stderr",
     "output_type": "stream",
     "text": [
      "/home/adam/Dropbox/WorkProjects/venv_main/lib/python3.6/site-packages/numpy/core/_asarray.py:83: VisibleDeprecationWarning: Creating an ndarray from ragged nested sequences (which is a list-or-tuple of lists-or-tuples-or ndarrays with different lengths or shapes) is deprecated. If you meant to do this, you must specify 'dtype=object' when creating the ndarray\n",
      "  return array(a, dtype, copy=False, order=order)\n"
     ]
    },
    {
     "name": "stdout",
     "output_type": "stream",
     "text": [
      "clf fit\n"
     ]
    },
    {
     "name": "stderr",
     "output_type": "stream",
     "text": [
      "/home/adam/Dropbox/WorkProjects/venv_main/lib/python3.6/site-packages/numpy/core/_asarray.py:83: VisibleDeprecationWarning: Creating an ndarray from ragged nested sequences (which is a list-or-tuple of lists-or-tuples-or ndarrays with different lengths or shapes) is deprecated. If you meant to do this, you must specify 'dtype=object' when creating the ndarray\n",
      "  return array(a, dtype, copy=False, order=order)\n"
     ]
    },
    {
     "name": "stdout",
     "output_type": "stream",
     "text": [
      "clf fit\n"
     ]
    },
    {
     "name": "stderr",
     "output_type": "stream",
     "text": [
      "/home/adam/Dropbox/WorkProjects/venv_main/lib/python3.6/site-packages/numpy/core/_asarray.py:83: VisibleDeprecationWarning: Creating an ndarray from ragged nested sequences (which is a list-or-tuple of lists-or-tuples-or ndarrays with different lengths or shapes) is deprecated. If you meant to do this, you must specify 'dtype=object' when creating the ndarray\n",
      "  return array(a, dtype, copy=False, order=order)\n"
     ]
    },
    {
     "name": "stdout",
     "output_type": "stream",
     "text": [
      "clf fit\n"
     ]
    }
   ],
   "source": [
    "# Train joint Occupation classifiers\n",
    "\n",
    "occ_classers = {}\n",
    "\n",
    "occs = [\"surgeon\", \"software_engineer\", \"composer\", \"pastor\", \"comedian\", \"architect\", \"chiropractor\", \"accountant\", \"attorney\", \"filmmaker\", \"physician\", \"dentist\", \"photographer\", \"professor\", \"painter\", \"journalist\", \"poet\", \"personal_trainer\", \"teacher\", \"psychologist\",  \"model\", \"interior_designer\", \"yoga_teacher\", \"nurse\", \"dietitian\"]\n",
    "for target_occ in occs:\n",
    "    Y_train = [p[\"title\"]==target_occ for p in bios_data_train]\n",
    "\n",
    "    Y_val = [p[\"title\"]==target_occ for p in bios_data_val]\n",
    "\n",
    "    Y_test = [p[\"title\"]==target_occ for p in bios_data_test]\n",
    "    \n",
    "    f_Y_train = [p[\"title\"]==target_occ for p in f_bios_train]\n",
    "    f_Y_val = [p[\"title\"]==target_occ for p in f_bios_val]\n",
    "    f_Y_test = [p[\"title\"]==target_occ for p in f_bios_test]\n",
    "    \n",
    "    \n",
    "    pred_bow_joint, clf_bow_joint = pred_clf([X_train, X_val, X_test], [Y_train, Y_val, Y_test], [G_train,G_val,G_test],balanced=True)\n",
    "    \n",
    "    pred_bow_f, clf_bow_f = pred_clf([f_X_train, f_X_val, f_X_test], [f_Y_train, f_Y_val, f_Y_test], [f_G_train,f_G_val,f_G_test],balanced=True)\n",
    "    \n",
    "    \n",
    "    occ_classers[target_occ] = {}\n",
    "    occ_classers[target_occ]['clf_bow_joint'] = clf_bow_joint\n",
    "    occ_classers[target_occ]['pred_bow_joint'] = pred_bow_joint\n",
    "    occ_classers[target_occ]['clf_bow_f'] = clf_bow_f\n",
    "    occ_classers[target_occ]['pred_bow_f'] = pred_bow_f"
   ]
  },
  {
   "cell_type": "code",
   "execution_count": 99,
   "id": "stuffed-north",
   "metadata": {
    "collapsed": true
   },
   "outputs": [
    {
     "name": "stderr",
     "output_type": "stream",
     "text": [
      "/home/adam/Dropbox/WorkProjects/venv_main/lib/python3.6/site-packages/numpy/core/_asarray.py:83: VisibleDeprecationWarning: Creating an ndarray from ragged nested sequences (which is a list-or-tuple of lists-or-tuples-or ndarrays with different lengths or shapes) is deprecated. If you meant to do this, you must specify 'dtype=object' when creating the ndarray\n",
      "  return array(a, dtype, copy=False, order=order)\n"
     ]
    },
    {
     "name": "stdout",
     "output_type": "stream",
     "text": [
      "clf fit\n"
     ]
    },
    {
     "name": "stderr",
     "output_type": "stream",
     "text": [
      "/home/adam/Dropbox/WorkProjects/venv_main/lib/python3.6/site-packages/numpy/core/_asarray.py:83: VisibleDeprecationWarning: Creating an ndarray from ragged nested sequences (which is a list-or-tuple of lists-or-tuples-or ndarrays with different lengths or shapes) is deprecated. If you meant to do this, you must specify 'dtype=object' when creating the ndarray\n",
      "  return array(a, dtype, copy=False, order=order)\n"
     ]
    },
    {
     "name": "stdout",
     "output_type": "stream",
     "text": [
      "clf fit\n"
     ]
    },
    {
     "name": "stderr",
     "output_type": "stream",
     "text": [
      "/home/adam/Dropbox/WorkProjects/venv_main/lib/python3.6/site-packages/numpy/core/_asarray.py:83: VisibleDeprecationWarning: Creating an ndarray from ragged nested sequences (which is a list-or-tuple of lists-or-tuples-or ndarrays with different lengths or shapes) is deprecated. If you meant to do this, you must specify 'dtype=object' when creating the ndarray\n",
      "  return array(a, dtype, copy=False, order=order)\n"
     ]
    },
    {
     "name": "stdout",
     "output_type": "stream",
     "text": [
      "clf fit\n"
     ]
    },
    {
     "name": "stderr",
     "output_type": "stream",
     "text": [
      "/home/adam/Dropbox/WorkProjects/venv_main/lib/python3.6/site-packages/numpy/core/_asarray.py:83: VisibleDeprecationWarning: Creating an ndarray from ragged nested sequences (which is a list-or-tuple of lists-or-tuples-or ndarrays with different lengths or shapes) is deprecated. If you meant to do this, you must specify 'dtype=object' when creating the ndarray\n",
      "  return array(a, dtype, copy=False, order=order)\n"
     ]
    },
    {
     "name": "stdout",
     "output_type": "stream",
     "text": [
      "clf fit\n"
     ]
    },
    {
     "name": "stderr",
     "output_type": "stream",
     "text": [
      "/home/adam/Dropbox/WorkProjects/venv_main/lib/python3.6/site-packages/numpy/core/_asarray.py:83: VisibleDeprecationWarning: Creating an ndarray from ragged nested sequences (which is a list-or-tuple of lists-or-tuples-or ndarrays with different lengths or shapes) is deprecated. If you meant to do this, you must specify 'dtype=object' when creating the ndarray\n",
      "  return array(a, dtype, copy=False, order=order)\n"
     ]
    },
    {
     "name": "stdout",
     "output_type": "stream",
     "text": [
      "clf fit\n"
     ]
    },
    {
     "name": "stderr",
     "output_type": "stream",
     "text": [
      "/home/adam/Dropbox/WorkProjects/venv_main/lib/python3.6/site-packages/numpy/core/_asarray.py:83: VisibleDeprecationWarning: Creating an ndarray from ragged nested sequences (which is a list-or-tuple of lists-or-tuples-or ndarrays with different lengths or shapes) is deprecated. If you meant to do this, you must specify 'dtype=object' when creating the ndarray\n",
      "  return array(a, dtype, copy=False, order=order)\n"
     ]
    },
    {
     "name": "stdout",
     "output_type": "stream",
     "text": [
      "clf fit\n"
     ]
    },
    {
     "name": "stderr",
     "output_type": "stream",
     "text": [
      "/home/adam/Dropbox/WorkProjects/venv_main/lib/python3.6/site-packages/numpy/core/_asarray.py:83: VisibleDeprecationWarning: Creating an ndarray from ragged nested sequences (which is a list-or-tuple of lists-or-tuples-or ndarrays with different lengths or shapes) is deprecated. If you meant to do this, you must specify 'dtype=object' when creating the ndarray\n",
      "  return array(a, dtype, copy=False, order=order)\n"
     ]
    },
    {
     "name": "stdout",
     "output_type": "stream",
     "text": [
      "clf fit\n"
     ]
    },
    {
     "name": "stderr",
     "output_type": "stream",
     "text": [
      "/home/adam/Dropbox/WorkProjects/venv_main/lib/python3.6/site-packages/numpy/core/_asarray.py:83: VisibleDeprecationWarning: Creating an ndarray from ragged nested sequences (which is a list-or-tuple of lists-or-tuples-or ndarrays with different lengths or shapes) is deprecated. If you meant to do this, you must specify 'dtype=object' when creating the ndarray\n",
      "  return array(a, dtype, copy=False, order=order)\n"
     ]
    },
    {
     "name": "stdout",
     "output_type": "stream",
     "text": [
      "clf fit\n"
     ]
    },
    {
     "name": "stderr",
     "output_type": "stream",
     "text": [
      "/home/adam/Dropbox/WorkProjects/venv_main/lib/python3.6/site-packages/numpy/core/_asarray.py:83: VisibleDeprecationWarning: Creating an ndarray from ragged nested sequences (which is a list-or-tuple of lists-or-tuples-or ndarrays with different lengths or shapes) is deprecated. If you meant to do this, you must specify 'dtype=object' when creating the ndarray\n",
      "  return array(a, dtype, copy=False, order=order)\n"
     ]
    },
    {
     "name": "stdout",
     "output_type": "stream",
     "text": [
      "clf fit\n"
     ]
    },
    {
     "name": "stderr",
     "output_type": "stream",
     "text": [
      "/home/adam/Dropbox/WorkProjects/venv_main/lib/python3.6/site-packages/numpy/core/_asarray.py:83: VisibleDeprecationWarning: Creating an ndarray from ragged nested sequences (which is a list-or-tuple of lists-or-tuples-or ndarrays with different lengths or shapes) is deprecated. If you meant to do this, you must specify 'dtype=object' when creating the ndarray\n",
      "  return array(a, dtype, copy=False, order=order)\n"
     ]
    },
    {
     "name": "stdout",
     "output_type": "stream",
     "text": [
      "clf fit\n"
     ]
    },
    {
     "name": "stderr",
     "output_type": "stream",
     "text": [
      "/home/adam/Dropbox/WorkProjects/venv_main/lib/python3.6/site-packages/numpy/core/_asarray.py:83: VisibleDeprecationWarning: Creating an ndarray from ragged nested sequences (which is a list-or-tuple of lists-or-tuples-or ndarrays with different lengths or shapes) is deprecated. If you meant to do this, you must specify 'dtype=object' when creating the ndarray\n",
      "  return array(a, dtype, copy=False, order=order)\n"
     ]
    },
    {
     "name": "stdout",
     "output_type": "stream",
     "text": [
      "clf fit\n"
     ]
    },
    {
     "name": "stderr",
     "output_type": "stream",
     "text": [
      "/home/adam/Dropbox/WorkProjects/venv_main/lib/python3.6/site-packages/numpy/core/_asarray.py:83: VisibleDeprecationWarning: Creating an ndarray from ragged nested sequences (which is a list-or-tuple of lists-or-tuples-or ndarrays with different lengths or shapes) is deprecated. If you meant to do this, you must specify 'dtype=object' when creating the ndarray\n",
      "  return array(a, dtype, copy=False, order=order)\n"
     ]
    },
    {
     "name": "stdout",
     "output_type": "stream",
     "text": [
      "clf fit\n"
     ]
    },
    {
     "name": "stderr",
     "output_type": "stream",
     "text": [
      "/home/adam/Dropbox/WorkProjects/venv_main/lib/python3.6/site-packages/numpy/core/_asarray.py:83: VisibleDeprecationWarning: Creating an ndarray from ragged nested sequences (which is a list-or-tuple of lists-or-tuples-or ndarrays with different lengths or shapes) is deprecated. If you meant to do this, you must specify 'dtype=object' when creating the ndarray\n",
      "  return array(a, dtype, copy=False, order=order)\n"
     ]
    },
    {
     "name": "stdout",
     "output_type": "stream",
     "text": [
      "clf fit\n"
     ]
    },
    {
     "name": "stderr",
     "output_type": "stream",
     "text": [
      "/home/adam/Dropbox/WorkProjects/venv_main/lib/python3.6/site-packages/numpy/core/_asarray.py:83: VisibleDeprecationWarning: Creating an ndarray from ragged nested sequences (which is a list-or-tuple of lists-or-tuples-or ndarrays with different lengths or shapes) is deprecated. If you meant to do this, you must specify 'dtype=object' when creating the ndarray\n",
      "  return array(a, dtype, copy=False, order=order)\n"
     ]
    },
    {
     "name": "stdout",
     "output_type": "stream",
     "text": [
      "clf fit\n"
     ]
    },
    {
     "name": "stderr",
     "output_type": "stream",
     "text": [
      "/home/adam/Dropbox/WorkProjects/venv_main/lib/python3.6/site-packages/numpy/core/_asarray.py:83: VisibleDeprecationWarning: Creating an ndarray from ragged nested sequences (which is a list-or-tuple of lists-or-tuples-or ndarrays with different lengths or shapes) is deprecated. If you meant to do this, you must specify 'dtype=object' when creating the ndarray\n",
      "  return array(a, dtype, copy=False, order=order)\n"
     ]
    },
    {
     "name": "stdout",
     "output_type": "stream",
     "text": [
      "clf fit\n"
     ]
    },
    {
     "name": "stderr",
     "output_type": "stream",
     "text": [
      "/home/adam/Dropbox/WorkProjects/venv_main/lib/python3.6/site-packages/numpy/core/_asarray.py:83: VisibleDeprecationWarning: Creating an ndarray from ragged nested sequences (which is a list-or-tuple of lists-or-tuples-or ndarrays with different lengths or shapes) is deprecated. If you meant to do this, you must specify 'dtype=object' when creating the ndarray\n",
      "  return array(a, dtype, copy=False, order=order)\n"
     ]
    },
    {
     "name": "stdout",
     "output_type": "stream",
     "text": [
      "clf fit\n"
     ]
    },
    {
     "name": "stderr",
     "output_type": "stream",
     "text": [
      "/home/adam/Dropbox/WorkProjects/venv_main/lib/python3.6/site-packages/numpy/core/_asarray.py:83: VisibleDeprecationWarning: Creating an ndarray from ragged nested sequences (which is a list-or-tuple of lists-or-tuples-or ndarrays with different lengths or shapes) is deprecated. If you meant to do this, you must specify 'dtype=object' when creating the ndarray\n",
      "  return array(a, dtype, copy=False, order=order)\n"
     ]
    },
    {
     "name": "stdout",
     "output_type": "stream",
     "text": [
      "clf fit\n"
     ]
    },
    {
     "name": "stderr",
     "output_type": "stream",
     "text": [
      "/home/adam/Dropbox/WorkProjects/venv_main/lib/python3.6/site-packages/numpy/core/_asarray.py:83: VisibleDeprecationWarning: Creating an ndarray from ragged nested sequences (which is a list-or-tuple of lists-or-tuples-or ndarrays with different lengths or shapes) is deprecated. If you meant to do this, you must specify 'dtype=object' when creating the ndarray\n",
      "  return array(a, dtype, copy=False, order=order)\n"
     ]
    },
    {
     "name": "stdout",
     "output_type": "stream",
     "text": [
      "clf fit\n"
     ]
    },
    {
     "name": "stderr",
     "output_type": "stream",
     "text": [
      "/home/adam/Dropbox/WorkProjects/venv_main/lib/python3.6/site-packages/numpy/core/_asarray.py:83: VisibleDeprecationWarning: Creating an ndarray from ragged nested sequences (which is a list-or-tuple of lists-or-tuples-or ndarrays with different lengths or shapes) is deprecated. If you meant to do this, you must specify 'dtype=object' when creating the ndarray\n",
      "  return array(a, dtype, copy=False, order=order)\n"
     ]
    },
    {
     "name": "stdout",
     "output_type": "stream",
     "text": [
      "clf fit\n"
     ]
    },
    {
     "name": "stderr",
     "output_type": "stream",
     "text": [
      "/home/adam/Dropbox/WorkProjects/venv_main/lib/python3.6/site-packages/numpy/core/_asarray.py:83: VisibleDeprecationWarning: Creating an ndarray from ragged nested sequences (which is a list-or-tuple of lists-or-tuples-or ndarrays with different lengths or shapes) is deprecated. If you meant to do this, you must specify 'dtype=object' when creating the ndarray\n",
      "  return array(a, dtype, copy=False, order=order)\n"
     ]
    },
    {
     "name": "stdout",
     "output_type": "stream",
     "text": [
      "clf fit\n"
     ]
    },
    {
     "name": "stderr",
     "output_type": "stream",
     "text": [
      "/home/adam/Dropbox/WorkProjects/venv_main/lib/python3.6/site-packages/numpy/core/_asarray.py:83: VisibleDeprecationWarning: Creating an ndarray from ragged nested sequences (which is a list-or-tuple of lists-or-tuples-or ndarrays with different lengths or shapes) is deprecated. If you meant to do this, you must specify 'dtype=object' when creating the ndarray\n",
      "  return array(a, dtype, copy=False, order=order)\n"
     ]
    },
    {
     "name": "stdout",
     "output_type": "stream",
     "text": [
      "clf fit\n"
     ]
    },
    {
     "name": "stderr",
     "output_type": "stream",
     "text": [
      "/home/adam/Dropbox/WorkProjects/venv_main/lib/python3.6/site-packages/numpy/core/_asarray.py:83: VisibleDeprecationWarning: Creating an ndarray from ragged nested sequences (which is a list-or-tuple of lists-or-tuples-or ndarrays with different lengths or shapes) is deprecated. If you meant to do this, you must specify 'dtype=object' when creating the ndarray\n",
      "  return array(a, dtype, copy=False, order=order)\n"
     ]
    },
    {
     "name": "stdout",
     "output_type": "stream",
     "text": [
      "clf fit\n"
     ]
    },
    {
     "name": "stderr",
     "output_type": "stream",
     "text": [
      "/home/adam/Dropbox/WorkProjects/venv_main/lib/python3.6/site-packages/numpy/core/_asarray.py:83: VisibleDeprecationWarning: Creating an ndarray from ragged nested sequences (which is a list-or-tuple of lists-or-tuples-or ndarrays with different lengths or shapes) is deprecated. If you meant to do this, you must specify 'dtype=object' when creating the ndarray\n",
      "  return array(a, dtype, copy=False, order=order)\n"
     ]
    },
    {
     "name": "stdout",
     "output_type": "stream",
     "text": [
      "clf fit\n"
     ]
    },
    {
     "name": "stderr",
     "output_type": "stream",
     "text": [
      "/home/adam/Dropbox/WorkProjects/venv_main/lib/python3.6/site-packages/numpy/core/_asarray.py:83: VisibleDeprecationWarning: Creating an ndarray from ragged nested sequences (which is a list-or-tuple of lists-or-tuples-or ndarrays with different lengths or shapes) is deprecated. If you meant to do this, you must specify 'dtype=object' when creating the ndarray\n",
      "  return array(a, dtype, copy=False, order=order)\n"
     ]
    },
    {
     "name": "stdout",
     "output_type": "stream",
     "text": [
      "clf fit\n"
     ]
    },
    {
     "name": "stderr",
     "output_type": "stream",
     "text": [
      "/home/adam/Dropbox/WorkProjects/venv_main/lib/python3.6/site-packages/numpy/core/_asarray.py:83: VisibleDeprecationWarning: Creating an ndarray from ragged nested sequences (which is a list-or-tuple of lists-or-tuples-or ndarrays with different lengths or shapes) is deprecated. If you meant to do this, you must specify 'dtype=object' when creating the ndarray\n",
      "  return array(a, dtype, copy=False, order=order)\n"
     ]
    },
    {
     "name": "stdout",
     "output_type": "stream",
     "text": [
      "clf fit\n"
     ]
    }
   ],
   "source": [
    "# Train male Occupation classifiers\n",
    "\n",
    "m_bios_train = [p for p in bios_data_train if p['gender']=='M']\n",
    "m_bios_val = [p for p in bios_data_val if p['gender']=='M']\n",
    "m_bios_test = [p for p in bios_data_test if p['gender']=='M']\n",
    "\n",
    "\n",
    "\n",
    "m_X_train = [word_vector_featurize(p[\"bio\"], E) for p in bios_data_train if p['gender']=='M']\n",
    "m_X_val = [word_vector_featurize(p[\"bio\"], E) for p in bios_data_val if p['gender']=='M']\n",
    "m_X_test = [word_vector_featurize(p[\"bio\"], E) for p in bios_data_test if p['gender']=='M']\n",
    "\n",
    "m_G_train = [p[\"gender\"] for p in m_bios_train]\n",
    "m_G_val = [p[\"gender\"] for p in m_bios_val]\n",
    "m_G_test = [p[\"gender\"] for p in m_bios_test]\n",
    "\n",
    "occs = [\"surgeon\", \"software_engineer\", \"composer\", \"pastor\", \"comedian\", \"architect\", \"chiropractor\", \"accountant\", \"attorney\", \"filmmaker\", \"physician\", \"dentist\", \"photographer\", \"professor\", \"painter\", \"journalist\", \"poet\", \"personal_trainer\", \"teacher\", \"psychologist\",  \"model\", \"interior_designer\", \"yoga_teacher\", \"nurse\", \"dietitian\"]\n",
    "for target_occ in occs:\n",
    "    m_Y_train = [p[\"title\"]==target_occ for p in m_bios_train]\n",
    "    m_Y_val = [p[\"title\"]==target_occ for p in m_bios_val]\n",
    "    m_Y_test = [p[\"title\"]==target_occ for p in m_bios_test]\n",
    "    \n",
    "    pred_bow_m, clm_bow_m = pred_clf([m_X_train, m_X_val, m_X_test], [m_Y_train, m_Y_val, m_Y_test], [m_G_train,m_G_val,m_G_test],balanced=True)\n",
    "    occ_classers[target_occ]['clm_bow_m'] = clm_bow_m\n",
    "    occ_classers[target_occ]['pred_bow_m'] = pred_bow_m"
   ]
  },
  {
   "cell_type": "code",
   "execution_count": 31,
   "id": "little-midnight",
   "metadata": {},
   "outputs": [
    {
     "name": "stderr",
     "output_type": "stream",
     "text": [
      "/home/adam/Dropbox/WorkProjects/venv_main/lib/python3.6/site-packages/numpy/core/_asarray.py:83: VisibleDeprecationWarning: Creating an ndarray from ragged nested sequences (which is a list-or-tuple of lists-or-tuples-or ndarrays with different lengths or shapes) is deprecated. If you meant to do this, you must specify 'dtype=object' when creating the ndarray\n",
      "  return array(a, dtype, copy=False, order=order)\n"
     ]
    },
    {
     "name": "stdout",
     "output_type": "stream",
     "text": [
      "clf fit\n"
     ]
    },
    {
     "name": "stderr",
     "output_type": "stream",
     "text": [
      "/home/adam/Dropbox/WorkProjects/venv_main/lib/python3.6/site-packages/numpy/core/_asarray.py:83: VisibleDeprecationWarning: Creating an ndarray from ragged nested sequences (which is a list-or-tuple of lists-or-tuples-or ndarrays with different lengths or shapes) is deprecated. If you meant to do this, you must specify 'dtype=object' when creating the ndarray\n",
      "  return array(a, dtype, copy=False, order=order)\n"
     ]
    },
    {
     "name": "stdout",
     "output_type": "stream",
     "text": [
      "clf fit\n"
     ]
    }
   ],
   "source": [
    "# Train female Occupation classifiers\n",
    "\n",
    "target_occ = 'all'\n",
    "Y_train = [p[\"title\"] for p in bios_data_train]\n",
    "\n",
    "Y_val = [p[\"title\"] for p in bios_data_val]\n",
    "\n",
    "Y_test = [p[\"title\"] for p in bios_data_test]\n",
    "\n",
    "f_Y_train = [p[\"title\"] for p in f_bios_train]\n",
    "f_Y_val = [p[\"title\"] for p in f_bios_val]\n",
    "f_Y_test = [p[\"title\"] for p in f_bios_test]\n",
    "\n",
    "\n",
    "pred_bow_joint, clf_bow_joint = pred_clf([X_train, X_val, X_test], [Y_train, Y_val, Y_test], [G_train,G_val,G_test],balanced=True)\n",
    "\n",
    "pred_bow_f, clf_bow_f = pred_clf([f_X_train, f_X_val, f_X_test], [f_Y_train, f_Y_val, f_Y_test], [f_G_train,f_G_val,f_G_test],balanced=True)\n",
    "\n",
    "\n",
    "occ_classers[target_occ] = {}\n",
    "occ_classers[target_occ]['clf_bow_joint'] = clf_bow_joint\n",
    "occ_classers[target_occ]['pred_bow_joint'] = pred_bow_joint\n",
    "occ_classers[target_occ]['clf_bow_f'] = clf_bow_f\n",
    "occ_classers[target_occ]['pred_bow_f'] = pred_bow_f"
   ]
  },
  {
   "cell_type": "code",
   "execution_count": 330,
   "id": "gross-quantum",
   "metadata": {},
   "outputs": [],
   "source": [
    "# Save Occupation classifiers\n",
    "\n",
    "pkl.dump(occ_classers,open('results/we_occ_classers.pkl','wb'))"
   ]
  },
  {
   "cell_type": "markdown",
   "id": "pressing-affiliate",
   "metadata": {},
   "source": [
    "# Gender classifiers"
   ]
  },
  {
   "cell_type": "code",
   "execution_count": 47,
   "id": "extended-bidding",
   "metadata": {},
   "outputs": [],
   "source": [
    "# unbalanced gender classifier\n",
    "unbalanced_gender_clf = sklearn.linear_model.SGDClassifier(loss='log')\n",
    "unbalanced_gender_clf.fit(X_train, G_train)\n",
    "pkl.dump(unbalanced_gender_clf,open('results/we_unbal_g.pkl','wb'))\n"
   ]
  },
  {
   "cell_type": "code",
   "execution_count": 283,
   "id": "animated-roulette",
   "metadata": {},
   "outputs": [],
   "source": [
    "# balanced gender classifier, so occupation is not used as a proxy for gender\n",
    "\n",
    "occs_full = np.unique([p['title'] for p in bios_data_train])\n",
    "\n",
    "#make sample weights:\n",
    "sample_weights=[]\n",
    "\n",
    "# populate dictionary of weights to be inverse to the gender ratios within each occupation\n",
    "valdict = {}\n",
    "for t in occs_full:\n",
    "        fval = _m[t] / max(_f[t],_m[t])\n",
    "        mval = _f[t] / max(_f[t],_m[t])\n",
    "        valdict[t] = {}\n",
    "        valdict[t]['F'] = fval\n",
    "        valdict[t]['M'] = mval\n",
    "    \n",
    "sample_weights = [valdict[p['title']][p['gender']] for p in bios_data_train]\n",
    "\n",
    "balanced_gender_clf = sklearn.linear_model.SGDClassifier(loss='log')\n",
    "balanced_gender_clf.fit(X_train, G_train,sample_weight=sample_weights)\n",
    "pkl.dump(balanced_gender_clf,open('results/we_bal_g.pkl','wb'))"
   ]
  },
  {
   "cell_type": "code",
   "execution_count": 127,
   "id": "nasty-bunch",
   "metadata": {},
   "outputs": [],
   "source": [
    "balanced_gender_clf=pkl.load(open('results/we_bal_g.pkl','rb'))"
   ]
  },
  {
   "cell_type": "code",
   "execution_count": 190,
   "id": "loaded-merit",
   "metadata": {},
   "outputs": [
    {
     "name": "stdout",
     "output_type": "stream",
     "text": [
      "              precision    recall  f1-score   support\n",
      "\n",
      "           F       0.66      0.64      0.65     36538\n",
      "           M       0.70      0.72      0.71     43044\n",
      "\n",
      "    accuracy                           0.68     79582\n",
      "   macro avg       0.68      0.68      0.68     79582\n",
      "weighted avg       0.68      0.68      0.68     79582\n",
      "\n"
     ]
    }
   ],
   "source": [
    "print(sklearn.metrics.classification_report(G_test,balanced_gender_clf.predict(X_test)))"
   ]
  },
  {
   "cell_type": "code",
   "execution_count": 49,
   "id": "local-change",
   "metadata": {},
   "outputs": [],
   "source": [
    "# single occupation gender classifiers (trained only on people within a particular classifier)\n",
    "single_gender_classers = {}\n",
    "occs = [\"surgeon\", \"software_engineer\", \"composer\", \"pastor\", \"comedian\", \"architect\", \"chiropractor\", \"accountant\", \"attorney\", \"filmmaker\", \"physician\", \"dentist\", \"photographer\", \"professor\", \"painter\", \"journalist\", \"poet\", \"personal_trainer\", \"teacher\", \"psychologist\",  \"model\", \"interior_designer\", \"yoga_teacher\", \"nurse\", \"dietitian\"]\n",
    "\n",
    "for occ in occs:\n",
    "#     print(occ)\n",
    "    cand_X = [i for i,p in enumerate(bios_data_train) if p['title']==occ]\n",
    "#     irrev_X_train = decorr_with_occ(np.array(X_train)[cand_X], occ)\n",
    "    \n",
    "\n",
    "    balanced_gender_clf = sklearn.linear_model.SGDClassifier(loss='log')\n",
    "    balanced_gender_clf.fit(np.array(X_train)[cand_X],np.array(G_train)[cand_X])\n",
    "    \n",
    "    single_gender_classers[occ] = balanced_gender_clf"
   ]
  },
  {
   "cell_type": "code",
   "execution_count": null,
   "id": "subjective-cricket",
   "metadata": {},
   "outputs": [],
   "source": [
    "pkl.dump(single_gender_classers,open('results/we_single_gender_classers.pkl','wb'))"
   ]
  },
  {
   "cell_type": "markdown",
   "id": "burning-joyce",
   "metadata": {},
   "source": [
    "# Analyze SNoB"
   ]
  },
  {
   "cell_type": "code",
   "execution_count": 250,
   "id": "destroyed-flood",
   "metadata": {},
   "outputs": [],
   "source": [
    "# get correlations r_c for joint, decoupled, and balancing TPR\n",
    "f_frac = np.load('results/f_frac.npy')\n",
    "y_preds_tpr = pkl.load(open('results/we_tpr_fairlearn_preds.pkl','rb'))\n",
    "joint_corr_full = []\n",
    "decoupled_corr_full = []\n",
    "tpr_corr_full = []\n",
    "for target_occ in occs:\n",
    "    cand_women = [p for p in bios_data_test if p[\"title\"]==target_occ and p['gender']=='F']\n",
    "    cand_women_inds = np.array([i for i,p in enumerate(bios_data_test) if p[\"title\"]==target_occ and p['gender']=='F'])\n",
    "    cand_women_X_full =  [word_vector_featurize(p[\"bio\"], E) for p in cand_women]\n",
    "    gender_probs = balanced_gender_clf.predict_proba(cand_women_X_full)[:,0]\n",
    "    \n",
    "    occ_probs = occ_classers[target_occ]['clf_bow_joint'].predict_proba(cand_women_X_full)[:,1]\n",
    "    corr = scipy.stats.pearsonr(occ_probs,gender_probs)[0]\n",
    "    joint_corr_full.append(corr)\n",
    "    \n",
    "    occ_probs = occ_classers[target_occ]['clf_bow_f'].predict_proba(cand_women_X_full)[:,1]\n",
    "    corr = scipy.stats.pearsonr(occ_probs,gender_probs)[0]\n",
    "    decoupled_corr_full.append(corr)\n",
    "\n",
    "    occ_probs =  y_preds_tpr[target_occ][cand_women_inds][:,1]\n",
    "    corr = scipy.stats.pearsonr(occ_probs,gender_probs)[0]\n",
    "\n",
    "    tpr_corr_full.append(corr)"
   ]
  },
  {
   "cell_type": "code",
   "execution_count": null,
   "id": "southeast-lobby",
   "metadata": {},
   "outputs": [],
   "source": []
  },
  {
   "cell_type": "code",
   "execution_count": 232,
   "id": "offshore-bibliography",
   "metadata": {},
   "outputs": [
    {
     "name": "stdout",
     "output_type": "stream",
     "text": [
      "0.04575204522089011\n",
      "0.04026738892180747\n",
      "0.022257668076644165\n"
     ]
    }
   ],
   "source": [
    "\n",
    "print(np.cov(f_frac,joint_corr_full[:25])[0,1])\n",
    "print(np.cov(f_frac,decoupled_corr_full[:25])[0,1])\n",
    "print(np.cov(f_frac,tpr_corr_full[:25])[0,1])"
   ]
  },
  {
   "cell_type": "code",
   "execution_count": 407,
   "id": "adjusted-expense",
   "metadata": {},
   "outputs": [
    {
     "data": {
      "text/plain": [
       "[]"
      ]
     },
     "execution_count": 407,
     "metadata": {},
     "output_type": "execute_result"
    }
   ],
   "source": []
  },
  {
   "cell_type": "code",
   "execution_count": 406,
   "id": "charitable-myrtle",
   "metadata": {},
   "outputs": [
    {
     "ename": "ValueError",
     "evalue": "all the input array dimensions for the concatenation axis must match exactly, but along dimension 1, the array at index 0 has size 25 and the array at index 1 has size 0",
     "output_type": "error",
     "traceback": [
      "\u001b[0;31m---------------------------------------------------------------------------\u001b[0m",
      "\u001b[0;31mValueError\u001b[0m                                Traceback (most recent call last)",
      "\u001b[0;32m<ipython-input-406-5efb7648657f>\u001b[0m in \u001b[0;36m<module>\u001b[0;34m\u001b[0m\n\u001b[0;32m----> 1\u001b[0;31m \u001b[0mprint\u001b[0m\u001b[0;34m(\u001b[0m\u001b[0mnp\u001b[0m\u001b[0;34m.\u001b[0m\u001b[0mcov\u001b[0m\u001b[0;34m(\u001b[0m\u001b[0mf_frac\u001b[0m\u001b[0;34m,\u001b[0m\u001b[0mjoint_corr_full\u001b[0m\u001b[0;34m[\u001b[0m\u001b[0;34m:\u001b[0m\u001b[0;36m25\u001b[0m\u001b[0;34m]\u001b[0m\u001b[0;34m)\u001b[0m\u001b[0;34m[\u001b[0m\u001b[0;36m0\u001b[0m\u001b[0;34m,\u001b[0m\u001b[0;36m1\u001b[0m\u001b[0;34m]\u001b[0m\u001b[0;34m)\u001b[0m\u001b[0;34m\u001b[0m\u001b[0;34m\u001b[0m\u001b[0m\n\u001b[0m\u001b[1;32m      2\u001b[0m \u001b[0mprint\u001b[0m\u001b[0;34m(\u001b[0m\u001b[0mnp\u001b[0m\u001b[0;34m.\u001b[0m\u001b[0mcov\u001b[0m\u001b[0;34m(\u001b[0m\u001b[0mf_frac\u001b[0m\u001b[0;34m,\u001b[0m\u001b[0mdecoupled_corr_full\u001b[0m\u001b[0;34m[\u001b[0m\u001b[0;34m:\u001b[0m\u001b[0;36m25\u001b[0m\u001b[0;34m]\u001b[0m\u001b[0;34m)\u001b[0m\u001b[0;34m[\u001b[0m\u001b[0;36m0\u001b[0m\u001b[0;34m,\u001b[0m\u001b[0;36m1\u001b[0m\u001b[0;34m]\u001b[0m\u001b[0;34m)\u001b[0m\u001b[0;34m\u001b[0m\u001b[0;34m\u001b[0m\u001b[0m\n\u001b[1;32m      3\u001b[0m \u001b[0mprint\u001b[0m\u001b[0;34m(\u001b[0m\u001b[0mnp\u001b[0m\u001b[0;34m.\u001b[0m\u001b[0mcov\u001b[0m\u001b[0;34m(\u001b[0m\u001b[0mf_frac\u001b[0m\u001b[0;34m,\u001b[0m\u001b[0mtpr_corr_full\u001b[0m\u001b[0;34m[\u001b[0m\u001b[0;34m:\u001b[0m\u001b[0;36m25\u001b[0m\u001b[0;34m]\u001b[0m\u001b[0;34m)\u001b[0m\u001b[0;34m[\u001b[0m\u001b[0;36m0\u001b[0m\u001b[0;34m,\u001b[0m\u001b[0;36m1\u001b[0m\u001b[0;34m]\u001b[0m\u001b[0;34m)\u001b[0m\u001b[0;34m\u001b[0m\u001b[0;34m\u001b[0m\u001b[0m\n",
      "\u001b[0;32m<__array_function__ internals>\u001b[0m in \u001b[0;36mcov\u001b[0;34m(*args, **kwargs)\u001b[0m\n",
      "\u001b[0;32m~/Dropbox/WorkProjects/venv_main/lib/python3.6/site-packages/numpy/lib/function_base.py\u001b[0m in \u001b[0;36mcov\u001b[0;34m(m, y, rowvar, bias, ddof, fweights, aweights)\u001b[0m\n\u001b[1;32m   2413\u001b[0m         \u001b[0;32mif\u001b[0m \u001b[0;32mnot\u001b[0m \u001b[0mrowvar\u001b[0m \u001b[0;32mand\u001b[0m \u001b[0my\u001b[0m\u001b[0;34m.\u001b[0m\u001b[0mshape\u001b[0m\u001b[0;34m[\u001b[0m\u001b[0;36m0\u001b[0m\u001b[0;34m]\u001b[0m \u001b[0;34m!=\u001b[0m \u001b[0;36m1\u001b[0m\u001b[0;34m:\u001b[0m\u001b[0;34m\u001b[0m\u001b[0;34m\u001b[0m\u001b[0m\n\u001b[1;32m   2414\u001b[0m             \u001b[0my\u001b[0m \u001b[0;34m=\u001b[0m \u001b[0my\u001b[0m\u001b[0;34m.\u001b[0m\u001b[0mT\u001b[0m\u001b[0;34m\u001b[0m\u001b[0;34m\u001b[0m\u001b[0m\n\u001b[0;32m-> 2415\u001b[0;31m         \u001b[0mX\u001b[0m \u001b[0;34m=\u001b[0m \u001b[0mnp\u001b[0m\u001b[0;34m.\u001b[0m\u001b[0mconcatenate\u001b[0m\u001b[0;34m(\u001b[0m\u001b[0;34m(\u001b[0m\u001b[0mX\u001b[0m\u001b[0;34m,\u001b[0m \u001b[0my\u001b[0m\u001b[0;34m)\u001b[0m\u001b[0;34m,\u001b[0m \u001b[0maxis\u001b[0m\u001b[0;34m=\u001b[0m\u001b[0;36m0\u001b[0m\u001b[0;34m)\u001b[0m\u001b[0;34m\u001b[0m\u001b[0;34m\u001b[0m\u001b[0m\n\u001b[0m\u001b[1;32m   2416\u001b[0m \u001b[0;34m\u001b[0m\u001b[0m\n\u001b[1;32m   2417\u001b[0m     \u001b[0;32mif\u001b[0m \u001b[0mddof\u001b[0m \u001b[0;32mis\u001b[0m \u001b[0;32mNone\u001b[0m\u001b[0;34m:\u001b[0m\u001b[0;34m\u001b[0m\u001b[0;34m\u001b[0m\u001b[0m\n",
      "\u001b[0;32m<__array_function__ internals>\u001b[0m in \u001b[0;36mconcatenate\u001b[0;34m(*args, **kwargs)\u001b[0m\n",
      "\u001b[0;31mValueError\u001b[0m: all the input array dimensions for the concatenation axis must match exactly, but along dimension 1, the array at index 0 has size 25 and the array at index 1 has size 0"
     ]
    }
   ],
   "source": [
    "\n",
    "print(np.cov(f_frac,joint_corr_full[:25])[0,1])\n",
    "print(np.cov(f_frac,decoupled_corr_full[:25])[0,1])\n",
    "print(np.cov(f_frac,tpr_corr_full[:25])[0,1])"
   ]
  },
  {
   "cell_type": "code",
   "execution_count": 233,
   "id": "turned-cassette",
   "metadata": {},
   "outputs": [
    {
     "name": "stdout",
     "output_type": "stream",
     "text": [
      "0.010032500140995593\n",
      "0.015166832506346126\n",
      "0.0017709195951907506\n"
     ]
    }
   ],
   "source": [
    "# with gender_irrev classifier\n",
    "print(np.cov(f_frac,joint_corr[:25])[0,1])\n",
    "print(np.cov(f_frac,decoupled_corr[:25])[0,1])\n",
    "print(np.cov(f_frac,tpr_corr[:25])[0,1])"
   ]
  },
  {
   "cell_type": "code",
   "execution_count": 68,
   "id": "psychological-carter",
   "metadata": {},
   "outputs": [
    {
     "data": {
      "text/plain": [
       "Text(0.5, 1.0, 'LR-WE (M only)')"
      ]
     },
     "execution_count": 68,
     "metadata": {},
     "output_type": "execute_result"
    },
    {
     "data": {
      "image/png": "[encoded data removed]",
      "text/plain": [
       "<Figure size 720x720 with 1 Axes>"
      ]
     },
     "metadata": {
      "needs_background": "light"
     },
     "output_type": "display_data"
    },
    {
     "data": {
      "image/png": "[encoded data removed]",
      "text/plain": [
       "<Figure size 720x720 with 1 Axes>"
      ]
     },
     "metadata": {
      "needs_background": "light"
     },
     "output_type": "display_data"
    }
   ],
   "source": [
    "# plot for men only (old plot, not used)\n",
    "f_frac = np.load('results/f_frac.npy')\n",
    "y_preds_eo = pkl.load(open('results/we_eo_y_preds.pkl','rb'))\n",
    "joint_corr_full = []\n",
    "decoupled_corr_full = []\n",
    "eo_corr_full = []\n",
    "for target_occ in occs:\n",
    "    cand_women = [p for p in bios_data_test if p[\"title\"]==target_occ and p['gender']=='M']\n",
    "    cand_women_inds = np.array([i for i,p in enumerate(bios_data_test) if p[\"title\"]==target_occ and p['gender']=='M'])\n",
    "    cand_women_X_full =  [word_vector_featurize(p[\"bio\"], E) for p in cand_women]\n",
    "    gender_probs = balanced_gender_clf.predict_proba(cand_women_X_full)[:,0]\n",
    "    \n",
    "    occ_probs = occ_classers[target_occ]['clf_bow_joint'].predict_proba(cand_women_X_full)[:,1]\n",
    "    corr = scipy.stats.pearsonr(occ_probs,gender_probs)[0]\n",
    "    joint_corr_full.append(corr)\n",
    "    \n",
    "    occ_probs = occ_classers[target_occ]['clm_bow_m'].predict_proba(cand_women_X_full)[:,1]\n",
    "    corr = scipy.stats.pearsonr(occ_probs,gender_probs)[0]\n",
    "    decoupled_corr_full.append(corr)\n",
    "\n",
    "    occ_probs =  y_preds_eo[target_occ][cand_women_inds][:,1]\n",
    "    corr = scipy.stats.pearsonr(occ_probs,gender_probs)[0]\n",
    "    eo_corr_full.append(corr)\n",
    "pylab.rcParams['figure.figsize'] = (10, 10)\n",
    "xs = np.array(f_frac).reshape(-1,)\n",
    "\n",
    "m, b = np.polyfit(xs, np.array(joint_corr_full).reshape(-1,), 1)\n",
    "plt.scatter(f_frac,joint_corr_full,s=30,label='post-processing, Pearson\\'s r= %.3f'%(scipy.stats.pearsonr( f_frac,joint_corr_full)[0]))\n",
    "plt.plot(xs, m*xs+ b,linewidth=6)\n",
    "\n",
    "plt.legend()\n",
    "\n",
    "plt.axhline(y=0, color='r', linestyle='dashed')\n",
    "\n",
    "\n",
    "x_label = \"% FEMALE\"\n",
    "y_label = 'Correlation between Occupation and Gender Probs'\n",
    "texts = [plt.text(x,y,l,size=12) for x, y, l in zip(f_frac, joint_corr_full, occs)]\n",
    "adjust_text(texts)\n",
    "# xlabel(x_label,size = 20 )\n",
    "# ylabel(y_label, size=20)\n",
    "plt.ylim([-0.4, 0.4])\n",
    "plt.title(\"LR-WE\",fontsize=20)\n",
    "\n",
    "plt.figure()\n",
    "\n",
    "pylab.rcParams['figure.figsize'] = (10, 10)\n",
    "xs = np.array(f_frac).reshape(-1,)\n",
    "\n",
    "m, b = np.polyfit(xs, np.array(joint_corr_full).reshape(-1,), 1)\n",
    "plt.scatter(f_frac,joint_corr_full,marker='x',alpha=0.2)\n",
    "plt.plot(xs, m*xs+ b,linewidth=6,label='post-processing')\n",
    "\n",
    "m, b = np.polyfit(xs, np.array(decoupled_corr_full).reshape(-1,), 1)\n",
    "plt.scatter(f_frac,decoupled_corr_full,marker='v',alpha=0.2)\n",
    "plt.plot(xs, m*xs+ b,linewidth=6,label='decoupled')\n",
    "\n",
    "\n",
    "m, b = np.polyfit(xs, np.array(eo_corr_full).reshape(-1,), 1)\n",
    "plt.scatter(f_frac,eo_corr_full,alpha=0.2)\n",
    "plt.plot(xs, m*xs+ b,linewidth=6,label='in-processing')\n",
    "plt.legend()\n",
    "\n",
    "\n",
    "plt.axhline(y=0, color='r', linestyle='dashed')\n",
    "\n",
    "x_label = \"% FEMALE\"\n",
    "y_label = 'Correlation between Occupation and Gender Probs'\n",
    "# texts = [plt.text(x,y,l) for x, y, l in zip(f_frac, decoupled_corr_full, occs)]\n",
    "adjust_text(texts)\n",
    "# xlabel(x_label,size = 20 )\n",
    "# ylabel(y_label, size=20)\n",
    "plt.ylim([-0.4, 0.4])\n",
    "plt.title(\"LR-WE (M only)\",fontsize=20)\n",
    "    \n",
    "\n",
    "    \n",
    "    "
   ]
  },
  {
   "cell_type": "code",
   "execution_count": 332,
   "id": "failing-elite",
   "metadata": {},
   "outputs": [],
   "source": [
    "words = np.load('results/words.npy')\n",
    "def sort_helper(i):\n",
    "    x = words[i]\n",
    "    if x in words_by_freq:\n",
    "        return words_by_freq[x]\n",
    "    return 0"
   ]
  },
  {
   "cell_type": "markdown",
   "id": "statutory-leather",
   "metadata": {},
   "source": [
    "# plot for 25-way classifier (instead of one vs. all)"
   ]
  },
  {
   "cell_type": "code",
   "execution_count": 181,
   "id": "middle-cooling",
   "metadata": {},
   "outputs": [
    {
     "data": {
      "text/plain": [
       "Text(0.5, 1.0, 'LR-WE (F only), 25-way classifier')"
      ]
     },
     "execution_count": 181,
     "metadata": {},
     "output_type": "execute_result"
    },
    {
     "data": {
      "image/png": "[encoded data removed]",
      "text/plain": [
       "<Figure size 720x720 with 1 Axes>"
      ]
     },
     "metadata": {
      "needs_background": "light"
     },
     "output_type": "display_data"
    },
    {
     "data": {
      "image/png": "[encoded data removed]",
      "text/plain": [
       "<Figure size 720x720 with 1 Axes>"
      ]
     },
     "metadata": {
      "needs_background": "light"
     },
     "output_type": "display_data"
    }
   ],
   "source": [
    "f_frac = np.load('results/f_frac.npy')\n",
    "y_preds_eo = pkl.load(open('results/we_eo_y_preds.pkl','rb'))\n",
    "joint_corr_full = []\n",
    "decoupled_corr_full = []\n",
    "eo_corr_full = []\n",
    "for target_occ in occs:\n",
    "    cand_women = [p for p in bios_data_test if p[\"title\"]==target_occ and p['gender']=='F']\n",
    "    cand_women_inds = np.array([i for i,p in enumerate(bios_data_test) if p[\"title\"]==target_occ and p['gender']=='F'])\n",
    "    cand_women_X_full =  [word_vector_featurize(p[\"bio\"], E) for p in cand_women]\n",
    "    gender_probs = balanced_gender_clf.predict_proba(cand_women_X_full)[:,0]\n",
    "    \n",
    "    occ_ind = np.where(occ_classers['all']['clf_bow_joint'].classes_ == target_occ)[0][0]\n",
    "    occ_probs = occ_classers['all']['clf_bow_joint'].predict_proba(cand_women_X_full)[:,occ_ind]\n",
    "    corr = scipy.stats.pearsonr(occ_probs,gender_probs)[0]\n",
    "    joint_corr_full.append(corr)\n",
    "    \n",
    "    occ_probs = occ_classers['all']['clf_bow_f'].predict_proba(cand_women_X_full)[:,occ_ind]\n",
    "    corr = scipy.stats.pearsonr(occ_probs,gender_probs)[0]\n",
    "    decoupled_corr_full.append(corr)\n",
    "\n",
    "    occ_probs =  y_preds_eo[target_occ][cand_women_inds][:,1]\n",
    "    corr = scipy.stats.pearsonr(occ_probs,gender_probs)[0]\n",
    "    eo_corr_full.append(corr)\n",
    "    \n",
    "    \n",
    "#     occ_probs =  y_preds_dp[target_occ][cand_women_inds][:,1]\n",
    "#     corr = scipy.stats.pearsonr(occ_probs,gender_probs)[0]\n",
    "#     dp_corr_full.append(corr)\n",
    "\n",
    "pylab.rcParams['figure.figsize'] = (10, 10)\n",
    "xs = np.array(f_frac).reshape(-1,)\n",
    "\n",
    "m, b = np.polyfit(xs, np.array(joint_corr_full).reshape(-1,), 1)\n",
    "plt.scatter(f_frac,joint_corr_full,s=30,label='post-processing, Pearson\\'s r= %.3f'%(scipy.stats.pearsonr( f_frac,joint_corr_full)[0]))\n",
    "plt.plot(xs, m*xs+ b,linewidth=6)\n",
    "\n",
    "plt.legend()\n",
    "\n",
    "plt.axhline(y=0, color='r', linestyle='dashed')\n",
    "\n",
    "\n",
    "x_label = \"% FEMALE\"\n",
    "y_label = 'Correlation between Occupation and Gender Probs'\n",
    "texts = [plt.text(x,y,l,size=12) for x, y, l in zip(f_frac, joint_corr_full, occs)]\n",
    "adjust_text(texts)\n",
    "# xlabel(x_label,size = 20 )\n",
    "# ylabel(y_label, size=20)\n",
    "plt.ylim([-0.4, 0.4])\n",
    "plt.title(\"LR-WE\",fontsize=20)\n",
    "\n",
    "plt.figure()\n",
    "\n",
    "pylab.rcParams['figure.figsize'] = (10, 10)\n",
    "xs = np.array(f_frac).reshape(-1,)\n",
    "\n",
    "m, b = np.polyfit(xs, np.array(joint_corr_full).reshape(-1,), 1)\n",
    "plt.scatter(f_frac,joint_corr_full,marker='x',alpha=0.2)\n",
    "plt.plot(xs, m*xs+ b,linewidth=6,label='post-processing')\n",
    "\n",
    "m, b = np.polyfit(xs, np.array(decoupled_corr_full).reshape(-1,), 1)\n",
    "plt.scatter(f_frac,decoupled_corr_full,marker='v',alpha=0.2)\n",
    "plt.plot(xs, m*xs+ b,linewidth=6,label='decoupled')\n",
    "\n",
    "\n",
    "m, b = np.polyfit(xs, np.array(eo_corr_full).reshape(-1,), 1)\n",
    "plt.scatter(f_frac,eo_corr_full,alpha=0.2)\n",
    "plt.plot(xs, m*xs+ b,linewidth=6,label='in-processing')\n",
    "plt.legend()\n",
    "\n",
    "\n",
    "plt.axhline(y=0, color='r', linestyle='dashed')\n",
    "\n",
    "x_label = \"% FEMALE\"\n",
    "y_label = 'Correlation between Occupation and Gender Probs'\n",
    "# texts = [plt.text(x,y,l) for x, y, l in zip(f_frac, decoupled_corr_full, occs)]\n",
    "adjust_text(texts)\n",
    "# xlabel(x_label,size = 20 )\n",
    "# ylabel(y_label, size=20)\n",
    "plt.ylim([-0.4, 0.4])\n",
    "plt.title(\"LR-WE (F only), 25-way classifier\",fontsize=20)\n",
    "    \n",
    "\n",
    "    \n",
    "    "
   ]
  },
  {
   "cell_type": "markdown",
   "id": "wired-auckland",
   "metadata": {},
   "source": [
    "# Examine Nonbinary bios"
   ]
  },
  {
   "cell_type": "code",
   "execution_count": 381,
   "id": "naval-calculator",
   "metadata": {},
   "outputs": [],
   "source": [
    "nb_bios = pd.read_pickle('results/nb_prof.pkl')\n",
    "nb_bios_list = list(nb_bios['bio'])"
   ]
  },
  {
   "cell_type": "code",
   "execution_count": 346,
   "id": "instant-citizenship",
   "metadata": {},
   "outputs": [],
   "source": [
    "nb_bios_list = list(nb_bios['bio'])"
   ]
  },
  {
   "cell_type": "code",
   "execution_count": 405,
   "id": "whole-overhead",
   "metadata": {},
   "outputs": [
    {
     "data": {
      "text/plain": [
       "['They received their doctorate in Public Affairs at the University of Colorado Denver in 2014. Their research interests and focus are on issues of LGBTQ equality and equity in both criminal and social justice. They have published work on hate crime laws and gender in policing. They regularly teach courses on Criminology, Policing, Sex Crimes, Research Methods, and Hate Crimes.',\n",
       " 'They received their PhD from Princeton University after completing their MA at the University of Notre Dame. _’s research focuses on feminist philosophy and metaphysics, with a particular emphasis on the social construction of gender and sexual orientation.',\n",
       " 'They received their PhD from Princeton University. _’s research focuses on metaethics and philosophy of law, with a particular emphasis on moral and social norms.',\n",
       " 'They have previously worked at San Francisco State University, Carlos III University of Madrid, and Autonomous University of Barcelona. Two extreme emotions brought Ayala to philosophy: a passion for science and understanding, and a deep disappointment with social injustice. Their current research applies conceptual tools from the philosophy of science (especially cognitive science), language, and mind, to a variety of questions in social and feminist philosophy, for example, explanations of social injustice, the dynamics of conversations, the use of sex categories, the metaphysics and epistemology of sexual orientation. They recently started a platform for foreigners in academia, part of a broader project to give visibility to the difficulties that \"alien scholars\" face. They publish as both _ Ayala and _ _.',\n",
       " 'Denise Rizzolo works at the Care Station, Springfield, New Jersey, and is faculty assistant professor in the PA program at Seton Hall University. They have indicated no relationships to disclose relating to the content of this article.',\n",
       " 'Before joining UCR, _ was a President’s Postdoctoral Fellow in Communication and Critical Gender Studies at the University of California, San Diego. Along with Chris Vargas, they directed the films Homotopia (2006) and Criminal Queers (2015). _ coeditor of the anthology Captive Genders: Trans Embodiment and the Prison Industrial Complex (AK Press, 2011/2015) which won the Prevention for a Safe Society award and a finalist for a Lambda Literary Award, _’s other writing can be found in the journals Social Text, American Quarterly, TSQ, and Women and Performance.',\n",
       " 'Their teaching and research focuses on experience and management of chronic conditions, social causes of and responses to health inequalities, and evaluation of programs and services that promote health equity. Lifelong chronic illness and a passion for social justice motivate them in advocating for others with health challenges through a variety of professional service activities.',\n",
       " 'They completed their Ph.D. in 2017 from Ohio State University in Women\\'s, Gender, and Sexuality Studies. Their current project, The Kids Who Are(n\\'t) There: Indigenous Youth, Child Removal, and Juvenile Detention, examines the ways in which heteropatriarchal gender norms are imposed on Native children through the system of \"in state care,\" including children educated in compulsory state education, those fostered outside of tribal families, and those with contact with the juvenile justice system. This project sits at the intersections of women’s and gender studies, feminist indigenous studies, transnational feminisms, critical carceral studies, and childhood studies.',\n",
       " '_ studies the barriers to, dangers of, and opportunities for flourishing through disability movement practices and communities – including parasport, inclusive recreation and dance. They recently completed a Banting Postdoctoral Fellowship (SSHRC) at the University of Concordia, focusing on emerging digital and research-creation methods for studying disability movement(s). In their PhD studies, they were awarded both the Vanier-Canada Graduate Scholarship (SSHRC) and the Trudeau Foundation Scholarship. Their research builds off of their personal experiences as an activist, filmmaker, emerging dancer, former Paralympian and parasport coach. They translate their research through policy creation and public speaking, including recent invited talks for the Department of Indigenous & Northern Affairs, the Canadian Paralympic Committee and the United Nations.',\n",
       " 'Davenport is the President’s Distinguished Professor of Information Technology and Management at Babson College in Wellesley, Massachusetts, and is an Accenture Fellow.Susan Cantrell is a research fellow at the Accenture Institute for Strategic Change in Cambridge, Massachusetts. They can be reached at robcross@virginia.edu, tdavenport@babson.edu and susan.cantrell@accenture.com. This article is based on their recent study of middle managers and professionals in four organizations (petrochemicals, electronics, strategy consulting and technology).',\n",
       " 'They can be contacted at cakilgo@ua.edu. For more information about LGBTQ+ History Month events on campus, visit the Crossroads Community Center website.',\n",
       " 'Their first degree was in mathematics and Their doctorate in control engineering. They have been working in the area of assistive technology for about the last 15 years. They carried out a research project on mobility for blind people with support of a Leverhulme Research Fellowship. This included interviews with 300 blind, partially sighted and deafblind people in 10 different countries, investigation of different travel technologies and visits to their developers and interviews with orientation and mobility trainers. Last year during a visit to Brazil _ participated in the evaluation of an electronic cane developed specifically for Brazil and the evaluation of different designs of audio traffic lights.',\n",
       " \"Dr. _'s research focuses on equality of educational opportunity and the intersections of race, class, gender in school spaces. Specifically, they interrogate how institutional agents create, exacerbate, and alleviate stratification patterns within schools. Additionally, Dr. _ examines critical literacy approaches teachers and students employ within classrooms. They situate their research within Critical Race Theory and Queer of Color Theories.\",\n",
       " 'They hold a Ph.D. in Philosophy and a graduate certificate in Feminist Theory from Binghamton University. Prior to coming to Penn State, they were a postdoctoral fellow in the Department of Gender Studies at Indiana University and Assistant Director and Lecturer in Women’s Studies at East Tennessee State University.',\n",
       " 'They are a member of the Descartes Centre for History and Philosophy of Science. In the past they worked as Research Associate on the New Directions in the Study of the Mind project at the University of Cambridge. They have published on imagination, early modern perception, and Leibniz’s theory of probability. They are organiser of the Zeno Lectures in Philosophy, and of the Dutch Seminar for Early Modern Philosophy. Check out chrismeyns.xyz and @chrismeyns.',\n",
       " 'Before returning to India, _ was a Lecturer for Social Studies at Harvard University and a Newton International Fellow of the Royal Society and the British Academy, based in King’s College London. They also worked as a Judicial Clerk at the Supreme Court of India. A monograph based on their dissertation work, on the history of constitutional thought in the postcolonial world, is currently under review at Cambridge University Press.',\n",
       " '_ is an _ of English and Gender, Sexuality, and Women’s Studies at the University of Pittsburgh. They research and teach in transgender studies, queer studies, critical race theory, childhood studies, and the medical humanities. Their book, Histories of the Transgender Child, which will be published by the University of Minnesota Press this October, shatters the widespread myth that transgender children have only existed for the past few years, uncovering their widespread medicalization across the twentieth century. Julian is currently at work on a new book project entitled Gender Underground: A History of Trans DIY, which reframes the trans twentieth century not through institutional medicine, but through the myriad do-it-yourself practices of trans people that forged parallel medical and social worlds of transition.',\n",
       " ' _ is an _ of Engineering at the University of Minnesota. They are a historian of modern technology, with specialization in technology and religion; industrial culture; and engineering, ethics, and society. They hold an M.A. in modern German history, and a PhD in history of technology, emphasizing modern Europe, from the University of Washington (Seattle). They are currently working on a book manuscript analyzing the international religious critique of technology that developed following WWII. In particular, their research seeks to understand the widespread mobilizing of religious critique of technology in the post-war world. Alexander teaches courses in history of technology, engineering ethics, theories of technological change, and religion and technology.',\n",
       " '_ PhD is an _ in the Couple & Family Therapy Program at the University of Guelph. They are openly non-binary, poly, kinky, and queer. Ruthie is proud to serve as a co-chair of the Guelph Sexuality Conference, as well as co-hosting Sexually Charged Radio and co-facilitating the Sexual and Gender Diversity Lab.',\n",
       " 'Their research focuses on the impact of prejudice and discrimination on the health, well-being, and worldviews of marginalized groups – namely trans and queer people, people of color, and women, especially individuals who are members of multiple oppressed groups. Dr. _ is also an intellectual activist who focuses on making the academy a more just, humane, equitable, and accessible place. They are the founder and editor of the blog, ConditionallyAccepted.com, which is now a weekly career advice column for marginalized scholars on Inside Higher Ed. They can be reached by email at egrollma [at] richmond [dot] edu.',\n",
       " 'They are interested in mediated cultural politics in a transnational Chinese context, including but not limited to: gay identity and queer politics, social media and community media, and film and filmmaking. They are primarily concerned about how media relate to issues of gender, sexuality and identity, and how they participate in community building, empowerment of minority groups, and grassroots social movements. _ also considers how media and contemporary culture responds to a postsocialist world dominated by neoliberal values and ideologies, and how ideological contestations are manifested in mediated forms.']"
      ]
     },
     "execution_count": 405,
     "metadata": {},
     "output_type": "execute_result"
    }
   ],
   "source": [
    "nb_bios_list"
   ]
  },
  {
   "cell_type": "code",
   "execution_count": 403,
   "id": "applied-isolation",
   "metadata": {},
   "outputs": [
    {
     "name": "stdout",
     "output_type": "stream",
     "text": [
      "joint\n",
      "0.29480519480519485\n",
      "pre-processing\n",
      "0.2922077922077922\n",
      "decoupled F\n",
      "0.31428571428571433\n",
      "decoupled M\n",
      "0.31428571428571433\n"
     ]
    }
   ],
   "source": [
    "f_frac = np.load('results/f_frac.npy')\n",
    "balanced_gender_clf=pkl.load(open('results/we_bal_g.pkl','rb'))\n",
    "\n",
    "joint_corr_full = []\n",
    "decoupled_corr_full = []\n",
    "# eo_corr_full = []\n",
    "# for target_occ in occs:\n",
    "target_occ='professor'\n",
    "cand_women_X_full =  [word_vector_featurize(p, E) for p in nb_bios_list]\n",
    "gender_probs = balanced_gender_clf.predict_proba(cand_women_X_full)[:,0]\n",
    "\n",
    "occ_probs = occ_classers[target_occ]['clf_bow_joint'].predict_proba(cand_women_X_full)[:,1]\n",
    "corr = spearmanr(occ_probs,gender_probs)\n",
    "print(\"joint\")\n",
    "print(corr)\n",
    "\n",
    "occ_probs = occ_classers[target_occ]['clf_bow_joint_sampleweights'].predict_proba(cand_women_X_full)[:,1]\n",
    "corr = spearmanr(occ_probs,gender_probs)\n",
    "print(\"pre-processing\")\n",
    "print(corr)\n",
    "\n",
    "occ_probs = occ_classers[target_occ]['clf_bow_f'].predict_proba(cand_women_X_full)[:,1]\n",
    "corr = spearmanr(occ_probs,gender_probs)\n",
    "print(\"decoupled F\")\n",
    "print(corr)\n",
    "\n",
    "\n",
    "cc_probs = occ_classers[target_occ]['clm_bow_m'].predict_proba(cand_women_X_full)[:,1]\n",
    "corr = spearmanr(occ_probs,gender_probs)\n",
    "print(\"decoupled M\")\n",
    "print(corr)"
   ]
  },
  {
   "cell_type": "code",
   "execution_count": 411,
   "id": "given-shoulder",
   "metadata": {},
   "outputs": [
    {
     "name": "stdout",
     "output_type": "stream",
     "text": [
      "joint\n",
      "SpearmanrResult(correlation=-0.023385682751791557, pvalue=0.015671384362347846)\n",
      "pre-processing\n",
      "SpearmanrResult(correlation=-0.012079890959109385, pvalue=0.2119910220176095)\n",
      "decoupled F\n",
      "SpearmanrResult(correlation=-0.01306103208990543, pvalue=0.17717951059765227)\n",
      "decoupled M\n",
      "SpearmanrResult(correlation=-0.01306103208990543, pvalue=0.17717951059765227)\n"
     ]
    }
   ],
   "source": [
    "f_frac = np.load('results/f_frac.npy')\n",
    "balanced_gender_clf=pkl.load(open('results/we_bal_g.pkl','rb'))\n",
    "\n",
    "joint_corr_full = []\n",
    "decoupled_corr_full = []\n",
    "# eo_corr_full = []\n",
    "# for target_occ in occs:\n",
    "target_occ='professor'\n",
    "cand_women_X_full =  [word_vector_featurize(p['bio'], E) for p in bios_data_test if p['title']=='professor' and p['gender']=='F']\n",
    "gender_probs = balanced_gender_clf.predict_proba(cand_women_X_full)[:,0]\n",
    "\n",
    "occ_probs = occ_classers[target_occ]['clf_bow_joint'].predict_proba(cand_women_X_full)[:,1]\n",
    "corr = spearmanr(occ_probs,gender_probs)\n",
    "print(\"joint\")\n",
    "print(corr)\n",
    "\n",
    "occ_probs = occ_classers[target_occ]['clf_bow_joint_sampleweights'].predict_proba(cand_women_X_full)[:,1]\n",
    "corr = spearmanr(occ_probs,gender_probs)\n",
    "print(\"pre-processing\")\n",
    "print(corr)\n",
    "\n",
    "occ_probs = occ_classers[target_occ]['clf_bow_f'].predict_proba(cand_women_X_full)[:,1]\n",
    "corr = spearmanr(occ_probs,gender_probs)\n",
    "print(\"decoupled F\")\n",
    "print(corr)\n",
    "\n",
    "\n",
    "cc_probs = occ_classers[target_occ]['clm_bow_m'].predict_proba(cand_women_X_full)[:,1]\n",
    "corr = spearmanr(occ_probs,gender_probs)\n",
    "print(\"decoupled M\")\n",
    "print(corr)"
   ]
  },
  {
   "cell_type": "markdown",
   "id": "elementary-characterization",
   "metadata": {},
   "source": [
    "# get accuracies"
   ]
  },
  {
   "cell_type": "code",
   "execution_count": 350,
   "id": "together-tooth",
   "metadata": {},
   "outputs": [],
   "source": [
    "#takes as input a dictionary that is outputed by cv_pred()\n",
    "def pred_summary(pred_dic, Y_test, G_test):\n",
    "    #wildcard aggregates over different classes/genders\n",
    "    wildcard = \"*\"\n",
    "    genders = sorted(set(G_test)) + [wildcard]\n",
    "    ys = sorted(set(Y_test)) + [wildcard]\n",
    "    summary =  {y: {g: [] for g in genders} for y in ys} \n",
    "    for y in ys:\n",
    "        for gender in genders:\n",
    "            #print(y,sum(array(Y_test)==y))\n",
    "            #accuracies = []\n",
    "            bool_subgroup = [y_pred==y_true for y_pred, y_true, g in zip(pred_dic, Y_test, G_test) \n",
    "                        if (gender==wildcard or gender==g) and (y==wildcard or y==y_true)]\n",
    "            acc=mean(bool_subgroup)\n",
    "            summary[y][gender]=acc    \n",
    "    return summary\n",
    "\n",
    "def get_rms_gap(pred_summaries):\n",
    "    temp_occ=np.array(pred_summaries)\n",
    "    orig_gap = []\n",
    "    for p in temp_occ:\n",
    "        orig_gap.append(p[True]['F']-p[True]['M'])\n",
    "    orig_gap=np.array(orig_gap)\n",
    "    return np.sqrt(np.sum(orig_gap**2)/25)"
   ]
  },
  {
   "cell_type": "code",
   "execution_count": 198,
   "id": "recorded-socket",
   "metadata": {},
   "outputs": [],
   "source": [
    "y_preds_tpr = pkl.load(open('results/we_tpr_fairlearn_preds.pkl','rb'))\n",
    "originals_occ = []\n",
    "tprs_occ = []\n",
    "decoupled_occ=[]\n",
    "#equalized odds\n",
    "# cand_women_X =  [word_vector_featurize(p['bio'], E) for p in bios_data_test]\n",
    "X_test = np.array(X_test)\n",
    "for target_occ in occs:\n",
    "    temp_inds = [i for i,p in enumerate(bios_data_test) if p['title']==target_occ ]\n",
    "    Y_test = [p[\"title\"]==target_occ for p in np.array(bios_data_test)[temp_inds]]\n",
    "    y_pred_unmit = occ_classers[target_occ]['clf_bow_joint'].predict(X_test[temp_inds])\n",
    "    f_inds = [p[\"gender\"]=='F' for p in np.array(bios_data_test)[temp_inds]]\n",
    "    \n",
    "    y_preds_f = occ_classers[target_occ]['clf_bow_f'].predict(X_test[temp_inds])\n",
    "    y_preds_m = occ_classers[target_occ]['clm_bow_m'].predict(X_test[temp_inds])\n",
    "    y_preds_m[f_inds] = y_preds_f[f_inds]\n",
    "\n",
    "    \n",
    "    G_test = np.array(G_test)\n",
    "    y_pred_tpr =  (np.argmax(y_preds_tpr[target_occ],axis=1)==1)[temp_inds]#[:,1]\n",
    "    a=pred_summary(y_pred_unmit, Y_test, G_test[temp_inds])\n",
    "    \n",
    "    c=pred_summary(y_preds_m, Y_test, G_test[temp_inds])\n",
    "    b=pred_summary(y_pred_tpr, Y_test, G_test[temp_inds])\n",
    "    originals_occ.append(a)\n",
    "    tprs_occ.append(b)\n",
    "    decoupled_occ.append(c)"
   ]
  },
  {
   "cell_type": "code",
   "execution_count": 353,
   "id": "german-ending",
   "metadata": {},
   "outputs": [],
   "source": [
    "temp_occ = []\n",
    "X_test = np.array(X_test)\n",
    "for target_occ in occs:\n",
    "    temp_inds = [i for i,p in enumerate(bios_data_test) if p['title']==target_occ ]\n",
    "    Y_test = [p[\"title\"]==target_occ for p in np.array(bios_data_test)[temp_inds]]\n",
    "    y_pred_pr = occ_classers[target_occ]['clf_bow_joint_sampleweights'].predict(X_test[temp_inds])\n",
    "    a=pred_summary(y_pred_pr, Y_test, G_test[temp_inds])\n",
    "    \n",
    "    temp_occ.append(a)\n",
    "temp_occ=np.array(temp_occ)"
   ]
  },
  {
   "cell_type": "code",
   "execution_count": 358,
   "id": "focused-standard",
   "metadata": {},
   "outputs": [
    {
     "data": {
      "text/plain": [
       "0.06127229455139132"
      ]
     },
     "execution_count": 358,
     "metadata": {},
     "output_type": "execute_result"
    }
   ],
   "source": [
    "temp_gap = []\n",
    "for p in temp_occ:\n",
    "    temp_gap.append(p[True]['F']-p[True]['M'])\n",
    "temp_gap=np.array(temp_gap)\n",
    "np.sqrt(np.sum(temp_gap**2)/25)"
   ]
  },
  {
   "cell_type": "code",
   "execution_count": 199,
   "id": "nearby-religion",
   "metadata": {},
   "outputs": [],
   "source": [
    "originals_occ=np.array(originals_occ)\n",
    "tprs_occ=np.array(tprs_occ)\n",
    "decoupled_occ=np.array(decoupled_occ)"
   ]
  },
  {
   "cell_type": "code",
   "execution_count": 201,
   "id": "legendary-weapon",
   "metadata": {},
   "outputs": [],
   "source": [
    "orig_gap = []\n",
    "for p in originals_occ:\n",
    "    orig_gap.append(p[True]['F']-p[True]['M'])\n",
    "orig_gap=np.array(orig_gap)\n",
    "dec_gap = []\n",
    "for p in decoupled_occ:\n",
    "    dec_gap.append(p[True]['F']-p[True]['M'])\n",
    "dec_gap=np.array(dec_gap)\n",
    "tpr_gap = []\n",
    "for p in tprs_occ:\n",
    "    tpr_gap.append(p[True]['F']-p[True]['M'])\n",
    "tpr_gap=np.array(tpr_gap)\n"
   ]
  },
  {
   "cell_type": "code",
   "execution_count": 207,
   "id": "experimental-attribute",
   "metadata": {},
   "outputs": [
    {
     "data": {
      "text/plain": [
       "0.060639234482362664"
      ]
     },
     "execution_count": 207,
     "metadata": {},
     "output_type": "execute_result"
    }
   ],
   "source": [
    "np.sqrt(np.sum(orig_gap**2)/25)"
   ]
  },
  {
   "cell_type": "code",
   "execution_count": 208,
   "id": "gross-annex",
   "metadata": {},
   "outputs": [
    {
     "data": {
      "text/plain": [
       "0.05982944280333841"
      ]
     },
     "execution_count": 208,
     "metadata": {},
     "output_type": "execute_result"
    }
   ],
   "source": [
    "np.sqrt(np.sum(tpr_gap**2)/25)"
   ]
  },
  {
   "cell_type": "code",
   "execution_count": 260,
   "id": "acknowledged-transportation",
   "metadata": {
    "scrolled": true
   },
   "outputs": [
    {
     "data": {
      "text/plain": [
       "0.9377849262396021"
      ]
     },
     "execution_count": 260,
     "metadata": {},
     "output_type": "execute_result"
    }
   ],
   "source": [
    "# WE original accuracy\n",
    "accs=[]\n",
    "for target_occ in occs:\n",
    "    \n",
    "    Y_test = [p[\"title\"]==target_occ for p in bios_data_test]\n",
    "    \n",
    "    accs.append(sklearn.metrics.accuracy_score(Y_test,occ_classers[target_occ]['clf_bow_joint'].predict(X_test)))\n",
    "np.mean(accs)"
   ]
  },
  {
   "cell_type": "code",
   "execution_count": 359,
   "id": "amino-strap",
   "metadata": {},
   "outputs": [
    {
     "data": {
      "text/plain": [
       "0.9419506923676209"
      ]
     },
     "execution_count": 359,
     "metadata": {},
     "output_type": "execute_result"
    }
   ],
   "source": [
    "# WE PR accuracy\n",
    "accs=[]\n",
    "for target_occ in occs:\n",
    "    \n",
    "    Y_test = [p[\"title\"]==target_occ for p in bios_data_test]\n",
    "    \n",
    "    accs.append(sklearn.metrics.accuracy_score(Y_test,occ_classers[target_occ]['clf_bow_joint_sampleweights'].predict(X_test)))\n",
    "np.mean(accs)"
   ]
  },
  {
   "cell_type": "code",
   "execution_count": 310,
   "id": "coated-syndication",
   "metadata": {},
   "outputs": [
    {
     "data": {
      "text/plain": [
       "0.7371516171998693"
      ]
     },
     "execution_count": 310,
     "metadata": {},
     "output_type": "execute_result"
    }
   ],
   "source": [
    "#25 way accuracy\n",
    "Y_test = [p[\"title\"] for p in bios_data_test]\n",
    "    \n",
    "sklearn.metrics.accuracy_score(Y_test,occ_classers['all']['clf_bow_joint'].predict(X_test))"
   ]
  },
  {
   "cell_type": "code",
   "execution_count": 265,
   "id": "quarterly-antigua",
   "metadata": {},
   "outputs": [],
   "source": [
    "# decoupled accuracy (F)\n",
    "accs=[]\n",
    "for target_occ in occs:\n",
    "    \n",
    "    Y_test = [p[\"title\"]==target_occ for p in bios_data_test if p['gender']=='F']\n",
    "    \n",
    "    accs.append(sklearn.metrics.accuracy_score(Y_test,occ_classers[target_occ]['clf_bow_f'].predict(f_X_test)))"
   ]
  },
  {
   "cell_type": "code",
   "execution_count": 266,
   "id": "linear-assault",
   "metadata": {},
   "outputs": [
    {
     "data": {
      "text/plain": [
       "0.943463791121572"
      ]
     },
     "execution_count": 266,
     "metadata": {},
     "output_type": "execute_result"
    }
   ],
   "source": [
    "np.mean(accs)"
   ]
  },
  {
   "cell_type": "code",
   "execution_count": 267,
   "id": "minimal-river",
   "metadata": {},
   "outputs": [],
   "source": [
    "# decoupled accuracy (M)\n",
    "accs=[]\n",
    "for target_occ in occs:\n",
    "    \n",
    "    Y_test = [p[\"title\"]==target_occ for p in bios_data_test if p['gender']=='M']\n",
    "    \n",
    "    accs.append(sklearn.metrics.accuracy_score(Y_test,occ_classers[target_occ]['clm_bow_m'].predict(m_X_test)))"
   ]
  },
  {
   "cell_type": "code",
   "execution_count": 268,
   "id": "waiting-insider",
   "metadata": {},
   "outputs": [
    {
     "data": {
      "text/plain": [
       "0.9299256574667781"
      ]
     },
     "execution_count": 268,
     "metadata": {},
     "output_type": "execute_result"
    }
   ],
   "source": [
    "np.mean(accs)"
   ]
  },
  {
   "cell_type": "code",
   "execution_count": 270,
   "id": "decent-airfare",
   "metadata": {},
   "outputs": [
    {
     "data": {
      "text/plain": [
       "0.936681895560786"
      ]
     },
     "execution_count": 270,
     "metadata": {},
     "output_type": "execute_result"
    }
   ],
   "source": [
    "(0.943463791121572+0.9299)/2"
   ]
  },
  {
   "cell_type": "code",
   "execution_count": 272,
   "id": "approximate-tutorial",
   "metadata": {},
   "outputs": [
    {
     "name": "stdout",
     "output_type": "stream",
     "text": [
      "0.8791621220879093\n"
     ]
    }
   ],
   "source": [
    "# WE RE accuracy\n",
    "\n",
    "accs=[]\n",
    "\n",
    "y_preds_tpr = pkl.load(open('results/we_tpr_fairlearn_preds.pkl','rb'))\n",
    "for target_occ in occs:\n",
    "    \n",
    "    Y_test = [p[\"title\"]==target_occ for p in bios_data_test]\n",
    "    \n",
    "    accs.append(sklearn.metrics.accuracy_score(Y_test,np.argmax(y_preds_tpr[target_occ],axis=1)==1))\n",
    "print(np.mean(accs))"
   ]
  },
  {
   "cell_type": "code",
   "execution_count": 281,
   "id": "desperate-income",
   "metadata": {},
   "outputs": [],
   "source": [
    "# WE PO accuracy\n",
    "from fairlearn.postprocessing import ThresholdOptimizer\n",
    "pps={}\n",
    "for target_occ in occs:\n",
    "    new_opter = ThresholdOptimizer(estimator=occ_classers[target_occ]['clf_bow_joint'], constraints='true_positive_rate_parity')\n",
    "    Y_train = [p[\"title\"]==target_occ for p in bios_data_train]\n",
    "    new_opter.fit(X_train,Y_train,sensitive_features=G_train)\n",
    "    Y_test = [p[\"title\"]==target_occ for p in bios_data_test]\n",
    "    \n",
    "    preds = new_opter.predict(X_test,sensitive_features=G_test)\n",
    "    pps[target_occ] = (new_opter, preds)\n",
    "    "
   ]
  },
  {
   "cell_type": "markdown",
   "id": "modified-window",
   "metadata": {},
   "source": [
    "# Cross val"
   ]
  },
  {
   "cell_type": "code",
   "execution_count": 55,
   "id": "nominated-technique",
   "metadata": {},
   "outputs": [
    {
     "name": "stdout",
     "output_type": "stream",
     "text": [
      "Data: 397907\n",
      "StratifiedKFold(n_splits=5, random_state=None, shuffle=False)\n",
      "0\n"
     ]
    },
    {
     "name": "stderr",
     "output_type": "stream",
     "text": [
      "/home/adam/Dropbox/WorkProjects/venv_main/lib/python3.6/site-packages/numpy/core/_asarray.py:83: VisibleDeprecationWarning: Creating an ndarray from ragged nested sequences (which is a list-or-tuple of lists-or-tuples-or ndarrays with different lengths or shapes) is deprecated. If you meant to do this, you must specify 'dtype=object' when creating the ndarray\n",
      "  return array(a, dtype, copy=False, order=order)\n"
     ]
    },
    {
     "name": "stdout",
     "output_type": "stream",
     "text": [
      "clf fit\n"
     ]
    },
    {
     "name": "stderr",
     "output_type": "stream",
     "text": [
      "/home/adam/Dropbox/WorkProjects/venv_main/lib/python3.6/site-packages/numpy/core/_asarray.py:83: VisibleDeprecationWarning: Creating an ndarray from ragged nested sequences (which is a list-or-tuple of lists-or-tuples-or ndarrays with different lengths or shapes) is deprecated. If you meant to do this, you must specify 'dtype=object' when creating the ndarray\n",
      "  return array(a, dtype, copy=False, order=order)\n"
     ]
    },
    {
     "name": "stdout",
     "output_type": "stream",
     "text": [
      "clf fit\n"
     ]
    },
    {
     "name": "stderr",
     "output_type": "stream",
     "text": [
      "/home/adam/Dropbox/WorkProjects/venv_main/lib/python3.6/site-packages/numpy/core/_asarray.py:83: VisibleDeprecationWarning: Creating an ndarray from ragged nested sequences (which is a list-or-tuple of lists-or-tuples-or ndarrays with different lengths or shapes) is deprecated. If you meant to do this, you must specify 'dtype=object' when creating the ndarray\n",
      "  return array(a, dtype, copy=False, order=order)\n"
     ]
    },
    {
     "name": "stdout",
     "output_type": "stream",
     "text": [
      "clf fit\n"
     ]
    },
    {
     "name": "stderr",
     "output_type": "stream",
     "text": [
      "/home/adam/Dropbox/WorkProjects/venv_main/lib/python3.6/site-packages/numpy/core/_asarray.py:83: VisibleDeprecationWarning: Creating an ndarray from ragged nested sequences (which is a list-or-tuple of lists-or-tuples-or ndarrays with different lengths or shapes) is deprecated. If you meant to do this, you must specify 'dtype=object' when creating the ndarray\n",
      "  return array(a, dtype, copy=False, order=order)\n"
     ]
    },
    {
     "name": "stdout",
     "output_type": "stream",
     "text": [
      "clf fit\n"
     ]
    },
    {
     "name": "stderr",
     "output_type": "stream",
     "text": [
      "/home/adam/Dropbox/WorkProjects/venv_main/lib/python3.6/site-packages/numpy/core/_asarray.py:83: VisibleDeprecationWarning: Creating an ndarray from ragged nested sequences (which is a list-or-tuple of lists-or-tuples-or ndarrays with different lengths or shapes) is deprecated. If you meant to do this, you must specify 'dtype=object' when creating the ndarray\n",
      "  return array(a, dtype, copy=False, order=order)\n"
     ]
    },
    {
     "name": "stdout",
     "output_type": "stream",
     "text": [
      "clf fit\n"
     ]
    },
    {
     "name": "stderr",
     "output_type": "stream",
     "text": [
      "/home/adam/Dropbox/WorkProjects/venv_main/lib/python3.6/site-packages/numpy/core/_asarray.py:83: VisibleDeprecationWarning: Creating an ndarray from ragged nested sequences (which is a list-or-tuple of lists-or-tuples-or ndarrays with different lengths or shapes) is deprecated. If you meant to do this, you must specify 'dtype=object' when creating the ndarray\n",
      "  return array(a, dtype, copy=False, order=order)\n"
     ]
    },
    {
     "name": "stdout",
     "output_type": "stream",
     "text": [
      "clf fit\n"
     ]
    },
    {
     "name": "stderr",
     "output_type": "stream",
     "text": [
      "/home/adam/Dropbox/WorkProjects/venv_main/lib/python3.6/site-packages/numpy/core/_asarray.py:83: VisibleDeprecationWarning: Creating an ndarray from ragged nested sequences (which is a list-or-tuple of lists-or-tuples-or ndarrays with different lengths or shapes) is deprecated. If you meant to do this, you must specify 'dtype=object' when creating the ndarray\n",
      "  return array(a, dtype, copy=False, order=order)\n"
     ]
    },
    {
     "name": "stdout",
     "output_type": "stream",
     "text": [
      "clf fit\n"
     ]
    },
    {
     "name": "stderr",
     "output_type": "stream",
     "text": [
      "/home/adam/Dropbox/WorkProjects/venv_main/lib/python3.6/site-packages/numpy/core/_asarray.py:83: VisibleDeprecationWarning: Creating an ndarray from ragged nested sequences (which is a list-or-tuple of lists-or-tuples-or ndarrays with different lengths or shapes) is deprecated. If you meant to do this, you must specify 'dtype=object' when creating the ndarray\n",
      "  return array(a, dtype, copy=False, order=order)\n"
     ]
    },
    {
     "name": "stdout",
     "output_type": "stream",
     "text": [
      "clf fit\n"
     ]
    },
    {
     "name": "stderr",
     "output_type": "stream",
     "text": [
      "/home/adam/Dropbox/WorkProjects/venv_main/lib/python3.6/site-packages/numpy/core/_asarray.py:83: VisibleDeprecationWarning: Creating an ndarray from ragged nested sequences (which is a list-or-tuple of lists-or-tuples-or ndarrays with different lengths or shapes) is deprecated. If you meant to do this, you must specify 'dtype=object' when creating the ndarray\n",
      "  return array(a, dtype, copy=False, order=order)\n"
     ]
    },
    {
     "name": "stdout",
     "output_type": "stream",
     "text": [
      "clf fit\n"
     ]
    },
    {
     "name": "stderr",
     "output_type": "stream",
     "text": [
      "/home/adam/Dropbox/WorkProjects/venv_main/lib/python3.6/site-packages/numpy/core/_asarray.py:83: VisibleDeprecationWarning: Creating an ndarray from ragged nested sequences (which is a list-or-tuple of lists-or-tuples-or ndarrays with different lengths or shapes) is deprecated. If you meant to do this, you must specify 'dtype=object' when creating the ndarray\n",
      "  return array(a, dtype, copy=False, order=order)\n"
     ]
    },
    {
     "name": "stdout",
     "output_type": "stream",
     "text": [
      "clf fit\n"
     ]
    },
    {
     "name": "stderr",
     "output_type": "stream",
     "text": [
      "/home/adam/Dropbox/WorkProjects/venv_main/lib/python3.6/site-packages/numpy/core/_asarray.py:83: VisibleDeprecationWarning: Creating an ndarray from ragged nested sequences (which is a list-or-tuple of lists-or-tuples-or ndarrays with different lengths or shapes) is deprecated. If you meant to do this, you must specify 'dtype=object' when creating the ndarray\n",
      "  return array(a, dtype, copy=False, order=order)\n"
     ]
    },
    {
     "name": "stdout",
     "output_type": "stream",
     "text": [
      "clf fit\n"
     ]
    },
    {
     "name": "stderr",
     "output_type": "stream",
     "text": [
      "/home/adam/Dropbox/WorkProjects/venv_main/lib/python3.6/site-packages/numpy/core/_asarray.py:83: VisibleDeprecationWarning: Creating an ndarray from ragged nested sequences (which is a list-or-tuple of lists-or-tuples-or ndarrays with different lengths or shapes) is deprecated. If you meant to do this, you must specify 'dtype=object' when creating the ndarray\n",
      "  return array(a, dtype, copy=False, order=order)\n"
     ]
    },
    {
     "name": "stdout",
     "output_type": "stream",
     "text": [
      "clf fit\n"
     ]
    },
    {
     "name": "stderr",
     "output_type": "stream",
     "text": [
      "/home/adam/Dropbox/WorkProjects/venv_main/lib/python3.6/site-packages/numpy/core/_asarray.py:83: VisibleDeprecationWarning: Creating an ndarray from ragged nested sequences (which is a list-or-tuple of lists-or-tuples-or ndarrays with different lengths or shapes) is deprecated. If you meant to do this, you must specify 'dtype=object' when creating the ndarray\n",
      "  return array(a, dtype, copy=False, order=order)\n"
     ]
    },
    {
     "name": "stdout",
     "output_type": "stream",
     "text": [
      "clf fit\n"
     ]
    },
    {
     "name": "stderr",
     "output_type": "stream",
     "text": [
      "/home/adam/Dropbox/WorkProjects/venv_main/lib/python3.6/site-packages/numpy/core/_asarray.py:83: VisibleDeprecationWarning: Creating an ndarray from ragged nested sequences (which is a list-or-tuple of lists-or-tuples-or ndarrays with different lengths or shapes) is deprecated. If you meant to do this, you must specify 'dtype=object' when creating the ndarray\n",
      "  return array(a, dtype, copy=False, order=order)\n"
     ]
    },
    {
     "name": "stdout",
     "output_type": "stream",
     "text": [
      "clf fit\n"
     ]
    },
    {
     "name": "stderr",
     "output_type": "stream",
     "text": [
      "/home/adam/Dropbox/WorkProjects/venv_main/lib/python3.6/site-packages/numpy/core/_asarray.py:83: VisibleDeprecationWarning: Creating an ndarray from ragged nested sequences (which is a list-or-tuple of lists-or-tuples-or ndarrays with different lengths or shapes) is deprecated. If you meant to do this, you must specify 'dtype=object' when creating the ndarray\n",
      "  return array(a, dtype, copy=False, order=order)\n"
     ]
    },
    {
     "name": "stdout",
     "output_type": "stream",
     "text": [
      "clf fit\n"
     ]
    },
    {
     "name": "stderr",
     "output_type": "stream",
     "text": [
      "/home/adam/Dropbox/WorkProjects/venv_main/lib/python3.6/site-packages/numpy/core/_asarray.py:83: VisibleDeprecationWarning: Creating an ndarray from ragged nested sequences (which is a list-or-tuple of lists-or-tuples-or ndarrays with different lengths or shapes) is deprecated. If you meant to do this, you must specify 'dtype=object' when creating the ndarray\n",
      "  return array(a, dtype, copy=False, order=order)\n"
     ]
    },
    {
     "name": "stdout",
     "output_type": "stream",
     "text": [
      "clf fit\n"
     ]
    },
    {
     "name": "stderr",
     "output_type": "stream",
     "text": [
      "/home/adam/Dropbox/WorkProjects/venv_main/lib/python3.6/site-packages/numpy/core/_asarray.py:83: VisibleDeprecationWarning: Creating an ndarray from ragged nested sequences (which is a list-or-tuple of lists-or-tuples-or ndarrays with different lengths or shapes) is deprecated. If you meant to do this, you must specify 'dtype=object' when creating the ndarray\n",
      "  return array(a, dtype, copy=False, order=order)\n"
     ]
    },
    {
     "name": "stdout",
     "output_type": "stream",
     "text": [
      "clf fit\n"
     ]
    },
    {
     "name": "stderr",
     "output_type": "stream",
     "text": [
      "/home/adam/Dropbox/WorkProjects/venv_main/lib/python3.6/site-packages/numpy/core/_asarray.py:83: VisibleDeprecationWarning: Creating an ndarray from ragged nested sequences (which is a list-or-tuple of lists-or-tuples-or ndarrays with different lengths or shapes) is deprecated. If you meant to do this, you must specify 'dtype=object' when creating the ndarray\n",
      "  return array(a, dtype, copy=False, order=order)\n"
     ]
    },
    {
     "name": "stdout",
     "output_type": "stream",
     "text": [
      "clf fit\n"
     ]
    },
    {
     "name": "stderr",
     "output_type": "stream",
     "text": [
      "/home/adam/Dropbox/WorkProjects/venv_main/lib/python3.6/site-packages/numpy/core/_asarray.py:83: VisibleDeprecationWarning: Creating an ndarray from ragged nested sequences (which is a list-or-tuple of lists-or-tuples-or ndarrays with different lengths or shapes) is deprecated. If you meant to do this, you must specify 'dtype=object' when creating the ndarray\n",
      "  return array(a, dtype, copy=False, order=order)\n"
     ]
    },
    {
     "name": "stdout",
     "output_type": "stream",
     "text": [
      "clf fit\n"
     ]
    },
    {
     "name": "stderr",
     "output_type": "stream",
     "text": [
      "/home/adam/Dropbox/WorkProjects/venv_main/lib/python3.6/site-packages/numpy/core/_asarray.py:83: VisibleDeprecationWarning: Creating an ndarray from ragged nested sequences (which is a list-or-tuple of lists-or-tuples-or ndarrays with different lengths or shapes) is deprecated. If you meant to do this, you must specify 'dtype=object' when creating the ndarray\n",
      "  return array(a, dtype, copy=False, order=order)\n"
     ]
    },
    {
     "name": "stdout",
     "output_type": "stream",
     "text": [
      "clf fit\n"
     ]
    },
    {
     "name": "stderr",
     "output_type": "stream",
     "text": [
      "/home/adam/Dropbox/WorkProjects/venv_main/lib/python3.6/site-packages/numpy/core/_asarray.py:83: VisibleDeprecationWarning: Creating an ndarray from ragged nested sequences (which is a list-or-tuple of lists-or-tuples-or ndarrays with different lengths or shapes) is deprecated. If you meant to do this, you must specify 'dtype=object' when creating the ndarray\n",
      "  return array(a, dtype, copy=False, order=order)\n"
     ]
    },
    {
     "name": "stdout",
     "output_type": "stream",
     "text": [
      "clf fit\n"
     ]
    },
    {
     "name": "stderr",
     "output_type": "stream",
     "text": [
      "/home/adam/Dropbox/WorkProjects/venv_main/lib/python3.6/site-packages/numpy/core/_asarray.py:83: VisibleDeprecationWarning: Creating an ndarray from ragged nested sequences (which is a list-or-tuple of lists-or-tuples-or ndarrays with different lengths or shapes) is deprecated. If you meant to do this, you must specify 'dtype=object' when creating the ndarray\n",
      "  return array(a, dtype, copy=False, order=order)\n"
     ]
    },
    {
     "name": "stdout",
     "output_type": "stream",
     "text": [
      "clf fit\n"
     ]
    },
    {
     "name": "stderr",
     "output_type": "stream",
     "text": [
      "/home/adam/Dropbox/WorkProjects/venv_main/lib/python3.6/site-packages/numpy/core/_asarray.py:83: VisibleDeprecationWarning: Creating an ndarray from ragged nested sequences (which is a list-or-tuple of lists-or-tuples-or ndarrays with different lengths or shapes) is deprecated. If you meant to do this, you must specify 'dtype=object' when creating the ndarray\n",
      "  return array(a, dtype, copy=False, order=order)\n"
     ]
    },
    {
     "name": "stdout",
     "output_type": "stream",
     "text": [
      "clf fit\n"
     ]
    },
    {
     "name": "stderr",
     "output_type": "stream",
     "text": [
      "/home/adam/Dropbox/WorkProjects/venv_main/lib/python3.6/site-packages/numpy/core/_asarray.py:83: VisibleDeprecationWarning: Creating an ndarray from ragged nested sequences (which is a list-or-tuple of lists-or-tuples-or ndarrays with different lengths or shapes) is deprecated. If you meant to do this, you must specify 'dtype=object' when creating the ndarray\n",
      "  return array(a, dtype, copy=False, order=order)\n"
     ]
    },
    {
     "name": "stdout",
     "output_type": "stream",
     "text": [
      "clf fit\n"
     ]
    },
    {
     "name": "stderr",
     "output_type": "stream",
     "text": [
      "/home/adam/Dropbox/WorkProjects/venv_main/lib/python3.6/site-packages/numpy/core/_asarray.py:83: VisibleDeprecationWarning: Creating an ndarray from ragged nested sequences (which is a list-or-tuple of lists-or-tuples-or ndarrays with different lengths or shapes) is deprecated. If you meant to do this, you must specify 'dtype=object' when creating the ndarray\n",
      "  return array(a, dtype, copy=False, order=order)\n"
     ]
    },
    {
     "name": "stdout",
     "output_type": "stream",
     "text": [
      "clf fit\n",
      "1\n"
     ]
    },
    {
     "name": "stderr",
     "output_type": "stream",
     "text": [
      "/home/adam/Dropbox/WorkProjects/venv_main/lib/python3.6/site-packages/numpy/core/_asarray.py:83: VisibleDeprecationWarning: Creating an ndarray from ragged nested sequences (which is a list-or-tuple of lists-or-tuples-or ndarrays with different lengths or shapes) is deprecated. If you meant to do this, you must specify 'dtype=object' when creating the ndarray\n",
      "  return array(a, dtype, copy=False, order=order)\n"
     ]
    },
    {
     "name": "stdout",
     "output_type": "stream",
     "text": [
      "clf fit\n"
     ]
    },
    {
     "name": "stderr",
     "output_type": "stream",
     "text": [
      "/home/adam/Dropbox/WorkProjects/venv_main/lib/python3.6/site-packages/numpy/core/_asarray.py:83: VisibleDeprecationWarning: Creating an ndarray from ragged nested sequences (which is a list-or-tuple of lists-or-tuples-or ndarrays with different lengths or shapes) is deprecated. If you meant to do this, you must specify 'dtype=object' when creating the ndarray\n",
      "  return array(a, dtype, copy=False, order=order)\n"
     ]
    },
    {
     "name": "stdout",
     "output_type": "stream",
     "text": [
      "clf fit\n"
     ]
    },
    {
     "name": "stderr",
     "output_type": "stream",
     "text": [
      "/home/adam/Dropbox/WorkProjects/venv_main/lib/python3.6/site-packages/numpy/core/_asarray.py:83: VisibleDeprecationWarning: Creating an ndarray from ragged nested sequences (which is a list-or-tuple of lists-or-tuples-or ndarrays with different lengths or shapes) is deprecated. If you meant to do this, you must specify 'dtype=object' when creating the ndarray\n",
      "  return array(a, dtype, copy=False, order=order)\n"
     ]
    },
    {
     "name": "stdout",
     "output_type": "stream",
     "text": [
      "clf fit\n"
     ]
    },
    {
     "name": "stderr",
     "output_type": "stream",
     "text": [
      "/home/adam/Dropbox/WorkProjects/venv_main/lib/python3.6/site-packages/numpy/core/_asarray.py:83: VisibleDeprecationWarning: Creating an ndarray from ragged nested sequences (which is a list-or-tuple of lists-or-tuples-or ndarrays with different lengths or shapes) is deprecated. If you meant to do this, you must specify 'dtype=object' when creating the ndarray\n",
      "  return array(a, dtype, copy=False, order=order)\n"
     ]
    },
    {
     "name": "stdout",
     "output_type": "stream",
     "text": [
      "clf fit\n"
     ]
    },
    {
     "name": "stderr",
     "output_type": "stream",
     "text": [
      "/home/adam/Dropbox/WorkProjects/venv_main/lib/python3.6/site-packages/numpy/core/_asarray.py:83: VisibleDeprecationWarning: Creating an ndarray from ragged nested sequences (which is a list-or-tuple of lists-or-tuples-or ndarrays with different lengths or shapes) is deprecated. If you meant to do this, you must specify 'dtype=object' when creating the ndarray\n",
      "  return array(a, dtype, copy=False, order=order)\n"
     ]
    },
    {
     "name": "stdout",
     "output_type": "stream",
     "text": [
      "clf fit\n"
     ]
    },
    {
     "name": "stderr",
     "output_type": "stream",
     "text": [
      "/home/adam/Dropbox/WorkProjects/venv_main/lib/python3.6/site-packages/numpy/core/_asarray.py:83: VisibleDeprecationWarning: Creating an ndarray from ragged nested sequences (which is a list-or-tuple of lists-or-tuples-or ndarrays with different lengths or shapes) is deprecated. If you meant to do this, you must specify 'dtype=object' when creating the ndarray\n",
      "  return array(a, dtype, copy=False, order=order)\n"
     ]
    },
    {
     "name": "stdout",
     "output_type": "stream",
     "text": [
      "clf fit\n"
     ]
    },
    {
     "name": "stderr",
     "output_type": "stream",
     "text": [
      "/home/adam/Dropbox/WorkProjects/venv_main/lib/python3.6/site-packages/numpy/core/_asarray.py:83: VisibleDeprecationWarning: Creating an ndarray from ragged nested sequences (which is a list-or-tuple of lists-or-tuples-or ndarrays with different lengths or shapes) is deprecated. If you meant to do this, you must specify 'dtype=object' when creating the ndarray\n",
      "  return array(a, dtype, copy=False, order=order)\n"
     ]
    },
    {
     "name": "stdout",
     "output_type": "stream",
     "text": [
      "clf fit\n"
     ]
    },
    {
     "name": "stderr",
     "output_type": "stream",
     "text": [
      "/home/adam/Dropbox/WorkProjects/venv_main/lib/python3.6/site-packages/numpy/core/_asarray.py:83: VisibleDeprecationWarning: Creating an ndarray from ragged nested sequences (which is a list-or-tuple of lists-or-tuples-or ndarrays with different lengths or shapes) is deprecated. If you meant to do this, you must specify 'dtype=object' when creating the ndarray\n",
      "  return array(a, dtype, copy=False, order=order)\n"
     ]
    },
    {
     "name": "stdout",
     "output_type": "stream",
     "text": [
      "clf fit\n"
     ]
    },
    {
     "name": "stderr",
     "output_type": "stream",
     "text": [
      "/home/adam/Dropbox/WorkProjects/venv_main/lib/python3.6/site-packages/numpy/core/_asarray.py:83: VisibleDeprecationWarning: Creating an ndarray from ragged nested sequences (which is a list-or-tuple of lists-or-tuples-or ndarrays with different lengths or shapes) is deprecated. If you meant to do this, you must specify 'dtype=object' when creating the ndarray\n",
      "  return array(a, dtype, copy=False, order=order)\n"
     ]
    },
    {
     "name": "stdout",
     "output_type": "stream",
     "text": [
      "clf fit\n"
     ]
    },
    {
     "name": "stderr",
     "output_type": "stream",
     "text": [
      "/home/adam/Dropbox/WorkProjects/venv_main/lib/python3.6/site-packages/numpy/core/_asarray.py:83: VisibleDeprecationWarning: Creating an ndarray from ragged nested sequences (which is a list-or-tuple of lists-or-tuples-or ndarrays with different lengths or shapes) is deprecated. If you meant to do this, you must specify 'dtype=object' when creating the ndarray\n",
      "  return array(a, dtype, copy=False, order=order)\n"
     ]
    },
    {
     "name": "stdout",
     "output_type": "stream",
     "text": [
      "clf fit\n"
     ]
    },
    {
     "name": "stderr",
     "output_type": "stream",
     "text": [
      "/home/adam/Dropbox/WorkProjects/venv_main/lib/python3.6/site-packages/numpy/core/_asarray.py:83: VisibleDeprecationWarning: Creating an ndarray from ragged nested sequences (which is a list-or-tuple of lists-or-tuples-or ndarrays with different lengths or shapes) is deprecated. If you meant to do this, you must specify 'dtype=object' when creating the ndarray\n",
      "  return array(a, dtype, copy=False, order=order)\n"
     ]
    },
    {
     "name": "stdout",
     "output_type": "stream",
     "text": [
      "clf fit\n"
     ]
    },
    {
     "name": "stderr",
     "output_type": "stream",
     "text": [
      "/home/adam/Dropbox/WorkProjects/venv_main/lib/python3.6/site-packages/numpy/core/_asarray.py:83: VisibleDeprecationWarning: Creating an ndarray from ragged nested sequences (which is a list-or-tuple of lists-or-tuples-or ndarrays with different lengths or shapes) is deprecated. If you meant to do this, you must specify 'dtype=object' when creating the ndarray\n",
      "  return array(a, dtype, copy=False, order=order)\n"
     ]
    },
    {
     "name": "stdout",
     "output_type": "stream",
     "text": [
      "clf fit\n"
     ]
    },
    {
     "name": "stderr",
     "output_type": "stream",
     "text": [
      "/home/adam/Dropbox/WorkProjects/venv_main/lib/python3.6/site-packages/numpy/core/_asarray.py:83: VisibleDeprecationWarning: Creating an ndarray from ragged nested sequences (which is a list-or-tuple of lists-or-tuples-or ndarrays with different lengths or shapes) is deprecated. If you meant to do this, you must specify 'dtype=object' when creating the ndarray\n",
      "  return array(a, dtype, copy=False, order=order)\n"
     ]
    },
    {
     "name": "stdout",
     "output_type": "stream",
     "text": [
      "clf fit\n"
     ]
    },
    {
     "name": "stderr",
     "output_type": "stream",
     "text": [
      "/home/adam/Dropbox/WorkProjects/venv_main/lib/python3.6/site-packages/numpy/core/_asarray.py:83: VisibleDeprecationWarning: Creating an ndarray from ragged nested sequences (which is a list-or-tuple of lists-or-tuples-or ndarrays with different lengths or shapes) is deprecated. If you meant to do this, you must specify 'dtype=object' when creating the ndarray\n",
      "  return array(a, dtype, copy=False, order=order)\n"
     ]
    },
    {
     "name": "stdout",
     "output_type": "stream",
     "text": [
      "clf fit\n"
     ]
    },
    {
     "name": "stderr",
     "output_type": "stream",
     "text": [
      "/home/adam/Dropbox/WorkProjects/venv_main/lib/python3.6/site-packages/numpy/core/_asarray.py:83: VisibleDeprecationWarning: Creating an ndarray from ragged nested sequences (which is a list-or-tuple of lists-or-tuples-or ndarrays with different lengths or shapes) is deprecated. If you meant to do this, you must specify 'dtype=object' when creating the ndarray\n",
      "  return array(a, dtype, copy=False, order=order)\n"
     ]
    },
    {
     "name": "stdout",
     "output_type": "stream",
     "text": [
      "clf fit\n"
     ]
    },
    {
     "name": "stderr",
     "output_type": "stream",
     "text": [
      "/home/adam/Dropbox/WorkProjects/venv_main/lib/python3.6/site-packages/numpy/core/_asarray.py:83: VisibleDeprecationWarning: Creating an ndarray from ragged nested sequences (which is a list-or-tuple of lists-or-tuples-or ndarrays with different lengths or shapes) is deprecated. If you meant to do this, you must specify 'dtype=object' when creating the ndarray\n",
      "  return array(a, dtype, copy=False, order=order)\n"
     ]
    },
    {
     "name": "stdout",
     "output_type": "stream",
     "text": [
      "clf fit\n"
     ]
    },
    {
     "name": "stderr",
     "output_type": "stream",
     "text": [
      "/home/adam/Dropbox/WorkProjects/venv_main/lib/python3.6/site-packages/numpy/core/_asarray.py:83: VisibleDeprecationWarning: Creating an ndarray from ragged nested sequences (which is a list-or-tuple of lists-or-tuples-or ndarrays with different lengths or shapes) is deprecated. If you meant to do this, you must specify 'dtype=object' when creating the ndarray\n",
      "  return array(a, dtype, copy=False, order=order)\n"
     ]
    },
    {
     "name": "stdout",
     "output_type": "stream",
     "text": [
      "clf fit\n"
     ]
    },
    {
     "name": "stderr",
     "output_type": "stream",
     "text": [
      "/home/adam/Dropbox/WorkProjects/venv_main/lib/python3.6/site-packages/numpy/core/_asarray.py:83: VisibleDeprecationWarning: Creating an ndarray from ragged nested sequences (which is a list-or-tuple of lists-or-tuples-or ndarrays with different lengths or shapes) is deprecated. If you meant to do this, you must specify 'dtype=object' when creating the ndarray\n",
      "  return array(a, dtype, copy=False, order=order)\n"
     ]
    },
    {
     "name": "stdout",
     "output_type": "stream",
     "text": [
      "clf fit\n"
     ]
    },
    {
     "name": "stderr",
     "output_type": "stream",
     "text": [
      "/home/adam/Dropbox/WorkProjects/venv_main/lib/python3.6/site-packages/numpy/core/_asarray.py:83: VisibleDeprecationWarning: Creating an ndarray from ragged nested sequences (which is a list-or-tuple of lists-or-tuples-or ndarrays with different lengths or shapes) is deprecated. If you meant to do this, you must specify 'dtype=object' when creating the ndarray\n",
      "  return array(a, dtype, copy=False, order=order)\n"
     ]
    },
    {
     "name": "stdout",
     "output_type": "stream",
     "text": [
      "clf fit\n"
     ]
    },
    {
     "name": "stderr",
     "output_type": "stream",
     "text": [
      "/home/adam/Dropbox/WorkProjects/venv_main/lib/python3.6/site-packages/numpy/core/_asarray.py:83: VisibleDeprecationWarning: Creating an ndarray from ragged nested sequences (which is a list-or-tuple of lists-or-tuples-or ndarrays with different lengths or shapes) is deprecated. If you meant to do this, you must specify 'dtype=object' when creating the ndarray\n",
      "  return array(a, dtype, copy=False, order=order)\n"
     ]
    },
    {
     "name": "stdout",
     "output_type": "stream",
     "text": [
      "clf fit\n"
     ]
    },
    {
     "name": "stderr",
     "output_type": "stream",
     "text": [
      "/home/adam/Dropbox/WorkProjects/venv_main/lib/python3.6/site-packages/numpy/core/_asarray.py:83: VisibleDeprecationWarning: Creating an ndarray from ragged nested sequences (which is a list-or-tuple of lists-or-tuples-or ndarrays with different lengths or shapes) is deprecated. If you meant to do this, you must specify 'dtype=object' when creating the ndarray\n",
      "  return array(a, dtype, copy=False, order=order)\n"
     ]
    },
    {
     "name": "stdout",
     "output_type": "stream",
     "text": [
      "clf fit\n"
     ]
    },
    {
     "name": "stderr",
     "output_type": "stream",
     "text": [
      "/home/adam/Dropbox/WorkProjects/venv_main/lib/python3.6/site-packages/numpy/core/_asarray.py:83: VisibleDeprecationWarning: Creating an ndarray from ragged nested sequences (which is a list-or-tuple of lists-or-tuples-or ndarrays with different lengths or shapes) is deprecated. If you meant to do this, you must specify 'dtype=object' when creating the ndarray\n",
      "  return array(a, dtype, copy=False, order=order)\n"
     ]
    },
    {
     "name": "stdout",
     "output_type": "stream",
     "text": [
      "clf fit\n"
     ]
    },
    {
     "name": "stderr",
     "output_type": "stream",
     "text": [
      "/home/adam/Dropbox/WorkProjects/venv_main/lib/python3.6/site-packages/numpy/core/_asarray.py:83: VisibleDeprecationWarning: Creating an ndarray from ragged nested sequences (which is a list-or-tuple of lists-or-tuples-or ndarrays with different lengths or shapes) is deprecated. If you meant to do this, you must specify 'dtype=object' when creating the ndarray\n",
      "  return array(a, dtype, copy=False, order=order)\n"
     ]
    },
    {
     "name": "stdout",
     "output_type": "stream",
     "text": [
      "clf fit\n"
     ]
    },
    {
     "name": "stderr",
     "output_type": "stream",
     "text": [
      "/home/adam/Dropbox/WorkProjects/venv_main/lib/python3.6/site-packages/numpy/core/_asarray.py:83: VisibleDeprecationWarning: Creating an ndarray from ragged nested sequences (which is a list-or-tuple of lists-or-tuples-or ndarrays with different lengths or shapes) is deprecated. If you meant to do this, you must specify 'dtype=object' when creating the ndarray\n",
      "  return array(a, dtype, copy=False, order=order)\n"
     ]
    },
    {
     "name": "stdout",
     "output_type": "stream",
     "text": [
      "clf fit\n"
     ]
    },
    {
     "name": "stderr",
     "output_type": "stream",
     "text": [
      "/home/adam/Dropbox/WorkProjects/venv_main/lib/python3.6/site-packages/numpy/core/_asarray.py:83: VisibleDeprecationWarning: Creating an ndarray from ragged nested sequences (which is a list-or-tuple of lists-or-tuples-or ndarrays with different lengths or shapes) is deprecated. If you meant to do this, you must specify 'dtype=object' when creating the ndarray\n",
      "  return array(a, dtype, copy=False, order=order)\n"
     ]
    },
    {
     "name": "stdout",
     "output_type": "stream",
     "text": [
      "clf fit\n"
     ]
    },
    {
     "name": "stderr",
     "output_type": "stream",
     "text": [
      "/home/adam/Dropbox/WorkProjects/venv_main/lib/python3.6/site-packages/numpy/core/_asarray.py:83: VisibleDeprecationWarning: Creating an ndarray from ragged nested sequences (which is a list-or-tuple of lists-or-tuples-or ndarrays with different lengths or shapes) is deprecated. If you meant to do this, you must specify 'dtype=object' when creating the ndarray\n",
      "  return array(a, dtype, copy=False, order=order)\n"
     ]
    },
    {
     "name": "stdout",
     "output_type": "stream",
     "text": [
      "clf fit\n"
     ]
    },
    {
     "name": "stderr",
     "output_type": "stream",
     "text": [
      "/home/adam/Dropbox/WorkProjects/venv_main/lib/python3.6/site-packages/numpy/core/_asarray.py:83: VisibleDeprecationWarning: Creating an ndarray from ragged nested sequences (which is a list-or-tuple of lists-or-tuples-or ndarrays with different lengths or shapes) is deprecated. If you meant to do this, you must specify 'dtype=object' when creating the ndarray\n",
      "  return array(a, dtype, copy=False, order=order)\n"
     ]
    },
    {
     "name": "stdout",
     "output_type": "stream",
     "text": [
      "clf fit\n"
     ]
    },
    {
     "name": "stderr",
     "output_type": "stream",
     "text": [
      "/home/adam/Dropbox/WorkProjects/venv_main/lib/python3.6/site-packages/numpy/core/_asarray.py:83: VisibleDeprecationWarning: Creating an ndarray from ragged nested sequences (which is a list-or-tuple of lists-or-tuples-or ndarrays with different lengths or shapes) is deprecated. If you meant to do this, you must specify 'dtype=object' when creating the ndarray\n",
      "  return array(a, dtype, copy=False, order=order)\n"
     ]
    },
    {
     "name": "stdout",
     "output_type": "stream",
     "text": [
      "clf fit\n"
     ]
    },
    {
     "name": "stderr",
     "output_type": "stream",
     "text": [
      "/home/adam/Dropbox/WorkProjects/venv_main/lib/python3.6/site-packages/numpy/core/_asarray.py:83: VisibleDeprecationWarning: Creating an ndarray from ragged nested sequences (which is a list-or-tuple of lists-or-tuples-or ndarrays with different lengths or shapes) is deprecated. If you meant to do this, you must specify 'dtype=object' when creating the ndarray\n",
      "  return array(a, dtype, copy=False, order=order)\n"
     ]
    },
    {
     "name": "stdout",
     "output_type": "stream",
     "text": [
      "clf fit\n"
     ]
    },
    {
     "name": "stderr",
     "output_type": "stream",
     "text": [
      "/home/adam/Dropbox/WorkProjects/venv_main/lib/python3.6/site-packages/numpy/core/_asarray.py:83: VisibleDeprecationWarning: Creating an ndarray from ragged nested sequences (which is a list-or-tuple of lists-or-tuples-or ndarrays with different lengths or shapes) is deprecated. If you meant to do this, you must specify 'dtype=object' when creating the ndarray\n",
      "  return array(a, dtype, copy=False, order=order)\n"
     ]
    },
    {
     "name": "stdout",
     "output_type": "stream",
     "text": [
      "clf fit\n"
     ]
    },
    {
     "name": "stderr",
     "output_type": "stream",
     "text": [
      "/home/adam/Dropbox/WorkProjects/venv_main/lib/python3.6/site-packages/numpy/core/_asarray.py:83: VisibleDeprecationWarning: Creating an ndarray from ragged nested sequences (which is a list-or-tuple of lists-or-tuples-or ndarrays with different lengths or shapes) is deprecated. If you meant to do this, you must specify 'dtype=object' when creating the ndarray\n",
      "  return array(a, dtype, copy=False, order=order)\n"
     ]
    },
    {
     "name": "stdout",
     "output_type": "stream",
     "text": [
      "clf fit\n"
     ]
    },
    {
     "name": "stderr",
     "output_type": "stream",
     "text": [
      "/home/adam/Dropbox/WorkProjects/venv_main/lib/python3.6/site-packages/numpy/core/_asarray.py:83: VisibleDeprecationWarning: Creating an ndarray from ragged nested sequences (which is a list-or-tuple of lists-or-tuples-or ndarrays with different lengths or shapes) is deprecated. If you meant to do this, you must specify 'dtype=object' when creating the ndarray\n",
      "  return array(a, dtype, copy=False, order=order)\n"
     ]
    },
    {
     "name": "stdout",
     "output_type": "stream",
     "text": [
      "clf fit\n"
     ]
    },
    {
     "name": "stderr",
     "output_type": "stream",
     "text": [
      "/home/adam/Dropbox/WorkProjects/venv_main/lib/python3.6/site-packages/numpy/core/_asarray.py:83: VisibleDeprecationWarning: Creating an ndarray from ragged nested sequences (which is a list-or-tuple of lists-or-tuples-or ndarrays with different lengths or shapes) is deprecated. If you meant to do this, you must specify 'dtype=object' when creating the ndarray\n",
      "  return array(a, dtype, copy=False, order=order)\n"
     ]
    },
    {
     "name": "stdout",
     "output_type": "stream",
     "text": [
      "clf fit\n"
     ]
    },
    {
     "name": "stderr",
     "output_type": "stream",
     "text": [
      "/home/adam/Dropbox/WorkProjects/venv_main/lib/python3.6/site-packages/numpy/core/_asarray.py:83: VisibleDeprecationWarning: Creating an ndarray from ragged nested sequences (which is a list-or-tuple of lists-or-tuples-or ndarrays with different lengths or shapes) is deprecated. If you meant to do this, you must specify 'dtype=object' when creating the ndarray\n",
      "  return array(a, dtype, copy=False, order=order)\n"
     ]
    },
    {
     "name": "stdout",
     "output_type": "stream",
     "text": [
      "clf fit\n"
     ]
    },
    {
     "name": "stderr",
     "output_type": "stream",
     "text": [
      "/home/adam/Dropbox/WorkProjects/venv_main/lib/python3.6/site-packages/numpy/core/_asarray.py:83: VisibleDeprecationWarning: Creating an ndarray from ragged nested sequences (which is a list-or-tuple of lists-or-tuples-or ndarrays with different lengths or shapes) is deprecated. If you meant to do this, you must specify 'dtype=object' when creating the ndarray\n",
      "  return array(a, dtype, copy=False, order=order)\n"
     ]
    },
    {
     "name": "stdout",
     "output_type": "stream",
     "text": [
      "clf fit\n"
     ]
    },
    {
     "name": "stderr",
     "output_type": "stream",
     "text": [
      "/home/adam/Dropbox/WorkProjects/venv_main/lib/python3.6/site-packages/numpy/core/_asarray.py:83: VisibleDeprecationWarning: Creating an ndarray from ragged nested sequences (which is a list-or-tuple of lists-or-tuples-or ndarrays with different lengths or shapes) is deprecated. If you meant to do this, you must specify 'dtype=object' when creating the ndarray\n",
      "  return array(a, dtype, copy=False, order=order)\n"
     ]
    },
    {
     "name": "stdout",
     "output_type": "stream",
     "text": [
      "clf fit\n"
     ]
    },
    {
     "name": "stderr",
     "output_type": "stream",
     "text": [
      "/home/adam/Dropbox/WorkProjects/venv_main/lib/python3.6/site-packages/numpy/core/_asarray.py:83: VisibleDeprecationWarning: Creating an ndarray from ragged nested sequences (which is a list-or-tuple of lists-or-tuples-or ndarrays with different lengths or shapes) is deprecated. If you meant to do this, you must specify 'dtype=object' when creating the ndarray\n",
      "  return array(a, dtype, copy=False, order=order)\n"
     ]
    },
    {
     "name": "stdout",
     "output_type": "stream",
     "text": [
      "clf fit\n"
     ]
    },
    {
     "name": "stderr",
     "output_type": "stream",
     "text": [
      "/home/adam/Dropbox/WorkProjects/venv_main/lib/python3.6/site-packages/numpy/core/_asarray.py:83: VisibleDeprecationWarning: Creating an ndarray from ragged nested sequences (which is a list-or-tuple of lists-or-tuples-or ndarrays with different lengths or shapes) is deprecated. If you meant to do this, you must specify 'dtype=object' when creating the ndarray\n",
      "  return array(a, dtype, copy=False, order=order)\n"
     ]
    },
    {
     "name": "stdout",
     "output_type": "stream",
     "text": [
      "clf fit\n"
     ]
    },
    {
     "name": "stderr",
     "output_type": "stream",
     "text": [
      "/home/adam/Dropbox/WorkProjects/venv_main/lib/python3.6/site-packages/numpy/core/_asarray.py:83: VisibleDeprecationWarning: Creating an ndarray from ragged nested sequences (which is a list-or-tuple of lists-or-tuples-or ndarrays with different lengths or shapes) is deprecated. If you meant to do this, you must specify 'dtype=object' when creating the ndarray\n",
      "  return array(a, dtype, copy=False, order=order)\n"
     ]
    },
    {
     "name": "stdout",
     "output_type": "stream",
     "text": [
      "clf fit\n"
     ]
    },
    {
     "name": "stderr",
     "output_type": "stream",
     "text": [
      "/home/adam/Dropbox/WorkProjects/venv_main/lib/python3.6/site-packages/numpy/core/_asarray.py:83: VisibleDeprecationWarning: Creating an ndarray from ragged nested sequences (which is a list-or-tuple of lists-or-tuples-or ndarrays with different lengths or shapes) is deprecated. If you meant to do this, you must specify 'dtype=object' when creating the ndarray\n",
      "  return array(a, dtype, copy=False, order=order)\n"
     ]
    },
    {
     "name": "stdout",
     "output_type": "stream",
     "text": [
      "clf fit\n"
     ]
    },
    {
     "name": "stderr",
     "output_type": "stream",
     "text": [
      "/home/adam/Dropbox/WorkProjects/venv_main/lib/python3.6/site-packages/numpy/core/_asarray.py:83: VisibleDeprecationWarning: Creating an ndarray from ragged nested sequences (which is a list-or-tuple of lists-or-tuples-or ndarrays with different lengths or shapes) is deprecated. If you meant to do this, you must specify 'dtype=object' when creating the ndarray\n",
      "  return array(a, dtype, copy=False, order=order)\n"
     ]
    },
    {
     "name": "stdout",
     "output_type": "stream",
     "text": [
      "clf fit\n"
     ]
    },
    {
     "name": "stderr",
     "output_type": "stream",
     "text": [
      "/home/adam/Dropbox/WorkProjects/venv_main/lib/python3.6/site-packages/numpy/core/_asarray.py:83: VisibleDeprecationWarning: Creating an ndarray from ragged nested sequences (which is a list-or-tuple of lists-or-tuples-or ndarrays with different lengths or shapes) is deprecated. If you meant to do this, you must specify 'dtype=object' when creating the ndarray\n",
      "  return array(a, dtype, copy=False, order=order)\n"
     ]
    },
    {
     "name": "stdout",
     "output_type": "stream",
     "text": [
      "clf fit\n"
     ]
    },
    {
     "name": "stderr",
     "output_type": "stream",
     "text": [
      "/home/adam/Dropbox/WorkProjects/venv_main/lib/python3.6/site-packages/numpy/core/_asarray.py:83: VisibleDeprecationWarning: Creating an ndarray from ragged nested sequences (which is a list-or-tuple of lists-or-tuples-or ndarrays with different lengths or shapes) is deprecated. If you meant to do this, you must specify 'dtype=object' when creating the ndarray\n",
      "  return array(a, dtype, copy=False, order=order)\n"
     ]
    },
    {
     "name": "stdout",
     "output_type": "stream",
     "text": [
      "clf fit\n"
     ]
    },
    {
     "name": "stderr",
     "output_type": "stream",
     "text": [
      "/home/adam/Dropbox/WorkProjects/venv_main/lib/python3.6/site-packages/numpy/core/_asarray.py:83: VisibleDeprecationWarning: Creating an ndarray from ragged nested sequences (which is a list-or-tuple of lists-or-tuples-or ndarrays with different lengths or shapes) is deprecated. If you meant to do this, you must specify 'dtype=object' when creating the ndarray\n",
      "  return array(a, dtype, copy=False, order=order)\n"
     ]
    },
    {
     "name": "stdout",
     "output_type": "stream",
     "text": [
      "clf fit\n"
     ]
    },
    {
     "name": "stderr",
     "output_type": "stream",
     "text": [
      "/home/adam/Dropbox/WorkProjects/venv_main/lib/python3.6/site-packages/numpy/core/_asarray.py:83: VisibleDeprecationWarning: Creating an ndarray from ragged nested sequences (which is a list-or-tuple of lists-or-tuples-or ndarrays with different lengths or shapes) is deprecated. If you meant to do this, you must specify 'dtype=object' when creating the ndarray\n",
      "  return array(a, dtype, copy=False, order=order)\n"
     ]
    },
    {
     "name": "stdout",
     "output_type": "stream",
     "text": [
      "clf fit\n"
     ]
    },
    {
     "name": "stderr",
     "output_type": "stream",
     "text": [
      "/home/adam/Dropbox/WorkProjects/venv_main/lib/python3.6/site-packages/numpy/core/_asarray.py:83: VisibleDeprecationWarning: Creating an ndarray from ragged nested sequences (which is a list-or-tuple of lists-or-tuples-or ndarrays with different lengths or shapes) is deprecated. If you meant to do this, you must specify 'dtype=object' when creating the ndarray\n",
      "  return array(a, dtype, copy=False, order=order)\n"
     ]
    },
    {
     "name": "stdout",
     "output_type": "stream",
     "text": [
      "clf fit\n"
     ]
    },
    {
     "name": "stderr",
     "output_type": "stream",
     "text": [
      "/home/adam/Dropbox/WorkProjects/venv_main/lib/python3.6/site-packages/numpy/core/_asarray.py:83: VisibleDeprecationWarning: Creating an ndarray from ragged nested sequences (which is a list-or-tuple of lists-or-tuples-or ndarrays with different lengths or shapes) is deprecated. If you meant to do this, you must specify 'dtype=object' when creating the ndarray\n",
      "  return array(a, dtype, copy=False, order=order)\n"
     ]
    },
    {
     "name": "stdout",
     "output_type": "stream",
     "text": [
      "clf fit\n",
      "3\n"
     ]
    },
    {
     "name": "stderr",
     "output_type": "stream",
     "text": [
      "/home/adam/Dropbox/WorkProjects/venv_main/lib/python3.6/site-packages/numpy/core/_asarray.py:83: VisibleDeprecationWarning: Creating an ndarray from ragged nested sequences (which is a list-or-tuple of lists-or-tuples-or ndarrays with different lengths or shapes) is deprecated. If you meant to do this, you must specify 'dtype=object' when creating the ndarray\n",
      "  return array(a, dtype, copy=False, order=order)\n"
     ]
    },
    {
     "name": "stdout",
     "output_type": "stream",
     "text": [
      "clf fit\n"
     ]
    },
    {
     "name": "stderr",
     "output_type": "stream",
     "text": [
      "/home/adam/Dropbox/WorkProjects/venv_main/lib/python3.6/site-packages/numpy/core/_asarray.py:83: VisibleDeprecationWarning: Creating an ndarray from ragged nested sequences (which is a list-or-tuple of lists-or-tuples-or ndarrays with different lengths or shapes) is deprecated. If you meant to do this, you must specify 'dtype=object' when creating the ndarray\n",
      "  return array(a, dtype, copy=False, order=order)\n"
     ]
    },
    {
     "name": "stdout",
     "output_type": "stream",
     "text": [
      "clf fit\n"
     ]
    },
    {
     "name": "stderr",
     "output_type": "stream",
     "text": [
      "/home/adam/Dropbox/WorkProjects/venv_main/lib/python3.6/site-packages/numpy/core/_asarray.py:83: VisibleDeprecationWarning: Creating an ndarray from ragged nested sequences (which is a list-or-tuple of lists-or-tuples-or ndarrays with different lengths or shapes) is deprecated. If you meant to do this, you must specify 'dtype=object' when creating the ndarray\n",
      "  return array(a, dtype, copy=False, order=order)\n"
     ]
    },
    {
     "name": "stdout",
     "output_type": "stream",
     "text": [
      "clf fit\n"
     ]
    },
    {
     "name": "stderr",
     "output_type": "stream",
     "text": [
      "/home/adam/Dropbox/WorkProjects/venv_main/lib/python3.6/site-packages/numpy/core/_asarray.py:83: VisibleDeprecationWarning: Creating an ndarray from ragged nested sequences (which is a list-or-tuple of lists-or-tuples-or ndarrays with different lengths or shapes) is deprecated. If you meant to do this, you must specify 'dtype=object' when creating the ndarray\n",
      "  return array(a, dtype, copy=False, order=order)\n"
     ]
    },
    {
     "name": "stdout",
     "output_type": "stream",
     "text": [
      "clf fit\n"
     ]
    },
    {
     "name": "stderr",
     "output_type": "stream",
     "text": [
      "/home/adam/Dropbox/WorkProjects/venv_main/lib/python3.6/site-packages/numpy/core/_asarray.py:83: VisibleDeprecationWarning: Creating an ndarray from ragged nested sequences (which is a list-or-tuple of lists-or-tuples-or ndarrays with different lengths or shapes) is deprecated. If you meant to do this, you must specify 'dtype=object' when creating the ndarray\n",
      "  return array(a, dtype, copy=False, order=order)\n"
     ]
    },
    {
     "name": "stdout",
     "output_type": "stream",
     "text": [
      "clf fit\n"
     ]
    },
    {
     "name": "stderr",
     "output_type": "stream",
     "text": [
      "/home/adam/Dropbox/WorkProjects/venv_main/lib/python3.6/site-packages/numpy/core/_asarray.py:83: VisibleDeprecationWarning: Creating an ndarray from ragged nested sequences (which is a list-or-tuple of lists-or-tuples-or ndarrays with different lengths or shapes) is deprecated. If you meant to do this, you must specify 'dtype=object' when creating the ndarray\n",
      "  return array(a, dtype, copy=False, order=order)\n"
     ]
    },
    {
     "name": "stdout",
     "output_type": "stream",
     "text": [
      "clf fit\n"
     ]
    },
    {
     "name": "stderr",
     "output_type": "stream",
     "text": [
      "/home/adam/Dropbox/WorkProjects/venv_main/lib/python3.6/site-packages/numpy/core/_asarray.py:83: VisibleDeprecationWarning: Creating an ndarray from ragged nested sequences (which is a list-or-tuple of lists-or-tuples-or ndarrays with different lengths or shapes) is deprecated. If you meant to do this, you must specify 'dtype=object' when creating the ndarray\n",
      "  return array(a, dtype, copy=False, order=order)\n"
     ]
    },
    {
     "name": "stdout",
     "output_type": "stream",
     "text": [
      "clf fit\n"
     ]
    },
    {
     "name": "stderr",
     "output_type": "stream",
     "text": [
      "/home/adam/Dropbox/WorkProjects/venv_main/lib/python3.6/site-packages/numpy/core/_asarray.py:83: VisibleDeprecationWarning: Creating an ndarray from ragged nested sequences (which is a list-or-tuple of lists-or-tuples-or ndarrays with different lengths or shapes) is deprecated. If you meant to do this, you must specify 'dtype=object' when creating the ndarray\n",
      "  return array(a, dtype, copy=False, order=order)\n"
     ]
    },
    {
     "name": "stdout",
     "output_type": "stream",
     "text": [
      "clf fit\n"
     ]
    },
    {
     "name": "stderr",
     "output_type": "stream",
     "text": [
      "/home/adam/Dropbox/WorkProjects/venv_main/lib/python3.6/site-packages/numpy/core/_asarray.py:83: VisibleDeprecationWarning: Creating an ndarray from ragged nested sequences (which is a list-or-tuple of lists-or-tuples-or ndarrays with different lengths or shapes) is deprecated. If you meant to do this, you must specify 'dtype=object' when creating the ndarray\n",
      "  return array(a, dtype, copy=False, order=order)\n"
     ]
    },
    {
     "name": "stdout",
     "output_type": "stream",
     "text": [
      "clf fit\n"
     ]
    },
    {
     "name": "stderr",
     "output_type": "stream",
     "text": [
      "/home/adam/Dropbox/WorkProjects/venv_main/lib/python3.6/site-packages/numpy/core/_asarray.py:83: VisibleDeprecationWarning: Creating an ndarray from ragged nested sequences (which is a list-or-tuple of lists-or-tuples-or ndarrays with different lengths or shapes) is deprecated. If you meant to do this, you must specify 'dtype=object' when creating the ndarray\n",
      "  return array(a, dtype, copy=False, order=order)\n"
     ]
    },
    {
     "name": "stdout",
     "output_type": "stream",
     "text": [
      "clf fit\n"
     ]
    },
    {
     "name": "stderr",
     "output_type": "stream",
     "text": [
      "/home/adam/Dropbox/WorkProjects/venv_main/lib/python3.6/site-packages/numpy/core/_asarray.py:83: VisibleDeprecationWarning: Creating an ndarray from ragged nested sequences (which is a list-or-tuple of lists-or-tuples-or ndarrays with different lengths or shapes) is deprecated. If you meant to do this, you must specify 'dtype=object' when creating the ndarray\n",
      "  return array(a, dtype, copy=False, order=order)\n"
     ]
    },
    {
     "name": "stdout",
     "output_type": "stream",
     "text": [
      "clf fit\n"
     ]
    },
    {
     "name": "stderr",
     "output_type": "stream",
     "text": [
      "/home/adam/Dropbox/WorkProjects/venv_main/lib/python3.6/site-packages/numpy/core/_asarray.py:83: VisibleDeprecationWarning: Creating an ndarray from ragged nested sequences (which is a list-or-tuple of lists-or-tuples-or ndarrays with different lengths or shapes) is deprecated. If you meant to do this, you must specify 'dtype=object' when creating the ndarray\n",
      "  return array(a, dtype, copy=False, order=order)\n"
     ]
    },
    {
     "name": "stdout",
     "output_type": "stream",
     "text": [
      "clf fit\n"
     ]
    },
    {
     "name": "stderr",
     "output_type": "stream",
     "text": [
      "/home/adam/Dropbox/WorkProjects/venv_main/lib/python3.6/site-packages/numpy/core/_asarray.py:83: VisibleDeprecationWarning: Creating an ndarray from ragged nested sequences (which is a list-or-tuple of lists-or-tuples-or ndarrays with different lengths or shapes) is deprecated. If you meant to do this, you must specify 'dtype=object' when creating the ndarray\n",
      "  return array(a, dtype, copy=False, order=order)\n"
     ]
    },
    {
     "name": "stdout",
     "output_type": "stream",
     "text": [
      "clf fit\n"
     ]
    },
    {
     "name": "stderr",
     "output_type": "stream",
     "text": [
      "/home/adam/Dropbox/WorkProjects/venv_main/lib/python3.6/site-packages/numpy/core/_asarray.py:83: VisibleDeprecationWarning: Creating an ndarray from ragged nested sequences (which is a list-or-tuple of lists-or-tuples-or ndarrays with different lengths or shapes) is deprecated. If you meant to do this, you must specify 'dtype=object' when creating the ndarray\n",
      "  return array(a, dtype, copy=False, order=order)\n"
     ]
    },
    {
     "name": "stdout",
     "output_type": "stream",
     "text": [
      "clf fit\n"
     ]
    },
    {
     "name": "stderr",
     "output_type": "stream",
     "text": [
      "/home/adam/Dropbox/WorkProjects/venv_main/lib/python3.6/site-packages/numpy/core/_asarray.py:83: VisibleDeprecationWarning: Creating an ndarray from ragged nested sequences (which is a list-or-tuple of lists-or-tuples-or ndarrays with different lengths or shapes) is deprecated. If you meant to do this, you must specify 'dtype=object' when creating the ndarray\n",
      "  return array(a, dtype, copy=False, order=order)\n"
     ]
    },
    {
     "name": "stdout",
     "output_type": "stream",
     "text": [
      "clf fit\n"
     ]
    },
    {
     "name": "stderr",
     "output_type": "stream",
     "text": [
      "/home/adam/Dropbox/WorkProjects/venv_main/lib/python3.6/site-packages/numpy/core/_asarray.py:83: VisibleDeprecationWarning: Creating an ndarray from ragged nested sequences (which is a list-or-tuple of lists-or-tuples-or ndarrays with different lengths or shapes) is deprecated. If you meant to do this, you must specify 'dtype=object' when creating the ndarray\n",
      "  return array(a, dtype, copy=False, order=order)\n"
     ]
    },
    {
     "name": "stdout",
     "output_type": "stream",
     "text": [
      "clf fit\n"
     ]
    },
    {
     "name": "stderr",
     "output_type": "stream",
     "text": [
      "/home/adam/Dropbox/WorkProjects/venv_main/lib/python3.6/site-packages/numpy/core/_asarray.py:83: VisibleDeprecationWarning: Creating an ndarray from ragged nested sequences (which is a list-or-tuple of lists-or-tuples-or ndarrays with different lengths or shapes) is deprecated. If you meant to do this, you must specify 'dtype=object' when creating the ndarray\n",
      "  return array(a, dtype, copy=False, order=order)\n"
     ]
    },
    {
     "name": "stdout",
     "output_type": "stream",
     "text": [
      "clf fit\n"
     ]
    },
    {
     "name": "stderr",
     "output_type": "stream",
     "text": [
      "/home/adam/Dropbox/WorkProjects/venv_main/lib/python3.6/site-packages/numpy/core/_asarray.py:83: VisibleDeprecationWarning: Creating an ndarray from ragged nested sequences (which is a list-or-tuple of lists-or-tuples-or ndarrays with different lengths or shapes) is deprecated. If you meant to do this, you must specify 'dtype=object' when creating the ndarray\n",
      "  return array(a, dtype, copy=False, order=order)\n"
     ]
    },
    {
     "name": "stdout",
     "output_type": "stream",
     "text": [
      "clf fit\n"
     ]
    },
    {
     "name": "stderr",
     "output_type": "stream",
     "text": [
      "/home/adam/Dropbox/WorkProjects/venv_main/lib/python3.6/site-packages/numpy/core/_asarray.py:83: VisibleDeprecationWarning: Creating an ndarray from ragged nested sequences (which is a list-or-tuple of lists-or-tuples-or ndarrays with different lengths or shapes) is deprecated. If you meant to do this, you must specify 'dtype=object' when creating the ndarray\n",
      "  return array(a, dtype, copy=False, order=order)\n"
     ]
    },
    {
     "name": "stdout",
     "output_type": "stream",
     "text": [
      "clf fit\n"
     ]
    },
    {
     "name": "stderr",
     "output_type": "stream",
     "text": [
      "/home/adam/Dropbox/WorkProjects/venv_main/lib/python3.6/site-packages/numpy/core/_asarray.py:83: VisibleDeprecationWarning: Creating an ndarray from ragged nested sequences (which is a list-or-tuple of lists-or-tuples-or ndarrays with different lengths or shapes) is deprecated. If you meant to do this, you must specify 'dtype=object' when creating the ndarray\n",
      "  return array(a, dtype, copy=False, order=order)\n"
     ]
    },
    {
     "name": "stdout",
     "output_type": "stream",
     "text": [
      "clf fit\n"
     ]
    },
    {
     "name": "stderr",
     "output_type": "stream",
     "text": [
      "/home/adam/Dropbox/WorkProjects/venv_main/lib/python3.6/site-packages/numpy/core/_asarray.py:83: VisibleDeprecationWarning: Creating an ndarray from ragged nested sequences (which is a list-or-tuple of lists-or-tuples-or ndarrays with different lengths or shapes) is deprecated. If you meant to do this, you must specify 'dtype=object' when creating the ndarray\n",
      "  return array(a, dtype, copy=False, order=order)\n"
     ]
    },
    {
     "name": "stdout",
     "output_type": "stream",
     "text": [
      "clf fit\n"
     ]
    },
    {
     "name": "stderr",
     "output_type": "stream",
     "text": [
      "/home/adam/Dropbox/WorkProjects/venv_main/lib/python3.6/site-packages/numpy/core/_asarray.py:83: VisibleDeprecationWarning: Creating an ndarray from ragged nested sequences (which is a list-or-tuple of lists-or-tuples-or ndarrays with different lengths or shapes) is deprecated. If you meant to do this, you must specify 'dtype=object' when creating the ndarray\n",
      "  return array(a, dtype, copy=False, order=order)\n"
     ]
    },
    {
     "name": "stdout",
     "output_type": "stream",
     "text": [
      "clf fit\n"
     ]
    },
    {
     "name": "stderr",
     "output_type": "stream",
     "text": [
      "/home/adam/Dropbox/WorkProjects/venv_main/lib/python3.6/site-packages/numpy/core/_asarray.py:83: VisibleDeprecationWarning: Creating an ndarray from ragged nested sequences (which is a list-or-tuple of lists-or-tuples-or ndarrays with different lengths or shapes) is deprecated. If you meant to do this, you must specify 'dtype=object' when creating the ndarray\n",
      "  return array(a, dtype, copy=False, order=order)\n"
     ]
    },
    {
     "name": "stdout",
     "output_type": "stream",
     "text": [
      "clf fit\n"
     ]
    },
    {
     "name": "stderr",
     "output_type": "stream",
     "text": [
      "/home/adam/Dropbox/WorkProjects/venv_main/lib/python3.6/site-packages/numpy/core/_asarray.py:83: VisibleDeprecationWarning: Creating an ndarray from ragged nested sequences (which is a list-or-tuple of lists-or-tuples-or ndarrays with different lengths or shapes) is deprecated. If you meant to do this, you must specify 'dtype=object' when creating the ndarray\n",
      "  return array(a, dtype, copy=False, order=order)\n"
     ]
    },
    {
     "name": "stdout",
     "output_type": "stream",
     "text": [
      "clf fit\n"
     ]
    },
    {
     "name": "stderr",
     "output_type": "stream",
     "text": [
      "/home/adam/Dropbox/WorkProjects/venv_main/lib/python3.6/site-packages/numpy/core/_asarray.py:83: VisibleDeprecationWarning: Creating an ndarray from ragged nested sequences (which is a list-or-tuple of lists-or-tuples-or ndarrays with different lengths or shapes) is deprecated. If you meant to do this, you must specify 'dtype=object' when creating the ndarray\n",
      "  return array(a, dtype, copy=False, order=order)\n"
     ]
    },
    {
     "name": "stdout",
     "output_type": "stream",
     "text": [
      "clf fit\n",
      "4\n"
     ]
    },
    {
     "name": "stderr",
     "output_type": "stream",
     "text": [
      "/home/adam/Dropbox/WorkProjects/venv_main/lib/python3.6/site-packages/numpy/core/_asarray.py:83: VisibleDeprecationWarning: Creating an ndarray from ragged nested sequences (which is a list-or-tuple of lists-or-tuples-or ndarrays with different lengths or shapes) is deprecated. If you meant to do this, you must specify 'dtype=object' when creating the ndarray\n",
      "  return array(a, dtype, copy=False, order=order)\n"
     ]
    },
    {
     "name": "stdout",
     "output_type": "stream",
     "text": [
      "clf fit\n"
     ]
    },
    {
     "name": "stderr",
     "output_type": "stream",
     "text": [
      "/home/adam/Dropbox/WorkProjects/venv_main/lib/python3.6/site-packages/numpy/core/_asarray.py:83: VisibleDeprecationWarning: Creating an ndarray from ragged nested sequences (which is a list-or-tuple of lists-or-tuples-or ndarrays with different lengths or shapes) is deprecated. If you meant to do this, you must specify 'dtype=object' when creating the ndarray\n",
      "  return array(a, dtype, copy=False, order=order)\n"
     ]
    },
    {
     "name": "stdout",
     "output_type": "stream",
     "text": [
      "clf fit\n"
     ]
    },
    {
     "name": "stderr",
     "output_type": "stream",
     "text": [
      "/home/adam/Dropbox/WorkProjects/venv_main/lib/python3.6/site-packages/numpy/core/_asarray.py:83: VisibleDeprecationWarning: Creating an ndarray from ragged nested sequences (which is a list-or-tuple of lists-or-tuples-or ndarrays with different lengths or shapes) is deprecated. If you meant to do this, you must specify 'dtype=object' when creating the ndarray\n",
      "  return array(a, dtype, copy=False, order=order)\n"
     ]
    },
    {
     "name": "stdout",
     "output_type": "stream",
     "text": [
      "clf fit\n"
     ]
    },
    {
     "name": "stderr",
     "output_type": "stream",
     "text": [
      "/home/adam/Dropbox/WorkProjects/venv_main/lib/python3.6/site-packages/numpy/core/_asarray.py:83: VisibleDeprecationWarning: Creating an ndarray from ragged nested sequences (which is a list-or-tuple of lists-or-tuples-or ndarrays with different lengths or shapes) is deprecated. If you meant to do this, you must specify 'dtype=object' when creating the ndarray\n",
      "  return array(a, dtype, copy=False, order=order)\n"
     ]
    },
    {
     "name": "stdout",
     "output_type": "stream",
     "text": [
      "clf fit\n"
     ]
    },
    {
     "name": "stderr",
     "output_type": "stream",
     "text": [
      "/home/adam/Dropbox/WorkProjects/venv_main/lib/python3.6/site-packages/numpy/core/_asarray.py:83: VisibleDeprecationWarning: Creating an ndarray from ragged nested sequences (which is a list-or-tuple of lists-or-tuples-or ndarrays with different lengths or shapes) is deprecated. If you meant to do this, you must specify 'dtype=object' when creating the ndarray\n",
      "  return array(a, dtype, copy=False, order=order)\n"
     ]
    },
    {
     "name": "stdout",
     "output_type": "stream",
     "text": [
      "clf fit\n"
     ]
    },
    {
     "name": "stderr",
     "output_type": "stream",
     "text": [
      "/home/adam/Dropbox/WorkProjects/venv_main/lib/python3.6/site-packages/numpy/core/_asarray.py:83: VisibleDeprecationWarning: Creating an ndarray from ragged nested sequences (which is a list-or-tuple of lists-or-tuples-or ndarrays with different lengths or shapes) is deprecated. If you meant to do this, you must specify 'dtype=object' when creating the ndarray\n",
      "  return array(a, dtype, copy=False, order=order)\n"
     ]
    },
    {
     "name": "stdout",
     "output_type": "stream",
     "text": [
      "clf fit\n"
     ]
    },
    {
     "name": "stderr",
     "output_type": "stream",
     "text": [
      "/home/adam/Dropbox/WorkProjects/venv_main/lib/python3.6/site-packages/numpy/core/_asarray.py:83: VisibleDeprecationWarning: Creating an ndarray from ragged nested sequences (which is a list-or-tuple of lists-or-tuples-or ndarrays with different lengths or shapes) is deprecated. If you meant to do this, you must specify 'dtype=object' when creating the ndarray\n",
      "  return array(a, dtype, copy=False, order=order)\n"
     ]
    },
    {
     "name": "stdout",
     "output_type": "stream",
     "text": [
      "clf fit\n"
     ]
    },
    {
     "name": "stderr",
     "output_type": "stream",
     "text": [
      "/home/adam/Dropbox/WorkProjects/venv_main/lib/python3.6/site-packages/numpy/core/_asarray.py:83: VisibleDeprecationWarning: Creating an ndarray from ragged nested sequences (which is a list-or-tuple of lists-or-tuples-or ndarrays with different lengths or shapes) is deprecated. If you meant to do this, you must specify 'dtype=object' when creating the ndarray\n",
      "  return array(a, dtype, copy=False, order=order)\n"
     ]
    },
    {
     "name": "stdout",
     "output_type": "stream",
     "text": [
      "clf fit\n"
     ]
    },
    {
     "name": "stderr",
     "output_type": "stream",
     "text": [
      "/home/adam/Dropbox/WorkProjects/venv_main/lib/python3.6/site-packages/numpy/core/_asarray.py:83: VisibleDeprecationWarning: Creating an ndarray from ragged nested sequences (which is a list-or-tuple of lists-or-tuples-or ndarrays with different lengths or shapes) is deprecated. If you meant to do this, you must specify 'dtype=object' when creating the ndarray\n",
      "  return array(a, dtype, copy=False, order=order)\n"
     ]
    },
    {
     "name": "stdout",
     "output_type": "stream",
     "text": [
      "clf fit\n"
     ]
    },
    {
     "name": "stderr",
     "output_type": "stream",
     "text": [
      "/home/adam/Dropbox/WorkProjects/venv_main/lib/python3.6/site-packages/numpy/core/_asarray.py:83: VisibleDeprecationWarning: Creating an ndarray from ragged nested sequences (which is a list-or-tuple of lists-or-tuples-or ndarrays with different lengths or shapes) is deprecated. If you meant to do this, you must specify 'dtype=object' when creating the ndarray\n",
      "  return array(a, dtype, copy=False, order=order)\n"
     ]
    },
    {
     "name": "stdout",
     "output_type": "stream",
     "text": [
      "clf fit\n"
     ]
    },
    {
     "name": "stderr",
     "output_type": "stream",
     "text": [
      "/home/adam/Dropbox/WorkProjects/venv_main/lib/python3.6/site-packages/numpy/core/_asarray.py:83: VisibleDeprecationWarning: Creating an ndarray from ragged nested sequences (which is a list-or-tuple of lists-or-tuples-or ndarrays with different lengths or shapes) is deprecated. If you meant to do this, you must specify 'dtype=object' when creating the ndarray\n",
      "  return array(a, dtype, copy=False, order=order)\n"
     ]
    },
    {
     "name": "stdout",
     "output_type": "stream",
     "text": [
      "clf fit\n"
     ]
    },
    {
     "name": "stderr",
     "output_type": "stream",
     "text": [
      "/home/adam/Dropbox/WorkProjects/venv_main/lib/python3.6/site-packages/numpy/core/_asarray.py:83: VisibleDeprecationWarning: Creating an ndarray from ragged nested sequences (which is a list-or-tuple of lists-or-tuples-or ndarrays with different lengths or shapes) is deprecated. If you meant to do this, you must specify 'dtype=object' when creating the ndarray\n",
      "  return array(a, dtype, copy=False, order=order)\n"
     ]
    },
    {
     "name": "stdout",
     "output_type": "stream",
     "text": [
      "clf fit\n"
     ]
    },
    {
     "name": "stderr",
     "output_type": "stream",
     "text": [
      "/home/adam/Dropbox/WorkProjects/venv_main/lib/python3.6/site-packages/numpy/core/_asarray.py:83: VisibleDeprecationWarning: Creating an ndarray from ragged nested sequences (which is a list-or-tuple of lists-or-tuples-or ndarrays with different lengths or shapes) is deprecated. If you meant to do this, you must specify 'dtype=object' when creating the ndarray\n",
      "  return array(a, dtype, copy=False, order=order)\n"
     ]
    },
    {
     "name": "stdout",
     "output_type": "stream",
     "text": [
      "clf fit\n"
     ]
    },
    {
     "name": "stderr",
     "output_type": "stream",
     "text": [
      "/home/adam/Dropbox/WorkProjects/venv_main/lib/python3.6/site-packages/numpy/core/_asarray.py:83: VisibleDeprecationWarning: Creating an ndarray from ragged nested sequences (which is a list-or-tuple of lists-or-tuples-or ndarrays with different lengths or shapes) is deprecated. If you meant to do this, you must specify 'dtype=object' when creating the ndarray\n",
      "  return array(a, dtype, copy=False, order=order)\n"
     ]
    },
    {
     "name": "stdout",
     "output_type": "stream",
     "text": [
      "clf fit\n"
     ]
    },
    {
     "name": "stderr",
     "output_type": "stream",
     "text": [
      "/home/adam/Dropbox/WorkProjects/venv_main/lib/python3.6/site-packages/numpy/core/_asarray.py:83: VisibleDeprecationWarning: Creating an ndarray from ragged nested sequences (which is a list-or-tuple of lists-or-tuples-or ndarrays with different lengths or shapes) is deprecated. If you meant to do this, you must specify 'dtype=object' when creating the ndarray\n",
      "  return array(a, dtype, copy=False, order=order)\n"
     ]
    },
    {
     "name": "stdout",
     "output_type": "stream",
     "text": [
      "clf fit\n"
     ]
    },
    {
     "name": "stderr",
     "output_type": "stream",
     "text": [
      "/home/adam/Dropbox/WorkProjects/venv_main/lib/python3.6/site-packages/numpy/core/_asarray.py:83: VisibleDeprecationWarning: Creating an ndarray from ragged nested sequences (which is a list-or-tuple of lists-or-tuples-or ndarrays with different lengths or shapes) is deprecated. If you meant to do this, you must specify 'dtype=object' when creating the ndarray\n",
      "  return array(a, dtype, copy=False, order=order)\n"
     ]
    },
    {
     "name": "stdout",
     "output_type": "stream",
     "text": [
      "clf fit\n"
     ]
    },
    {
     "name": "stderr",
     "output_type": "stream",
     "text": [
      "/home/adam/Dropbox/WorkProjects/venv_main/lib/python3.6/site-packages/numpy/core/_asarray.py:83: VisibleDeprecationWarning: Creating an ndarray from ragged nested sequences (which is a list-or-tuple of lists-or-tuples-or ndarrays with different lengths or shapes) is deprecated. If you meant to do this, you must specify 'dtype=object' when creating the ndarray\n",
      "  return array(a, dtype, copy=False, order=order)\n"
     ]
    },
    {
     "name": "stdout",
     "output_type": "stream",
     "text": [
      "clf fit\n"
     ]
    },
    {
     "name": "stderr",
     "output_type": "stream",
     "text": [
      "/home/adam/Dropbox/WorkProjects/venv_main/lib/python3.6/site-packages/numpy/core/_asarray.py:83: VisibleDeprecationWarning: Creating an ndarray from ragged nested sequences (which is a list-or-tuple of lists-or-tuples-or ndarrays with different lengths or shapes) is deprecated. If you meant to do this, you must specify 'dtype=object' when creating the ndarray\n",
      "  return array(a, dtype, copy=False, order=order)\n"
     ]
    },
    {
     "name": "stdout",
     "output_type": "stream",
     "text": [
      "clf fit\n"
     ]
    },
    {
     "name": "stderr",
     "output_type": "stream",
     "text": [
      "/home/adam/Dropbox/WorkProjects/venv_main/lib/python3.6/site-packages/numpy/core/_asarray.py:83: VisibleDeprecationWarning: Creating an ndarray from ragged nested sequences (which is a list-or-tuple of lists-or-tuples-or ndarrays with different lengths or shapes) is deprecated. If you meant to do this, you must specify 'dtype=object' when creating the ndarray\n",
      "  return array(a, dtype, copy=False, order=order)\n"
     ]
    },
    {
     "name": "stdout",
     "output_type": "stream",
     "text": [
      "clf fit\n"
     ]
    },
    {
     "name": "stderr",
     "output_type": "stream",
     "text": [
      "/home/adam/Dropbox/WorkProjects/venv_main/lib/python3.6/site-packages/numpy/core/_asarray.py:83: VisibleDeprecationWarning: Creating an ndarray from ragged nested sequences (which is a list-or-tuple of lists-or-tuples-or ndarrays with different lengths or shapes) is deprecated. If you meant to do this, you must specify 'dtype=object' when creating the ndarray\n",
      "  return array(a, dtype, copy=False, order=order)\n"
     ]
    },
    {
     "name": "stdout",
     "output_type": "stream",
     "text": [
      "clf fit\n"
     ]
    },
    {
     "name": "stderr",
     "output_type": "stream",
     "text": [
      "/home/adam/Dropbox/WorkProjects/venv_main/lib/python3.6/site-packages/numpy/core/_asarray.py:83: VisibleDeprecationWarning: Creating an ndarray from ragged nested sequences (which is a list-or-tuple of lists-or-tuples-or ndarrays with different lengths or shapes) is deprecated. If you meant to do this, you must specify 'dtype=object' when creating the ndarray\n",
      "  return array(a, dtype, copy=False, order=order)\n"
     ]
    },
    {
     "name": "stdout",
     "output_type": "stream",
     "text": [
      "clf fit\n"
     ]
    },
    {
     "name": "stderr",
     "output_type": "stream",
     "text": [
      "/home/adam/Dropbox/WorkProjects/venv_main/lib/python3.6/site-packages/numpy/core/_asarray.py:83: VisibleDeprecationWarning: Creating an ndarray from ragged nested sequences (which is a list-or-tuple of lists-or-tuples-or ndarrays with different lengths or shapes) is deprecated. If you meant to do this, you must specify 'dtype=object' when creating the ndarray\n",
      "  return array(a, dtype, copy=False, order=order)\n"
     ]
    },
    {
     "name": "stdout",
     "output_type": "stream",
     "text": [
      "clf fit\n"
     ]
    },
    {
     "name": "stderr",
     "output_type": "stream",
     "text": [
      "/home/adam/Dropbox/WorkProjects/venv_main/lib/python3.6/site-packages/numpy/core/_asarray.py:83: VisibleDeprecationWarning: Creating an ndarray from ragged nested sequences (which is a list-or-tuple of lists-or-tuples-or ndarrays with different lengths or shapes) is deprecated. If you meant to do this, you must specify 'dtype=object' when creating the ndarray\n",
      "  return array(a, dtype, copy=False, order=order)\n"
     ]
    },
    {
     "name": "stdout",
     "output_type": "stream",
     "text": [
      "clf fit\n"
     ]
    },
    {
     "name": "stderr",
     "output_type": "stream",
     "text": [
      "/home/adam/Dropbox/WorkProjects/venv_main/lib/python3.6/site-packages/numpy/core/_asarray.py:83: VisibleDeprecationWarning: Creating an ndarray from ragged nested sequences (which is a list-or-tuple of lists-or-tuples-or ndarrays with different lengths or shapes) is deprecated. If you meant to do this, you must specify 'dtype=object' when creating the ndarray\n",
      "  return array(a, dtype, copy=False, order=order)\n"
     ]
    },
    {
     "name": "stdout",
     "output_type": "stream",
     "text": [
      "clf fit\n"
     ]
    },
    {
     "name": "stderr",
     "output_type": "stream",
     "text": [
      "/home/adam/Dropbox/WorkProjects/venv_main/lib/python3.6/site-packages/numpy/core/_asarray.py:83: VisibleDeprecationWarning: Creating an ndarray from ragged nested sequences (which is a list-or-tuple of lists-or-tuples-or ndarrays with different lengths or shapes) is deprecated. If you meant to do this, you must specify 'dtype=object' when creating the ndarray\n",
      "  return array(a, dtype, copy=False, order=order)\n"
     ]
    },
    {
     "name": "stdout",
     "output_type": "stream",
     "text": [
      "clf fit\n"
     ]
    }
   ],
   "source": [
    "bios = pkl.load(open('biosbias/data/BIOS_inferred.pkl','rb'))\n",
    "data = np.array(bios)\n",
    "print(f'Data: {len(data)}')\n",
    "\n",
    "# stratified split\n",
    "labels_all = [bio['title'] for bio in data]\n",
    "# train_test_split(data, test_size=0.20, random_state=42, stratify=labels_all)\n",
    "skf = StratifiedKFold(n_splits=5)\n",
    "skf.get_n_splits(bios, labels_all)\n",
    "print(skf)\n",
    "# StratifiedKFold(n_splits=2, random_state=None, shuffle=False)\n",
    "fold_ind = 0\n",
    "\n",
    "occ_classers_cv = {}\n",
    "for train_index, test_index in skf.split(data, labels_all):\n",
    "    print(fold_ind)\n",
    "    occ_classers_cv[fold_ind] = {}\n",
    "    occ_classers_cv[fold_ind]['inds'] = test_index\n",
    "    bios_data_train, bios_data_test = data[train_index], data[test_index]\n",
    "    \n",
    "    \n",
    "    # Train Occupation classifiers\n",
    "\n",
    "\n",
    "    X_train = [word_vector_featurize(p[\"bio\"], E) for p in bios_data_train]\n",
    "    X_val = X_test\n",
    "    X_test = [word_vector_featurize(p[\"bio\"], E) for p in bios_data_test]\n",
    "    G_train = [p[\"gender\"] for p in bios_data_train]\n",
    "    G_test = [p[\"gender\"] for p in bios_data_test]\n",
    "\n",
    "    G_val = G_test\n",
    "\n",
    "\n",
    "    occs = [\"surgeon\", \"software_engineer\", \"composer\", \"pastor\", \"comedian\", \"architect\", \"chiropractor\", \"accountant\", \"attorney\", \"filmmaker\", \"physician\", \"dentist\", \"photographer\", \"professor\", \"painter\", \"journalist\", \"poet\", \"personal_trainer\", \"teacher\", \"psychologist\",  \"model\", \"interior_designer\", \"yoga_teacher\", \"nurse\", \"dietitian\"]\n",
    "    for target_occ in occs:\n",
    "        Y_train = [p[\"title\"]==target_occ for p in bios_data_train]\n",
    "\n",
    "        Y_val = [p[\"title\"]==target_occ for p in bios_data_test]\n",
    "\n",
    "        Y_test = [p[\"title\"]==target_occ for p in bios_data_test]\n",
    "\n",
    "#         f_Y_train = [p[\"title\"]==target_occ for p in f_bios_train]\n",
    "#         f_Y_val = [p[\"title\"]==target_occ for p in f_bios_test]\n",
    "#         f_Y_test = [p[\"title\"]==target_occ for p in f_bios_test]\n",
    "\n",
    "\n",
    "        pred_bow_joint, clf_bow_joint = pred_clf([X_train, X_val, X_test], [Y_train, Y_val, Y_test], [G_train,G_val,G_test],balanced=True)\n",
    "\n",
    "#         pred_bow_f, clf_bow_f = pred_clf([f_X_train, f_X_val, f_X_test], [f_Y_train, f_Y_val, f_Y_test], [f_G_train,f_G_val,f_G_test],balanced=True)\n",
    "\n",
    "\n",
    "        occ_classers_cv[fold_ind][target_occ] = {}\n",
    "        occ_classers_cv[fold_ind][target_occ]['clf_bow_joint']= clf_bow_joint\n",
    "        occ_classers_cv[fold_ind][target_occ]['pred_bow_joint'] = pred_bow_joint\n",
    "#         occ_classers[target_occ]['clf_bow_f'] = clf_bow_f\n",
    "#         occ_classers[target_occ]['pred_bow_f'] = pred_bow_f\n",
    "    fold_ind += 1\n"
   ]
  },
  {
   "cell_type": "code",
   "execution_count": 56,
   "id": "imported-rhythm",
   "metadata": {},
   "outputs": [],
   "source": [
    "pkl.dump(occ_classers_cv,open('results/we_occ_classers_crossval.pkl','wb'))"
   ]
  },
  {
   "cell_type": "code",
   "execution_count": 57,
   "id": "acute-bottle",
   "metadata": {},
   "outputs": [],
   "source": [
    "totals_s = pkl.load(open('totals_single.pkl','rb'))"
   ]
  },
  {
   "cell_type": "code",
   "execution_count": 58,
   "id": "emerging-uncertainty",
   "metadata": {},
   "outputs": [
    {
     "data": {
      "text/plain": [
       "dict_keys(['surgeon', 'software_engineer', 'composer', 'pastor', 'comedian'])"
      ]
     },
     "execution_count": 58,
     "metadata": {},
     "output_type": "execute_result"
    }
   ],
   "source": [
    "totals_s.keys()"
   ]
  },
  {
   "cell_type": "code",
   "execution_count": 60,
   "id": "bound-stephen",
   "metadata": {},
   "outputs": [
    {
     "data": {
      "text/plain": [
       "(KFold(n_splits=5, random_state=17, shuffle=True),\n",
       " [(array([0.08454197]),\n",
       "   array([0., 0., 0., ..., 0., 0., 0.]),\n",
       "   SGDClassifier(class_weight='balanced', loss='log', random_state=42)),\n",
       "  (array([0.06986721]),\n",
       "   array([0., 0., 0., ..., 0., 0., 1.]),\n",
       "   SGDClassifier(class_weight='balanced', loss='log', random_state=42)),\n",
       "  (array([0.08074913]),\n",
       "   array([1., 0., 0., ..., 0., 0., 0.]),\n",
       "   SGDClassifier(class_weight='balanced', loss='log', random_state=42)),\n",
       "  (array([0.07187756]),\n",
       "   array([0., 0., 0., ..., 0., 0., 0.]),\n",
       "   SGDClassifier(class_weight='balanced', loss='log', random_state=42)),\n",
       "  (array([0.07056094]),\n",
       "   array([0., 0., 0., ..., 0., 0., 1.]),\n",
       "   SGDClassifier(class_weight='balanced', loss='log', random_state=42))])"
      ]
     },
     "execution_count": 60,
     "metadata": {},
     "output_type": "execute_result"
    }
   ],
   "source": [
    "totals_s['surgeon']"
   ]
  },
  {
   "cell_type": "code",
   "execution_count": 69,
   "id": "thrown-journalist",
   "metadata": {},
   "outputs": [
    {
     "name": "stdout",
     "output_type": "stream",
     "text": [
      "Data: 397907\n"
     ]
    }
   ],
   "source": [
    "bios = pkl.load(open('biosbias/data/BIOS_inferred.pkl','rb'))\n",
    "# def load_data(filename):\n",
    "data = bios\n",
    "print(f'Data: {len(data)}')\n",
    "\n",
    "# stratified split\n",
    "labels_all = [bio['title'] for bio in data]\n",
    "bios_data_train_val, bios_data_test = train_test_split(data, test_size=0.20, random_state=42, stratify=labels_all)\n",
    "\n",
    "labels_train_val = [bio['title'] for bio in bios_data_train_val]\n",
    "bios_data_train, bios_data_val = train_test_split(bios_data_train_val, test_size=0.25, random_state=42, stratify=labels_train_val)\n",
    "\n",
    "\n",
    "\n",
    "X_train = [word_vector_featurize(p[\"bio\"], E) for p in bios_data_train]\n",
    "X_val = [word_vector_featurize(p[\"bio\"], E) for p in bios_data_val]\n",
    "X_test = [word_vector_featurize(p[\"bio\"], E) for p in bios_data_test]\n",
    "\n",
    "G_train = [p[\"gender\"] for p in bios_data_train]\n",
    "G_val = [p[\"gender\"] for p in bios_data_val]\n",
    "G_test = [p[\"gender\"] for p in bios_data_test]\n",
    "\n",
    "bios_all = np.concatenate([bios_data_train,bios_data_test])\n",
    "G_all = np.concatenate([G_train,G_test])\n",
    "X_all = np.concatenate([X_train,X_test])\n",
    "X_all.shape\n",
    "\n",
    "Y_all = [p[\"title\"]==target_occ for p in bios_all]\n",
    "stacked_all = np.hstack([X_all,np.array([int(g == 'F') for g in G_all]).reshape(-1,1),np.array([int(g) for g in Y_all]).reshape(-1,1)])\n",
    "\n",
    "\n",
    "# ans = my_kfold(stacked_all, transfer_eval, n_folds=5,called_from_start=True)"
   ]
  },
  {
   "cell_type": "code",
   "execution_count": 82,
   "id": "vocal-nowhere",
   "metadata": {},
   "outputs": [],
   "source": [
    "target_occ='surgeon'\n",
    "kf = totals_s[target_occ][0]\n",
    "\n",
    "\n",
    "Y_all = [p[\"title\"]==target_occ for p in bios_all]\n",
    "stacked_all = np.hstack([X_all,np.array([int(g == 'F') for g in G_all]).reshape(-1,1),np.array([int(g) for g in Y_all]).reshape(-1,1)])\n",
    "\n",
    "# preds = np.zeros((29441+29370+29474+29272+29308)) #num women\n",
    "count = 0\n",
    "preds = []\n",
    "for (train_idx), test_idx in kf.split(stacked_all):\n",
    "#     print(len(test_idx))\n",
    "#     actual_inds = \n",
    "#     print(len(totals_s[target_occ][1][count][1]))\n",
    "    X_te = stacked_all[test_idx]\n",
    "    indexes_test = np.where(X_te[:, -2]==1)\n",
    "    preds.append(X_te[indexes_test])\n",
    "    count+=1\n",
    "    \n",
    "a=np.concatenate(preds, axis=0)[:,-1] #Y_true\n",
    "\n",
    "#     print(test_idx[:5])"
   ]
  },
  {
   "cell_type": "markdown",
   "id": "hollywood-conditions",
   "metadata": {},
   "source": [
    "# Train classifiers with pre-processing and get values for table"
   ]
  },
  {
   "cell_type": "code",
   "execution_count": 287,
   "id": "specialized-commerce",
   "metadata": {},
   "outputs": [],
   "source": [
    "# balanced\n",
    "\n",
    "occs_full = np.unique([p['title'] for p in bios_data_train])\n",
    "#make sample weights\n",
    "# sample_weights=[]\n",
    "valdict = {}\n",
    "for t in occs_full:\n",
    "        fval = _m[t] / max(_f[t],_m[t])\n",
    "        mval = _f[t] / max(_f[t],_m[t])\n",
    "        valdict[t] = {}\n",
    "        valdict[t]['F'] = fval\n",
    "        valdict[t]['M'] = mval\n",
    "    \n",
    "# for :\n",
    "sample_weights = np.array([valdict[p['title']][p['gender']] for p in bios_data_train])\n",
    "\n",
    "#  n_samples / (n_classes * np.bincount(​y)\n",
    "\n"
   ]
  },
  {
   "cell_type": "code",
   "execution_count": 302,
   "id": "binary-kansas",
   "metadata": {},
   "outputs": [],
   "source": [
    "classweights = len(Y_train)/np.bincount(Y_train)\n",
    "    \n",
    "class_weights_arr = np.array([classweights[int(k)] for k in Y_train])\n",
    "bal_sample_weights = sample_weights * class_weights_arr"
   ]
  },
  {
   "cell_type": "code",
   "execution_count": 304,
   "id": "seeing-prior",
   "metadata": {},
   "outputs": [
    {
     "name": "stderr",
     "output_type": "stream",
     "text": [
      "/home/adam/Dropbox/WorkProjects/venv_main/lib/python3.6/site-packages/numpy/core/_asarray.py:83: VisibleDeprecationWarning: Creating an ndarray from ragged nested sequences (which is a list-or-tuple of lists-or-tuples-or ndarrays with different lengths or shapes) is deprecated. If you meant to do this, you must specify 'dtype=object' when creating the ndarray\n",
      "  return array(a, dtype, copy=False, order=order)\n"
     ]
    },
    {
     "name": "stdout",
     "output_type": "stream",
     "text": [
      "clf fit\n"
     ]
    },
    {
     "name": "stderr",
     "output_type": "stream",
     "text": [
      "/home/adam/Dropbox/WorkProjects/venv_main/lib/python3.6/site-packages/numpy/core/_asarray.py:83: VisibleDeprecationWarning: Creating an ndarray from ragged nested sequences (which is a list-or-tuple of lists-or-tuples-or ndarrays with different lengths or shapes) is deprecated. If you meant to do this, you must specify 'dtype=object' when creating the ndarray\n",
      "  return array(a, dtype, copy=False, order=order)\n"
     ]
    },
    {
     "name": "stdout",
     "output_type": "stream",
     "text": [
      "clf fit\n"
     ]
    },
    {
     "name": "stderr",
     "output_type": "stream",
     "text": [
      "/home/adam/Dropbox/WorkProjects/venv_main/lib/python3.6/site-packages/numpy/core/_asarray.py:83: VisibleDeprecationWarning: Creating an ndarray from ragged nested sequences (which is a list-or-tuple of lists-or-tuples-or ndarrays with different lengths or shapes) is deprecated. If you meant to do this, you must specify 'dtype=object' when creating the ndarray\n",
      "  return array(a, dtype, copy=False, order=order)\n"
     ]
    },
    {
     "name": "stdout",
     "output_type": "stream",
     "text": [
      "clf fit\n"
     ]
    },
    {
     "name": "stderr",
     "output_type": "stream",
     "text": [
      "/home/adam/Dropbox/WorkProjects/venv_main/lib/python3.6/site-packages/numpy/core/_asarray.py:83: VisibleDeprecationWarning: Creating an ndarray from ragged nested sequences (which is a list-or-tuple of lists-or-tuples-or ndarrays with different lengths or shapes) is deprecated. If you meant to do this, you must specify 'dtype=object' when creating the ndarray\n",
      "  return array(a, dtype, copy=False, order=order)\n"
     ]
    },
    {
     "name": "stdout",
     "output_type": "stream",
     "text": [
      "clf fit\n"
     ]
    },
    {
     "name": "stderr",
     "output_type": "stream",
     "text": [
      "/home/adam/Dropbox/WorkProjects/venv_main/lib/python3.6/site-packages/numpy/core/_asarray.py:83: VisibleDeprecationWarning: Creating an ndarray from ragged nested sequences (which is a list-or-tuple of lists-or-tuples-or ndarrays with different lengths or shapes) is deprecated. If you meant to do this, you must specify 'dtype=object' when creating the ndarray\n",
      "  return array(a, dtype, copy=False, order=order)\n"
     ]
    },
    {
     "name": "stdout",
     "output_type": "stream",
     "text": [
      "clf fit\n"
     ]
    },
    {
     "name": "stderr",
     "output_type": "stream",
     "text": [
      "/home/adam/Dropbox/WorkProjects/venv_main/lib/python3.6/site-packages/numpy/core/_asarray.py:83: VisibleDeprecationWarning: Creating an ndarray from ragged nested sequences (which is a list-or-tuple of lists-or-tuples-or ndarrays with different lengths or shapes) is deprecated. If you meant to do this, you must specify 'dtype=object' when creating the ndarray\n",
      "  return array(a, dtype, copy=False, order=order)\n"
     ]
    },
    {
     "name": "stdout",
     "output_type": "stream",
     "text": [
      "clf fit\n"
     ]
    },
    {
     "name": "stderr",
     "output_type": "stream",
     "text": [
      "/home/adam/Dropbox/WorkProjects/venv_main/lib/python3.6/site-packages/numpy/core/_asarray.py:83: VisibleDeprecationWarning: Creating an ndarray from ragged nested sequences (which is a list-or-tuple of lists-or-tuples-or ndarrays with different lengths or shapes) is deprecated. If you meant to do this, you must specify 'dtype=object' when creating the ndarray\n",
      "  return array(a, dtype, copy=False, order=order)\n"
     ]
    },
    {
     "name": "stdout",
     "output_type": "stream",
     "text": [
      "clf fit\n"
     ]
    },
    {
     "name": "stderr",
     "output_type": "stream",
     "text": [
      "/home/adam/Dropbox/WorkProjects/venv_main/lib/python3.6/site-packages/numpy/core/_asarray.py:83: VisibleDeprecationWarning: Creating an ndarray from ragged nested sequences (which is a list-or-tuple of lists-or-tuples-or ndarrays with different lengths or shapes) is deprecated. If you meant to do this, you must specify 'dtype=object' when creating the ndarray\n",
      "  return array(a, dtype, copy=False, order=order)\n"
     ]
    },
    {
     "name": "stdout",
     "output_type": "stream",
     "text": [
      "clf fit\n"
     ]
    },
    {
     "name": "stderr",
     "output_type": "stream",
     "text": [
      "/home/adam/Dropbox/WorkProjects/venv_main/lib/python3.6/site-packages/numpy/core/_asarray.py:83: VisibleDeprecationWarning: Creating an ndarray from ragged nested sequences (which is a list-or-tuple of lists-or-tuples-or ndarrays with different lengths or shapes) is deprecated. If you meant to do this, you must specify 'dtype=object' when creating the ndarray\n",
      "  return array(a, dtype, copy=False, order=order)\n"
     ]
    },
    {
     "name": "stdout",
     "output_type": "stream",
     "text": [
      "clf fit\n"
     ]
    },
    {
     "name": "stderr",
     "output_type": "stream",
     "text": [
      "/home/adam/Dropbox/WorkProjects/venv_main/lib/python3.6/site-packages/numpy/core/_asarray.py:83: VisibleDeprecationWarning: Creating an ndarray from ragged nested sequences (which is a list-or-tuple of lists-or-tuples-or ndarrays with different lengths or shapes) is deprecated. If you meant to do this, you must specify 'dtype=object' when creating the ndarray\n",
      "  return array(a, dtype, copy=False, order=order)\n"
     ]
    },
    {
     "name": "stdout",
     "output_type": "stream",
     "text": [
      "clf fit\n"
     ]
    },
    {
     "name": "stderr",
     "output_type": "stream",
     "text": [
      "/home/adam/Dropbox/WorkProjects/venv_main/lib/python3.6/site-packages/numpy/core/_asarray.py:83: VisibleDeprecationWarning: Creating an ndarray from ragged nested sequences (which is a list-or-tuple of lists-or-tuples-or ndarrays with different lengths or shapes) is deprecated. If you meant to do this, you must specify 'dtype=object' when creating the ndarray\n",
      "  return array(a, dtype, copy=False, order=order)\n"
     ]
    },
    {
     "name": "stdout",
     "output_type": "stream",
     "text": [
      "clf fit\n"
     ]
    },
    {
     "name": "stderr",
     "output_type": "stream",
     "text": [
      "/home/adam/Dropbox/WorkProjects/venv_main/lib/python3.6/site-packages/numpy/core/_asarray.py:83: VisibleDeprecationWarning: Creating an ndarray from ragged nested sequences (which is a list-or-tuple of lists-or-tuples-or ndarrays with different lengths or shapes) is deprecated. If you meant to do this, you must specify 'dtype=object' when creating the ndarray\n",
      "  return array(a, dtype, copy=False, order=order)\n"
     ]
    },
    {
     "name": "stdout",
     "output_type": "stream",
     "text": [
      "clf fit\n"
     ]
    },
    {
     "name": "stderr",
     "output_type": "stream",
     "text": [
      "/home/adam/Dropbox/WorkProjects/venv_main/lib/python3.6/site-packages/numpy/core/_asarray.py:83: VisibleDeprecationWarning: Creating an ndarray from ragged nested sequences (which is a list-or-tuple of lists-or-tuples-or ndarrays with different lengths or shapes) is deprecated. If you meant to do this, you must specify 'dtype=object' when creating the ndarray\n",
      "  return array(a, dtype, copy=False, order=order)\n"
     ]
    },
    {
     "name": "stdout",
     "output_type": "stream",
     "text": [
      "clf fit\n"
     ]
    },
    {
     "name": "stderr",
     "output_type": "stream",
     "text": [
      "/home/adam/Dropbox/WorkProjects/venv_main/lib/python3.6/site-packages/numpy/core/_asarray.py:83: VisibleDeprecationWarning: Creating an ndarray from ragged nested sequences (which is a list-or-tuple of lists-or-tuples-or ndarrays with different lengths or shapes) is deprecated. If you meant to do this, you must specify 'dtype=object' when creating the ndarray\n",
      "  return array(a, dtype, copy=False, order=order)\n"
     ]
    },
    {
     "name": "stdout",
     "output_type": "stream",
     "text": [
      "clf fit\n"
     ]
    },
    {
     "name": "stderr",
     "output_type": "stream",
     "text": [
      "/home/adam/Dropbox/WorkProjects/venv_main/lib/python3.6/site-packages/numpy/core/_asarray.py:83: VisibleDeprecationWarning: Creating an ndarray from ragged nested sequences (which is a list-or-tuple of lists-or-tuples-or ndarrays with different lengths or shapes) is deprecated. If you meant to do this, you must specify 'dtype=object' when creating the ndarray\n",
      "  return array(a, dtype, copy=False, order=order)\n"
     ]
    },
    {
     "name": "stdout",
     "output_type": "stream",
     "text": [
      "clf fit\n"
     ]
    },
    {
     "name": "stderr",
     "output_type": "stream",
     "text": [
      "/home/adam/Dropbox/WorkProjects/venv_main/lib/python3.6/site-packages/numpy/core/_asarray.py:83: VisibleDeprecationWarning: Creating an ndarray from ragged nested sequences (which is a list-or-tuple of lists-or-tuples-or ndarrays with different lengths or shapes) is deprecated. If you meant to do this, you must specify 'dtype=object' when creating the ndarray\n",
      "  return array(a, dtype, copy=False, order=order)\n"
     ]
    },
    {
     "name": "stdout",
     "output_type": "stream",
     "text": [
      "clf fit\n"
     ]
    },
    {
     "name": "stderr",
     "output_type": "stream",
     "text": [
      "/home/adam/Dropbox/WorkProjects/venv_main/lib/python3.6/site-packages/numpy/core/_asarray.py:83: VisibleDeprecationWarning: Creating an ndarray from ragged nested sequences (which is a list-or-tuple of lists-or-tuples-or ndarrays with different lengths or shapes) is deprecated. If you meant to do this, you must specify 'dtype=object' when creating the ndarray\n",
      "  return array(a, dtype, copy=False, order=order)\n"
     ]
    },
    {
     "name": "stdout",
     "output_type": "stream",
     "text": [
      "clf fit\n"
     ]
    },
    {
     "name": "stderr",
     "output_type": "stream",
     "text": [
      "/home/adam/Dropbox/WorkProjects/venv_main/lib/python3.6/site-packages/numpy/core/_asarray.py:83: VisibleDeprecationWarning: Creating an ndarray from ragged nested sequences (which is a list-or-tuple of lists-or-tuples-or ndarrays with different lengths or shapes) is deprecated. If you meant to do this, you must specify 'dtype=object' when creating the ndarray\n",
      "  return array(a, dtype, copy=False, order=order)\n"
     ]
    },
    {
     "name": "stdout",
     "output_type": "stream",
     "text": [
      "clf fit\n"
     ]
    },
    {
     "name": "stderr",
     "output_type": "stream",
     "text": [
      "/home/adam/Dropbox/WorkProjects/venv_main/lib/python3.6/site-packages/numpy/core/_asarray.py:83: VisibleDeprecationWarning: Creating an ndarray from ragged nested sequences (which is a list-or-tuple of lists-or-tuples-or ndarrays with different lengths or shapes) is deprecated. If you meant to do this, you must specify 'dtype=object' when creating the ndarray\n",
      "  return array(a, dtype, copy=False, order=order)\n"
     ]
    },
    {
     "name": "stdout",
     "output_type": "stream",
     "text": [
      "clf fit\n"
     ]
    },
    {
     "name": "stderr",
     "output_type": "stream",
     "text": [
      "/home/adam/Dropbox/WorkProjects/venv_main/lib/python3.6/site-packages/numpy/core/_asarray.py:83: VisibleDeprecationWarning: Creating an ndarray from ragged nested sequences (which is a list-or-tuple of lists-or-tuples-or ndarrays with different lengths or shapes) is deprecated. If you meant to do this, you must specify 'dtype=object' when creating the ndarray\n",
      "  return array(a, dtype, copy=False, order=order)\n"
     ]
    },
    {
     "name": "stdout",
     "output_type": "stream",
     "text": [
      "clf fit\n"
     ]
    },
    {
     "name": "stderr",
     "output_type": "stream",
     "text": [
      "/home/adam/Dropbox/WorkProjects/venv_main/lib/python3.6/site-packages/numpy/core/_asarray.py:83: VisibleDeprecationWarning: Creating an ndarray from ragged nested sequences (which is a list-or-tuple of lists-or-tuples-or ndarrays with different lengths or shapes) is deprecated. If you meant to do this, you must specify 'dtype=object' when creating the ndarray\n",
      "  return array(a, dtype, copy=False, order=order)\n"
     ]
    },
    {
     "name": "stdout",
     "output_type": "stream",
     "text": [
      "clf fit\n"
     ]
    },
    {
     "name": "stderr",
     "output_type": "stream",
     "text": [
      "/home/adam/Dropbox/WorkProjects/venv_main/lib/python3.6/site-packages/numpy/core/_asarray.py:83: VisibleDeprecationWarning: Creating an ndarray from ragged nested sequences (which is a list-or-tuple of lists-or-tuples-or ndarrays with different lengths or shapes) is deprecated. If you meant to do this, you must specify 'dtype=object' when creating the ndarray\n",
      "  return array(a, dtype, copy=False, order=order)\n"
     ]
    },
    {
     "name": "stdout",
     "output_type": "stream",
     "text": [
      "clf fit\n"
     ]
    },
    {
     "name": "stderr",
     "output_type": "stream",
     "text": [
      "/home/adam/Dropbox/WorkProjects/venv_main/lib/python3.6/site-packages/numpy/core/_asarray.py:83: VisibleDeprecationWarning: Creating an ndarray from ragged nested sequences (which is a list-or-tuple of lists-or-tuples-or ndarrays with different lengths or shapes) is deprecated. If you meant to do this, you must specify 'dtype=object' when creating the ndarray\n",
      "  return array(a, dtype, copy=False, order=order)\n"
     ]
    },
    {
     "name": "stdout",
     "output_type": "stream",
     "text": [
      "clf fit\n"
     ]
    },
    {
     "name": "stderr",
     "output_type": "stream",
     "text": [
      "/home/adam/Dropbox/WorkProjects/venv_main/lib/python3.6/site-packages/numpy/core/_asarray.py:83: VisibleDeprecationWarning: Creating an ndarray from ragged nested sequences (which is a list-or-tuple of lists-or-tuples-or ndarrays with different lengths or shapes) is deprecated. If you meant to do this, you must specify 'dtype=object' when creating the ndarray\n",
      "  return array(a, dtype, copy=False, order=order)\n"
     ]
    },
    {
     "name": "stdout",
     "output_type": "stream",
     "text": [
      "clf fit\n"
     ]
    },
    {
     "name": "stderr",
     "output_type": "stream",
     "text": [
      "/home/adam/Dropbox/WorkProjects/venv_main/lib/python3.6/site-packages/numpy/core/_asarray.py:83: VisibleDeprecationWarning: Creating an ndarray from ragged nested sequences (which is a list-or-tuple of lists-or-tuples-or ndarrays with different lengths or shapes) is deprecated. If you meant to do this, you must specify 'dtype=object' when creating the ndarray\n",
      "  return array(a, dtype, copy=False, order=order)\n"
     ]
    },
    {
     "name": "stdout",
     "output_type": "stream",
     "text": [
      "clf fit\n"
     ]
    }
   ],
   "source": [
    "# Train Occupation classifiers\n",
    "\n",
    "\n",
    "occs = [\"surgeon\", \"software_engineer\", \"composer\", \"pastor\", \"comedian\", \"architect\", \"chiropractor\", \"accountant\", \"attorney\", \"filmmaker\", \"physician\", \"dentist\", \"photographer\", \"professor\", \"painter\", \"journalist\", \"poet\", \"personal_trainer\", \"teacher\", \"psychologist\",  \"model\", \"interior_designer\", \"yoga_teacher\", \"nurse\", \"dietitian\"]\n",
    "for target_occ in occs:\n",
    "    Y_train = [p[\"title\"]==target_occ for p in bios_data_train]\n",
    "\n",
    "    Y_val = [p[\"title\"]==target_occ for p in bios_data_val]\n",
    "\n",
    "    Y_test = [p[\"title\"]==target_occ for p in bios_data_test]\n",
    "    \n",
    "    classweights = len(Y_train)/np.bincount(Y_train)\n",
    "    \n",
    "    \n",
    "    class_weights_arr = np.array([classweights[int(k)] for k in Y_train])\n",
    "    bal_sample_weights = sample_weights * class_weights_arr\n",
    "    pred_bow_joint, clf_bow_joint = pred_clf([X_train, X_val, X_test], [Y_train, Y_val, Y_test], [G_train,G_val,G_test],sweights=bal_sample_weights)\n",
    "    \n",
    "#     pred_bow_f, clf_bow_f = pred_clf([f_X_train, f_X_val, f_X_test], [f_Y_train, f_Y_val, f_Y_test], [f_G_train,f_G_val,f_G_test],balanced=True)\n",
    "    \n",
    "    \n",
    "#     occ_classers[target_occ] = {}\n",
    "    occ_classers[target_occ]['clf_bow_joint_sampleweights'] = clf_bow_joint\n",
    "    occ_classers[target_occ]['pred_bow_joint'] = pred_bow_joint\n",
    "#     occ_classers[target_occ]['clf_bow_f'] = clf_bow_f\n",
    "#     occ_classers[target_occ]['pred_bow_f'] = pred_bow_f"
   ]
  },
  {
   "cell_type": "code",
   "execution_count": 305,
   "id": "outside-amsterdam",
   "metadata": {},
   "outputs": [
    {
     "name": "stderr",
     "output_type": "stream",
     "text": [
      "/home/adam/Dropbox/WorkProjects/venv_main/lib/python3.6/site-packages/numpy/core/_asarray.py:83: VisibleDeprecationWarning: Creating an ndarray from ragged nested sequences (which is a list-or-tuple of lists-or-tuples-or ndarrays with different lengths or shapes) is deprecated. If you meant to do this, you must specify 'dtype=object' when creating the ndarray\n",
      "  return array(a, dtype, copy=False, order=order)\n"
     ]
    },
    {
     "name": "stdout",
     "output_type": "stream",
     "text": [
      "clf fit\n"
     ]
    }
   ],
   "source": [
    "#train 25-way\n",
    "Y_train = [p[\"title\"] for p in bios_data_train]\n",
    "\n",
    "Y_val = [p[\"title\"] for p in bios_data_val]\n",
    "\n",
    "Y_test = [p[\"title\"] for p in bios_data_test]\n",
    "pred_bow_joint, clf_bow_joint = pred_clf([X_train, X_val, X_test], [Y_train, Y_val, Y_test], [G_train,G_val,G_test],sweights=sample_weights)\n",
    "occ_classers['all']['clf_bow_joint_sampleweights'] = clf_bow_joint"
   ]
  },
  {
   "cell_type": "code",
   "execution_count": 306,
   "id": "legitimate-salad",
   "metadata": {},
   "outputs": [],
   "source": [
    "f_frac = np.load('results/f_frac.npy')\n",
    "y_preds_eo = pkl.load(open('results/we_eo_y_preds.pkl','rb'))\n",
    "joint_corr_sample = []\n",
    "# decoupled_corr_full = []\n",
    "# eo_corr_full = []\n",
    "for target_occ in occs:\n",
    "    cand_women = [p for p in bios_data_test if p[\"title\"]==target_occ and p['gender']=='F']\n",
    "    cand_women_inds = np.array([i for i,p in enumerate(bios_data_test) if p[\"title\"]==target_occ and p['gender']=='F'])\n",
    "    cand_women_X_full =  [word_vector_featurize(p[\"bio\"], E) for p in cand_women]\n",
    "    gender_probs = balanced_gender_clf.predict_proba(cand_women_X_full)[:,0]\n",
    "    \n",
    "    occ_probs = occ_classers[target_occ]['clf_bow_joint_sampleweights'].predict_proba(cand_women_X_full)[:,1]\n",
    "    corr = scipy.stats.pearsonr(occ_probs,gender_probs)[0]\n",
    "    joint_corr_sample.append(corr)"
   ]
  },
  {
   "cell_type": "code",
   "execution_count": 363,
   "id": "prescribed-recorder",
   "metadata": {},
   "outputs": [
    {
     "name": "stdout",
     "output_type": "stream",
     "text": [
      "0.038429855218008985\n"
     ]
    }
   ],
   "source": [
    "print(np.cov(f_frac,joint_corr_sample[:25])[0,1])"
   ]
  },
  {
   "cell_type": "code",
   "execution_count": 308,
   "id": "committed-clone",
   "metadata": {},
   "outputs": [
    {
     "name": "stdout",
     "output_type": "stream",
     "text": [
      "0.9714307255409516\n"
     ]
    }
   ],
   "source": [
    "\n",
    "accs = []\n",
    "for target_occ in occs:\n",
    "    Y_test = [p[\"title\"]==target_occ for p in bios_data_test]\n",
    "    \n",
    "    accs.append(sklearn.metrics.accuracy_score(Y_test,pps[target_occ][1]))\n",
    "print(np.mean(accs))"
   ]
  },
  {
   "cell_type": "code",
   "execution_count": 365,
   "id": "another-coating",
   "metadata": {},
   "outputs": [],
   "source": [
    "pkl.dump((joint_corr_full,decoupled_corr_full,tpr_corr_full,joint_corr_sample),open('results/corrs_we.pkl','wb'))"
   ]
  },
  {
   "cell_type": "markdown",
   "id": "incredible-japanese",
   "metadata": {},
   "source": [
    "# Spearman correlation"
   ]
  },
  {
   "cell_type": "code",
   "execution_count": 397,
   "id": "realistic-nowhere",
   "metadata": {},
   "outputs": [],
   "source": [
    "from scipy.stats import spearmanr"
   ]
  },
  {
   "cell_type": "code",
   "execution_count": 399,
   "id": "animated-satin",
   "metadata": {},
   "outputs": [],
   "source": [
    "# get correlations r_c for joint, decoupled, and balancing TPR\n",
    "f_frac = np.load('results/f_frac.npy')\n",
    "y_preds_tpr = pkl.load(open('results/we_tpr_fairlearn_preds.pkl','rb'))\n",
    "joint_corr_full = []\n",
    "decoupled_corr_full = []\n",
    "tpr_corr_full = []\n",
    "joint_corr_sample = []\n",
    "for target_occ in occs:\n",
    "    cand_women = [p for p in bios_data_test if p[\"title\"]==target_occ and p['gender']=='F']\n",
    "    cand_women_inds = np.array([i for i,p in enumerate(bios_data_test) if p[\"title\"]==target_occ and p['gender']=='F'])\n",
    "    cand_women_X_full =  [word_vector_featurize(p[\"bio\"], E) for p in cand_women]\n",
    "    gender_probs = balanced_gender_clf.predict_proba(cand_women_X_full)[:,0]\n",
    "    \n",
    "    occ_probs = occ_classers[target_occ]['clf_bow_joint'].predict_proba(cand_women_X_full)[:,1]\n",
    "    corr = spearmanr(occ_probs,gender_probs)[0]\n",
    "    joint_corr_full.append(corr)\n",
    "    \n",
    "    occ_probs = occ_classers[target_occ]['clf_bow_f'].predict_proba(cand_women_X_full)[:,1]\n",
    "    corr = spearmanr(occ_probs,gender_probs)[0]\n",
    "    decoupled_corr_full.append(corr)\n",
    "\n",
    "    occ_probs =  y_preds_tpr[target_occ][cand_women_inds][:,1]\n",
    "    corr = spearmanr(occ_probs,gender_probs)[0]\n",
    "\n",
    "    tpr_corr_full.append(corr)\n",
    "    \n",
    "    \n",
    "    occ_probs = occ_classers[target_occ]['clf_bow_joint_sampleweights'].predict_proba(cand_women_X_full)[:,1]\n",
    "    corr = spearmanr(occ_probs,gender_probs)[0]\n",
    "    joint_corr_sample.append(corr)"
   ]
  },
  {
   "cell_type": "code",
   "execution_count": 401,
   "id": "immediate-atlantic",
   "metadata": {},
   "outputs": [
    {
     "name": "stdout",
     "output_type": "stream",
     "text": [
      "PR, PO, DE, RE\n",
      "0.04574952845739755\n",
      "0.05677285312865159\n",
      "0.05050801684695415\n",
      "0.010954827048626251\n"
     ]
    }
   ],
   "source": [
    "print(\"PR, PO, DE, RE\")\n",
    "print(np.cov(f_frac,joint_corr_sample[:25])[0,1])\n",
    "print(np.cov(f_frac,joint_corr_full[:25])[0,1])\n",
    "print(np.cov(f_frac,decoupled_corr_full[:25])[0,1])\n",
    "print(np.cov(f_frac,tpr_corr_full[:25])[0,1])\n"
   ]
  },
  {
   "cell_type": "code",
   "execution_count": 402,
   "id": "affecting-hunter",
   "metadata": {},
   "outputs": [],
   "source": [
    "pkl.dump((joint_corr_full,decoupled_corr_full,tpr_corr_full,joint_corr_sample),open('results/corrs_we_spearman.pkl','wb'))"
   ]
  },
  {
   "cell_type": "code",
   "execution_count": null,
   "id": "hazardous-settlement",
   "metadata": {},
   "outputs": [],
   "source": [
    "words = np.array(vectorizer.get_feature_names())\n",
    "# occs = [\"surgeon\", \"software_engineer\", \"composer\", \"pastor\", \"comedian\", \"architect\", \"chiropractor\", \"accountant\", \"attorney\", \"filmmaker\", \"physician\", \"dentist\", \"photographer\", \"professor\", \"painter\", \"journalist\", \"poet\", \"personal_trainer\", \"teacher\", \"psychologist\",  \"model\", \"interior_designer\", \"yoga_teacher\", \"nurse\", \"dietitian\"]\n",
    "all_proxy_words = []\n",
    "for target_occ in occs:\n",
    "    print(target_occ)\n",
    "    gender_dots = balanced_gender_clf.coef_[0]\n",
    "    f_dots = occ_classers[target_occ]['clf_bow_f'].coef_[0]\n",
    "    m_dots = occ_classers[target_occ]['clm_bow_m'].coef_[0]\n",
    "    j_dots = occ_classers[target_occ]['clf_bow_joint'].coef_[0]\n",
    "    \n",
    "    small_thr = 0.7\n",
    "    gender_thr = 0.45\n",
    "    #feminine\n",
    "    inds = np.where(((abs(j_dots) < small_thr*abs(f_dots)) & (abs(j_dots) < small_thr*abs(m_dots))) & ((gender_dots < -gender_thr) & (abs(f_dots)>gender_thr)))[0]\n",
    "    print(words[inds])\n",
    "    all_proxy_words.extend(words[inds])\n",
    "    #masculine\n",
    "    inds = np.where(((abs(j_dots) < small_thr*abs(f_dots)) & (abs(j_dots) < small_thr*abs(m_dots))) & ((gender_dots >gender_thr) & (abs(f_dots)>gender_thr)))[0]\n",
    "\n",
    "    print(words[inds])\n",
    "    all_proxy_words.extend(words[inds])\n",
    "#     print(j_dots[indsextef_dots[inds])\n",
    "print(set(all_proxy_words))"
   ]
  }
 ],
 "metadata": {
  "kernelspec": {
   "display_name": "Python 3",
   "language": "python",
   "name": "python3"
  },
  "language_info": {
   "codemirror_mode": {
    "name": "ipython",
    "version": 3
   },
   "file_extension": ".py",
   "mimetype": "text/x-python",
   "name": "python",
   "nbconvert_exporter": "python",
   "pygments_lexer": "ipython3",
   "version": "3.6.13"
  }
 },
 "nbformat": 4,
 "nbformat_minor": 5
}
