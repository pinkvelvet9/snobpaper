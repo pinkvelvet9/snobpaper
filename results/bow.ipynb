{
 "cells": [
  {
   "cell_type": "markdown",
   "id": "particular-sunday",
   "metadata": {},
   "source": [
    "# Train occupation classifiers and gender classifier using bag-of-words representation\n",
    "\n",
    "## load bios"
   ]
  },
  {
   "cell_type": "code",
   "execution_count": null,
   "id": "automated-grenada",
   "metadata": {},
   "outputs": [],
   "source": [
    "%pylab inline\n",
    "from collections import Counter\n",
    "import http.client, urllib.parse, json, time, sys\n",
    "from glob import glob\n",
    "from bs4 import BeautifulSoup as Soup\n",
    "sys.path.append(\"../words\")\n",
    "import we\n",
    "from sklearn.svm import LinearSVC, SVC\n",
    "import numpy as np\n",
    "import re, sys\n",
    "import random\n",
    "import scipy\n",
    "from adjustText import adjust_text\n",
    "\n",
    "import statsmodels.stats.proportion\n",
    "from sklearn.tree import DecisionTreeClassifier\n",
    "from sklearn.cluster import KMeans\n",
    "from sklearn.linear_model import LinearRegression\n",
    "from sklearn.ensemble import AdaBoostClassifier, RandomForestClassifier\n",
    "import sklearn.feature_selection \n",
    "from nltk.stem.porter import *\n",
    "from sklearn.cluster import KMeans\n",
    "from sklearn import preprocessing\n",
    "from sklearn.model_selection import StratifiedShuffleSplit\n",
    "from sklearn.model_selection import GridSearchCV\n",
    "from sklearn.model_selection import StratifiedKFold\n",
    "import time\n",
    "import os, json\n",
    "import re\n",
    "import textblob\n",
    "import langdetect\n",
    "import pickle as pkl\n",
    "from sklearn.manifold import TSNE\n",
    "from sklearn.model_selection import StratifiedKFold\n",
    "from bs4 import BeautifulSoup\n",
    "from random import randint\n",
    "from sklearn.feature_extraction.text import CountVectorizer\n",
    "from sklearn.model_selection import train_test_split\n",
    "from sklearn import linear_model\n",
    "import matplotlib.pyplot as plt\n",
    "import we\n",
    "pylab.rcParams['figure.figsize'] = (10, 6)\n",
    "\n",
    "\n",
    "# Data cleaning and preprocessing\n",
    "\n",
    "### Load CommonCrawl data and clean\n",
    "\n",
    "inv_titles = {'Accountant': 'accountant',\n",
    " 'Architect': 'architect',\n",
    " 'Assistant Professor': 'professor',\n",
    " 'Associate Professor': 'professor',\n",
    " 'Attorney': 'attorney',\n",
    " 'Certified Personal Trainer': 'personal_trainer',\n",
    " 'Certified Public Accountant': 'accountant',\n",
    " 'Chiropractor': 'chiropractor',\n",
    " 'Comedian': 'comedian',\n",
    " 'Composer': 'composer',\n",
    " 'Cpa': 'accountant',\n",
    " 'Dentist': 'dentist',\n",
    " 'Dietitian': 'dietitian',\n",
    "#  'Dj': 'dj',\n",
    " 'Filmmaker': 'filmmaker',\n",
    " 'Interior Designer': 'interior_designer',\n",
    " 'Journalist': 'journalist',\n",
    " 'Landscape Architect': 'landscape_architect',\n",
    " 'Model': 'model',\n",
    " 'Neurosurgeon': 'surgeon',\n",
    " 'Nurse': 'nurse',\n",
    " 'Nutritionist': 'dietitian',\n",
    " 'Orthopedic Surgeon': 'surgeon',\n",
    " 'Painter': 'painter',\n",
    " 'Paralegal': 'paralegal',\n",
    " 'Pastor': 'pastor',\n",
    " 'Personal Trainer': 'personal_trainer',\n",
    " 'Photographer': 'photographer',\n",
    " 'Physician': 'physician',\n",
    " 'Plastic Surgeon': 'surgeon',\n",
    " 'Poet': 'poet',\n",
    " 'Psychologist': 'psychologist',\n",
    " 'Psychotherapist': 'psychologist',\n",
    "#  'Rapper': 'rapper',\n",
    " 'Senior Software Engineer': 'software_engineer',\n",
    " 'Software Engineer': 'software_engineer',\n",
    " 'Surgeon': 'surgeon',\n",
    " 'Teacher': 'teacher',\n",
    " 'Trial Attorney': 'attorney',\n",
    " 'Trial Lawyer': 'attorney',\n",
    " 'Yoga Instructor': 'yoga_teacher',\n",
    " 'Yoga Teacher': 'yoga_teacher'}\n"
   ]
  },
  {
   "cell_type": "code",
   "execution_count": 72,
   "id": "miniature-indian",
   "metadata": {},
   "outputs": [],
   "source": [
    "words = np.array(vectorizer.get_feature_names())\n",
    "np.save('results/words.npy',words)"
   ]
  },
  {
   "cell_type": "code",
   "execution_count": 4,
   "id": "appropriate-occasions",
   "metadata": {},
   "outputs": [],
   "source": [
    "def pred_clf(X, Y, G, X_pred=None, X_pred2=None, data_augm = False, subsample = False, random_state=42,balanced=False,sweights=None):\n",
    "    if sweights is not None:\n",
    "        clf = sklearn.linear_model.SGDClassifier(loss='log')\n",
    "    \n",
    "    else:\n",
    "        if balanced:\n",
    "            clf = sklearn.linear_model.SGDClassifier(loss='log',class_weight='balanced', random_state=42)\n",
    "#             clf = linear_model.LogisticRegression(penalty = 'l2', class_weight='balanced', random_state=42)\n",
    "        else:\n",
    "            clf = linear_model.LogisticRegression(penalty = 'l2', random_state=42,) \n",
    "    np.random.seed(random_state)\n",
    "    random.seed(random_state)\n",
    "    \n",
    "    X_train, X_val, X_test = X\n",
    "    Y_train, Y_val, Y_test = Y\n",
    "    G_train, G_val, G_test = G\n",
    "    \n",
    "    Y, G = asarray(Y), asarray(G)\n",
    "    \n",
    "    if X_pred is None:\n",
    "        X_pred = X_test\n",
    "    \n",
    "    #cross validation partitions for training and testing\n",
    "    results = {'y_pred':[], 'y_pred_prob':[], 'y_pred_correct':[] , 'y_pred2':[], 'y_pred2_prob':[], 'y_pred2_correct':[],'y_pred_diff':[] }\n",
    "    \n",
    "    if data_augm:\n",
    "        X_train = hstack((X_train, invert_gender(X_train, vectorizer)))\n",
    "        Y_train = hstack((Y_train,Y_train))\n",
    "#     clf = GridSearch(model = clf, num_threads = 4,param_grid=params)\n",
    "#     clf.fit(X_train, Y_train, params, X_val, Y_val)\n",
    "    print(\"clf fit\")\n",
    "    if sweights is not None:\n",
    "        clf.fit(X_train, Y_train, sample_weight=sweights)\n",
    "\n",
    "    else:\n",
    "        clf.fit(X_train, Y_train)\n",
    "   \n",
    "    y_pred = clf.predict(X_test)\n",
    "    y_pred_proba =clf.predict_proba(X_test)\n",
    "        \n",
    "    results['y_pred'] = y_pred\n",
    "    results['y_pred_prob'] = y_pred_proba\n",
    "    results['y_pred_correct'] = y_pred== array(Y_test)\n",
    "        \n",
    "    if X_pred2 is not None:\n",
    "        y_pred2 = clf.predict(X_pred2)\n",
    "        y_pred2_proba =clf.predict_proba(X_pred2)\n",
    "        results['y_pred2'] = y_pred2\n",
    "        results['y_pred2_prob'] = y_pred2_proba\n",
    "        results['y_pred2_correct'] = y_pred2== array(Y_test)\n",
    "        results['y_pred_diff'] = y_pred2_proba-y_pred_proba\n",
    "        \n",
    "    return results, clf\n"
   ]
  },
  {
   "cell_type": "code",
   "execution_count": 6,
   "id": "touched-cardiff",
   "metadata": {},
   "outputs": [],
   "source": [
    "sorted_occs = ['accountant', 'architect', 'attorney', 'chiropractor', 'comedian', 'composer',\n",
    " 'dentist', 'dietitian', 'dj', 'filmmaker', 'interior_designer', 'journalist',\n",
    " 'model', 'nurse', 'painter', 'paralegal', 'pastor', 'personal_trainer',\n",
    " 'photographer', 'physician', 'poet', 'professor', 'psychologist', 'rapper',\n",
    " 'software_engineer', 'surgeon', 'teacher', 'yoga_teacher']"
   ]
  },
  {
   "cell_type": "code",
   "execution_count": 5,
   "id": "assured-experience",
   "metadata": {},
   "outputs": [
    {
     "name": "stdout",
     "output_type": "stream",
     "text": [
      "Data: 397907\n"
     ]
    }
   ],
   "source": [
    "bios = pkl.load(open('biosbias/data/BIOS_inferred.pkl','rb'))\n",
    "# def load_data(filename):\n",
    "data = bios\n",
    "print(f'Data: {len(data)}')\n",
    "\n",
    "# stratified split\n",
    "labels_all = [bio['title'] for bio in data]\n",
    "bios_data_train_val, bios_data_test = train_test_split(data, test_size=0.20, random_state=42, stratify=labels_all)\n",
    "\n",
    "labels_train_val = [bio['title'] for bio in bios_data_train_val]\n",
    "bios_data_train, bios_data_val = train_test_split(bios_data_train_val, test_size=0.25, random_state=42, stratify=labels_train_val)\n",
    "\n",
    "# return bios_data_train, bios_data_val, bios_data_test\n"
   ]
  },
  {
   "cell_type": "code",
   "execution_count": 7,
   "id": "addressed-ecology",
   "metadata": {},
   "outputs": [],
   "source": [
    "_f = Counter([p[\"title\"] for p in bios_data_train if p[\"gender\"]==\"F\"])\n",
    "_m = Counter([p[\"title\"] for p in bios_data_train if p[\"gender\"]==\"M\"])\n",
    "_t = Counter([p[\"title\"] for p in bios_data_train])\n",
    "fem = {t:_f[t]/float(_t[t]) for t in sorted_occs}\n",
    "\n",
    "titles = sorted_occs.copy()\n",
    "titles.sort(key=lambda t: fem[t])"
   ]
  },
  {
   "cell_type": "code",
   "execution_count": 273,
   "id": "bright-warehouse",
   "metadata": {},
   "outputs": [],
   "source": [
    "X_test = vectorizer.transform([p[\"bio\"] for p in bios_data_test])\n"
   ]
  },
  {
   "cell_type": "code",
   "execution_count": 9,
   "id": "attractive-pasta",
   "metadata": {},
   "outputs": [],
   "source": [
    "\n",
    "\n",
    "X_val = vectorizer.transform([p[\"bio\"] for p in bios_data_val])\n",
    "X_test = vectorizer.transform([p[\"bio\"] for p in bios_data_test])\n",
    "\n",
    "\n",
    "G_train = [p[\"gender\"] for p in bios_data_train]\n",
    "G_val = [p[\"gender\"] for p in bios_data_val]\n",
    "G_test = [p[\"gender\"] for p in bios_data_test]\n",
    "\n",
    "### FEMALE\n",
    "\n",
    "\n",
    "G_train = [p[\"gender\"] for p in bios_data_train]\n",
    "G_val = [p[\"gender\"] for p in bios_data_val]\n",
    "G_test = [p[\"gender\"] for p in bios_data_test]\n",
    "\n",
    "\n",
    "\n",
    "\n",
    "f_bios_train = [p for p in bios_data_train if p['gender']=='F']\n",
    "f_bios_val = [p for p in bios_data_val if p['gender']=='F']\n",
    "f_bios_test = [p for p in bios_data_test if p['gender']=='F']\n",
    "\n",
    "\n",
    "f_X_train = vectorizer.transform([p[\"bio\"] for p in f_bios_train])\n",
    "f_X_val = vectorizer.transform([p[\"bio\"] for p in f_bios_val])\n",
    "f_X_test = vectorizer.transform([p[\"bio\"] for p in f_bios_test])\n",
    "\n",
    "\n",
    "f_G_train = [p[\"gender\"] for p in f_bios_train]\n",
    "f_G_val = [p[\"gender\"] for p in f_bios_val]\n",
    "f_G_test = [p[\"gender\"] for p in f_bios_test]"
   ]
  },
  {
   "cell_type": "code",
   "execution_count": null,
   "id": "latter-modern",
   "metadata": {},
   "outputs": [],
   "source": [
    "\n",
    "\n",
    "m_bios_train = [p for p in bios_data_train if p['gender']=='M']\n",
    "m_bios_val = [p for p in bios_data_val if p['gender']=='M']\n",
    "m_bios_test = [p for p in bios_data_test if p['gender']=='M']\n",
    "\n",
    "\n",
    "m_X_train = vectorizer.transform([p[\"bio\"] for p in m_bios_train])\n",
    "m_X_val = vectorizer.transform([p[\"bio\"] for p in m_bios_val])\n",
    "m_X_test = vectorizer.transform([p[\"bio\"] for p in m_bios_test])\n",
    "\n",
    "\n",
    "m_G_train = [p[\"gender\"] for p in m_bios_train]\n",
    "m_G_val = [p[\"gender\"] for p in m_bios_val]\n",
    "m_G_test = [p[\"gender\"] for p in m_bios_test]\n",
    "\n"
   ]
  },
  {
   "cell_type": "markdown",
   "id": "bottom-central",
   "metadata": {},
   "source": [
    "## train occupation classifiers"
   ]
  },
  {
   "cell_type": "code",
   "execution_count": 60,
   "id": "composed-fellow",
   "metadata": {
    "collapsed": true
   },
   "outputs": [
    {
     "name": "stderr",
     "output_type": "stream",
     "text": [
      "/home/adam/Dropbox/WorkProjects/venv_main/lib/python3.6/site-packages/numpy/core/_asarray.py:83: VisibleDeprecationWarning: Creating an ndarray from ragged nested sequences (which is a list-or-tuple of lists-or-tuples-or ndarrays with different lengths or shapes) is deprecated. If you meant to do this, you must specify 'dtype=object' when creating the ndarray\n",
      "  return array(a, dtype, copy=False, order=order)\n"
     ]
    },
    {
     "name": "stdout",
     "output_type": "stream",
     "text": [
      "clf fit\n"
     ]
    },
    {
     "name": "stderr",
     "output_type": "stream",
     "text": [
      "/home/adam/Dropbox/WorkProjects/venv_main/lib/python3.6/site-packages/numpy/core/_asarray.py:83: VisibleDeprecationWarning: Creating an ndarray from ragged nested sequences (which is a list-or-tuple of lists-or-tuples-or ndarrays with different lengths or shapes) is deprecated. If you meant to do this, you must specify 'dtype=object' when creating the ndarray\n",
      "  return array(a, dtype, copy=False, order=order)\n"
     ]
    },
    {
     "name": "stdout",
     "output_type": "stream",
     "text": [
      "clf fit\n"
     ]
    },
    {
     "name": "stderr",
     "output_type": "stream",
     "text": [
      "/home/adam/Dropbox/WorkProjects/venv_main/lib/python3.6/site-packages/numpy/core/_asarray.py:83: VisibleDeprecationWarning: Creating an ndarray from ragged nested sequences (which is a list-or-tuple of lists-or-tuples-or ndarrays with different lengths or shapes) is deprecated. If you meant to do this, you must specify 'dtype=object' when creating the ndarray\n",
      "  return array(a, dtype, copy=False, order=order)\n"
     ]
    },
    {
     "name": "stdout",
     "output_type": "stream",
     "text": [
      "clf fit\n"
     ]
    },
    {
     "name": "stderr",
     "output_type": "stream",
     "text": [
      "/home/adam/Dropbox/WorkProjects/venv_main/lib/python3.6/site-packages/numpy/core/_asarray.py:83: VisibleDeprecationWarning: Creating an ndarray from ragged nested sequences (which is a list-or-tuple of lists-or-tuples-or ndarrays with different lengths or shapes) is deprecated. If you meant to do this, you must specify 'dtype=object' when creating the ndarray\n",
      "  return array(a, dtype, copy=False, order=order)\n"
     ]
    },
    {
     "name": "stdout",
     "output_type": "stream",
     "text": [
      "clf fit\n"
     ]
    },
    {
     "name": "stderr",
     "output_type": "stream",
     "text": [
      "/home/adam/Dropbox/WorkProjects/venv_main/lib/python3.6/site-packages/numpy/core/_asarray.py:83: VisibleDeprecationWarning: Creating an ndarray from ragged nested sequences (which is a list-or-tuple of lists-or-tuples-or ndarrays with different lengths or shapes) is deprecated. If you meant to do this, you must specify 'dtype=object' when creating the ndarray\n",
      "  return array(a, dtype, copy=False, order=order)\n"
     ]
    },
    {
     "name": "stdout",
     "output_type": "stream",
     "text": [
      "clf fit\n"
     ]
    },
    {
     "name": "stderr",
     "output_type": "stream",
     "text": [
      "/home/adam/Dropbox/WorkProjects/venv_main/lib/python3.6/site-packages/numpy/core/_asarray.py:83: VisibleDeprecationWarning: Creating an ndarray from ragged nested sequences (which is a list-or-tuple of lists-or-tuples-or ndarrays with different lengths or shapes) is deprecated. If you meant to do this, you must specify 'dtype=object' when creating the ndarray\n",
      "  return array(a, dtype, copy=False, order=order)\n"
     ]
    },
    {
     "name": "stdout",
     "output_type": "stream",
     "text": [
      "clf fit\n"
     ]
    },
    {
     "name": "stderr",
     "output_type": "stream",
     "text": [
      "/home/adam/Dropbox/WorkProjects/venv_main/lib/python3.6/site-packages/numpy/core/_asarray.py:83: VisibleDeprecationWarning: Creating an ndarray from ragged nested sequences (which is a list-or-tuple of lists-or-tuples-or ndarrays with different lengths or shapes) is deprecated. If you meant to do this, you must specify 'dtype=object' when creating the ndarray\n",
      "  return array(a, dtype, copy=False, order=order)\n"
     ]
    },
    {
     "name": "stdout",
     "output_type": "stream",
     "text": [
      "clf fit\n"
     ]
    },
    {
     "name": "stderr",
     "output_type": "stream",
     "text": [
      "/home/adam/Dropbox/WorkProjects/venv_main/lib/python3.6/site-packages/numpy/core/_asarray.py:83: VisibleDeprecationWarning: Creating an ndarray from ragged nested sequences (which is a list-or-tuple of lists-or-tuples-or ndarrays with different lengths or shapes) is deprecated. If you meant to do this, you must specify 'dtype=object' when creating the ndarray\n",
      "  return array(a, dtype, copy=False, order=order)\n"
     ]
    },
    {
     "name": "stdout",
     "output_type": "stream",
     "text": [
      "clf fit\n"
     ]
    },
    {
     "name": "stderr",
     "output_type": "stream",
     "text": [
      "/home/adam/Dropbox/WorkProjects/venv_main/lib/python3.6/site-packages/numpy/core/_asarray.py:83: VisibleDeprecationWarning: Creating an ndarray from ragged nested sequences (which is a list-or-tuple of lists-or-tuples-or ndarrays with different lengths or shapes) is deprecated. If you meant to do this, you must specify 'dtype=object' when creating the ndarray\n",
      "  return array(a, dtype, copy=False, order=order)\n"
     ]
    },
    {
     "name": "stdout",
     "output_type": "stream",
     "text": [
      "clf fit\n"
     ]
    },
    {
     "name": "stderr",
     "output_type": "stream",
     "text": [
      "/home/adam/Dropbox/WorkProjects/venv_main/lib/python3.6/site-packages/numpy/core/_asarray.py:83: VisibleDeprecationWarning: Creating an ndarray from ragged nested sequences (which is a list-or-tuple of lists-or-tuples-or ndarrays with different lengths or shapes) is deprecated. If you meant to do this, you must specify 'dtype=object' when creating the ndarray\n",
      "  return array(a, dtype, copy=False, order=order)\n"
     ]
    },
    {
     "name": "stdout",
     "output_type": "stream",
     "text": [
      "clf fit\n"
     ]
    },
    {
     "name": "stderr",
     "output_type": "stream",
     "text": [
      "/home/adam/Dropbox/WorkProjects/venv_main/lib/python3.6/site-packages/numpy/core/_asarray.py:83: VisibleDeprecationWarning: Creating an ndarray from ragged nested sequences (which is a list-or-tuple of lists-or-tuples-or ndarrays with different lengths or shapes) is deprecated. If you meant to do this, you must specify 'dtype=object' when creating the ndarray\n",
      "  return array(a, dtype, copy=False, order=order)\n"
     ]
    },
    {
     "name": "stdout",
     "output_type": "stream",
     "text": [
      "clf fit\n"
     ]
    },
    {
     "name": "stderr",
     "output_type": "stream",
     "text": [
      "/home/adam/Dropbox/WorkProjects/venv_main/lib/python3.6/site-packages/numpy/core/_asarray.py:83: VisibleDeprecationWarning: Creating an ndarray from ragged nested sequences (which is a list-or-tuple of lists-or-tuples-or ndarrays with different lengths or shapes) is deprecated. If you meant to do this, you must specify 'dtype=object' when creating the ndarray\n",
      "  return array(a, dtype, copy=False, order=order)\n"
     ]
    },
    {
     "name": "stdout",
     "output_type": "stream",
     "text": [
      "clf fit\n"
     ]
    },
    {
     "name": "stderr",
     "output_type": "stream",
     "text": [
      "/home/adam/Dropbox/WorkProjects/venv_main/lib/python3.6/site-packages/numpy/core/_asarray.py:83: VisibleDeprecationWarning: Creating an ndarray from ragged nested sequences (which is a list-or-tuple of lists-or-tuples-or ndarrays with different lengths or shapes) is deprecated. If you meant to do this, you must specify 'dtype=object' when creating the ndarray\n",
      "  return array(a, dtype, copy=False, order=order)\n"
     ]
    },
    {
     "name": "stdout",
     "output_type": "stream",
     "text": [
      "clf fit\n"
     ]
    },
    {
     "name": "stderr",
     "output_type": "stream",
     "text": [
      "/home/adam/Dropbox/WorkProjects/venv_main/lib/python3.6/site-packages/numpy/core/_asarray.py:83: VisibleDeprecationWarning: Creating an ndarray from ragged nested sequences (which is a list-or-tuple of lists-or-tuples-or ndarrays with different lengths or shapes) is deprecated. If you meant to do this, you must specify 'dtype=object' when creating the ndarray\n",
      "  return array(a, dtype, copy=False, order=order)\n"
     ]
    },
    {
     "name": "stdout",
     "output_type": "stream",
     "text": [
      "clf fit\n"
     ]
    },
    {
     "name": "stderr",
     "output_type": "stream",
     "text": [
      "/home/adam/Dropbox/WorkProjects/venv_main/lib/python3.6/site-packages/numpy/core/_asarray.py:83: VisibleDeprecationWarning: Creating an ndarray from ragged nested sequences (which is a list-or-tuple of lists-or-tuples-or ndarrays with different lengths or shapes) is deprecated. If you meant to do this, you must specify 'dtype=object' when creating the ndarray\n",
      "  return array(a, dtype, copy=False, order=order)\n"
     ]
    },
    {
     "name": "stdout",
     "output_type": "stream",
     "text": [
      "clf fit\n"
     ]
    },
    {
     "name": "stderr",
     "output_type": "stream",
     "text": [
      "/home/adam/Dropbox/WorkProjects/venv_main/lib/python3.6/site-packages/numpy/core/_asarray.py:83: VisibleDeprecationWarning: Creating an ndarray from ragged nested sequences (which is a list-or-tuple of lists-or-tuples-or ndarrays with different lengths or shapes) is deprecated. If you meant to do this, you must specify 'dtype=object' when creating the ndarray\n",
      "  return array(a, dtype, copy=False, order=order)\n"
     ]
    },
    {
     "name": "stdout",
     "output_type": "stream",
     "text": [
      "clf fit\n"
     ]
    },
    {
     "name": "stderr",
     "output_type": "stream",
     "text": [
      "/home/adam/Dropbox/WorkProjects/venv_main/lib/python3.6/site-packages/numpy/core/_asarray.py:83: VisibleDeprecationWarning: Creating an ndarray from ragged nested sequences (which is a list-or-tuple of lists-or-tuples-or ndarrays with different lengths or shapes) is deprecated. If you meant to do this, you must specify 'dtype=object' when creating the ndarray\n",
      "  return array(a, dtype, copy=False, order=order)\n"
     ]
    },
    {
     "name": "stdout",
     "output_type": "stream",
     "text": [
      "clf fit\n"
     ]
    },
    {
     "name": "stderr",
     "output_type": "stream",
     "text": [
      "/home/adam/Dropbox/WorkProjects/venv_main/lib/python3.6/site-packages/numpy/core/_asarray.py:83: VisibleDeprecationWarning: Creating an ndarray from ragged nested sequences (which is a list-or-tuple of lists-or-tuples-or ndarrays with different lengths or shapes) is deprecated. If you meant to do this, you must specify 'dtype=object' when creating the ndarray\n",
      "  return array(a, dtype, copy=False, order=order)\n"
     ]
    },
    {
     "name": "stdout",
     "output_type": "stream",
     "text": [
      "clf fit\n"
     ]
    },
    {
     "name": "stderr",
     "output_type": "stream",
     "text": [
      "/home/adam/Dropbox/WorkProjects/venv_main/lib/python3.6/site-packages/numpy/core/_asarray.py:83: VisibleDeprecationWarning: Creating an ndarray from ragged nested sequences (which is a list-or-tuple of lists-or-tuples-or ndarrays with different lengths or shapes) is deprecated. If you meant to do this, you must specify 'dtype=object' when creating the ndarray\n",
      "  return array(a, dtype, copy=False, order=order)\n"
     ]
    },
    {
     "name": "stdout",
     "output_type": "stream",
     "text": [
      "clf fit\n"
     ]
    },
    {
     "name": "stderr",
     "output_type": "stream",
     "text": [
      "/home/adam/Dropbox/WorkProjects/venv_main/lib/python3.6/site-packages/numpy/core/_asarray.py:83: VisibleDeprecationWarning: Creating an ndarray from ragged nested sequences (which is a list-or-tuple of lists-or-tuples-or ndarrays with different lengths or shapes) is deprecated. If you meant to do this, you must specify 'dtype=object' when creating the ndarray\n",
      "  return array(a, dtype, copy=False, order=order)\n"
     ]
    },
    {
     "name": "stdout",
     "output_type": "stream",
     "text": [
      "clf fit\n"
     ]
    },
    {
     "name": "stderr",
     "output_type": "stream",
     "text": [
      "/home/adam/Dropbox/WorkProjects/venv_main/lib/python3.6/site-packages/numpy/core/_asarray.py:83: VisibleDeprecationWarning: Creating an ndarray from ragged nested sequences (which is a list-or-tuple of lists-or-tuples-or ndarrays with different lengths or shapes) is deprecated. If you meant to do this, you must specify 'dtype=object' when creating the ndarray\n",
      "  return array(a, dtype, copy=False, order=order)\n"
     ]
    },
    {
     "name": "stdout",
     "output_type": "stream",
     "text": [
      "clf fit\n"
     ]
    },
    {
     "name": "stderr",
     "output_type": "stream",
     "text": [
      "/home/adam/Dropbox/WorkProjects/venv_main/lib/python3.6/site-packages/numpy/core/_asarray.py:83: VisibleDeprecationWarning: Creating an ndarray from ragged nested sequences (which is a list-or-tuple of lists-or-tuples-or ndarrays with different lengths or shapes) is deprecated. If you meant to do this, you must specify 'dtype=object' when creating the ndarray\n",
      "  return array(a, dtype, copy=False, order=order)\n"
     ]
    },
    {
     "name": "stdout",
     "output_type": "stream",
     "text": [
      "clf fit\n"
     ]
    },
    {
     "name": "stderr",
     "output_type": "stream",
     "text": [
      "/home/adam/Dropbox/WorkProjects/venv_main/lib/python3.6/site-packages/numpy/core/_asarray.py:83: VisibleDeprecationWarning: Creating an ndarray from ragged nested sequences (which is a list-or-tuple of lists-or-tuples-or ndarrays with different lengths or shapes) is deprecated. If you meant to do this, you must specify 'dtype=object' when creating the ndarray\n",
      "  return array(a, dtype, copy=False, order=order)\n"
     ]
    },
    {
     "name": "stdout",
     "output_type": "stream",
     "text": [
      "clf fit\n"
     ]
    },
    {
     "name": "stderr",
     "output_type": "stream",
     "text": [
      "/home/adam/Dropbox/WorkProjects/venv_main/lib/python3.6/site-packages/numpy/core/_asarray.py:83: VisibleDeprecationWarning: Creating an ndarray from ragged nested sequences (which is a list-or-tuple of lists-or-tuples-or ndarrays with different lengths or shapes) is deprecated. If you meant to do this, you must specify 'dtype=object' when creating the ndarray\n",
      "  return array(a, dtype, copy=False, order=order)\n"
     ]
    },
    {
     "name": "stdout",
     "output_type": "stream",
     "text": [
      "clf fit\n"
     ]
    },
    {
     "name": "stderr",
     "output_type": "stream",
     "text": [
      "/home/adam/Dropbox/WorkProjects/venv_main/lib/python3.6/site-packages/numpy/core/_asarray.py:83: VisibleDeprecationWarning: Creating an ndarray from ragged nested sequences (which is a list-or-tuple of lists-or-tuples-or ndarrays with different lengths or shapes) is deprecated. If you meant to do this, you must specify 'dtype=object' when creating the ndarray\n",
      "  return array(a, dtype, copy=False, order=order)\n"
     ]
    },
    {
     "name": "stdout",
     "output_type": "stream",
     "text": [
      "clf fit\n"
     ]
    }
   ],
   "source": [
    "occs = [\"surgeon\", \"software_engineer\", \"composer\", \"pastor\", \"comedian\", \"architect\", \"chiropractor\", \"accountant\", \"attorney\", \"filmmaker\", \"physician\", \"dentist\", \"photographer\", \"professor\", \"painter\", \"journalist\", \"poet\", \"personal_trainer\", \"teacher\", \"psychologist\",  \"model\", \"interior_designer\", \"yoga_teacher\", \"nurse\", \"dietitian\"]\n",
    "for target_occ in occs:\n",
    "    m_Y_train = [p[\"title\"]==target_occ for p in m_bios_train]\n",
    "    m_Y_val = [p[\"title\"]==target_occ for p in m_bios_val]\n",
    "    m_Y_test = [p[\"title\"]==target_occ for p in m_bios_test]\n",
    "    \n",
    "    pred_bow_m, clm_bow_m = pred_clf([m_X_train, m_X_val, m_X_test], [m_Y_train, m_Y_val, m_Y_test], [m_G_train,m_G_val,m_G_test],balanced=True)\n",
    "    occ_classers[target_occ]['clm_bow_m'] = clm_bow_m\n",
    "    occ_classers[target_occ]['pred_bow_m'] = pred_bow_m"
   ]
  },
  {
   "cell_type": "code",
   "execution_count": 11,
   "id": "ancient-orientation",
   "metadata": {
    "scrolled": true
   },
   "outputs": [
    {
     "name": "stderr",
     "output_type": "stream",
     "text": [
      "/home/adam/Dropbox/WorkProjects/venv_main/lib/python3.6/site-packages/numpy/core/_asarray.py:83: VisibleDeprecationWarning: Creating an ndarray from ragged nested sequences (which is a list-or-tuple of lists-or-tuples-or ndarrays with different lengths or shapes) is deprecated. If you meant to do this, you must specify 'dtype=object' when creating the ndarray\n",
      "  return array(a, dtype, copy=False, order=order)\n"
     ]
    },
    {
     "name": "stdout",
     "output_type": "stream",
     "text": [
      "clf fit\n"
     ]
    },
    {
     "name": "stderr",
     "output_type": "stream",
     "text": [
      "/home/adam/Dropbox/WorkProjects/venv_main/lib/python3.6/site-packages/numpy/core/_asarray.py:83: VisibleDeprecationWarning: Creating an ndarray from ragged nested sequences (which is a list-or-tuple of lists-or-tuples-or ndarrays with different lengths or shapes) is deprecated. If you meant to do this, you must specify 'dtype=object' when creating the ndarray\n",
      "  return array(a, dtype, copy=False, order=order)\n"
     ]
    },
    {
     "name": "stdout",
     "output_type": "stream",
     "text": [
      "clf fit\n"
     ]
    },
    {
     "name": "stderr",
     "output_type": "stream",
     "text": [
      "/home/adam/Dropbox/WorkProjects/venv_main/lib/python3.6/site-packages/numpy/core/_asarray.py:83: VisibleDeprecationWarning: Creating an ndarray from ragged nested sequences (which is a list-or-tuple of lists-or-tuples-or ndarrays with different lengths or shapes) is deprecated. If you meant to do this, you must specify 'dtype=object' when creating the ndarray\n",
      "  return array(a, dtype, copy=False, order=order)\n"
     ]
    },
    {
     "name": "stdout",
     "output_type": "stream",
     "text": [
      "clf fit\n"
     ]
    },
    {
     "name": "stderr",
     "output_type": "stream",
     "text": [
      "/home/adam/Dropbox/WorkProjects/venv_main/lib/python3.6/site-packages/numpy/core/_asarray.py:83: VisibleDeprecationWarning: Creating an ndarray from ragged nested sequences (which is a list-or-tuple of lists-or-tuples-or ndarrays with different lengths or shapes) is deprecated. If you meant to do this, you must specify 'dtype=object' when creating the ndarray\n",
      "  return array(a, dtype, copy=False, order=order)\n"
     ]
    },
    {
     "name": "stdout",
     "output_type": "stream",
     "text": [
      "clf fit\n"
     ]
    },
    {
     "name": "stderr",
     "output_type": "stream",
     "text": [
      "/home/adam/Dropbox/WorkProjects/venv_main/lib/python3.6/site-packages/numpy/core/_asarray.py:83: VisibleDeprecationWarning: Creating an ndarray from ragged nested sequences (which is a list-or-tuple of lists-or-tuples-or ndarrays with different lengths or shapes) is deprecated. If you meant to do this, you must specify 'dtype=object' when creating the ndarray\n",
      "  return array(a, dtype, copy=False, order=order)\n"
     ]
    },
    {
     "name": "stdout",
     "output_type": "stream",
     "text": [
      "clf fit\n"
     ]
    },
    {
     "name": "stderr",
     "output_type": "stream",
     "text": [
      "/home/adam/Dropbox/WorkProjects/venv_main/lib/python3.6/site-packages/numpy/core/_asarray.py:83: VisibleDeprecationWarning: Creating an ndarray from ragged nested sequences (which is a list-or-tuple of lists-or-tuples-or ndarrays with different lengths or shapes) is deprecated. If you meant to do this, you must specify 'dtype=object' when creating the ndarray\n",
      "  return array(a, dtype, copy=False, order=order)\n"
     ]
    },
    {
     "name": "stdout",
     "output_type": "stream",
     "text": [
      "clf fit\n"
     ]
    },
    {
     "name": "stderr",
     "output_type": "stream",
     "text": [
      "/home/adam/Dropbox/WorkProjects/venv_main/lib/python3.6/site-packages/numpy/core/_asarray.py:83: VisibleDeprecationWarning: Creating an ndarray from ragged nested sequences (which is a list-or-tuple of lists-or-tuples-or ndarrays with different lengths or shapes) is deprecated. If you meant to do this, you must specify 'dtype=object' when creating the ndarray\n",
      "  return array(a, dtype, copy=False, order=order)\n"
     ]
    },
    {
     "name": "stdout",
     "output_type": "stream",
     "text": [
      "clf fit\n"
     ]
    },
    {
     "name": "stderr",
     "output_type": "stream",
     "text": [
      "/home/adam/Dropbox/WorkProjects/venv_main/lib/python3.6/site-packages/numpy/core/_asarray.py:83: VisibleDeprecationWarning: Creating an ndarray from ragged nested sequences (which is a list-or-tuple of lists-or-tuples-or ndarrays with different lengths or shapes) is deprecated. If you meant to do this, you must specify 'dtype=object' when creating the ndarray\n",
      "  return array(a, dtype, copy=False, order=order)\n"
     ]
    },
    {
     "name": "stdout",
     "output_type": "stream",
     "text": [
      "clf fit\n"
     ]
    },
    {
     "name": "stderr",
     "output_type": "stream",
     "text": [
      "/home/adam/Dropbox/WorkProjects/venv_main/lib/python3.6/site-packages/numpy/core/_asarray.py:83: VisibleDeprecationWarning: Creating an ndarray from ragged nested sequences (which is a list-or-tuple of lists-or-tuples-or ndarrays with different lengths or shapes) is deprecated. If you meant to do this, you must specify 'dtype=object' when creating the ndarray\n",
      "  return array(a, dtype, copy=False, order=order)\n"
     ]
    },
    {
     "name": "stdout",
     "output_type": "stream",
     "text": [
      "clf fit\n"
     ]
    },
    {
     "name": "stderr",
     "output_type": "stream",
     "text": [
      "/home/adam/Dropbox/WorkProjects/venv_main/lib/python3.6/site-packages/numpy/core/_asarray.py:83: VisibleDeprecationWarning: Creating an ndarray from ragged nested sequences (which is a list-or-tuple of lists-or-tuples-or ndarrays with different lengths or shapes) is deprecated. If you meant to do this, you must specify 'dtype=object' when creating the ndarray\n",
      "  return array(a, dtype, copy=False, order=order)\n"
     ]
    },
    {
     "name": "stdout",
     "output_type": "stream",
     "text": [
      "clf fit\n"
     ]
    },
    {
     "name": "stderr",
     "output_type": "stream",
     "text": [
      "/home/adam/Dropbox/WorkProjects/venv_main/lib/python3.6/site-packages/numpy/core/_asarray.py:83: VisibleDeprecationWarning: Creating an ndarray from ragged nested sequences (which is a list-or-tuple of lists-or-tuples-or ndarrays with different lengths or shapes) is deprecated. If you meant to do this, you must specify 'dtype=object' when creating the ndarray\n",
      "  return array(a, dtype, copy=False, order=order)\n"
     ]
    },
    {
     "name": "stdout",
     "output_type": "stream",
     "text": [
      "clf fit\n"
     ]
    },
    {
     "name": "stderr",
     "output_type": "stream",
     "text": [
      "/home/adam/Dropbox/WorkProjects/venv_main/lib/python3.6/site-packages/numpy/core/_asarray.py:83: VisibleDeprecationWarning: Creating an ndarray from ragged nested sequences (which is a list-or-tuple of lists-or-tuples-or ndarrays with different lengths or shapes) is deprecated. If you meant to do this, you must specify 'dtype=object' when creating the ndarray\n",
      "  return array(a, dtype, copy=False, order=order)\n"
     ]
    },
    {
     "name": "stdout",
     "output_type": "stream",
     "text": [
      "clf fit\n"
     ]
    },
    {
     "name": "stderr",
     "output_type": "stream",
     "text": [
      "/home/adam/Dropbox/WorkProjects/venv_main/lib/python3.6/site-packages/numpy/core/_asarray.py:83: VisibleDeprecationWarning: Creating an ndarray from ragged nested sequences (which is a list-or-tuple of lists-or-tuples-or ndarrays with different lengths or shapes) is deprecated. If you meant to do this, you must specify 'dtype=object' when creating the ndarray\n",
      "  return array(a, dtype, copy=False, order=order)\n"
     ]
    },
    {
     "name": "stdout",
     "output_type": "stream",
     "text": [
      "clf fit\n"
     ]
    },
    {
     "name": "stderr",
     "output_type": "stream",
     "text": [
      "/home/adam/Dropbox/WorkProjects/venv_main/lib/python3.6/site-packages/numpy/core/_asarray.py:83: VisibleDeprecationWarning: Creating an ndarray from ragged nested sequences (which is a list-or-tuple of lists-or-tuples-or ndarrays with different lengths or shapes) is deprecated. If you meant to do this, you must specify 'dtype=object' when creating the ndarray\n",
      "  return array(a, dtype, copy=False, order=order)\n"
     ]
    },
    {
     "name": "stdout",
     "output_type": "stream",
     "text": [
      "clf fit\n"
     ]
    },
    {
     "name": "stderr",
     "output_type": "stream",
     "text": [
      "/home/adam/Dropbox/WorkProjects/venv_main/lib/python3.6/site-packages/numpy/core/_asarray.py:83: VisibleDeprecationWarning: Creating an ndarray from ragged nested sequences (which is a list-or-tuple of lists-or-tuples-or ndarrays with different lengths or shapes) is deprecated. If you meant to do this, you must specify 'dtype=object' when creating the ndarray\n",
      "  return array(a, dtype, copy=False, order=order)\n"
     ]
    },
    {
     "name": "stdout",
     "output_type": "stream",
     "text": [
      "clf fit\n"
     ]
    },
    {
     "name": "stderr",
     "output_type": "stream",
     "text": [
      "/home/adam/Dropbox/WorkProjects/venv_main/lib/python3.6/site-packages/numpy/core/_asarray.py:83: VisibleDeprecationWarning: Creating an ndarray from ragged nested sequences (which is a list-or-tuple of lists-or-tuples-or ndarrays with different lengths or shapes) is deprecated. If you meant to do this, you must specify 'dtype=object' when creating the ndarray\n",
      "  return array(a, dtype, copy=False, order=order)\n"
     ]
    },
    {
     "name": "stdout",
     "output_type": "stream",
     "text": [
      "clf fit\n"
     ]
    },
    {
     "name": "stderr",
     "output_type": "stream",
     "text": [
      "/home/adam/Dropbox/WorkProjects/venv_main/lib/python3.6/site-packages/numpy/core/_asarray.py:83: VisibleDeprecationWarning: Creating an ndarray from ragged nested sequences (which is a list-or-tuple of lists-or-tuples-or ndarrays with different lengths or shapes) is deprecated. If you meant to do this, you must specify 'dtype=object' when creating the ndarray\n",
      "  return array(a, dtype, copy=False, order=order)\n"
     ]
    },
    {
     "name": "stdout",
     "output_type": "stream",
     "text": [
      "clf fit\n"
     ]
    },
    {
     "name": "stderr",
     "output_type": "stream",
     "text": [
      "/home/adam/Dropbox/WorkProjects/venv_main/lib/python3.6/site-packages/numpy/core/_asarray.py:83: VisibleDeprecationWarning: Creating an ndarray from ragged nested sequences (which is a list-or-tuple of lists-or-tuples-or ndarrays with different lengths or shapes) is deprecated. If you meant to do this, you must specify 'dtype=object' when creating the ndarray\n",
      "  return array(a, dtype, copy=False, order=order)\n"
     ]
    },
    {
     "name": "stdout",
     "output_type": "stream",
     "text": [
      "clf fit\n"
     ]
    },
    {
     "name": "stderr",
     "output_type": "stream",
     "text": [
      "/home/adam/Dropbox/WorkProjects/venv_main/lib/python3.6/site-packages/numpy/core/_asarray.py:83: VisibleDeprecationWarning: Creating an ndarray from ragged nested sequences (which is a list-or-tuple of lists-or-tuples-or ndarrays with different lengths or shapes) is deprecated. If you meant to do this, you must specify 'dtype=object' when creating the ndarray\n",
      "  return array(a, dtype, copy=False, order=order)\n"
     ]
    },
    {
     "name": "stdout",
     "output_type": "stream",
     "text": [
      "clf fit\n"
     ]
    },
    {
     "name": "stderr",
     "output_type": "stream",
     "text": [
      "/home/adam/Dropbox/WorkProjects/venv_main/lib/python3.6/site-packages/numpy/core/_asarray.py:83: VisibleDeprecationWarning: Creating an ndarray from ragged nested sequences (which is a list-or-tuple of lists-or-tuples-or ndarrays with different lengths or shapes) is deprecated. If you meant to do this, you must specify 'dtype=object' when creating the ndarray\n",
      "  return array(a, dtype, copy=False, order=order)\n"
     ]
    },
    {
     "name": "stdout",
     "output_type": "stream",
     "text": [
      "clf fit\n"
     ]
    },
    {
     "name": "stderr",
     "output_type": "stream",
     "text": [
      "/home/adam/Dropbox/WorkProjects/venv_main/lib/python3.6/site-packages/numpy/core/_asarray.py:83: VisibleDeprecationWarning: Creating an ndarray from ragged nested sequences (which is a list-or-tuple of lists-or-tuples-or ndarrays with different lengths or shapes) is deprecated. If you meant to do this, you must specify 'dtype=object' when creating the ndarray\n",
      "  return array(a, dtype, copy=False, order=order)\n"
     ]
    },
    {
     "name": "stdout",
     "output_type": "stream",
     "text": [
      "clf fit\n"
     ]
    },
    {
     "name": "stderr",
     "output_type": "stream",
     "text": [
      "/home/adam/Dropbox/WorkProjects/venv_main/lib/python3.6/site-packages/numpy/core/_asarray.py:83: VisibleDeprecationWarning: Creating an ndarray from ragged nested sequences (which is a list-or-tuple of lists-or-tuples-or ndarrays with different lengths or shapes) is deprecated. If you meant to do this, you must specify 'dtype=object' when creating the ndarray\n",
      "  return array(a, dtype, copy=False, order=order)\n"
     ]
    },
    {
     "name": "stdout",
     "output_type": "stream",
     "text": [
      "clf fit\n"
     ]
    },
    {
     "name": "stderr",
     "output_type": "stream",
     "text": [
      "/home/adam/Dropbox/WorkProjects/venv_main/lib/python3.6/site-packages/numpy/core/_asarray.py:83: VisibleDeprecationWarning: Creating an ndarray from ragged nested sequences (which is a list-or-tuple of lists-or-tuples-or ndarrays with different lengths or shapes) is deprecated. If you meant to do this, you must specify 'dtype=object' when creating the ndarray\n",
      "  return array(a, dtype, copy=False, order=order)\n"
     ]
    },
    {
     "name": "stdout",
     "output_type": "stream",
     "text": [
      "clf fit\n"
     ]
    },
    {
     "name": "stderr",
     "output_type": "stream",
     "text": [
      "/home/adam/Dropbox/WorkProjects/venv_main/lib/python3.6/site-packages/numpy/core/_asarray.py:83: VisibleDeprecationWarning: Creating an ndarray from ragged nested sequences (which is a list-or-tuple of lists-or-tuples-or ndarrays with different lengths or shapes) is deprecated. If you meant to do this, you must specify 'dtype=object' when creating the ndarray\n",
      "  return array(a, dtype, copy=False, order=order)\n"
     ]
    },
    {
     "name": "stdout",
     "output_type": "stream",
     "text": [
      "clf fit\n"
     ]
    },
    {
     "name": "stderr",
     "output_type": "stream",
     "text": [
      "/home/adam/Dropbox/WorkProjects/venv_main/lib/python3.6/site-packages/numpy/core/_asarray.py:83: VisibleDeprecationWarning: Creating an ndarray from ragged nested sequences (which is a list-or-tuple of lists-or-tuples-or ndarrays with different lengths or shapes) is deprecated. If you meant to do this, you must specify 'dtype=object' when creating the ndarray\n",
      "  return array(a, dtype, copy=False, order=order)\n"
     ]
    },
    {
     "name": "stdout",
     "output_type": "stream",
     "text": [
      "clf fit\n"
     ]
    },
    {
     "name": "stderr",
     "output_type": "stream",
     "text": [
      "/home/adam/Dropbox/WorkProjects/venv_main/lib/python3.6/site-packages/numpy/core/_asarray.py:83: VisibleDeprecationWarning: Creating an ndarray from ragged nested sequences (which is a list-or-tuple of lists-or-tuples-or ndarrays with different lengths or shapes) is deprecated. If you meant to do this, you must specify 'dtype=object' when creating the ndarray\n",
      "  return array(a, dtype, copy=False, order=order)\n"
     ]
    },
    {
     "name": "stdout",
     "output_type": "stream",
     "text": [
      "clf fit\n"
     ]
    },
    {
     "name": "stderr",
     "output_type": "stream",
     "text": [
      "/home/adam/Dropbox/WorkProjects/venv_main/lib/python3.6/site-packages/numpy/core/_asarray.py:83: VisibleDeprecationWarning: Creating an ndarray from ragged nested sequences (which is a list-or-tuple of lists-or-tuples-or ndarrays with different lengths or shapes) is deprecated. If you meant to do this, you must specify 'dtype=object' when creating the ndarray\n",
      "  return array(a, dtype, copy=False, order=order)\n"
     ]
    },
    {
     "name": "stdout",
     "output_type": "stream",
     "text": [
      "clf fit\n"
     ]
    },
    {
     "name": "stderr",
     "output_type": "stream",
     "text": [
      "/home/adam/Dropbox/WorkProjects/venv_main/lib/python3.6/site-packages/numpy/core/_asarray.py:83: VisibleDeprecationWarning: Creating an ndarray from ragged nested sequences (which is a list-or-tuple of lists-or-tuples-or ndarrays with different lengths or shapes) is deprecated. If you meant to do this, you must specify 'dtype=object' when creating the ndarray\n",
      "  return array(a, dtype, copy=False, order=order)\n"
     ]
    },
    {
     "name": "stdout",
     "output_type": "stream",
     "text": [
      "clf fit\n"
     ]
    },
    {
     "name": "stderr",
     "output_type": "stream",
     "text": [
      "/home/adam/Dropbox/WorkProjects/venv_main/lib/python3.6/site-packages/numpy/core/_asarray.py:83: VisibleDeprecationWarning: Creating an ndarray from ragged nested sequences (which is a list-or-tuple of lists-or-tuples-or ndarrays with different lengths or shapes) is deprecated. If you meant to do this, you must specify 'dtype=object' when creating the ndarray\n",
      "  return array(a, dtype, copy=False, order=order)\n"
     ]
    },
    {
     "name": "stdout",
     "output_type": "stream",
     "text": [
      "clf fit\n"
     ]
    },
    {
     "name": "stderr",
     "output_type": "stream",
     "text": [
      "/home/adam/Dropbox/WorkProjects/venv_main/lib/python3.6/site-packages/numpy/core/_asarray.py:83: VisibleDeprecationWarning: Creating an ndarray from ragged nested sequences (which is a list-or-tuple of lists-or-tuples-or ndarrays with different lengths or shapes) is deprecated. If you meant to do this, you must specify 'dtype=object' when creating the ndarray\n",
      "  return array(a, dtype, copy=False, order=order)\n"
     ]
    },
    {
     "name": "stdout",
     "output_type": "stream",
     "text": [
      "clf fit\n"
     ]
    },
    {
     "name": "stderr",
     "output_type": "stream",
     "text": [
      "/home/adam/Dropbox/WorkProjects/venv_main/lib/python3.6/site-packages/numpy/core/_asarray.py:83: VisibleDeprecationWarning: Creating an ndarray from ragged nested sequences (which is a list-or-tuple of lists-or-tuples-or ndarrays with different lengths or shapes) is deprecated. If you meant to do this, you must specify 'dtype=object' when creating the ndarray\n",
      "  return array(a, dtype, copy=False, order=order)\n"
     ]
    },
    {
     "name": "stdout",
     "output_type": "stream",
     "text": [
      "clf fit\n"
     ]
    },
    {
     "name": "stderr",
     "output_type": "stream",
     "text": [
      "/home/adam/Dropbox/WorkProjects/venv_main/lib/python3.6/site-packages/numpy/core/_asarray.py:83: VisibleDeprecationWarning: Creating an ndarray from ragged nested sequences (which is a list-or-tuple of lists-or-tuples-or ndarrays with different lengths or shapes) is deprecated. If you meant to do this, you must specify 'dtype=object' when creating the ndarray\n",
      "  return array(a, dtype, copy=False, order=order)\n"
     ]
    },
    {
     "name": "stdout",
     "output_type": "stream",
     "text": [
      "clf fit\n"
     ]
    },
    {
     "name": "stderr",
     "output_type": "stream",
     "text": [
      "/home/adam/Dropbox/WorkProjects/venv_main/lib/python3.6/site-packages/numpy/core/_asarray.py:83: VisibleDeprecationWarning: Creating an ndarray from ragged nested sequences (which is a list-or-tuple of lists-or-tuples-or ndarrays with different lengths or shapes) is deprecated. If you meant to do this, you must specify 'dtype=object' when creating the ndarray\n",
      "  return array(a, dtype, copy=False, order=order)\n"
     ]
    },
    {
     "name": "stdout",
     "output_type": "stream",
     "text": [
      "clf fit\n"
     ]
    },
    {
     "name": "stderr",
     "output_type": "stream",
     "text": [
      "/home/adam/Dropbox/WorkProjects/venv_main/lib/python3.6/site-packages/numpy/core/_asarray.py:83: VisibleDeprecationWarning: Creating an ndarray from ragged nested sequences (which is a list-or-tuple of lists-or-tuples-or ndarrays with different lengths or shapes) is deprecated. If you meant to do this, you must specify 'dtype=object' when creating the ndarray\n",
      "  return array(a, dtype, copy=False, order=order)\n"
     ]
    },
    {
     "name": "stdout",
     "output_type": "stream",
     "text": [
      "clf fit\n"
     ]
    },
    {
     "name": "stderr",
     "output_type": "stream",
     "text": [
      "/home/adam/Dropbox/WorkProjects/venv_main/lib/python3.6/site-packages/numpy/core/_asarray.py:83: VisibleDeprecationWarning: Creating an ndarray from ragged nested sequences (which is a list-or-tuple of lists-or-tuples-or ndarrays with different lengths or shapes) is deprecated. If you meant to do this, you must specify 'dtype=object' when creating the ndarray\n",
      "  return array(a, dtype, copy=False, order=order)\n"
     ]
    },
    {
     "name": "stdout",
     "output_type": "stream",
     "text": [
      "clf fit\n"
     ]
    },
    {
     "name": "stderr",
     "output_type": "stream",
     "text": [
      "/home/adam/Dropbox/WorkProjects/venv_main/lib/python3.6/site-packages/numpy/core/_asarray.py:83: VisibleDeprecationWarning: Creating an ndarray from ragged nested sequences (which is a list-or-tuple of lists-or-tuples-or ndarrays with different lengths or shapes) is deprecated. If you meant to do this, you must specify 'dtype=object' when creating the ndarray\n",
      "  return array(a, dtype, copy=False, order=order)\n"
     ]
    },
    {
     "name": "stdout",
     "output_type": "stream",
     "text": [
      "clf fit\n"
     ]
    },
    {
     "name": "stderr",
     "output_type": "stream",
     "text": [
      "/home/adam/Dropbox/WorkProjects/venv_main/lib/python3.6/site-packages/numpy/core/_asarray.py:83: VisibleDeprecationWarning: Creating an ndarray from ragged nested sequences (which is a list-or-tuple of lists-or-tuples-or ndarrays with different lengths or shapes) is deprecated. If you meant to do this, you must specify 'dtype=object' when creating the ndarray\n",
      "  return array(a, dtype, copy=False, order=order)\n"
     ]
    },
    {
     "name": "stdout",
     "output_type": "stream",
     "text": [
      "clf fit\n"
     ]
    },
    {
     "name": "stderr",
     "output_type": "stream",
     "text": [
      "/home/adam/Dropbox/WorkProjects/venv_main/lib/python3.6/site-packages/numpy/core/_asarray.py:83: VisibleDeprecationWarning: Creating an ndarray from ragged nested sequences (which is a list-or-tuple of lists-or-tuples-or ndarrays with different lengths or shapes) is deprecated. If you meant to do this, you must specify 'dtype=object' when creating the ndarray\n",
      "  return array(a, dtype, copy=False, order=order)\n"
     ]
    },
    {
     "name": "stdout",
     "output_type": "stream",
     "text": [
      "clf fit\n"
     ]
    },
    {
     "name": "stderr",
     "output_type": "stream",
     "text": [
      "/home/adam/Dropbox/WorkProjects/venv_main/lib/python3.6/site-packages/numpy/core/_asarray.py:83: VisibleDeprecationWarning: Creating an ndarray from ragged nested sequences (which is a list-or-tuple of lists-or-tuples-or ndarrays with different lengths or shapes) is deprecated. If you meant to do this, you must specify 'dtype=object' when creating the ndarray\n",
      "  return array(a, dtype, copy=False, order=order)\n"
     ]
    },
    {
     "name": "stdout",
     "output_type": "stream",
     "text": [
      "clf fit\n"
     ]
    },
    {
     "name": "stderr",
     "output_type": "stream",
     "text": [
      "/home/adam/Dropbox/WorkProjects/venv_main/lib/python3.6/site-packages/numpy/core/_asarray.py:83: VisibleDeprecationWarning: Creating an ndarray from ragged nested sequences (which is a list-or-tuple of lists-or-tuples-or ndarrays with different lengths or shapes) is deprecated. If you meant to do this, you must specify 'dtype=object' when creating the ndarray\n",
      "  return array(a, dtype, copy=False, order=order)\n"
     ]
    },
    {
     "name": "stdout",
     "output_type": "stream",
     "text": [
      "clf fit\n"
     ]
    },
    {
     "name": "stderr",
     "output_type": "stream",
     "text": [
      "/home/adam/Dropbox/WorkProjects/venv_main/lib/python3.6/site-packages/numpy/core/_asarray.py:83: VisibleDeprecationWarning: Creating an ndarray from ragged nested sequences (which is a list-or-tuple of lists-or-tuples-or ndarrays with different lengths or shapes) is deprecated. If you meant to do this, you must specify 'dtype=object' when creating the ndarray\n",
      "  return array(a, dtype, copy=False, order=order)\n"
     ]
    },
    {
     "name": "stdout",
     "output_type": "stream",
     "text": [
      "clf fit\n"
     ]
    },
    {
     "name": "stderr",
     "output_type": "stream",
     "text": [
      "/home/adam/Dropbox/WorkProjects/venv_main/lib/python3.6/site-packages/numpy/core/_asarray.py:83: VisibleDeprecationWarning: Creating an ndarray from ragged nested sequences (which is a list-or-tuple of lists-or-tuples-or ndarrays with different lengths or shapes) is deprecated. If you meant to do this, you must specify 'dtype=object' when creating the ndarray\n",
      "  return array(a, dtype, copy=False, order=order)\n"
     ]
    },
    {
     "name": "stdout",
     "output_type": "stream",
     "text": [
      "clf fit\n"
     ]
    },
    {
     "name": "stderr",
     "output_type": "stream",
     "text": [
      "/home/adam/Dropbox/WorkProjects/venv_main/lib/python3.6/site-packages/numpy/core/_asarray.py:83: VisibleDeprecationWarning: Creating an ndarray from ragged nested sequences (which is a list-or-tuple of lists-or-tuples-or ndarrays with different lengths or shapes) is deprecated. If you meant to do this, you must specify 'dtype=object' when creating the ndarray\n",
      "  return array(a, dtype, copy=False, order=order)\n"
     ]
    },
    {
     "name": "stdout",
     "output_type": "stream",
     "text": [
      "clf fit\n"
     ]
    },
    {
     "name": "stderr",
     "output_type": "stream",
     "text": [
      "/home/adam/Dropbox/WorkProjects/venv_main/lib/python3.6/site-packages/numpy/core/_asarray.py:83: VisibleDeprecationWarning: Creating an ndarray from ragged nested sequences (which is a list-or-tuple of lists-or-tuples-or ndarrays with different lengths or shapes) is deprecated. If you meant to do this, you must specify 'dtype=object' when creating the ndarray\n",
      "  return array(a, dtype, copy=False, order=order)\n"
     ]
    },
    {
     "name": "stdout",
     "output_type": "stream",
     "text": [
      "clf fit\n"
     ]
    },
    {
     "name": "stderr",
     "output_type": "stream",
     "text": [
      "/home/adam/Dropbox/WorkProjects/venv_main/lib/python3.6/site-packages/numpy/core/_asarray.py:83: VisibleDeprecationWarning: Creating an ndarray from ragged nested sequences (which is a list-or-tuple of lists-or-tuples-or ndarrays with different lengths or shapes) is deprecated. If you meant to do this, you must specify 'dtype=object' when creating the ndarray\n",
      "  return array(a, dtype, copy=False, order=order)\n"
     ]
    },
    {
     "name": "stdout",
     "output_type": "stream",
     "text": [
      "clf fit\n"
     ]
    },
    {
     "name": "stderr",
     "output_type": "stream",
     "text": [
      "/home/adam/Dropbox/WorkProjects/venv_main/lib/python3.6/site-packages/numpy/core/_asarray.py:83: VisibleDeprecationWarning: Creating an ndarray from ragged nested sequences (which is a list-or-tuple of lists-or-tuples-or ndarrays with different lengths or shapes) is deprecated. If you meant to do this, you must specify 'dtype=object' when creating the ndarray\n",
      "  return array(a, dtype, copy=False, order=order)\n"
     ]
    },
    {
     "name": "stdout",
     "output_type": "stream",
     "text": [
      "clf fit\n"
     ]
    },
    {
     "name": "stderr",
     "output_type": "stream",
     "text": [
      "/home/adam/Dropbox/WorkProjects/venv_main/lib/python3.6/site-packages/numpy/core/_asarray.py:83: VisibleDeprecationWarning: Creating an ndarray from ragged nested sequences (which is a list-or-tuple of lists-or-tuples-or ndarrays with different lengths or shapes) is deprecated. If you meant to do this, you must specify 'dtype=object' when creating the ndarray\n",
      "  return array(a, dtype, copy=False, order=order)\n"
     ]
    },
    {
     "name": "stdout",
     "output_type": "stream",
     "text": [
      "clf fit\n"
     ]
    },
    {
     "name": "stderr",
     "output_type": "stream",
     "text": [
      "/home/adam/Dropbox/WorkProjects/venv_main/lib/python3.6/site-packages/numpy/core/_asarray.py:83: VisibleDeprecationWarning: Creating an ndarray from ragged nested sequences (which is a list-or-tuple of lists-or-tuples-or ndarrays with different lengths or shapes) is deprecated. If you meant to do this, you must specify 'dtype=object' when creating the ndarray\n",
      "  return array(a, dtype, copy=False, order=order)\n"
     ]
    },
    {
     "name": "stdout",
     "output_type": "stream",
     "text": [
      "clf fit\n"
     ]
    },
    {
     "name": "stderr",
     "output_type": "stream",
     "text": [
      "/home/adam/Dropbox/WorkProjects/venv_main/lib/python3.6/site-packages/numpy/core/_asarray.py:83: VisibleDeprecationWarning: Creating an ndarray from ragged nested sequences (which is a list-or-tuple of lists-or-tuples-or ndarrays with different lengths or shapes) is deprecated. If you meant to do this, you must specify 'dtype=object' when creating the ndarray\n",
      "  return array(a, dtype, copy=False, order=order)\n"
     ]
    },
    {
     "name": "stdout",
     "output_type": "stream",
     "text": [
      "clf fit\n"
     ]
    },
    {
     "name": "stderr",
     "output_type": "stream",
     "text": [
      "/home/adam/Dropbox/WorkProjects/venv_main/lib/python3.6/site-packages/numpy/core/_asarray.py:83: VisibleDeprecationWarning: Creating an ndarray from ragged nested sequences (which is a list-or-tuple of lists-or-tuples-or ndarrays with different lengths or shapes) is deprecated. If you meant to do this, you must specify 'dtype=object' when creating the ndarray\n",
      "  return array(a, dtype, copy=False, order=order)\n"
     ]
    },
    {
     "name": "stdout",
     "output_type": "stream",
     "text": [
      "clf fit\n"
     ]
    }
   ],
   "source": [
    "# Train Occupation classifiers\n",
    "\n",
    "occ_classers = {}\n",
    "\n",
    "occs = [\"surgeon\", \"software_engineer\", \"composer\", \"pastor\", \"comedian\", \"architect\", \"chiropractor\", \"accountant\", \"attorney\", \"filmmaker\", \"physician\", \"dentist\", \"photographer\", \"professor\", \"painter\", \"journalist\", \"poet\", \"personal_trainer\", \"teacher\", \"psychologist\",  \"model\", \"interior_designer\", \"yoga_teacher\", \"nurse\", \"dietitian\"]\n",
    "for target_occ in occs:\n",
    "    Y_train = [p[\"title\"]==target_occ for p in bios_data_train]\n",
    "\n",
    "    Y_val = [p[\"title\"]==target_occ for p in bios_data_val]\n",
    "\n",
    "    Y_test = [p[\"title\"]==target_occ for p in bios_data_test]\n",
    "    \n",
    "    f_Y_train = [p[\"title\"]==target_occ for p in f_bios_train]\n",
    "    f_Y_val = [p[\"title\"]==target_occ for p in f_bios_val]\n",
    "    f_Y_test = [p[\"title\"]==target_occ for p in f_bios_test]\n",
    "    \n",
    "    \n",
    "    pred_bow_joint, clf_bow_joint = pred_clf([X_train, X_val, X_test], [Y_train, Y_val, Y_test], [G_train,G_val,G_test],balanced=True)\n",
    "    \n",
    "    pred_bow_f, clf_bow_f = pred_clf([f_X_train, f_X_val, f_X_test], [f_Y_train, f_Y_val, f_Y_test], [f_G_train,f_G_val,f_G_test],balanced=True)\n",
    "    \n",
    "    \n",
    "    occ_classers[target_occ] = {}\n",
    "    occ_classers[target_occ]['clf_bow_joint'] = clf_bow_joint\n",
    "    occ_classers[target_occ]['pred_bow_joint'] = pred_bow_joint\n",
    "    occ_classers[target_occ]['clf_bow_f'] = clf_bow_f\n",
    "    occ_classers[target_occ]['pred_bow_f'] = pred_bow_f"
   ]
  },
  {
   "cell_type": "code",
   "execution_count": 12,
   "id": "anonymous-manitoba",
   "metadata": {},
   "outputs": [
    {
     "name": "stderr",
     "output_type": "stream",
     "text": [
      "/home/adam/Dropbox/WorkProjects/venv_main/lib/python3.6/site-packages/numpy/core/_asarray.py:83: VisibleDeprecationWarning: Creating an ndarray from ragged nested sequences (which is a list-or-tuple of lists-or-tuples-or ndarrays with different lengths or shapes) is deprecated. If you meant to do this, you must specify 'dtype=object' when creating the ndarray\n",
      "  return array(a, dtype, copy=False, order=order)\n"
     ]
    },
    {
     "name": "stdout",
     "output_type": "stream",
     "text": [
      "clf fit\n"
     ]
    },
    {
     "name": "stderr",
     "output_type": "stream",
     "text": [
      "/home/adam/Dropbox/WorkProjects/venv_main/lib/python3.6/site-packages/numpy/core/_asarray.py:83: VisibleDeprecationWarning: Creating an ndarray from ragged nested sequences (which is a list-or-tuple of lists-or-tuples-or ndarrays with different lengths or shapes) is deprecated. If you meant to do this, you must specify 'dtype=object' when creating the ndarray\n",
      "  return array(a, dtype, copy=False, order=order)\n"
     ]
    },
    {
     "name": "stdout",
     "output_type": "stream",
     "text": [
      "clf fit\n"
     ]
    }
   ],
   "source": [
    "target_occ = 'all'\n",
    "Y_train = [p[\"title\"] for p in bios_data_train]\n",
    "\n",
    "Y_val = [p[\"title\"] for p in bios_data_val]\n",
    "\n",
    "Y_test = [p[\"title\"] for p in bios_data_test]\n",
    "\n",
    "f_Y_train = [p[\"title\"] for p in f_bios_train]\n",
    "f_Y_val = [p[\"title\"] for p in f_bios_val]\n",
    "f_Y_test = [p[\"title\"] for p in f_bios_test]\n",
    "\n",
    "\n",
    "pred_bow_joint, clf_bow_joint = pred_clf([X_train, X_val, X_test], [Y_train, Y_val, Y_test], [G_train,G_val,G_test],balanced=True)\n",
    "\n",
    "pred_bow_f, clf_bow_f = pred_clf([f_X_train, f_X_val, f_X_test], [f_Y_train, f_Y_val, f_Y_test], [f_G_train,f_G_val,f_G_test],balanced=True)\n",
    "\n",
    "\n",
    "occ_classers[target_occ] = {}\n",
    "occ_classers[target_occ]['clf_bow_joint'] = clf_bow_joint\n",
    "occ_classers[target_occ]['pred_bow_joint'] = pred_bow_joint\n",
    "occ_classers[target_occ]['clf_bow_f'] = clf_bow_f\n",
    "occ_classers[target_occ]['pred_bow_f'] = pred_bow_f"
   ]
  },
  {
   "cell_type": "code",
   "execution_count": 327,
   "id": "lesser-polls",
   "metadata": {},
   "outputs": [],
   "source": [
    "pkl.dump(occ_classers,open('results/bow_occ_classers.pkl','wb'))"
   ]
  },
  {
   "cell_type": "code",
   "execution_count": 302,
   "id": "crazy-frequency",
   "metadata": {},
   "outputs": [
    {
     "name": "stderr",
     "output_type": "stream",
     "text": [
      "/home/adam/Dropbox/WorkProjects/venv_main/lib/python3.6/site-packages/numpy/core/_asarray.py:83: VisibleDeprecationWarning: Creating an ndarray from ragged nested sequences (which is a list-or-tuple of lists-or-tuples-or ndarrays with different lengths or shapes) is deprecated. If you meant to do this, you must specify 'dtype=object' when creating the ndarray\n",
      "  return array(a, dtype, copy=False, order=order)\n"
     ]
    },
    {
     "name": "stdout",
     "output_type": "stream",
     "text": [
      "clf fit\n"
     ]
    }
   ],
   "source": [
    "m_Y_train = [p[\"title\"] for p in m_bios_train]\n",
    "m_Y_val = [p[\"title\"] for p in m_bios_val]\n",
    "m_Y_test = [p[\"title\"] for p in m_bios_test]\n",
    "pred_bow_m, clm_bow_m = pred_clf([m_X_train, m_X_val, m_X_test], [m_Y_train, m_Y_val, m_Y_test], [m_G_train,m_G_val,m_G_test],balanced=True)\n"
   ]
  },
  {
   "cell_type": "markdown",
   "id": "exotic-player",
   "metadata": {},
   "source": [
    "# Gender classifiers"
   ]
  },
  {
   "cell_type": "code",
   "execution_count": 30,
   "id": "upset-stage",
   "metadata": {},
   "outputs": [],
   "source": [
    "\n",
    "\n",
    "# unbalanced\n",
    "unbalanced_gender_clf = sklearn.linear_model.SGDClassifier(loss='log')\n",
    "unbalanced_gender_clf.fit(X_train, G_train)\n",
    "pkl.dump(unbalanced_gender_clf,open('results/bow_unbal_g.pkl','wb'))\n",
    "\n",
    "\n",
    "# balanced\n",
    "\n",
    "occs_full = np.unique([p['title'] for p in bios_data_train])\n",
    "#make sample weights\n",
    "sample_weights=[]\n",
    "valdict = {}\n",
    "for t in occs_full:\n",
    "        fval = _m[t] / max(_f[t],_m[t])\n",
    "        mval = _f[t] / max(_f[t],_m[t])\n",
    "        valdict[t] = {}\n",
    "        valdict[t]['F'] = fval\n",
    "        valdict[t]['M'] = mval\n",
    "    \n",
    "# for :\n",
    "sample_weights = [valdict[p['title']][p['gender']] for p in bios_data_train]\n",
    "\n",
    "# _f, \n",
    "\n",
    "balanced_gender_clf = sklearn.linear_model.SGDClassifier(loss='log')\n",
    "balanced_gender_clf.fit(X_train, G_train,sample_weight=sample_weights)\n",
    "pkl.dump(balanced_gender_clf,open('results/bow_bal_g.pkl','wb'))\n"
   ]
  },
  {
   "cell_type": "code",
   "execution_count": 15,
   "id": "boxed-uncertainty",
   "metadata": {},
   "outputs": [
    {
     "name": "stdout",
     "output_type": "stream",
     "text": [
      "bow_bal_g.pkl\t      we_bal_g.pkl\t\t     we_unbal_g.pkl\r\n",
      "bow_occ_classers.pkl  we_occ_classers.pkl\r\n",
      "bow_unbal_g.pkl       we_single_gender_classers.pkl\r\n"
     ]
    }
   ],
   "source": [
    "!ls results"
   ]
  },
  {
   "cell_type": "code",
   "execution_count": 21,
   "id": "passing-retreat",
   "metadata": {},
   "outputs": [],
   "source": [
    "single_gender_classers = {}\n",
    "occs = [\"surgeon\", \"software_engineer\", \"composer\", \"pastor\", \"comedian\", \"architect\", \"chiropractor\", \"accountant\", \"attorney\", \"filmmaker\", \"physician\", \"dentist\", \"photographer\", \"professor\", \"painter\", \"journalist\", \"poet\", \"personal_trainer\", \"teacher\", \"psychologist\",  \"model\", \"interior_designer\", \"yoga_teacher\", \"nurse\", \"dietitian\"]\n",
    "\n",
    "for occ in occs:\n",
    "# #     print(occ)\n",
    "    cand_X = [i for i,p in enumerate(bios_data_train) if p['title']==occ]\n",
    "# #     irrev_X_train = decorr_with_occ(np.array(X_train)[cand_X], occ)\n",
    "#     X_test = vectorizer.transform([p[\"bio\"] for p in bios_data_test])\n",
    "\n",
    "    temp_bios = np.array(bios_data_train)[cand_X]\n",
    "    temp_X = vectorizer.transform([p[\"bio\"] for p in temp_bios])\n",
    "\n",
    "    balanced_gender_clf = sklearn.linear_model.SGDClassifier(loss='log')\n",
    "    balanced_gender_clf.fit(temp_X,np.array(G_train)[cand_X])\n",
    "    \n",
    "    single_gender_classers[occ] = balanced_gender_clf\n",
    "#\n",
    "pkl.dump(single_gender_classers,open('results/bow_single_gender_classers.pkl','wb'))"
   ]
  },
  {
   "cell_type": "code",
   "execution_count": null,
   "id": "turned-israeli",
   "metadata": {},
   "outputs": [],
   "source": [
    "bios_data_train = pkl.load(open(\"bios_data_train_wo.pkl\",\"rb\"))\n",
    "X_train = pkl.load(open('xtrain_bow.pkl','rb'))\n",
    "X_test = pkl.load(open('X_test_bow.pkl','rb'))\n"
   ]
  },
  {
   "cell_type": "code",
   "execution_count": 22,
   "id": "rough-optimization",
   "metadata": {},
   "outputs": [],
   "source": [
    "pkl.dump(bios_data_train,open(\"bios_data_train_wo.pkl\",\"wb\"))\n",
    "pkl.dump(X_train,open('xtrain_bow.pkl','wb'))\n",
    "pkl.dump(X_test,open('xtest_bow.pkl','wb'))"
   ]
  },
  {
   "cell_type": "markdown",
   "id": "million-terminal",
   "metadata": {},
   "source": [
    "# Correlation plots"
   ]
  },
  {
   "cell_type": "code",
   "execution_count": 153,
   "id": "political-layout",
   "metadata": {
    "scrolled": true
   },
   "outputs": [],
   "source": [
    "# covariances with gender clasifier\n",
    "f_frac = np.load('results/f_frac.npy')\n",
    "y_preds_eo = pkl.load(open('results/bow_eo_y_preds.pkl','rb'))\n",
    "joint_corr_full = []\n",
    "decoupled_corr_full = []\n",
    "eo_corr_full = []\n",
    "for target_occ in occs:\n",
    "    \n",
    "    \n",
    "    cand_women = [p for p in bios_data_test if p[\"title\"]==target_occ and p['gender']=='F']\n",
    "#     cand_women_X =  single_vectorizers[target_occ].transform([p[\"bio\"] for p in cand_women])\n",
    "    \n",
    "    cand_women_X_full =  vectorizer.transform([p[\"bio\"] for p in cand_women])\n",
    "    \n",
    "    gender_probs = balanced_gender_clf.predict_proba(cand_women_X_full)[:,0]\n",
    "    occ_probs = occ_classers[target_occ]['clf_bow_joint'].predict_proba(cand_women_X_full)[:,1]\n",
    "    \n",
    "    \n",
    "    \n",
    "    corr = scipy.stats.pearsonr(occ_probs,gender_probs)[0]\n",
    "    joint_corr_full.append(corr)\n",
    "    \n",
    "    occ_probs = occ_classers[target_occ]['clf_bow_f'].predict_proba(cand_women_X_full)[:,1]\n",
    "    corr = scipy.stats.pearsonr(occ_probs,gender_probs)[0]\n",
    "    decoupled_corr_full.append(corr)\n",
    "#     decoupled_cov.append(cov)\n",
    "    \n",
    "    cand_women_inds = np.array([i for i,p in enumerate(bios_data_test) if p[\"title\"]==target_occ and p['gender']=='F'])\n",
    "    occ_probs =  y_preds_eo[target_occ][cand_women_inds][:,1]\n",
    "    corr = scipy.stats.pearsonr(occ_probs,gender_probs)[0]\n",
    "    eo_corr_full.append(corr)\n"
   ]
  },
  {
   "cell_type": "code",
   "execution_count": 408,
   "id": "distinguished-concrete",
   "metadata": {},
   "outputs": [],
   "source": [
    "# SPEARMAN\n",
    "from scipy.stats import spearmanr\n",
    "# covariances with gender clasifier\n",
    "f_frac = np.load('results/f_frac.npy')\n",
    "y_preds_eo = pkl.load(open('results/bow_eo_y_preds.pkl','rb'))\n",
    "joint_corr_full = []\n",
    "decoupled_corr_full = []\n",
    "pr_corr_full = []\n",
    "for target_occ in occs:\n",
    "    \n",
    "    \n",
    "    cand_women = [p for p in bios_data_test if p[\"title\"]==target_occ and p['gender']=='F']\n",
    "#     cand_women_X =  single_vectorizers[target_occ].transform([p[\"bio\"] for p in cand_women])\n",
    "    \n",
    "    cand_women_X_full =  vectorizer.transform([p[\"bio\"] for p in cand_women])\n",
    "    \n",
    "    gender_probs = balanced_gender_clf.predict_proba(cand_women_X_full)[:,0]\n",
    "    occ_probs = occ_classers[target_occ]['clf_bow_joint'].predict_proba(cand_women_X_full)[:,1]\n",
    "    \n",
    "    \n",
    "    \n",
    "    corr = spearmanr(occ_probs,gender_probs)[0]\n",
    "    joint_corr_full.append(corr)\n",
    "    \n",
    "    occ_probs = occ_classers[target_occ]['clf_bow_f'].predict_proba(cand_women_X_full)[:,1]\n",
    "    corr = spearmanr(occ_probs,gender_probs)[0]\n",
    "    decoupled_corr_full.append(corr)\n",
    "#     decoupled_cov.append(cov)\n",
    "    \n",
    "    cand_women_inds = np.array([i for i,p in enumerate(bios_data_test) if p[\"title\"]==target_occ and p['gender']=='F'])\n",
    "    occ_probs =  occ_classers[target_occ]['clf_bow_joint_sampleweights'].predict_proba(cand_women_X_full)[:,1]\n",
    "    corr = spearmanr(occ_probs,gender_probs)[0]\n",
    "    pr_corr_full.append(corr)\n"
   ]
  },
  {
   "cell_type": "code",
   "execution_count": 415,
   "id": "moderate-original",
   "metadata": {},
   "outputs": [
    {
     "name": "stdout",
     "output_type": "stream",
     "text": [
      "0.029388894783363904\n",
      "0.01957441017331686\n",
      "0.0262263870666854\n"
     ]
    }
   ],
   "source": [
    "\n",
    "print(np.cov(f_frac,joint_corr_full[:25])[0,1])\n",
    "print(np.cov(f_frac,decoupled_corr_full[:25])[0,1])\n",
    "print(np.cov(f_frac,pr_corr_full[:25])[0,1])"
   ]
  },
  {
   "cell_type": "code",
   "execution_count": 416,
   "id": "perceived-virtue",
   "metadata": {},
   "outputs": [
    {
     "name": "stdout",
     "output_type": "stream",
     "text": [
      "0.01686213282810397\n",
      "0.008099761247851073\n",
      "0.014880010283093804\n"
     ]
    }
   ],
   "source": [
    "\n",
    "print(np.cov(f_frac,joint_corr[:25])[0,1])\n",
    "print(np.cov(f_frac,decoupled_corr[:25])[0,1])\n",
    "print(np.cov(f_frac,pr_corr[:25])[0,1])"
   ]
  },
  {
   "cell_type": "code",
   "execution_count": 154,
   "id": "auburn-halloween",
   "metadata": {},
   "outputs": [
    {
     "data": {
      "text/plain": [
       "Text(0.5, 1.0, 'BOW')"
      ]
     },
     "execution_count": 154,
     "metadata": {},
     "output_type": "execute_result"
    },
    {
     "data": {
      "image/png": "[encoded data removed]",
      "text/plain": [
       "<Figure size 720x720 with 1 Axes>"
      ]
     },
     "metadata": {
      "needs_background": "light"
     },
     "output_type": "display_data"
    }
   ],
   "source": [
    "pylab.rcParams['figure.figsize'] = (10, 10)\n",
    "xs = np.array(f_frac).reshape(-1,)\n",
    "\n",
    "m, b = np.polyfit(xs, np.array(joint_corr_full).reshape(-1,), 1)\n",
    "plt.scatter(f_frac,joint_corr_full,marker='o',s=30,label='post-processing, Pearson\\'s r= %.3f'%(scipy.stats.pearsonr( f_frac,joint_corr_full)[0]))\n",
    "plt.plot(xs, m*xs+ b,linewidth=6)\n",
    "\n",
    "plt.legend()\n",
    "\n",
    "plt.axhline(y=0, color='r', linestyle='dashed')\n",
    "\n",
    "\n",
    "x_label = \"% FEMALE\"\n",
    "y_label = 'Correlation between Occupation and Gender Probs'\n",
    "texts = [plt.text(x,y,l,size=12) for x, y, l in zip(f_frac, joint_corr_full, occs)]\n",
    "adjust_text(texts)\n",
    "xlabel(x_label,size = 20 )\n",
    "ylabel(y_label, size=20)\n",
    "plt.ylim([-0.4, 0.4])\n",
    "plt.title(\"BOW\",fontsize=20)\n",
    "    \n",
    "\n",
    "    "
   ]
  },
  {
   "cell_type": "code",
   "execution_count": 155,
   "id": "caroline-crisis",
   "metadata": {},
   "outputs": [
    {
     "data": {
      "text/plain": [
       "Text(0.5, 1.0, 'BOW (F only)')"
      ]
     },
     "execution_count": 155,
     "metadata": {},
     "output_type": "execute_result"
    },
    {
     "data": {
      "image/png": "[encoded data removed]",
      "text/plain": [
       "<Figure size 720x720 with 1 Axes>"
      ]
     },
     "metadata": {
      "needs_background": "light"
     },
     "output_type": "display_data"
    }
   ],
   "source": [
    "\n",
    "\n",
    "pylab.rcParams['figure.figsize'] = (10, 10)\n",
    "xs = np.array(f_frac).reshape(-1,)\n",
    "\n",
    "m, b = np.polyfit(xs, np.array(joint_corr_full).reshape(-1,), 1)\n",
    "plt.scatter(f_frac,joint_corr_full,marker='x',alpha=0.2)\n",
    "plt.plot(xs, m*xs+ b,linewidth=6,label='post-processing')\n",
    "\n",
    "m, b = np.polyfit(xs, np.array(decoupled_corr_full).reshape(-1,), 1)\n",
    "plt.scatter(f_frac,decoupled_corr_full,marker='v',alpha=0.2)\n",
    "plt.plot(xs, m*xs+ b,linewidth=6,label='decoupled')\n",
    "\n",
    "\n",
    "m, b = np.polyfit(xs, np.array(eo_corr_full).reshape(-1,), 1)\n",
    "plt.scatter(f_frac,eo_corr_full,alpha=0.2)\n",
    "plt.plot(xs, m*xs+ b,linewidth=6,label='in-processing')\n",
    "plt.legend()\n",
    "\n",
    "\n",
    "plt.axhline(y=0, color='r', linestyle='dashed')\n",
    "\n",
    "x_label = \"% FEMALE\"\n",
    "y_label = 'Correlation between Occupation and Gender Probs'\n",
    "# texts = [plt.text(x,y,l) for x, y, l in zip(f_frac, decoupled_corr_full, occs)]\n",
    "adjust_text(texts)\n",
    "xlabel(x_label,size = 20 )\n",
    "ylabel(y_label, size=20)\n",
    "plt.ylim([-0.4, 0.4])\n",
    "plt.title(\"BOW (F only)\",fontsize=20)\n",
    "    \n",
    "\n",
    "    "
   ]
  },
  {
   "cell_type": "code",
   "execution_count": 414,
   "id": "opposite-tuition",
   "metadata": {},
   "outputs": [
    {
     "name": "stdout",
     "output_type": "stream",
     "text": [
      "0.7646153846153846\n",
      "0.5876923076923077\n",
      "0.6123076923076923\n",
      "0.5884615384615385\n",
      "0.3253846153846154\n",
      "0.46384615384615385\n"
     ]
    }
   ],
   "source": [
    "# pearson's correlations\n",
    "print(scipy.stats.spearmanr(f_frac,joint_corr_full)[0])\n",
    "print(scipy.stats.spearmanr(f_frac,decoupled_corr_full)[0])\n",
    "print(scipy.stats.spearmanr(f_frac,pr_corr_full)[0])\n",
    "\n",
    "# pearson's correlations with g^irrev\n",
    "print(scipy.stats.spearmanr(f_frac,joint_corr)[0])\n",
    "print(scipy.stats.spearmanr(f_frac,decoupled_corr)[0])\n",
    "print(scipy.stats.spearmanr(f_frac,pr_corr)[0])"
   ]
  },
  {
   "cell_type": "code",
   "execution_count": 413,
   "id": "searching-money",
   "metadata": {},
   "outputs": [
    {
     "name": "stdout",
     "output_type": "stream",
     "text": [
      "0.5517851128749864\n",
      "0.2801622038393851\n",
      "0.500521628247908\n"
     ]
    }
   ],
   "source": [
    "# pearson's correlations with g^irrev\n",
    "print(scipy.stats.pearsonr(f_frac,joint_corr)[0])\n",
    "print(scipy.stats.pearsonr(f_frac,decoupled_corr)[0])\n",
    "print(scipy.stats.pearsonr(f_frac,pr_corr)[0])"
   ]
  },
  {
   "cell_type": "code",
   "execution_count": 62,
   "id": "emerging-window",
   "metadata": {},
   "outputs": [],
   "source": [
    "# covariance for all people in occupation\n",
    "f_frac = np.load('results/f_frac.npy')\n",
    "y_preds_eo = pkl.load(open('results/bow_eo_y_preds.pkl','rb'))\n",
    "joint_corr_full = []\n",
    "decoupled_corr_full = []\n",
    "eo_corr_full = []\n",
    "for target_occ in occs:\n",
    "    \n",
    "    \n",
    "    cand_women = [p for p in bios_data_test if p[\"title\"]==target_occ and p['gender']=='F']\n",
    "    cand_women_len = len(cand_women)\n",
    "    cand_women.extend([p for p in bios_data_test if p[\"title\"]==target_occ and p['gender']=='M'])\n",
    "#     cand_women_X =  single_vectorizers[target_occ].transform([p[\"bio\"] for p in cand_women])\n",
    "    \n",
    "    cand_women_X_full =  vectorizer.transform([p[\"bio\"] for p in cand_women])\n",
    "    \n",
    "    gender_probs = balanced_gender_clf.predict_proba(cand_women_X_full)[:,0]\n",
    "    occ_probs = occ_classers[target_occ]['clf_bow_joint'].predict_proba(cand_women_X_full)[:,1]\n",
    "    \n",
    "    \n",
    "    \n",
    "    corr = scipy.stats.pearsonr(occ_probs,gender_probs)[0]\n",
    "    joint_corr_full.append(corr)\n",
    "    \n",
    "    \n",
    "    \n",
    "\n",
    "    \n",
    "    occ_probs = list(occ_classers[target_occ]['clf_bow_f'].predict_proba(cand_women_X_full[:cand_women_len])[:,1])\n",
    "    occ_probs.extend(list(occ_classers[target_occ]['clm_bow_m'].predict_proba(cand_women_X_full[cand_women_len:])[:,1]))\n",
    "    \n",
    "    corr = scipy.stats.pearsonr(np.array(occ_probs),gender_probs)[0]\n",
    "    decoupled_corr_full.append(corr)\n",
    "#     decoupled_cov.append(cov)\n",
    "    \n",
    "    cand_women_inds = np.array([i for i,p in enumerate(bios_data_test) if p[\"title\"]==target_occ])\n",
    "    occ_probs =  y_preds_eo[target_occ][cand_women_inds][:,1]\n",
    "    corr = scipy.stats.pearsonr(occ_probs,gender_probs)[0]\n",
    "    eo_corr_full.append(corr)\n",
    "\n",
    "    "
   ]
  },
  {
   "cell_type": "code",
   "execution_count": 63,
   "id": "forty-region",
   "metadata": {},
   "outputs": [
    {
     "data": {
      "text/plain": [
       "Text(0.5, 1.0, 'BOW (all people in occupation)')"
      ]
     },
     "execution_count": 63,
     "metadata": {},
     "output_type": "execute_result"
    },
    {
     "data": {
      "image/png": "[encoded data removed]",
      "text/plain": [
       "<Figure size 720x720 with 1 Axes>"
      ]
     },
     "metadata": {
      "needs_background": "light"
     },
     "output_type": "display_data"
    }
   ],
   "source": [
    "\n",
    "pylab.rcParams['figure.figsize'] = (10, 10)\n",
    "xs = np.array(f_frac).reshape(-1,)\n",
    "\n",
    "m, b = np.polyfit(xs, np.array(joint_corr_full).reshape(-1,), 1)\n",
    "plt.scatter(f_frac,joint_corr_full,marker='x',alpha=0.2)\n",
    "plt.plot(xs, m*xs+ b,linewidth=6,label='post-processing')\n",
    "\n",
    "m, b = np.polyfit(xs, np.array(decoupled_corr_full).reshape(-1,), 1)\n",
    "plt.scatter(f_frac,decoupled_corr_full,marker='v',alpha=0.2)\n",
    "plt.plot(xs, m*xs+ b,linewidth=6,label='decoupled')\n",
    "\n",
    "\n",
    "m, b = np.polyfit(xs, np.array(eo_corr_full).reshape(-1,), 1)\n",
    "plt.scatter(f_frac,eo_corr_full,alpha=0.2)\n",
    "plt.plot(xs, m*xs+ b,linewidth=6,label='in-processing')\n",
    "plt.legend()\n",
    "\n",
    "\n",
    "plt.axhline(y=0, color='r', linestyle='dashed')\n",
    "\n",
    "x_label = \"% FEMALE\"\n",
    "y_label = 'Correlation between Occupation and Gender Probs'\n",
    "# texts = [plt.text(x,y,l) for x, y, l in zip(f_frac, decoupled_corr_full, occs)]\n",
    "adjust_text(texts)\n",
    "xlabel(x_label,size = 20 )\n",
    "ylabel(y_label, size=20)\n",
    "plt.ylim([-0.4, 0.4])\n",
    "plt.title(\"BOW (all people in occupation)\",fontsize=20)\n",
    "    \n",
    "\n",
    "    "
   ]
  },
  {
   "cell_type": "code",
   "execution_count": 405,
   "id": "metropolitan-forth",
   "metadata": {},
   "outputs": [],
   "source": [
    "# covariance for men in occupation\n",
    "f_frac = np.load('results/f_frac.npy')\n",
    "y_preds_eo = pkl.load(open('results/bow_eo_y_preds.pkl','rb'))\n",
    "joint_corr_full = []\n",
    "decoupled_corr_full = []\n",
    "eo_corr_full = []\n",
    "for target_occ in occs:\n",
    "    \n",
    "    \n",
    "    cand_women = [p for p in bios_data_test if p[\"title\"]==target_occ and p['gender']=='M']\n",
    "    cand_women_X_full =  vectorizer.transform([p[\"bio\"] for p in cand_women])\n",
    "    \n",
    "    gender_probs = balanced_gender_clf.predict_proba(cand_women_X_full)[:,0]\n",
    "    occ_probs = occ_classers[target_occ]['clf_bow_joint'].predict_proba(cand_women_X_full)[:,1]\n",
    "    \n",
    "    \n",
    "    \n",
    "    corr = scipy.stats.pearsonr(occ_probs,gender_probs)[0]\n",
    "    joint_corr_full.append(corr)\n",
    "    \n",
    "    occ_probs = occ_classers[target_occ]['clm_bow_m'].predict_proba(cand_women_X_full)[:,1]\n",
    "    corr = scipy.stats.pearsonr(occ_probs,gender_probs)[0]\n",
    "    decoupled_corr_full.append(corr)\n",
    "    \n",
    "    cand_women_inds = np.array([i for i,p in enumerate(bios_data_test) if p[\"title\"]==target_occ and p['gender']=='M'])\n",
    "    occ_probs =  y_preds_eo[target_occ][cand_women_inds][:,1]\n",
    "    corr = scipy.stats.pearsonr(occ_probs,gender_probs)[0]\n",
    "    eo_corr_full.append(corr)\n",
    "\n",
    "    "
   ]
  },
  {
   "cell_type": "code",
   "execution_count": 66,
   "id": "italian-discovery",
   "metadata": {},
   "outputs": [
    {
     "data": {
      "text/plain": [
       "Text(0.5, 1.0, 'BOW (M only)')"
      ]
     },
     "execution_count": 66,
     "metadata": {},
     "output_type": "execute_result"
    },
    {
     "data": {
      "image/png": "[encoded data removed]",
      "text/plain": [
       "<Figure size 720x720 with 1 Axes>"
      ]
     },
     "metadata": {
      "needs_background": "light"
     },
     "output_type": "display_data"
    }
   ],
   "source": [
    "\n",
    "pylab.rcParams['figure.figsize'] = (10, 10)\n",
    "xs = np.array(f_frac).reshape(-1,)\n",
    "\n",
    "m, b = np.polyfit(xs, np.array(joint_corr_full).reshape(-1,), 1)\n",
    "plt.scatter(f_frac,joint_corr_full,marker='x',alpha=0.2)\n",
    "plt.plot(xs, m*xs+ b,linewidth=6,label='post-processing')\n",
    "\n",
    "m, b = np.polyfit(xs, np.array(decoupled_corr_full).reshape(-1,), 1)\n",
    "plt.scatter(f_frac,decoupled_corr_full,marker='v',alpha=0.2)\n",
    "plt.plot(xs, m*xs+ b,linewidth=6,label='decoupled')\n",
    "\n",
    "\n",
    "m, b = np.polyfit(xs, np.array(eo_corr_full).reshape(-1,), 1)\n",
    "plt.scatter(f_frac,eo_corr_full,alpha=0.2)\n",
    "plt.plot(xs, m*xs+ b,linewidth=6,label='in-processing')\n",
    "plt.legend()\n",
    "\n",
    "\n",
    "plt.axhline(y=0, color='r', linestyle='dashed')\n",
    "\n",
    "x_label = \"% FEMALE\"\n",
    "y_label = 'Correlation between Occupation and Gender Probs'\n",
    "# texts = [plt.text(x,y,l) for x, y, l in zip(f_frac, decoupled_corr_full, occs)]\n",
    "adjust_text(texts)\n",
    "xlabel(x_label,size = 20 )\n",
    "ylabel(y_label, size=20)\n",
    "plt.ylim([-0.4, 0.4])\n",
    "plt.title(\"BOW (M only)\",fontsize=20)\n",
    "    \n",
    "\n",
    "    "
   ]
  },
  {
   "cell_type": "markdown",
   "id": "greenhouse-window",
   "metadata": {},
   "source": [
    "## train task-irrelevant gender classifiers"
   ]
  },
  {
   "cell_type": "code",
   "execution_count": 92,
   "id": "deadly-fairy",
   "metadata": {},
   "outputs": [],
   "source": [
    "# load chi scores\n",
    "f_chi = pkl.load(open('results/f_chi.pkl','rb'))\n",
    "m_chi = pkl.load(open('results/m_chi.pkl','rb'))\n",
    "\n"
   ]
  },
  {
   "cell_type": "code",
   "execution_count": 95,
   "id": "hawaiian-affair",
   "metadata": {},
   "outputs": [],
   "source": [
    "# threshold for determining task relevance\n",
    "from scipy.stats import chi2\n",
    "prob = 0.99\n",
    "critical = chi2.ppf(prob, 1)\n",
    "thr = critical"
   ]
  },
  {
   "cell_type": "code",
   "execution_count": 98,
   "id": "suspended-remainder",
   "metadata": {},
   "outputs": [
    {
     "name": "stdout",
     "output_type": "stream",
     "text": [
      "surgeon\n",
      "1479\n",
      "software_engineer\n",
      "2285\n",
      "composer\n",
      "2289\n",
      "pastor\n",
      "2967\n",
      "comedian\n",
      "2699\n",
      "architect\n",
      "2203\n",
      "chiropractor\n",
      "2932\n",
      "accountant\n",
      "2526\n",
      "attorney\n",
      "1184\n",
      "filmmaker\n",
      "2300\n",
      "physician\n",
      "525\n",
      "dentist\n",
      "1122\n",
      "photographer\n",
      "1140\n",
      "professor\n",
      "703\n",
      "painter\n",
      "2033\n",
      "journalist\n",
      "1518\n",
      "poet\n",
      "2277\n",
      "personal_trainer\n",
      "3209\n",
      "teacher\n",
      "1715\n",
      "psychologist\n",
      "1881\n",
      "model\n",
      "1846\n",
      "interior_designer\n",
      "3154\n",
      "yoga_teacher\n",
      "3003\n",
      "nurse\n",
      "1484\n",
      "dietitian\n",
      "2862\n"
     ]
    }
   ],
   "source": [
    "# train classifiers and save vocabularies\n",
    "thr = critical\n",
    "chi_gender_classers = {}\n",
    "chi_vectorizers = {}\n",
    "occs = [\"surgeon\", \"software_engineer\", \"composer\", \"pastor\", \"comedian\", \"architect\", \"chiropractor\", \"accountant\", \"attorney\", \"filmmaker\", \"physician\", \"dentist\", \"photographer\", \"professor\", \"painter\", \"journalist\", \"poet\", \"personal_trainer\", \"teacher\", \"psychologist\",  \"model\", \"interior_designer\", \"yoga_teacher\", \"nurse\", \"dietitian\"]\n",
    "\n",
    "for occ in occs:\n",
    "    \n",
    "    print(occ)\n",
    "\n",
    "        \n",
    "    indset =[i for i,x in enumerate(f_chi[occ]) if x[0][0]<critical and m_chi[occ][i][0][0]<critical]\n",
    "\n",
    "    print(len(list(indset)))\n",
    "    irrev_chi_words = words[list(indset)]\n",
    "    \n",
    "    irrev_chi_vectorizer = CountVectorizer(analyzer='word',min_df=0.001,binary=False,vocabulary=irrev_chi_words)\n",
    "    irrev_chi_X_train = irrev_chi_vectorizer.fit_transform([p[\"bio\"] for p in bios_data_train])\n",
    "    irrev_chi_X_val = irrev_chi_vectorizer.transform([p[\"bio\"] for p in bios_data_val])\n",
    "    irrev_chi_X_test = irrev_chi_vectorizer.transform([p[\"bio\"] for p in bios_data_test])\n",
    "\n",
    "    balanced_gender_clf = sklearn.linear_model.SGDClassifier(loss='log')\n",
    "    balanced_gender_clf.fit(irrev_chi_X_train, G_train,sample_weight=sample_weights)\n",
    "    \n",
    "    chi_gender_classers[occ] = {}\n",
    "    chi_gender_classers[occ][thr] = balanced_gender_clf\n",
    "    chi_vectorizers[occ] = {}\n",
    "    chi_vectorizers[occ][thr] = irrev_chi_vectorizer"
   ]
  },
  {
   "cell_type": "code",
   "execution_count": 324,
   "id": "moderate-hammer",
   "metadata": {},
   "outputs": [
    {
     "name": "stdout",
     "output_type": "stream",
     "text": [
      "0.5444638702713629\n"
     ]
    }
   ],
   "source": [
    "# see performance of classifiers\n",
    "accs=[]\n",
    "for target_occ in occs:\n",
    "    \n",
    "    \n",
    "    cand_women = [p for p in bios_data_test if p[\"title\"]==target_occ and p['gender']=='F']\n",
    "    cand_women_len = len(cand_women)\n",
    "#     cand_women.extend([p for p in bios_data_test if p[\"title\"]==target_occ and p['gender']=='M'])\n",
    "    \n",
    "    cand_women_X_full =  chi_vectorizers[target_occ][thr].transform([p[\"bio\"] for p in cand_women])\n",
    "    \n",
    "    gender_probs = chi_gender_classers[target_occ][thr].predict(cand_women_X_full)\n",
    "    \n",
    "    G_temp = ['F']*cand_women_len\n",
    "#     G_temp.extend(['M']*(len(cand_women)-cand_women_len))\n",
    "    accs.append(sklearn.metrics.accuracy_score(G_temp,gender_probs))\n",
    "print(np.mean(accs))"
   ]
  },
  {
   "cell_type": "code",
   "execution_count": 323,
   "id": "worldwide-broadcasting",
   "metadata": {},
   "outputs": [
    {
     "name": "stdout",
     "output_type": "stream",
     "text": [
      "0.6047330753418229\n"
     ]
    }
   ],
   "source": [
    "# accuracy avg over men and women\n",
    "print(np.mean(accs))"
   ]
  },
  {
   "cell_type": "code",
   "execution_count": 100,
   "id": "accredited-playback",
   "metadata": {},
   "outputs": [],
   "source": [
    "# save the classifiers\n",
    "pkl.dump(chi_gender_classers,open('results/bow_chi_gender_classers.pkl','wb'))\n",
    "pkl.dump(chi_vectorizers,open('results/bow_chi_vectorizers.pkl','wb'))\n"
   ]
  },
  {
   "cell_type": "code",
   "execution_count": 382,
   "id": "sticky-words",
   "metadata": {},
   "outputs": [],
   "source": [
    "chi_vectorizer_ors = pkl.load(open('results/bow_chi_vectorizers_or.pkl','rb'))\n",
    "chi_gender_classers_or = pkl.load(open('results/bow_chi_gender_classers_or.pkl','rb'))"
   ]
  },
  {
   "cell_type": "code",
   "execution_count": 384,
   "id": "medium-legislature",
   "metadata": {},
   "outputs": [
    {
     "data": {
      "text/plain": [
       "dict_keys(['surgeon', 'software_engineer', 'composer', 'pastor', 'comedian', 'architect', 'chiropractor', 'accountant', 'attorney', 'filmmaker', 'physician', 'dentist', 'photographer', 'professor', 'painter', 'journalist', 'poet', 'personal_trainer', 'teacher', 'psychologist', 'model', 'interior_designer', 'yoga_teacher', 'nurse', 'dietitian'])"
      ]
     },
     "execution_count": 384,
     "metadata": {},
     "output_type": "execute_result"
    }
   ],
   "source": [
    "chi_vectorizer_ors.keys()"
   ]
  },
  {
   "cell_type": "code",
   "execution_count": 391,
   "id": "atmospheric-alabama",
   "metadata": {},
   "outputs": [
    {
     "name": "stdout",
     "output_type": "stream",
     "text": [
      "0.012869365580807833\n",
      "0.0039055931834704742\n",
      "0.012308572232568222\n"
     ]
    }
   ],
   "source": [
    "# get covariances with task-irrelevant classifiers\n",
    "thr = critical\n",
    "\n",
    "joint_corr = []\n",
    "decoupled_corr = []\n",
    "pr_corr = []\n",
    "for target_occ in occs:\n",
    "    \n",
    "    \n",
    "    cand_women = [p for p in bios_data_test if p[\"title\"]==target_occ and p['gender']=='F']\n",
    "    cand_women_X =  chi_vectorizer_ors[target_occ][thr].transform([p[\"bio\"] for p in cand_women])\n",
    "    \n",
    "    gender_probs = chi_gender_classers_or[target_occ][thr].predict_proba(cand_women_X)[:,0]\n",
    "    cand_women_X_full =  vectorizer.transform([p[\"bio\"] for p in cand_women])\n",
    "    occ_probs = occ_classers[target_occ]['clf_bow_joint'].predict_proba(cand_women_X_full)[:,1]\n",
    "    occ_probs_pr = occ_classers[target_occ]['clf_bow_joint_sampleweights'].predict_proba(cand_women_X_full)[:,1]\n",
    "    pr_corr.append(scipy.stats.pearsonr(occ_probs_pr,gender_probs)[0])\n",
    "    cand_women_inds = np.array([i for i,p in enumerate(bios_data_test) if p[\"title\"]==target_occ and p['gender']=='F'])\n",
    "    \n",
    "    corr = scipy.stats.pearsonr(occ_probs,gender_probs)[0]\n",
    "    joint_corr.append(corr)\n",
    "    \n",
    "    occ_probs = occ_classers[target_occ]['clf_bow_f'].predict_proba(cand_women_X_full)[:,1]\n",
    "    corr = scipy.stats.pearsonr(occ_probs,gender_probs)[0]\n",
    "    decoupled_corr.append(corr)\n",
    "print(np.cov(f_frac,joint_corr[:25])[0,1])\n",
    "print(np.cov(f_frac,decoupled_corr[:25])[0,1])\n",
    "print(np.cov(f_frac,pr_corr[:25])[0,1])"
   ]
  },
  {
   "cell_type": "code",
   "execution_count": null,
   "id": "interpreted-stage",
   "metadata": {},
   "outputs": [],
   "source": []
  },
  {
   "cell_type": "code",
   "execution_count": 396,
   "id": "accepted-statistics",
   "metadata": {},
   "outputs": [
    {
     "name": "stdout",
     "output_type": "stream",
     "text": [
      "0.01686213282810397\n",
      "0.008099761247851073\n",
      "0.014880010283093804\n"
     ]
    }
   ],
   "source": [
    "# get covariances with task-irrelevant classifiers, SPEARMAN\n",
    "thr = critical\n",
    "\n",
    "joint_corr = []\n",
    "decoupled_corr = []\n",
    "pr_corr = []\n",
    "for target_occ in occs:\n",
    "    \n",
    "    \n",
    "    cand_women = [p for p in bios_data_test if p[\"title\"]==target_occ and p['gender']=='F']\n",
    "    cand_women_X =  chi_vectorizer_ors[target_occ][thr].transform([p[\"bio\"] for p in cand_women])\n",
    "    \n",
    "    gender_probs = chi_gender_classers_or[target_occ][thr].predict_proba(cand_women_X)[:,0]\n",
    "    cand_women_X_full =  vectorizer.transform([p[\"bio\"] for p in cand_women])\n",
    "    occ_probs = occ_classers[target_occ]['clf_bow_joint'].predict_proba(cand_women_X_full)[:,1]\n",
    "    occ_probs_pr = occ_classers[target_occ]['clf_bow_joint_sampleweights'].predict_proba(cand_women_X_full)[:,1]\n",
    "    pr_corr.append(scipy.stats.spearmanr(occ_probs_pr,gender_probs)[0])\n",
    "    cand_women_inds = np.array([i for i,p in enumerate(bios_data_test) if p[\"title\"]==target_occ and p['gender']=='F'])\n",
    "    \n",
    "    corr = scipy.stats.spearmanr(occ_probs,gender_probs)[0]\n",
    "    joint_corr.append(corr)\n",
    "    \n",
    "    occ_probs = occ_classers[target_occ]['clf_bow_f'].predict_proba(cand_women_X_full)[:,1]\n",
    "    corr = scipy.stats.spearmanr(occ_probs,gender_probs)[0]\n",
    "    decoupled_corr.append(corr)\n",
    "print(np.cov(f_frac,joint_corr[:25])[0,1])\n",
    "print(np.cov(f_frac,decoupled_corr[:25])[0,1])\n",
    "print(np.cov(f_frac,pr_corr[:25])[0,1])"
   ]
  },
  {
   "cell_type": "code",
   "execution_count": 394,
   "id": "official-underwear",
   "metadata": {},
   "outputs": [
    {
     "name": "stdout",
     "output_type": "stream",
     "text": [
      "0.5452876439102665\n",
      "0.6005085777055371\n",
      "0.20933913893147957\n"
     ]
    }
   ],
   "source": [
    "from scipy.stats import pearsonr\n",
    "print(pearsonr(f_frac,pr_corr)[0])\n",
    "print(pearsonr(f_frac,joint_corr)[0])\n",
    "print(pearsonr(f_frac,decoupled_corr)[0])\n"
   ]
  },
  {
   "cell_type": "code",
   "execution_count": 331,
   "id": "authentic-likelihood",
   "metadata": {},
   "outputs": [],
   "source": [
    "# get covariances with task-irrelevant classifiers\n",
    "thr = critical\n",
    "\n",
    "joint_corr = []\n",
    "decoupled_corr = []\n",
    "pr_corr = []\n",
    "for target_occ in occs:\n",
    "    \n",
    "    \n",
    "    cand_women = [p for p in bios_data_test if p[\"title\"]==target_occ and p['gender']=='F']\n",
    "    cand_women_X =  chi_vectorizers[target_occ][thr].transform([p[\"bio\"] for p in cand_women])\n",
    "    \n",
    "    gender_probs = chi_gender_classers[target_occ][thr].predict_proba(cand_women_X)[:,0]\n",
    "    cand_women_X_full =  vectorizer.transform([p[\"bio\"] for p in cand_women])\n",
    "    occ_probs = occ_classers[target_occ]['clf_bow_joint'].predict_proba(cand_women_X_full)[:,1]\n",
    "    occ_probs_pr = occ_classers[target_occ]['clf_bow_joint_sampleweights'].predict_proba(cand_women_X_full)[:,1]\n",
    "    pr_corr.append(scipy.stats.pearsonr(occ_probs_pr,gender_probs)[0])\n",
    "    cand_women_inds = np.array([i for i,p in enumerate(bios_data_test) if p[\"title\"]==target_occ and p['gender']=='F'])\n",
    "    \n",
    "    corr = scipy.stats.pearsonr(occ_probs,gender_probs)[0]\n",
    "    joint_corr.append(corr)\n",
    "    \n",
    "    occ_probs = occ_classers[target_occ]['clf_bow_f'].predict_proba(cand_women_X_full)[:,1]\n",
    "    corr = scipy.stats.pearsonr(occ_probs,gender_probs)[0]\n",
    "    decoupled_corr.append(corr)"
   ]
  },
  {
   "cell_type": "code",
   "execution_count": 332,
   "id": "opposite-portable",
   "metadata": {},
   "outputs": [
    {
     "name": "stdout",
     "output_type": "stream",
     "text": [
      "0.006482034306871401\n",
      "0.001120653206077474\n",
      "0.0045170210134542026\n"
     ]
    }
   ],
   "source": [
    "print(np.cov(f_frac,joint_corr[:25])[0,1])\n",
    "print(np.cov(f_frac,decoupled_corr[:25])[0,1])\n",
    "print(np.cov(f_frac,pr_corr[:25])[0,1])"
   ]
  },
  {
   "cell_type": "code",
   "execution_count": 105,
   "id": "separated-folder",
   "metadata": {},
   "outputs": [
    {
     "data": {
      "text/plain": [
       "Text(0.5, 1.0, 'BOW (F only)')"
      ]
     },
     "execution_count": 105,
     "metadata": {},
     "output_type": "execute_result"
    },
    {
     "data": {
      "image/png": "[encoded data removed]",
      "text/plain": [
       "<Figure size 1440x720 with 1 Axes>"
      ]
     },
     "metadata": {
      "needs_background": "light"
     },
     "output_type": "display_data"
    },
    {
     "data": {
      "image/png": "[encoded data removed]",
      "text/plain": [
       "<Figure size 1440x720 with 1 Axes>"
      ]
     },
     "metadata": {
      "needs_background": "light"
     },
     "output_type": "display_data"
    }
   ],
   "source": [
    "# plot comaprison\n",
    "\n",
    "pylab.rcParams['figure.figsize'] = (20, 10)\n",
    "xs = np.array(f_frac).reshape(-1,)\n",
    "\n",
    "m, b = np.polyfit(xs, np.array(joint_corr).reshape(-1,), 1)\n",
    "plt.scatter(f_frac,joint_corr,marker='o',s=30,label='post-processing, Pearson\\'s r= %.3f'%(scipy.stats.pearsonr( f_frac,joint_corr)[0]))\n",
    "plt.plot(xs, m*xs+ b,linewidth=6)\n",
    "\n",
    "plt.legend()\n",
    "\n",
    "plt.axhline(y=0, color='r', linestyle='dashed')\n",
    "\n",
    "\n",
    "x_label = \"% FEMALE\"\n",
    "y_label = 'Correlation between Occupation and Gender Probs'\n",
    "texts = [plt.text(x,y,l,size=12) for x, y, l in zip(f_frac, joint_corr, occs)]\n",
    "adjust_text(texts)\n",
    "xlabel(x_label,size = 20 )\n",
    "ylabel(y_label, size=20)\n",
    "plt.ylim([-0.4, 0.4])\n",
    "plt.title(\"BOW\",fontsize=20)\n",
    "    \n",
    "plt.figure()\n",
    "    \n",
    "\n",
    "pylab.rcParams['figure.figsize'] = (10, 10)\n",
    "xs = np.array(f_frac).reshape(-1,)\n",
    "\n",
    "m, b = np.polyfit(xs, np.array(joint_corr).reshape(-1,), 1)\n",
    "plt.scatter(f_frac,joint_corr,marker='x',alpha=0.2)\n",
    "plt.plot(xs, m*xs+ b,linewidth=6,label='post-processing')\n",
    "\n",
    "m, b = np.polyfit(xs, np.array(decoupled_corr).reshape(-1,), 1)\n",
    "plt.scatter(f_frac,decoupled_corr,marker='v',alpha=0.2)\n",
    "plt.plot(xs, m*xs+ b,linewidth=6,label='decoupled')\n",
    "\n",
    "\n",
    "m, b = np.polyfit(xs, np.array(eo_corr).reshape(-1,), 1)\n",
    "plt.scatter(f_frac,eo_corr,alpha=0.2)\n",
    "plt.plot(xs, m*xs+ b,linewidth=6,label='in-processing')\n",
    "plt.legend()\n",
    "\n",
    "\n",
    "plt.axhline(y=0, color='r', linestyle='dashed')\n",
    "\n",
    "x_label = \"% FEMALE\"\n",
    "y_label = 'Correlation between Occupation and Gender Probs'\n",
    "# texts = [plt.text(x,y,l) for x, y, l in zip(f_frac, decoupled_corr, occs)]\n",
    "adjust_text(texts)\n",
    "xlabel(x_label,size = 20 )\n",
    "ylabel(y_label, size=20)\n",
    "plt.ylim([-0.4, 0.4])\n",
    "plt.title(\"BOW (F only)\",fontsize=20)\n",
    "    \n",
    "\n",
    "    "
   ]
  },
  {
   "cell_type": "code",
   "execution_count": 106,
   "id": "universal-blackberry",
   "metadata": {},
   "outputs": [],
   "source": [
    "def get_color_gradient(xs,ys,inv=False):\n",
    "    CB_color_cycle = [(0.21568627450980393, 0.49411764705882355, 0.7215686274509804),\n",
    "(1.0, 0.4980392156862745, 0.0),\n",
    "(0.30196078431372547, 0.6862745098039216, 0.2901960784313726),\n",
    "(0.9686274509803922, 0.5058823529411764, 0.7490196078431373),\n",
    "(0.6509803921568628, 0.33725490196078434, 0.1568627450980392),\n",
    "(0.596078431372549, 0.3058823529411765, 0.6392156862745098),\n",
    "(0.6, 0.6, 0.6),\n",
    "(0.8941176470588236, 0.10196078431372549, 0.10980392156862745),\n",
    "(0.8705882352941177, 0.8705882352941177, 0.0),]\n",
    "    dists = np.array([min(abs(i),abs(j)) for i,j in zip(xs,ys)])\n",
    "    dists = dists/max(dists)\n",
    "    if inv:\n",
    "        lightness = [min(1,round(d,2)+0.15) for d in dists]\n",
    "    else:\n",
    "        lightness = [1-round(d,2) for d in dists]\n",
    "#     print(lightness)\n",
    "\n",
    "    colors = []\n",
    "    markers = []\n",
    "    for x,y,l in zip(xs,ys,lightness):\n",
    "        if x > 0:\n",
    "            if y > 0:\n",
    "                c = CB_color_cycle[0] + (l,) #(r,g,b,alpha)\n",
    "            else:\n",
    "                c = CB_color_cycle[1] + (l,)\n",
    "        else:\n",
    "            if y > 0:\n",
    "                c = CB_color_cycle[2] + (l,)\n",
    "            else: \n",
    "                c = CB_color_cycle[3] + (l,)\n",
    "        colors.append(c)\n",
    "#     print(colors)\n",
    "#     plt.scatter(xs,ys,c=colors)\n",
    "    return colors"
   ]
  },
  {
   "cell_type": "code",
   "execution_count": 373,
   "id": "brave-springfield",
   "metadata": {},
   "outputs": [],
   "source": [
    "balanced_gender_clf = pkl.load(open('results/bow_bal_g.pkl','rb'))\n"
   ]
  },
  {
   "cell_type": "code",
   "execution_count": 156,
   "id": "reliable-builder",
   "metadata": {},
   "outputs": [
    {
     "name": "stdout",
     "output_type": "stream",
     "text": [
      "surgeon --- original: 0.052, after in-processing: 0.166\n",
      "software_engineer --- original: 0.058, after in-processing: 0.045\n",
      "composer --- original: 0.018, after in-processing: 0.025\n",
      "pastor --- original: 0.035, after in-processing: 0.046\n",
      "comedian --- original: 0.013, after in-processing: 0.016\n",
      "architect --- original: 0.048, after in-processing: 0.039\n",
      "chiropractor --- original: 0.052, after in-processing: 0.077\n",
      "accountant --- original: 0.008, after in-processing: 0.018\n",
      "attorney --- original: 0.002, after in-processing: 0.017\n",
      "filmmaker --- original: 0.006, after in-processing: 0.023\n",
      "physician --- original: 0.051, after in-processing: 0.046\n",
      "dentist --- original: 0.008, after in-processing: 0.014\n",
      "photographer --- original: 0.001, after in-processing: 0.003\n",
      "professor --- original: 0.004, after in-processing: 0.007\n",
      "painter --- original: 0.008, after in-processing: 0.003\n",
      "journalist --- original: 0.014, after in-processing: 0.023\n",
      "poet --- original: 0.021, after in-processing: 0.023\n",
      "personal_trainer --- original: 0.093, after in-processing: 0.086\n",
      "teacher --- original: 0.062, after in-processing: 0.092\n",
      "psychologist --- original: 0.040, after in-processing: 0.041\n",
      "model --- original: 0.268, after in-processing: 0.336\n",
      "interior_designer --- original: 0.018, after in-processing: 0.028\n",
      "yoga_teacher --- original: 0.016, after in-processing: 0.020\n",
      "nurse --- original: 0.075, after in-processing: 0.070\n",
      "dietitian --- original: 0.146, after in-processing: 0.137\n"
     ]
    }
   ],
   "source": [
    "# using fairlearn with equalized odds - doesnt reduce the EO gap, possibly because it doesnt work with large/sparse vectors?\n",
    "from fairlearn.metrics import equalized_odds_difference\n",
    "occs = [\"surgeon\", \"software_engineer\", \"composer\", \"pastor\", \"comedian\", \"architect\", \"chiropractor\", \"accountant\", \"attorney\", \"filmmaker\", \"physician\", \"dentist\", \"photographer\", \"professor\", \"painter\", \"journalist\", \"poet\", \"personal_trainer\", \"teacher\", \"psychologist\",  \"model\", \"interior_designer\", \"yoga_teacher\", \"nurse\", \"dietitian\"]\n",
    "\n",
    "for target_occ in occs:\n",
    "    Y_test = [p[\"title\"]==target_occ for p in bios_data_test]\n",
    "    y_pred_unmit = occ_classers[target_occ]['clf_bow_joint'].predict(X_test)\n",
    "\n",
    "    y_pred_eo =  np.argmax(y_preds_eo[target_occ],axis=1)==1#[:,1]\n",
    "    print(\"%s --- original: %.3f, after in-processing: %.3f\" % (target_occ, equalized_odds_difference(Y_test, y_pred_unmit, sensitive_features=G_test), equalized_odds_difference(Y_test, y_pred_eo, sensitive_features=G_test))\n",
    "         )"
   ]
  },
  {
   "cell_type": "code",
   "execution_count": 160,
   "id": "anonymous-season",
   "metadata": {},
   "outputs": [
    {
     "name": "stdout",
     "output_type": "stream",
     "text": [
      "surgeon --- original: 0.052, after in-processing: 0.166\n",
      "software_engineer --- original: 0.058, after in-processing: 0.045\n",
      "composer --- original: 0.018, after in-processing: 0.025\n",
      "pastor --- original: 0.035, after in-processing: 0.046\n",
      "comedian --- original: 0.013, after in-processing: 0.016\n",
      "architect --- original: 0.048, after in-processing: 0.039\n",
      "chiropractor --- original: 0.052, after in-processing: 0.077\n",
      "accountant --- original: 0.008, after in-processing: 0.018\n",
      "attorney --- original: 0.002, after in-processing: 0.017\n",
      "filmmaker --- original: 0.006, after in-processing: 0.023\n",
      "physician --- original: 0.051, after in-processing: 0.046\n",
      "dentist --- original: 0.008, after in-processing: 0.014\n",
      "photographer --- original: 0.001, after in-processing: 0.003\n",
      "professor --- original: 0.004, after in-processing: 0.007\n",
      "painter --- original: 0.008, after in-processing: 0.003\n",
      "journalist --- original: 0.014, after in-processing: 0.023\n",
      "poet --- original: 0.021, after in-processing: 0.023\n",
      "personal_trainer --- original: 0.093, after in-processing: 0.086\n",
      "teacher --- original: 0.062, after in-processing: 0.092\n",
      "psychologist --- original: 0.040, after in-processing: 0.041\n",
      "model --- original: 0.268, after in-processing: 0.336\n",
      "interior_designer --- original: 0.018, after in-processing: 0.028\n",
      "yoga_teacher --- original: 0.016, after in-processing: 0.020\n",
      "nurse --- original: 0.075, after in-processing: 0.070\n",
      "dietitian --- original: 0.146, after in-processing: 0.137\n"
     ]
    }
   ],
   "source": [
    "# examining difference in EO gap. this is old/not used in the paper, which focuses on RMS gap.\n",
    "from fairlearn.metrics import equalized_odds_difference\n",
    "\n",
    "# y_preds_eo = pkl.load(open('results/we_eo_y_preds.pkl','rb'))\n",
    "originals = []\n",
    "eos = []\n",
    "decoupled=[]\n",
    "#equalized odds\n",
    "# cand_women_X =  [word_vector_featurize(p['bio'], E) for p in bios_data_test]\n",
    "\n",
    "for target_occ in occs:\n",
    "    Y_test = [p[\"title\"]==target_occ for p in bios_data_test]\n",
    "    y_pred_unmit = occ_classers[target_occ]['clf_bow_joint'].predict(X_test)\n",
    "    f_inds = [p[\"title\"]=='F' for p in bios_data_test]\n",
    "    \n",
    "    \n",
    "    #todo decoupled\n",
    "    y_preds_f = occ_classers[target_occ]['clf_bow_f'].predict(X_test)\n",
    "    y_preds_m = occ_classers[target_occ]['clm_bow_m'].predict(X_test)\n",
    "    y_preds_m[f_inds] = y_preds_f[f_inds]\n",
    "\n",
    "    \n",
    "#     corr = scipy.stats.pearsonr(occ_probs,gender_probs)[0]\n",
    "#     decoupled_corr_full.append(corr)\n",
    "\n",
    "    y_pred_eo =  np.argmax(y_preds_eo[target_occ],axis=1)==1#[:,1]\n",
    "    \n",
    "    a=equalized_odds_difference(Y_test, y_pred_unmit, sensitive_features=G_test)\n",
    "    b=equalized_odds_difference(Y_test, y_pred_eo, sensitive_features=G_test)\n",
    "    \n",
    "    c = equalized_odds_difference(Y_test, y_preds_m, sensitive_features=G_test)\n",
    "#     y_pred_unmit = bal_occers[target_occ]['clf_bow_joint'].predict(X_test)\n",
    "    originals.append(a)\n",
    "    eos.append(b)\n",
    "    decoupled.append(c)\n",
    "#     y_pred_eo = eo_mitigators_bal[target_occ].predict(X_test)\n",
    "    print(\"%s --- original: %.3f, after in-processing: %.3f\" % (target_occ, a, b)\n",
    "         )"
   ]
  },
  {
   "cell_type": "code",
   "execution_count": 334,
   "id": "disciplinary-given",
   "metadata": {},
   "outputs": [],
   "source": [
    "# get prediction summaries for each one\n",
    "\n",
    "originals_occ = []\n",
    "pr_occ = []\n",
    "decoupled_occ=[]\n",
    "#equalized odds\n",
    "# cand_women_X =  [word_vector_featurize(p['bio'], E) for p in bios_data_test]\n",
    "\n",
    "for target_occ in occs:\n",
    "    temp_inds = [i for i,p in enumerate(bios_data_test)]\n",
    "    Y_test = [p[\"title\"]==target_occ for p in np.array(bios_data_test)[temp_inds]]\n",
    "#     print(np.unique(np.array(Y_test)))\n",
    "    y_pred_unmit = occ_classers[target_occ]['clf_bow_joint'].predict(X_test[temp_inds])\n",
    "    f_inds = [p[\"gender\"]=='F' for p in np.array(bios_data_test)[temp_inds]]\n",
    "    \n",
    "    #decoupled\n",
    "    y_preds_f = occ_classers[target_occ]['clf_bow_f'].predict(X_test[temp_inds])\n",
    "    y_preds_m = occ_classers[target_occ]['clm_bow_m'].predict(X_test[temp_inds])\n",
    "    y_preds_m[f_inds] = y_preds_f[f_inds]\n",
    "\n",
    "    \n",
    "    G_test = np.array(G_test)\n",
    "    y_pred_pr = occ_classers[target_occ]['clf_bow_joint_sampleweights'].predict(X_test[temp_inds])\n",
    "    a=pred_summary(y_pred_unmit, Y_test, G_test[temp_inds])\n",
    "    \n",
    "    b=pred_summary(y_preds_m, Y_test, G_test[temp_inds])\n",
    "    c=pred_summary(y_pred_pr, Y_test, G_test[temp_inds])\n",
    "    originals_occ.append(a)\n",
    "    pr_occ.append(c)\n",
    "    decoupled_occ.append(b)"
   ]
  },
  {
   "cell_type": "code",
   "execution_count": 236,
   "id": "realistic-seafood",
   "metadata": {},
   "outputs": [],
   "source": [
    "#takes as input a dictionary that is outputed by cv_pred()\n",
    "def pred_summary(pred_dic, Y_test, G_test):\n",
    "    #wildcard aggregates over different classes/genders\n",
    "    wildcard = \"*\"\n",
    "    genders = sorted(set(G_test)) + [wildcard]\n",
    "    ys = sorted(set(Y_test)) + [wildcard]\n",
    "    summary =  {y: {g: [] for g in genders} for y in ys} \n",
    "    for y in ys:\n",
    "        for gender in genders:\n",
    "            #print(y,sum(array(Y_test)==y))\n",
    "            #accuracies = []\n",
    "            bool_subgroup = [y_pred==y_true for y_pred, y_true, g in zip(pred_dic, Y_test, G_test) \n",
    "                        if (gender==wildcard or gender==g) and (y==wildcard or y==y_true)]\n",
    "            acc=mean(bool_subgroup)\n",
    "            summary[y][gender]=acc    \n",
    "    return summary"
   ]
  },
  {
   "cell_type": "code",
   "execution_count": 335,
   "id": "dress-fountain",
   "metadata": {},
   "outputs": [],
   "source": [
    "orig_gap = []\n",
    "for p in originals_occ:\n",
    "    orig_gap.append(p[True]['F']-p[True]['M'])\n",
    "orig_gap=np.array(orig_gap)\n",
    "dec_gap = []\n",
    "for p in decoupled_occ:\n",
    "    dec_gap.append(p[True]['F']-p[True]['M'])\n",
    "dec_gap=np.array(dec_gap)\n",
    "pr_gap = []\n",
    "for p in pr_occ:\n",
    "    pr_gap.append(p[True]['F']-p[True]['M'])\n",
    "pr_gap=np.array(pr_gap)"
   ]
  },
  {
   "cell_type": "code",
   "execution_count": 336,
   "id": "reasonable-aurora",
   "metadata": {},
   "outputs": [
    {
     "data": {
      "text/plain": [
       "0.07198103758559725"
      ]
     },
     "execution_count": 336,
     "metadata": {},
     "output_type": "execute_result"
    }
   ],
   "source": [
    "np.sqrt(np.sum(orig_gap**2)/len(orig_gap))"
   ]
  },
  {
   "cell_type": "code",
   "execution_count": 337,
   "id": "individual-award",
   "metadata": {},
   "outputs": [
    {
     "data": {
      "text/plain": [
       "0.10412997852188982"
      ]
     },
     "execution_count": 337,
     "metadata": {},
     "output_type": "execute_result"
    }
   ],
   "source": [
    "np.sqrt(np.sum(dec_gap**2)/len(dec_gap))"
   ]
  },
  {
   "cell_type": "code",
   "execution_count": 338,
   "id": "geographic-princeton",
   "metadata": {},
   "outputs": [
    {
     "data": {
      "text/plain": [
       "0.07826257488776606"
      ]
     },
     "execution_count": 338,
     "metadata": {},
     "output_type": "execute_result"
    }
   ],
   "source": [
    "np.sqrt(np.sum(pr_gap**2)/len(pr_gap))"
   ]
  },
  {
   "cell_type": "code",
   "execution_count": 249,
   "id": "actual-topic",
   "metadata": {},
   "outputs": [],
   "source": [
    "\n",
    "#takes as input a dictionary that is outputed by cv_pred()\n",
    "def get_pred_summary(pred_dic, Y_test, G_test):\n",
    "    #wildcard aggregates over different classes/genders\n",
    "    wildcard = \"*\"\n",
    "    genders = sorted(set(G_test)) + [wildcard]\n",
    "    ys = sorted(set(Y_test)) + [wildcard]\n",
    "    summary =  {y: {g: [] for g in genders} for y in ys} \n",
    "    for y in ys:\n",
    "        for gender in genders:\n",
    "            #print(y,sum(array(Y_test)==y))\n",
    "            #accuracies = []\n",
    "            bool_subgroup = [y_pred==y_true for y_pred, y_true, g in zip(pred_dic, Y_test, G_test) \n",
    "                        if (gender==wildcard or gender==g) and (y==wildcard or y==y_true)]\n",
    "            acc=mean(bool_subgroup)\n",
    "            summary[y][gender]=acc    \n",
    "    return summary"
   ]
  },
  {
   "cell_type": "code",
   "execution_count": null,
   "id": "metropolitan-cabin",
   "metadata": {},
   "outputs": [],
   "source": [
    "orig_gap = []\n",
    "for p in originals_occ:\n",
    "    orig_gap.append(p[True]['F']-p[True]['M'])\n",
    "orig_gap=np.array(orig_gap)\n",
    "dec_gap = []\n",
    "for p in decoupled_occ:\n",
    "    dec_gap.append(p[True]['F']-p[True]['M'])\n",
    "dec_gap=np.array(dec_gap)\n",
    "eo_gap = []\n",
    "for p in eos_occ:\n",
    "    eo_gap.append(p[True]['F']-p[True]['M'])\n",
    "eo_gap=np.array(eo_gap)"
   ]
  },
  {
   "cell_type": "code",
   "execution_count": 278,
   "id": "acquired-vermont",
   "metadata": {},
   "outputs": [
    {
     "name": "stdout",
     "output_type": "stream",
     "text": [
      "0.9621172477968143\n"
     ]
    }
   ],
   "source": [
    "# get accuracy of decoupled classifiers\n",
    "accs = []\n",
    "for target_occ in occs:\n",
    "    Y_test = [p[\"title\"]==target_occ for p in bios_data_test if p['gender']=='F']\n",
    "    \n",
    "    accs.append(sklearn.metrics.accuracy_score(Y_test,occ_classers[target_occ]['clf_bow_f'].predict(f_X_test)))\n",
    "print(np.mean(accs))\n",
    "\n",
    "\n",
    "accs = []\n",
    "for target_occ in occs:\n",
    "    Y_test = [p[\"title\"]==target_occ for p in bios_data_test if p['gender']=='M']\n",
    "    \n",
    "    accs.append(sklearn.metrics.accuracy_score(Y_test,occ_classers[target_occ]['clm_bow_m'].predict(m_X_test)))\n",
    "print(np.mean(accs))\n",
    "\n",
    "(0.9621172477968143+0.9526)/2\n"
   ]
  },
  {
   "cell_type": "code",
   "execution_count": 339,
   "id": "chubby-variation",
   "metadata": {},
   "outputs": [
    {
     "data": {
      "text/plain": [
       "0.9160021110301324"
      ]
     },
     "execution_count": 339,
     "metadata": {},
     "output_type": "execute_result"
    }
   ],
   "source": [
    "\n",
    "accs=[]\n",
    "for target_occ in occs:\n",
    "    \n",
    "    G_test = [p[\"title\"]==target_occ for p in bios_data_test]\n",
    "    \n",
    "    accs.append(sklearn.metrics.accuracy_score(Y_test,occ_classers[target_occ]['clf_bow_joint_sampleweights'].predict(X_test)))\n",
    "np.mean(accs)"
   ]
  },
  {
   "cell_type": "code",
   "execution_count": 287,
   "id": "usual-running",
   "metadata": {},
   "outputs": [
    {
     "data": {
      "text/plain": [
       "0.7725867658515745"
      ]
     },
     "execution_count": 287,
     "metadata": {},
     "output_type": "execute_result"
    }
   ],
   "source": [
    "# get accuracy of 25-way classifiers\n",
    "Y_test = [p[\"title\"] for p in bios_data_test]\n",
    "sklearn.metrics.accuracy_score(Y_test,occ_classers['all']['clf_bow_joint'].predict(X_test))"
   ]
  },
  {
   "cell_type": "code",
   "execution_count": 288,
   "id": "tired-mountain",
   "metadata": {},
   "outputs": [
    {
     "data": {
      "text/plain": [
       "0.7782308829164157"
      ]
     },
     "execution_count": 288,
     "metadata": {},
     "output_type": "execute_result"
    }
   ],
   "source": [
    "Y_test = [p[\"title\"] for p in bios_data_test if p['gender']=='F']\n",
    "sklearn.metrics.accuracy_score(Y_test,occ_classers['all']['clf_bow_f'].predict(f_X_test))"
   ]
  },
  {
   "cell_type": "code",
   "execution_count": 303,
   "id": "pacific-showcase",
   "metadata": {},
   "outputs": [
    {
     "data": {
      "text/plain": [
       "0.7724189201747049"
      ]
     },
     "execution_count": 303,
     "metadata": {},
     "output_type": "execute_result"
    }
   ],
   "source": [
    "m_Y_test = [p[\"title\"] for p in m_bios_test]\n",
    "# Y_test = [p[\"title\"] for p in bios_data_test if p['gender']=='M']\n",
    "sklearn.metrics.accuracy_score(m_Y_test,clm_bow_m.predict(m_X_test))"
   ]
  },
  {
   "cell_type": "code",
   "execution_count": 300,
   "id": "adverse-queen",
   "metadata": {},
   "outputs": [
    {
     "data": {
      "text/plain": [
       "array([False, False, False, ..., False, False, False])"
      ]
     },
     "execution_count": 300,
     "metadata": {},
     "output_type": "execute_result"
    }
   ],
   "source": [
    "clm_bow_m.predict(m_X_test)"
   ]
  },
  {
   "cell_type": "code",
   "execution_count": 304,
   "id": "bright-problem",
   "metadata": {},
   "outputs": [
    {
     "data": {
      "text/plain": [
       "0.7753204414582079"
      ]
     },
     "execution_count": 304,
     "metadata": {},
     "output_type": "execute_result"
    }
   ],
   "source": [
    "(0.7782308829164157+0.77241)/2"
   ]
  },
  {
   "cell_type": "markdown",
   "id": "common-briefs",
   "metadata": {},
   "source": [
    "# train BOW-PR classifier"
   ]
  },
  {
   "cell_type": "code",
   "execution_count": 305,
   "id": "automotive-landing",
   "metadata": {},
   "outputs": [
    {
     "name": "stderr",
     "output_type": "stream",
     "text": [
      "/home/adam/Dropbox/WorkProjects/venv_main/lib/python3.6/site-packages/numpy/core/_asarray.py:83: VisibleDeprecationWarning: Creating an ndarray from ragged nested sequences (which is a list-or-tuple of lists-or-tuples-or ndarrays with different lengths or shapes) is deprecated. If you meant to do this, you must specify 'dtype=object' when creating the ndarray\n",
      "  return array(a, dtype, copy=False, order=order)\n"
     ]
    },
    {
     "name": "stdout",
     "output_type": "stream",
     "text": [
      "clf fit\n"
     ]
    },
    {
     "name": "stderr",
     "output_type": "stream",
     "text": [
      "/home/adam/Dropbox/WorkProjects/venv_main/lib/python3.6/site-packages/numpy/core/_asarray.py:83: VisibleDeprecationWarning: Creating an ndarray from ragged nested sequences (which is a list-or-tuple of lists-or-tuples-or ndarrays with different lengths or shapes) is deprecated. If you meant to do this, you must specify 'dtype=object' when creating the ndarray\n",
      "  return array(a, dtype, copy=False, order=order)\n"
     ]
    },
    {
     "name": "stdout",
     "output_type": "stream",
     "text": [
      "clf fit\n"
     ]
    },
    {
     "name": "stderr",
     "output_type": "stream",
     "text": [
      "/home/adam/Dropbox/WorkProjects/venv_main/lib/python3.6/site-packages/numpy/core/_asarray.py:83: VisibleDeprecationWarning: Creating an ndarray from ragged nested sequences (which is a list-or-tuple of lists-or-tuples-or ndarrays with different lengths or shapes) is deprecated. If you meant to do this, you must specify 'dtype=object' when creating the ndarray\n",
      "  return array(a, dtype, copy=False, order=order)\n"
     ]
    },
    {
     "name": "stdout",
     "output_type": "stream",
     "text": [
      "clf fit\n"
     ]
    },
    {
     "name": "stderr",
     "output_type": "stream",
     "text": [
      "/home/adam/Dropbox/WorkProjects/venv_main/lib/python3.6/site-packages/numpy/core/_asarray.py:83: VisibleDeprecationWarning: Creating an ndarray from ragged nested sequences (which is a list-or-tuple of lists-or-tuples-or ndarrays with different lengths or shapes) is deprecated. If you meant to do this, you must specify 'dtype=object' when creating the ndarray\n",
      "  return array(a, dtype, copy=False, order=order)\n"
     ]
    },
    {
     "name": "stdout",
     "output_type": "stream",
     "text": [
      "clf fit\n"
     ]
    },
    {
     "name": "stderr",
     "output_type": "stream",
     "text": [
      "/home/adam/Dropbox/WorkProjects/venv_main/lib/python3.6/site-packages/numpy/core/_asarray.py:83: VisibleDeprecationWarning: Creating an ndarray from ragged nested sequences (which is a list-or-tuple of lists-or-tuples-or ndarrays with different lengths or shapes) is deprecated. If you meant to do this, you must specify 'dtype=object' when creating the ndarray\n",
      "  return array(a, dtype, copy=False, order=order)\n"
     ]
    },
    {
     "name": "stdout",
     "output_type": "stream",
     "text": [
      "clf fit\n"
     ]
    },
    {
     "name": "stderr",
     "output_type": "stream",
     "text": [
      "/home/adam/Dropbox/WorkProjects/venv_main/lib/python3.6/site-packages/numpy/core/_asarray.py:83: VisibleDeprecationWarning: Creating an ndarray from ragged nested sequences (which is a list-or-tuple of lists-or-tuples-or ndarrays with different lengths or shapes) is deprecated. If you meant to do this, you must specify 'dtype=object' when creating the ndarray\n",
      "  return array(a, dtype, copy=False, order=order)\n"
     ]
    },
    {
     "name": "stdout",
     "output_type": "stream",
     "text": [
      "clf fit\n"
     ]
    },
    {
     "name": "stderr",
     "output_type": "stream",
     "text": [
      "/home/adam/Dropbox/WorkProjects/venv_main/lib/python3.6/site-packages/numpy/core/_asarray.py:83: VisibleDeprecationWarning: Creating an ndarray from ragged nested sequences (which is a list-or-tuple of lists-or-tuples-or ndarrays with different lengths or shapes) is deprecated. If you meant to do this, you must specify 'dtype=object' when creating the ndarray\n",
      "  return array(a, dtype, copy=False, order=order)\n"
     ]
    },
    {
     "name": "stdout",
     "output_type": "stream",
     "text": [
      "clf fit\n"
     ]
    },
    {
     "name": "stderr",
     "output_type": "stream",
     "text": [
      "/home/adam/Dropbox/WorkProjects/venv_main/lib/python3.6/site-packages/numpy/core/_asarray.py:83: VisibleDeprecationWarning: Creating an ndarray from ragged nested sequences (which is a list-or-tuple of lists-or-tuples-or ndarrays with different lengths or shapes) is deprecated. If you meant to do this, you must specify 'dtype=object' when creating the ndarray\n",
      "  return array(a, dtype, copy=False, order=order)\n"
     ]
    },
    {
     "name": "stdout",
     "output_type": "stream",
     "text": [
      "clf fit\n"
     ]
    },
    {
     "name": "stderr",
     "output_type": "stream",
     "text": [
      "/home/adam/Dropbox/WorkProjects/venv_main/lib/python3.6/site-packages/numpy/core/_asarray.py:83: VisibleDeprecationWarning: Creating an ndarray from ragged nested sequences (which is a list-or-tuple of lists-or-tuples-or ndarrays with different lengths or shapes) is deprecated. If you meant to do this, you must specify 'dtype=object' when creating the ndarray\n",
      "  return array(a, dtype, copy=False, order=order)\n"
     ]
    },
    {
     "name": "stdout",
     "output_type": "stream",
     "text": [
      "clf fit\n"
     ]
    },
    {
     "name": "stderr",
     "output_type": "stream",
     "text": [
      "/home/adam/Dropbox/WorkProjects/venv_main/lib/python3.6/site-packages/numpy/core/_asarray.py:83: VisibleDeprecationWarning: Creating an ndarray from ragged nested sequences (which is a list-or-tuple of lists-or-tuples-or ndarrays with different lengths or shapes) is deprecated. If you meant to do this, you must specify 'dtype=object' when creating the ndarray\n",
      "  return array(a, dtype, copy=False, order=order)\n"
     ]
    },
    {
     "name": "stdout",
     "output_type": "stream",
     "text": [
      "clf fit\n"
     ]
    },
    {
     "name": "stderr",
     "output_type": "stream",
     "text": [
      "/home/adam/Dropbox/WorkProjects/venv_main/lib/python3.6/site-packages/numpy/core/_asarray.py:83: VisibleDeprecationWarning: Creating an ndarray from ragged nested sequences (which is a list-or-tuple of lists-or-tuples-or ndarrays with different lengths or shapes) is deprecated. If you meant to do this, you must specify 'dtype=object' when creating the ndarray\n",
      "  return array(a, dtype, copy=False, order=order)\n"
     ]
    },
    {
     "name": "stdout",
     "output_type": "stream",
     "text": [
      "clf fit\n"
     ]
    },
    {
     "name": "stderr",
     "output_type": "stream",
     "text": [
      "/home/adam/Dropbox/WorkProjects/venv_main/lib/python3.6/site-packages/numpy/core/_asarray.py:83: VisibleDeprecationWarning: Creating an ndarray from ragged nested sequences (which is a list-or-tuple of lists-or-tuples-or ndarrays with different lengths or shapes) is deprecated. If you meant to do this, you must specify 'dtype=object' when creating the ndarray\n",
      "  return array(a, dtype, copy=False, order=order)\n"
     ]
    },
    {
     "name": "stdout",
     "output_type": "stream",
     "text": [
      "clf fit\n"
     ]
    },
    {
     "name": "stderr",
     "output_type": "stream",
     "text": [
      "/home/adam/Dropbox/WorkProjects/venv_main/lib/python3.6/site-packages/numpy/core/_asarray.py:83: VisibleDeprecationWarning: Creating an ndarray from ragged nested sequences (which is a list-or-tuple of lists-or-tuples-or ndarrays with different lengths or shapes) is deprecated. If you meant to do this, you must specify 'dtype=object' when creating the ndarray\n",
      "  return array(a, dtype, copy=False, order=order)\n"
     ]
    },
    {
     "name": "stdout",
     "output_type": "stream",
     "text": [
      "clf fit\n"
     ]
    },
    {
     "name": "stderr",
     "output_type": "stream",
     "text": [
      "/home/adam/Dropbox/WorkProjects/venv_main/lib/python3.6/site-packages/numpy/core/_asarray.py:83: VisibleDeprecationWarning: Creating an ndarray from ragged nested sequences (which is a list-or-tuple of lists-or-tuples-or ndarrays with different lengths or shapes) is deprecated. If you meant to do this, you must specify 'dtype=object' when creating the ndarray\n",
      "  return array(a, dtype, copy=False, order=order)\n"
     ]
    },
    {
     "name": "stdout",
     "output_type": "stream",
     "text": [
      "clf fit\n"
     ]
    },
    {
     "name": "stderr",
     "output_type": "stream",
     "text": [
      "/home/adam/Dropbox/WorkProjects/venv_main/lib/python3.6/site-packages/numpy/core/_asarray.py:83: VisibleDeprecationWarning: Creating an ndarray from ragged nested sequences (which is a list-or-tuple of lists-or-tuples-or ndarrays with different lengths or shapes) is deprecated. If you meant to do this, you must specify 'dtype=object' when creating the ndarray\n",
      "  return array(a, dtype, copy=False, order=order)\n"
     ]
    },
    {
     "name": "stdout",
     "output_type": "stream",
     "text": [
      "clf fit\n"
     ]
    },
    {
     "name": "stderr",
     "output_type": "stream",
     "text": [
      "/home/adam/Dropbox/WorkProjects/venv_main/lib/python3.6/site-packages/numpy/core/_asarray.py:83: VisibleDeprecationWarning: Creating an ndarray from ragged nested sequences (which is a list-or-tuple of lists-or-tuples-or ndarrays with different lengths or shapes) is deprecated. If you meant to do this, you must specify 'dtype=object' when creating the ndarray\n",
      "  return array(a, dtype, copy=False, order=order)\n"
     ]
    },
    {
     "name": "stdout",
     "output_type": "stream",
     "text": [
      "clf fit\n"
     ]
    },
    {
     "name": "stderr",
     "output_type": "stream",
     "text": [
      "/home/adam/Dropbox/WorkProjects/venv_main/lib/python3.6/site-packages/numpy/core/_asarray.py:83: VisibleDeprecationWarning: Creating an ndarray from ragged nested sequences (which is a list-or-tuple of lists-or-tuples-or ndarrays with different lengths or shapes) is deprecated. If you meant to do this, you must specify 'dtype=object' when creating the ndarray\n",
      "  return array(a, dtype, copy=False, order=order)\n"
     ]
    },
    {
     "name": "stdout",
     "output_type": "stream",
     "text": [
      "clf fit\n"
     ]
    },
    {
     "name": "stderr",
     "output_type": "stream",
     "text": [
      "/home/adam/Dropbox/WorkProjects/venv_main/lib/python3.6/site-packages/numpy/core/_asarray.py:83: VisibleDeprecationWarning: Creating an ndarray from ragged nested sequences (which is a list-or-tuple of lists-or-tuples-or ndarrays with different lengths or shapes) is deprecated. If you meant to do this, you must specify 'dtype=object' when creating the ndarray\n",
      "  return array(a, dtype, copy=False, order=order)\n"
     ]
    },
    {
     "name": "stdout",
     "output_type": "stream",
     "text": [
      "clf fit\n"
     ]
    },
    {
     "name": "stderr",
     "output_type": "stream",
     "text": [
      "/home/adam/Dropbox/WorkProjects/venv_main/lib/python3.6/site-packages/numpy/core/_asarray.py:83: VisibleDeprecationWarning: Creating an ndarray from ragged nested sequences (which is a list-or-tuple of lists-or-tuples-or ndarrays with different lengths or shapes) is deprecated. If you meant to do this, you must specify 'dtype=object' when creating the ndarray\n",
      "  return array(a, dtype, copy=False, order=order)\n"
     ]
    },
    {
     "name": "stdout",
     "output_type": "stream",
     "text": [
      "clf fit\n"
     ]
    },
    {
     "name": "stderr",
     "output_type": "stream",
     "text": [
      "/home/adam/Dropbox/WorkProjects/venv_main/lib/python3.6/site-packages/numpy/core/_asarray.py:83: VisibleDeprecationWarning: Creating an ndarray from ragged nested sequences (which is a list-or-tuple of lists-or-tuples-or ndarrays with different lengths or shapes) is deprecated. If you meant to do this, you must specify 'dtype=object' when creating the ndarray\n",
      "  return array(a, dtype, copy=False, order=order)\n"
     ]
    },
    {
     "name": "stdout",
     "output_type": "stream",
     "text": [
      "clf fit\n"
     ]
    },
    {
     "name": "stderr",
     "output_type": "stream",
     "text": [
      "/home/adam/Dropbox/WorkProjects/venv_main/lib/python3.6/site-packages/numpy/core/_asarray.py:83: VisibleDeprecationWarning: Creating an ndarray from ragged nested sequences (which is a list-or-tuple of lists-or-tuples-or ndarrays with different lengths or shapes) is deprecated. If you meant to do this, you must specify 'dtype=object' when creating the ndarray\n",
      "  return array(a, dtype, copy=False, order=order)\n"
     ]
    },
    {
     "name": "stdout",
     "output_type": "stream",
     "text": [
      "clf fit\n"
     ]
    },
    {
     "name": "stderr",
     "output_type": "stream",
     "text": [
      "/home/adam/Dropbox/WorkProjects/venv_main/lib/python3.6/site-packages/numpy/core/_asarray.py:83: VisibleDeprecationWarning: Creating an ndarray from ragged nested sequences (which is a list-or-tuple of lists-or-tuples-or ndarrays with different lengths or shapes) is deprecated. If you meant to do this, you must specify 'dtype=object' when creating the ndarray\n",
      "  return array(a, dtype, copy=False, order=order)\n"
     ]
    },
    {
     "name": "stdout",
     "output_type": "stream",
     "text": [
      "clf fit\n"
     ]
    },
    {
     "name": "stderr",
     "output_type": "stream",
     "text": [
      "/home/adam/Dropbox/WorkProjects/venv_main/lib/python3.6/site-packages/numpy/core/_asarray.py:83: VisibleDeprecationWarning: Creating an ndarray from ragged nested sequences (which is a list-or-tuple of lists-or-tuples-or ndarrays with different lengths or shapes) is deprecated. If you meant to do this, you must specify 'dtype=object' when creating the ndarray\n",
      "  return array(a, dtype, copy=False, order=order)\n"
     ]
    },
    {
     "name": "stdout",
     "output_type": "stream",
     "text": [
      "clf fit\n"
     ]
    },
    {
     "name": "stderr",
     "output_type": "stream",
     "text": [
      "/home/adam/Dropbox/WorkProjects/venv_main/lib/python3.6/site-packages/numpy/core/_asarray.py:83: VisibleDeprecationWarning: Creating an ndarray from ragged nested sequences (which is a list-or-tuple of lists-or-tuples-or ndarrays with different lengths or shapes) is deprecated. If you meant to do this, you must specify 'dtype=object' when creating the ndarray\n",
      "  return array(a, dtype, copy=False, order=order)\n"
     ]
    },
    {
     "name": "stdout",
     "output_type": "stream",
     "text": [
      "clf fit\n"
     ]
    },
    {
     "name": "stderr",
     "output_type": "stream",
     "text": [
      "/home/adam/Dropbox/WorkProjects/venv_main/lib/python3.6/site-packages/numpy/core/_asarray.py:83: VisibleDeprecationWarning: Creating an ndarray from ragged nested sequences (which is a list-or-tuple of lists-or-tuples-or ndarrays with different lengths or shapes) is deprecated. If you meant to do this, you must specify 'dtype=object' when creating the ndarray\n",
      "  return array(a, dtype, copy=False, order=order)\n"
     ]
    },
    {
     "name": "stdout",
     "output_type": "stream",
     "text": [
      "clf fit\n"
     ]
    }
   ],
   "source": [
    "\n",
    "\n",
    "occs_full = np.unique([p['title'] for p in bios_data_train])\n",
    "#make sample weights\n",
    "# sample_weights=[]\n",
    "valdict = {}\n",
    "for t in occs_full:\n",
    "        fval = _m[t] / max(_f[t],_m[t])\n",
    "        mval = _f[t] / max(_f[t],_m[t])\n",
    "        valdict[t] = {}\n",
    "        valdict[t]['F'] = fval\n",
    "        valdict[t]['M'] = mval\n",
    "    \n",
    "# for :\n",
    "sample_weights = np.array([valdict[p['title']][p['gender']] for p in bios_data_train])\n",
    "\n",
    "#  n_samples / (n_classes * np.bincount(​y)\n",
    "# Train Occupation classifiers\n",
    "\n",
    "\n",
    "\n",
    "# occ_classers = {}\n",
    "\n",
    "occs = [\"surgeon\", \"software_engineer\", \"composer\", \"pastor\", \"comedian\", \"architect\", \"chiropractor\", \"accountant\", \"attorney\", \"filmmaker\", \"physician\", \"dentist\", \"photographer\", \"professor\", \"painter\", \"journalist\", \"poet\", \"personal_trainer\", \"teacher\", \"psychologist\",  \"model\", \"interior_designer\", \"yoga_teacher\", \"nurse\", \"dietitian\"]\n",
    "for target_occ in occs:\n",
    "    Y_train = [p[\"title\"]==target_occ for p in bios_data_train]\n",
    "\n",
    "    Y_val = [p[\"title\"]==target_occ for p in bios_data_val]\n",
    "\n",
    "    Y_test = [p[\"title\"]==target_occ for p in bios_data_test]\n",
    "    \n",
    "    classweights = len(Y_train)/np.bincount(Y_train)\n",
    "    \n",
    "    \n",
    "    class_weights_arr = np.array([classweights[int(k)] for k in Y_train])\n",
    "    bal_sample_weights = sample_weights * class_weights_arr\n",
    "    pred_bow_joint, clf_bow_joint = pred_clf([X_train, X_val, X_test], [Y_train, Y_val, Y_test], [G_train,G_val,G_test],sweights=bal_sample_weights)\n",
    "\n",
    "    \n",
    "#     occ_classers[target_occ] = {}\n",
    "    occ_classers[target_occ]['clf_bow_joint_sampleweights'] = clf_bow_joint\n",
    "#     occ_classers[target_occ]['pred_bow_joint'] = pred_bow_joint\n",
    "#     occ_classers[target_occ]['clf_bow_f'] = clf_bow_f\n",
    "#     occ_classers[target_occ]['pred_bow_f'] = pred_bow_f\n"
   ]
  },
  {
   "cell_type": "code",
   "execution_count": 306,
   "id": "suspended-electric",
   "metadata": {},
   "outputs": [],
   "source": [
    "f_frac = np.load('results/f_frac.npy')\n",
    "y_preds_eo = pkl.load(open('results/bow_eo_y_preds.pkl','rb'))\n",
    "prep_corr_full = []\n",
    "# decoupled_corr_full = []\n",
    "# eo_corr_full = []\n",
    "for target_occ in occs:\n",
    "    \n",
    "    \n",
    "    cand_women = [p for p in bios_data_test if p[\"title\"]==target_occ and p['gender']=='F']\n",
    "#     cand_women_X =  single_vectorizers[target_occ].transform([p[\"bio\"] for p in cand_women])\n",
    "    \n",
    "    cand_women_X_full =  vectorizer.transform([p[\"bio\"] for p in cand_women])\n",
    "    \n",
    "    gender_probs = balanced_gender_clf.predict_proba(cand_women_X_full)[:,0]\n",
    "    occ_probs = occ_classers[target_occ]['clf_bow_joint_sampleweights'].predict_proba(cand_women_X_full)[:,1]\n",
    "    \n",
    "    \n",
    "    \n",
    "    corr = scipy.stats.pearsonr(occ_probs,gender_probs)[0]\n",
    "    prep_corr_full.append(corr)\n",
    "    "
   ]
  },
  {
   "cell_type": "code",
   "execution_count": 403,
   "id": "indian-beijing",
   "metadata": {},
   "outputs": [
    {
     "name": "stdout",
     "output_type": "stream",
     "text": [
      "0.023586925748631072\n"
     ]
    }
   ],
   "source": [
    "print(np.cov(f_frac,prep_corr_full[:25])[0,1])"
   ]
  },
  {
   "cell_type": "markdown",
   "id": "charged-pavilion",
   "metadata": {},
   "source": [
    "# get gendered words"
   ]
  },
  {
   "cell_type": "code",
   "execution_count": 465,
   "id": "cutting-ivory",
   "metadata": {},
   "outputs": [
    {
     "data": {
      "text/plain": [
       "True"
      ]
     },
     "execution_count": 465,
     "metadata": {},
     "output_type": "execute_result"
    }
   ],
   "source": [
    "'youtube' in chi_vectorizers[target_occ][thr].vocabulary"
   ]
  },
  {
   "cell_type": "code",
   "execution_count": 520,
   "id": "expanded-foundation",
   "metadata": {},
   "outputs": [
    {
     "name": "stdout",
     "output_type": "stream",
     "text": [
      "SURGEON\n",
      "[]\n",
      "['wife']\n",
      "SOFTWARE_ENGINEER\n",
      "[]\n",
      "['wife']\n",
      "COMPOSER\n",
      "['freeones' 'woman']\n",
      "[]\n",
      "YOGA_TEACHER\n",
      "['baby' 'husband' 'loves' 'mom']\n",
      "[]\n",
      "NURSE\n",
      "['husband' 'miss' 'mother']\n",
      "[]\n",
      "DIETITIAN\n",
      "[]\n",
      "['wife']\n",
      "{'miss', 'loves', 'mom', 'wife', 'woman', 'mother', 'freeones', 'baby', 'husband'}\n"
     ]
    }
   ],
   "source": [
    "words = np.array(vectorizer.get_feature_names())\n",
    "occs = [\"surgeon\", \"software_engineer\", \"composer\", \"yoga_teacher\", \"nurse\", \"dietitian\"]\n",
    "all_proxy_words = []\n",
    "for target_occ in occs:\n",
    "    print(target_occ.upper())\n",
    "    gender_dots = balanced_gender_clf.coef_[0]\n",
    "    f_dots = occ_classers[target_occ]['clf_bow_f'].coef_[0]\n",
    "    m_dots = occ_classers[target_occ]['clm_bow_m'].coef_[0]\n",
    "    j_dots = occ_classers[target_occ]['clf_bow_joint'].coef_[0]\n",
    "    \n",
    "    small_thr = 0.7\n",
    "    gender_thr = 0.4\n",
    "    actual_thr = gender_thr\n",
    "    #feminine\n",
    "    inds = np.where(((abs(f_dots) < small_thr*abs(j_dots)) & (abs(m_dots) < small_thr*abs(j_dots))) & ((gender_dots < -gender_thr) & (abs(j_dots)>actual_thr)))[0]\n",
    "    print(words[inds])\n",
    "#     for w in words[inds]:\n",
    "#         if w in chi_vectorizers[target_occ][thr].vocabulary:\n",
    "#             print(w)\n",
    "#     print(gender_dots[inds])\n",
    "    #masculine\n",
    "    all_proxy_words.extend(words[inds])\n",
    "    inds = np.where(((abs(f_dots) < small_thr*abs(j_dots)) & (abs(m_dots) < small_thr*abs(j_dots))) & ((gender_dots >gender_thr) & (abs(j_dots)>actual_thr)))[0]\n",
    "\n",
    "    print(words[inds])\n",
    "    \n",
    "#     for w in words[inds]:\n",
    "#         if w in chi_vectorizers[target_occ][thr].vocabulary:\n",
    "#             print(w)\n",
    "\n",
    "#     print(j_dots[inds])\n",
    "    all_proxy_words.extend(words[inds])\n",
    "#     print(j_dots[inds]-f_dots[inds])\n",
    "print(set(all_proxy_words))"
   ]
  },
  {
   "cell_type": "code",
   "execution_count": 480,
   "id": "straight-spray",
   "metadata": {},
   "outputs": [
    {
     "data": {
      "text/plain": [
       "{'baby',\n",
       " 'breast',\n",
       " 'freeones',\n",
       " 'gender',\n",
       " 'husband',\n",
       " 'loves',\n",
       " 'man',\n",
       " 'miss',\n",
       " 'mother',\n",
       " 'sports',\n",
       " 'wife'}"
      ]
     },
     "execution_count": 480,
     "metadata": {},
     "output_type": "execute_result"
    }
   ],
   "source": [
    "set(['wife', 'wife', 'baby', 'breast', 'freeones', 'man', 'breast', 'husband', 'gender', 'miss', 'miss', 'sports', 'baby', 'husband', 'loves', 'miss', 'mother', 'wife'])"
   ]
  },
  {
   "cell_type": "code",
   "execution_count": 521,
   "id": "metallic-coach",
   "metadata": {},
   "outputs": [
    {
     "name": "stdout",
     "output_type": "stream",
     "text": [
      "surgeon\n",
      "['anthologies' 'daughter' 'female']\n",
      "[]\n",
      "software_engineer\n",
      "['daughter' 'loves' 'romance' 'sister' 'women']\n",
      "[]\n",
      "composer\n",
      "['girls' 'loves' 'mother']\n",
      "[]\n",
      "yoga_teacher\n",
      "[]\n",
      "[]\n",
      "nurse\n",
      "[]\n",
      "[]\n",
      "dietitian\n",
      "['gender' 'women']\n",
      "['men']\n",
      "{'girls', 'women', 'gender', 'loves', 'men', 'mother', 'romance', 'daughter', 'sister', 'anthologies', 'female'}\n"
     ]
    }
   ],
   "source": [
    "words = np.array(vectorizer.get_feature_names())\n",
    "# occs = [\"surgeon\", \"software_engineer\", \"composer\", \"pastor\", \"comedian\", \"architect\", \"chiropractor\", \"accountant\", \"attorney\", \"filmmaker\", \"physician\", \"dentist\", \"photographer\", \"professor\", \"painter\", \"journalist\", \"poet\", \"personal_trainer\", \"teacher\", \"psychologist\",  \"model\", \"interior_designer\", \"yoga_teacher\", \"nurse\", \"dietitian\"]\n",
    "all_proxy_words = []\n",
    "for target_occ in occs:\n",
    "    print(target_occ)\n",
    "    gender_dots = balanced_gender_clf.coef_[0]\n",
    "    f_dots = occ_classers[target_occ]['clf_bow_f'].coef_[0]\n",
    "    m_dots = occ_classers[target_occ]['clm_bow_m'].coef_[0]\n",
    "    j_dots = occ_classers[target_occ]['clf_bow_joint'].coef_[0]\n",
    "    \n",
    "    small_thr = 0.7\n",
    "    gender_thr = 0.4\n",
    "    #feminine\n",
    "    inds = np.where(((abs(j_dots) < small_thr*abs(f_dots)) & (abs(j_dots) < small_thr*abs(m_dots))) & ((gender_dots < -gender_thr) & (abs(f_dots)>gender_thr)))[0]\n",
    "    print(words[inds])\n",
    "    all_proxy_words.extend(words[inds])\n",
    "    #masculine\n",
    "    inds = np.where(((abs(j_dots) < small_thr*abs(f_dots)) & (abs(j_dots) < small_thr*abs(m_dots))) & ((gender_dots >gender_thr) & (abs(f_dots)>gender_thr)))[0]\n",
    "\n",
    "    print(words[inds])\n",
    "    all_proxy_words.extend(words[inds])\n",
    "#     print(j_dots[indsextef_dots[inds])\n",
    "print(set(all_proxy_words))"
   ]
  },
  {
   "cell_type": "markdown",
   "id": "dedicated-damages",
   "metadata": {},
   "source": [
    "# Nonbinary bios"
   ]
  },
  {
   "cell_type": "code",
   "execution_count": 362,
   "id": "compact-paraguay",
   "metadata": {},
   "outputs": [],
   "source": [
    "import pandas as pd\n",
    "nb_bios = pd.read_pickle('results/nb_prof.pkl')\n",
    "nb_bios_list = list(nb_bios['bio'])"
   ]
  },
  {
   "cell_type": "code",
   "execution_count": 430,
   "id": "jewish-joining",
   "metadata": {},
   "outputs": [
    {
     "name": "stdout",
     "output_type": "stream",
     "text": [
      "joint\n",
      "SpearmanrResult(correlation=0.34285714285714286, pvalue=0.12813141007326165)\n",
      "pre-processing\n",
      "SpearmanrResult(correlation=0.3571428571428571, pvalue=0.11198091415054655)\n",
      "decoupled F\n",
      "SpearmanrResult(correlation=0.3532467532467533, pvalue=0.11623101293161812)\n",
      "decoupled M\n",
      "SpearmanrResult(correlation=0.3532467532467533, pvalue=0.11623101293161812)\n"
     ]
    }
   ],
   "source": [
    "target_occ='professor'\n",
    "cand_women_X_full =  vectorizer.transform(nb_bios_list)\n",
    "gender_probs = balanced_gender_clf.predict_proba(cand_women_X_full)[:,0]\n",
    "\n",
    "occ_probs = occ_classers[target_occ]['clf_bow_joint'].predict_proba(cand_women_X_full)[:,1]\n",
    "corr = spearmanr(occ_probs,gender_probs)\n",
    "print(\"joint\")\n",
    "print(corr)\n",
    "\n",
    "occ_probs = occ_classers[target_occ]['clf_bow_joint_sampleweights'].predict_proba(cand_women_X_full)[:,1]\n",
    "corr = spearmanr(occ_probs,gender_probs)\n",
    "print(\"pre-processing\")\n",
    "print(corr)\n",
    "\n",
    "occ_probs = occ_classers[target_occ]['clf_bow_f'].predict_proba(cand_women_X_full)[:,1]\n",
    "corr = spearmanr(occ_probs,gender_probs)\n",
    "print(\"decoupled F\")\n",
    "print(corr)\n",
    "\n",
    "\n",
    "cc_probs = occ_classers[target_occ]['clm_bow_m'].predict_proba(cand_women_X_full)[:,1]\n",
    "corr = spearmanr(occ_probs,gender_probs)\n",
    "print(\"decoupled M\")\n",
    "print(corr)"
   ]
  },
  {
   "cell_type": "code",
   "execution_count": 518,
   "id": "thorough-citizen",
   "metadata": {},
   "outputs": [
    {
     "data": {
      "text/plain": [
       "'F'"
      ]
     },
     "execution_count": 518,
     "metadata": {},
     "output_type": "execute_result"
    }
   ],
   "source": [
    "bios_data_test[0]['gender']"
   ]
  },
  {
   "cell_type": "code",
   "execution_count": 519,
   "id": "expected-chart",
   "metadata": {},
   "outputs": [
    {
     "name": "stdout",
     "output_type": "stream",
     "text": [
      "joint\n",
      "SpearmanrResult(correlation=0.09885271218328551, pvalue=1.335680693321492e-24)\n",
      "pre-processing\n",
      "SpearmanrResult(correlation=0.09299780959247775, pvalue=6.021316047062975e-22)\n",
      "decoupled F\n",
      "SpearmanrResult(correlation=0.11061599255311397, pvalue=2.0061629073790192e-30)\n",
      "decoupled M\n",
      "SpearmanrResult(correlation=0.11061599255311397, pvalue=2.0061629073790192e-30)\n"
     ]
    }
   ],
   "source": [
    "target_occ='professor'\n",
    "cand_women_X_full =  vectorizer.transform([p['bio'] for p in bios_data_test if p['title']=='professor' and p['gender']=='F'])\n",
    "gender_probs = balanced_gender_clf.predict_proba(cand_women_X_full)[:,0]\n",
    "\n",
    "occ_probs = occ_classers[target_occ]['clf_bow_joint'].predict_proba(cand_women_X_full)[:,1]\n",
    "corr = spearmanr(occ_probs,gender_probs)\n",
    "print(\"joint\")\n",
    "print(corr)\n",
    "\n",
    "occ_probs = occ_classers[target_occ]['clf_bow_joint_sampleweights'].predict_proba(cand_women_X_full)[:,1]\n",
    "corr = spearmanr(occ_probs,gender_probs)\n",
    "print(\"pre-processing\")\n",
    "print(corr)\n",
    "\n",
    "occ_probs = occ_classers[target_occ]['clf_bow_f'].predict_proba(cand_women_X_full)[:,1]\n",
    "corr = spearmanr(occ_probs,gender_probs)\n",
    "print(\"decoupled F\")\n",
    "print(corr)\n",
    "\n",
    "\n",
    "cc_probs = occ_classers[target_occ]['clm_bow_m'].predict_proba(cand_women_X_full)[:,1]\n",
    "corr = spearmanr(occ_probs,gender_probs)\n",
    "print(\"decoupled M\")\n",
    "print(corr)"
   ]
  },
  {
   "cell_type": "code",
   "execution_count": 402,
   "id": "introductory-setting",
   "metadata": {},
   "outputs": [
    {
     "data": {
      "text/plain": [
       "[]"
      ]
     },
     "execution_count": 402,
     "metadata": {},
     "output_type": "execute_result"
    }
   ],
   "source": [
    "joint_corr_full"
   ]
  },
  {
   "cell_type": "code",
   "execution_count": 427,
   "id": "dirty-feature",
   "metadata": {},
   "outputs": [
    {
     "name": "stdout",
     "output_type": "stream",
     "text": [
      "SpearmanrResult(correlation=0.7184615384615384, pvalue=5.2320590537914136e-05)\n",
      "SpearmanrResult(correlation=0.5876923076923077, pvalue=0.00200697959282309)\n"
     ]
    },
    {
     "ename": "TypeError",
     "evalue": "pearsonr() takes 1 positional argument but 2 were given",
     "output_type": "error",
     "traceback": [
      "\u001b[0;31m---------------------------------------------------------------------------\u001b[0m",
      "\u001b[0;31mTypeError\u001b[0m                                 Traceback (most recent call last)",
      "\u001b[0;32m<ipython-input-427-c4ab5709ce18>\u001b[0m in \u001b[0;36m<module>\u001b[0;34m\u001b[0m\n\u001b[1;32m      4\u001b[0m \u001b[0;34m\u001b[0m\u001b[0m\n\u001b[1;32m      5\u001b[0m \u001b[0;34m\u001b[0m\u001b[0m\n\u001b[0;32m----> 6\u001b[0;31m \u001b[0mprint\u001b[0m\u001b[0;34m(\u001b[0m\u001b[0mpearsonr\u001b[0m\u001b[0;34m(\u001b[0m\u001b[0mf_frac\u001b[0m\u001b[0;34m,\u001b[0m\u001b[0mjoint_corr_full\u001b[0m\u001b[0;34m[\u001b[0m\u001b[0;34m:\u001b[0m\u001b[0;36m25\u001b[0m\u001b[0;34m]\u001b[0m\u001b[0;34m)\u001b[0m\u001b[0;34m[\u001b[0m\u001b[0;36m0\u001b[0m\u001b[0;34m]\u001b[0m\u001b[0;34m)\u001b[0m\u001b[0;34m\u001b[0m\u001b[0;34m\u001b[0m\u001b[0m\n\u001b[0m\u001b[1;32m      7\u001b[0m \u001b[0mprint\u001b[0m\u001b[0;34m(\u001b[0m\u001b[0mpearsonr\u001b[0m\u001b[0;34m(\u001b[0m\u001b[0mf_frac\u001b[0m\u001b[0;34m,\u001b[0m\u001b[0mdecoupled_corr_full\u001b[0m\u001b[0;34m[\u001b[0m\u001b[0;34m:\u001b[0m\u001b[0;36m25\u001b[0m\u001b[0;34m]\u001b[0m\u001b[0;34m)\u001b[0m\u001b[0;34m[\u001b[0m\u001b[0;36m0\u001b[0m\u001b[0;34m]\u001b[0m\u001b[0;34m)\u001b[0m\u001b[0;34m\u001b[0m\u001b[0;34m\u001b[0m\u001b[0m\n",
      "\u001b[0;31mTypeError\u001b[0m: pearsonr() takes 1 positional argument but 2 were given"
     ]
    }
   ],
   "source": [
    "\n",
    "print(spearmanr(f_frac,prep_corr_full[:25]))\n",
    "print(spearmanr(f_frac,decoupled_corr_full[:25]))\n",
    "\n",
    "\n",
    "\n",
    "print(pearsonr(f_frac,joint_corr_full[:25])[0])\n",
    "print(pearsonr(f_frac,decoupled_corr_full[:25])[0])"
   ]
  },
  {
   "cell_type": "code",
   "execution_count": 417,
   "id": "cathedral-foster",
   "metadata": {},
   "outputs": [],
   "source": [
    "imbalanced_inds  = np.where(abs(f_frac-0.5)>0.25)[0]\n",
    "def imb_pearsonr(l):\n",
    "#     print(\"Pearson's r\")\n",
    "    print(scipy.stats.pearsonr(f_frac[imbalanced_inds],np.array(l)[imbalanced_inds])[0])\n",
    "    \n",
    "def imb_cov(l):\n",
    "#     print(\"Covariance\")\n",
    "    print(np.cov(f_frac[imbalanced_inds],np.array(l)[imbalanced_inds])[0,1]) \n",
    "    \n",
    "def imb_spear(l):\n",
    "#     print(\"Spearman's r\")\n",
    "    print(scipy.stats.spearmanr(f_frac[imbalanced_inds],np.array(l)[imbalanced_inds])[0])"
   ]
  },
  {
   "cell_type": "code",
   "execution_count": 419,
   "id": "virtual-ecuador",
   "metadata": {},
   "outputs": [
    {
     "name": "stdout",
     "output_type": "stream",
     "text": [
      "0.7499726103002508\n",
      "0.45676013374226826\n",
      "0.6678269664711861\n",
      "0.8181818181818182\n",
      "0.5909090909090909\n",
      "0.5545454545454546\n",
      "0.04015085866749381\n",
      "0.019894551957214138\n",
      "0.0363622388494538\n"
     ]
    }
   ],
   "source": [
    "\n",
    "imb_pearsonr(joint_corr)\n",
    "imb_pearsonr(decoupled_corr)\n",
    "imb_pearsonr(pr_corr)\n",
    "\n",
    "imb_spear(joint_corr)\n",
    "imb_spear(decoupled_corr)\n",
    "imb_spear(pr_corr)\n",
    "\n",
    "imb_cov(joint_corr)\n",
    "imb_cov(decoupled_corr)\n",
    "imb_cov(pr_corr)"
   ]
  },
  {
   "cell_type": "code",
   "execution_count": 420,
   "id": "floral-people",
   "metadata": {},
   "outputs": [
    {
     "name": "stdout",
     "output_type": "stream",
     "text": [
      "0.8554871888949841\n",
      "0.6789301381098164\n",
      "0.7565220643229954\n",
      "0.790909090909091\n",
      "0.6727272727272727\n",
      "0.6000000000000001\n",
      "0.06297854792538034\n",
      "0.040783012155025\n",
      "0.05624642706317887\n"
     ]
    }
   ],
   "source": [
    "\n",
    "imb_pearsonr(joint_corr_full)\n",
    "imb_pearsonr(decoupled_corr_full)\n",
    "imb_pearsonr(pr_corr_full)\n",
    "\n",
    "imb_spear(joint_corr_full)\n",
    "imb_spear(decoupled_corr_full)\n",
    "imb_spear(pr_corr_full)\n",
    "\n",
    "imb_cov(joint_corr_full)\n",
    "imb_cov(decoupled_corr_full)\n",
    "imb_cov(pr_corr_full)"
   ]
  },
  {
   "cell_type": "code",
   "execution_count": 424,
   "id": "cordless-director",
   "metadata": {},
   "outputs": [],
   "source": [
    "# imbalanced_inds  = np.where(abs(f_frac-0.5)>0.25)[0]\n",
    "def pearsonr(l):\n",
    "#     print(\"Pearson's r\")\n",
    "    print(scipy.stats.pearsonr(f_frac,np.array(l))[1])\n",
    "    \n",
    "def cov(l):\n",
    "#     print(\"Covariance\")\n",
    "    print(np.cov(f_frac,np.array(l))[0,1]) \n",
    "    \n",
    "def spear(l):\n",
    "#     print(\"Spearman's r\")\n",
    "    print(scipy.stats.spearmanr(f_frac,np.array(l)))"
   ]
  },
  {
   "cell_type": "code",
   "execution_count": 425,
   "id": "limiting-details",
   "metadata": {},
   "outputs": [
    {
     "name": "stdout",
     "output_type": "stream",
     "text": [
      "1.3450978871476565e-05\n",
      "0.0035611619157176204\n",
      "0.00018019973570235906\n",
      "SpearmanrResult(correlation=0.7646153846153846, pvalue=8.574570332971608e-06)\n",
      "SpearmanrResult(correlation=0.5876923076923077, pvalue=0.00200697959282309)\n",
      "SpearmanrResult(correlation=0.6123076923076923, pvalue=0.0011407067477000074)\n",
      "0.029388894783363904\n",
      "0.01957441017331686\n",
      "0.0262263870666854\n"
     ]
    }
   ],
   "source": [
    "\n",
    "pearsonr(joint_corr_full)\n",
    "pearsonr(decoupled_corr_full)\n",
    "pearsonr(pr_corr_full)\n",
    "\n",
    "spear(joint_corr_full)\n",
    "spear(decoupled_corr_full)\n",
    "spear(pr_corr_full)\n",
    "\n",
    "cov(joint_corr_full)\n",
    "cov(decoupled_corr_full)\n",
    "cov(pr_corr_full)"
   ]
  },
  {
   "cell_type": "code",
   "execution_count": 426,
   "id": "official-going",
   "metadata": {},
   "outputs": [
    {
     "name": "stdout",
     "output_type": "stream",
     "text": [
      "SpearmanrResult(correlation=0.5884615384615385, pvalue=0.0019731836136078363)\n",
      "SpearmanrResult(correlation=0.3253846153846154, pvalue=0.11247376203917941)\n",
      "SpearmanrResult(correlation=0.46384615384615385, pvalue=0.01951476779247493)\n"
     ]
    }
   ],
   "source": [
    "spear(joint_corr)\n",
    "spear(decoupled_corr)\n",
    "spear(pr_corr)"
   ]
  },
  {
   "cell_type": "code",
   "execution_count": null,
   "id": "applicable-bible",
   "metadata": {},
   "outputs": [],
   "source": []
  }
 ],
 "metadata": {
  "kernelspec": {
   "display_name": "Python 3",
   "language": "python",
   "name": "python3"
  },
  "language_info": {
   "codemirror_mode": {
    "name": "ipython",
    "version": 3
   },
   "file_extension": ".py",
   "mimetype": "text/x-python",
   "name": "python",
   "nbconvert_exporter": "python",
   "pygments_lexer": "ipython3",
   "version": "3.6.13"
  }
 },
 "nbformat": 4,
 "nbformat_minor": 5
}
